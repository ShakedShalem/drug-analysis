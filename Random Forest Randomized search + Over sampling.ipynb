{
 "cells": [
  {
   "cell_type": "code",
   "execution_count": 100,
   "metadata": {},
   "outputs": [],
   "source": [
    "import pandas as pd\n",
    "import numpy as np\n",
    "import seaborn as sns\n",
    "import matplotlib.pyplot as plt\n",
    "from sklearn.model_selection import train_test_split\n",
    "from sklearn.ensemble import RandomForestClassifier\n",
    "from sklearn.metrics import accuracy_score, precision_score, recall_score\n",
    "from sklearn.metrics import confusion_matrix\n",
    "from sklearn.metrics import f1_score\n",
    "from sklearn.model_selection import GridSearchCV\n",
    "from sklearn.ensemble import GradientBoostingClassifier\n",
    "from sklearn import cross_validation, metrics  #Additional scklearn functions\n",
    "from sklearn.model_selection import RandomizedSearchCV\n",
    "from imblearn.over_sampling import RandomOverSampler\n",
    "from collections import Counter\n",
    "\n",
    "%matplotlib inline"
   ]
  },
  {
   "cell_type": "code",
   "execution_count": 101,
   "metadata": {},
   "outputs": [],
   "source": [
    "X = pd.read_pickle('feature_df.pkl')\n",
    "y = pd.read_pickle('target.pkl')"
   ]
  },
  {
   "cell_type": "code",
   "execution_count": 102,
   "metadata": {},
   "outputs": [],
   "source": [
    "X_train, X_test, y_train, y_test = train_test_split(X, y, test_size=0.2, random_state=111)"
   ]
  },
  {
   "cell_type": "markdown",
   "metadata": {},
   "source": [
    "Random forest: initial tuning of parameters"
   ]
  },
  {
   "cell_type": "code",
   "execution_count": 103,
   "metadata": {},
   "outputs": [],
   "source": [
    "clf = RandomForestClassifier(n_jobs=-1, max_depth=25, max_features=25, min_samples_split=5, \n",
    "                             n_estimators=1000, oob_score=True, class_weight={0: 0.55, 1:0.45})\n",
    "clf.fit(X_train, y_train)"
   ]
  },
  {
   "cell_type": "code",
   "execution_count": 104,
   "metadata": {},
   "outputs": [
    {
     "data": {
      "text/plain": [
       "array([0.0316367 , 0.07380303, 0.05364235, ..., 0.00721531, 0.36487715,\n",
       "       0.02996452])"
      ]
     },
     "execution_count": 104,
     "metadata": {},
     "output_type": "execute_result"
    }
   ],
   "source": [
    "prob = clf.predict_proba(X_test)[:,1]\n",
    "prob"
   ]
  },
  {
   "cell_type": "code",
   "execution_count": 25,
   "metadata": {},
   "outputs": [],
   "source": [
    "thr = np.arange(0.01, 0.2, 0.01)\n",
    "#thr = [0.01, 0.02, 0.03, 0.04, 0.05, 0.06, 0.07, 0.08, 0.09, 0.1,0.15, 0.2, 0.25, 0.3, 0.35]\n",
    "recalls = []\n",
    "precisions = []\n",
    "y_pred = []"
   ]
  },
  {
   "cell_type": "code",
   "execution_count": 26,
   "metadata": {},
   "outputs": [
    {
     "name": "stdout",
     "output_type": "stream",
     "text": [
      "for  0.01\n",
      "recall:  0.9344773790951638\n",
      "precision:  0.09226740603820087\n",
      "[ 976 5893   42  599]\n",
      "f1 score:  0.16795177344735737\n",
      "0.5382825096087263\n",
      "for  0.02\n",
      "recall:  0.8954758190327613\n",
      "precision:  0.09903381642512077\n",
      "[1647 5222   67  574]\n",
      "f1 score:  0.17834394904458598\n",
      "0.5676243558695616\n",
      "for  0.03\n",
      "recall:  0.8361934477379095\n",
      "precision:  0.10256410256410256\n",
      "[2179 4690  105  536]\n",
      "f1 score:  0.18271689108573375\n",
      "0.5767078754193988\n",
      "for  0.04\n",
      "recall:  0.7925117004680188\n",
      "precision:  0.10903627387851471\n",
      "[2718 4151  133  508]\n",
      "f1 score:  0.19169811320754718\n",
      "0.5941012425764174\n",
      "for  0.05\n",
      "recall:  0.7566302652106084\n",
      "precision:  0.11583472653451159\n",
      "[3167 3702  156  485]\n",
      "f1 score:  0.20091135045567524\n",
      "0.6088435938078082\n",
      "for  0.060000000000000005\n",
      "recall:  0.7129485179407177\n",
      "precision:  0.1230479267635972\n",
      "[3612 3257  184  457]\n",
      "f1 score:  0.20987370838117106\n",
      "0.619394625835987\n",
      "for  0.06999999999999999\n",
      "recall:  0.6645865834633385\n",
      "precision:  0.1276595744680851\n",
      "[3958 2911  215  426]\n",
      "f1 score:  0.21417797888386123\n",
      "0.620399275135367\n",
      "for  0.08\n",
      "recall:  0.6224648985959438\n",
      "precision:  0.13366834170854272\n",
      "[4283 2586  242  399]\n",
      "f1 score:  0.22007722007722008\n",
      "0.6229954424556368\n",
      "for  0.09\n",
      "recall:  0.592823712948518\n",
      "precision:  0.14157973174366617\n",
      "[4565 2304  261  380]\n",
      "f1 score:  0.2285714285714286\n",
      "0.628701855018443\n",
      "for  0.09999999999999999\n",
      "recall:  0.5538221528861155\n",
      "precision:  0.14513491414554375\n",
      "[4778 2091  286  355]\n",
      "f1 score:  0.22999676060900553\n",
      "0.6247055152259956\n",
      "for  0.11\n",
      "recall:  0.5210608424336973\n",
      "precision:  0.1501123595505618\n",
      "[4978 1891  307  334]\n",
      "f1 score:  0.2330774598743894\n",
      "0.6228830198483817\n",
      "for  0.12\n",
      "recall:  0.48673946957878317\n",
      "precision:  0.15553339980059822\n",
      "[5175 1694  329  312]\n",
      "f1 score:  0.23573857196826598\n",
      "0.6200621208717908\n",
      "for  0.13\n",
      "recall:  0.45085803432137284\n",
      "precision:  0.1597567716970702\n",
      "[5349 1520  352  289]\n",
      "f1 score:  0.23591836734693875\n",
      "0.6147870023113634\n",
      "for  0.14\n",
      "recall:  0.40561622464898595\n",
      "precision:  0.15941140404659718\n",
      "[5498 1371  381  260]\n",
      "f1 score:  0.22887323943661975\n",
      "0.6030119265623732\n",
      "for  0.15000000000000002\n",
      "recall:  0.37285491419656785\n",
      "precision:  0.15997322623828647\n",
      "[5614 1255  402  239]\n",
      "f1 score:  0.22388758782201407\n",
      "0.5950750040483493\n",
      "for  0.16\n",
      "recall:  0.3463338533541342\n",
      "precision:  0.16591928251121077\n",
      "[5753 1116  419  222]\n",
      "f1 score:  0.224355735219808\n",
      "0.5919323947219063\n",
      "for  0.17\n",
      "recall:  0.3291731669266771\n",
      "precision:  0.17627401837928153\n",
      "[5883  986  430  211]\n",
      "f1 score:  0.2295973884657236\n",
      "0.5928148554097645\n",
      "for  0.18000000000000002\n",
      "recall:  0.3166926677067083\n",
      "precision:  0.1860678276810266\n",
      "[5981  888  438  203]\n",
      "f1 score:  0.2344110854503464\n",
      "0.5937081041255917\n",
      "for  0.19\n",
      "recall:  0.2948517940717629\n",
      "precision:  0.19285714285714287\n",
      "[6078  791  452  189]\n",
      "f1 score:  0.23318938926588528\n",
      "0.5898483748346877\n"
     ]
    }
   ],
   "source": [
    "for t in thr:\n",
    "    y_pred = [1 if x > t else 0 for x in prob]\n",
    "    recall = recall_score(y_test, y_pred)\n",
    "    precision = precision_score(y_test, y_pred)\n",
    "    recalls.append(recall)\n",
    "    precisions.append(precision)\n",
    "    print('for ',t)\n",
    "    print('recall: ', recall_score(y_test, y_pred))\n",
    "    print('precision: ', precision_score(y_test, y_pred))\n",
    "    print(confusion_matrix(y_test, y_pred).ravel())\n",
    "    print('f1 score: ', f1_score(y_test, y_pred))\n",
    "    fpr, tpr, thresholds = metrics.roc_curve(y_test, y_pred)\n",
    "    print(metrics.auc(fpr, tpr))"
   ]
  },
  {
   "cell_type": "code",
   "execution_count": 105,
   "metadata": {},
   "outputs": [],
   "source": [
    "t = 0.02\n",
    "y_pred = [1 if x > t else 0 for x in prob]\n",
    "fpr, tpr, threshold = metrics.roc_curve(y_test, prob)\n",
    "roc_auc = metrics.auc(fpr, tpr)"
   ]
  },
  {
   "cell_type": "code",
   "execution_count": 106,
   "metadata": {},
   "outputs": [
    {
     "data": {
      "text/plain": [
       "Text(0.5,15,'False Positive Rate')"
      ]
     },
     "execution_count": 106,
     "metadata": {},
     "output_type": "execute_result"
    },
    {
     "data": {
      "image/png": "[encoded data removed]",
      "text/plain": [
       "<Figure size 432x288 with 1 Axes>"
      ]
     },
     "metadata": {},
     "output_type": "display_data"
    }
   ],
   "source": [
    "plt.title('Predict Depression')\n",
    "plt.plot(fpr, tpr, 'b', label = 'AUC = %0.2f' % roc_auc)\n",
    "plt.legend(loc = 'lower right')\n",
    "plt.plot([0, 1], [0, 1],'r--')\n",
    "plt.xlim([0, 1])\n",
    "plt.ylim([0, 1])\n",
    "plt.ylabel('True Positive Rate')\n",
    "plt.xlabel('False Positive Rate')"
   ]
  },
  {
   "cell_type": "code",
   "execution_count": 107,
   "metadata": {},
   "outputs": [],
   "source": [
    "feature_importances = pd.DataFrame(clf.feature_importances_,\n",
    "                                   index = X_train.columns,\n",
    "                                    columns=['importance']).sort_values('importance',ascending=False)"
   ]
  },
  {
   "cell_type": "code",
   "execution_count": 108,
   "metadata": {},
   "outputs": [
    {
     "data": {
      "text/plain": [
       "Index([ 'IRALCFY', 'IRALCAGE', 'IRCIGAGE',   'SUMAGE', 'IRCGRAGE', 'EDUCCAT2',\n",
       "         'IRMJFY',  'IRCIGFM',   'INCOME',   'CATAG6',  'IRANLFY',  'IRTRNFY',\n",
       "       'IRSNFAGE', 'NEWRACE2',  'IRSTMFY',  'IRHALFY',  'IRCOCFY',    'IRSEX',\n",
       "        'IRINHFY', 'DPILLALC', 'IRCRKAGE',    'CIGYR', 'ABODILAL',  'IRSEDFY',\n",
       "          'CGRYR',          2,  'TOBFLAG',          7,    'SUMYR',          6,\n",
       "          'ALCYR',          5,  'SNFFLAG',    'SNFYR',  'IRHERFY',          3,\n",
       "                4,  'IRCRKFY',  'SUMFLAG',  'ALCFLAG', 'DEPNDMRJ',  'CRKFLAG',\n",
       "          'CRKYR'],\n",
       "      dtype='object')"
      ]
     },
     "execution_count": 108,
     "metadata": {},
     "output_type": "execute_result"
    }
   ],
   "source": [
    "feature_importances.index\n"
   ]
  },
  {
   "cell_type": "markdown",
   "metadata": {},
   "source": [
    "Randomized search on Random Forest clf"
   ]
  },
  {
   "cell_type": "code",
   "execution_count": 33,
   "metadata": {},
   "outputs": [],
   "source": [
    "param_grid = {\n",
    "    'min_samples_split': [2,3,5,10], \n",
    "    'n_estimators' : [75, 200, 300, 500, 1000],\n",
    "    'max_depth': [15, 25, 28, 30],\n",
    "    'max_features': [3, 5, 10, 20, 25],\n",
    "    'criterion' : ['gini', 'entropy']\n",
    "}"
   ]
  },
  {
   "cell_type": "code",
   "execution_count": 34,
   "metadata": {},
   "outputs": [],
   "source": [
    "clf = RandomForestClassifier(n_jobs=-1)\n"
   ]
  },
  {
   "cell_type": "code",
   "execution_count": 36,
   "metadata": {},
   "outputs": [],
   "source": [
    "randomized_search = RandomizedSearchCV(clf, param_grid, n_iter=100, verbose=10, scoring='f1', return_train_score=True, n_jobs=-1)\n"
   ]
  },
  {
   "cell_type": "code",
   "execution_count": 39,
   "metadata": {},
   "outputs": [
    {
     "name": "stdout",
     "output_type": "stream",
     "text": [
      "Fitting 3 folds for each of 100 candidates, totalling 300 fits\n",
      "[CV] n_estimators=300, min_samples_split=5, max_features=25, max_depth=28, criterion=entropy \n",
      "[CV] n_estimators=300, min_samples_split=5, max_features=25, max_depth=28, criterion=entropy \n",
      "[CV] n_estimators=300, min_samples_split=5, max_features=25, max_depth=28, criterion=entropy \n",
      "[CV] n_estimators=75, min_samples_split=2, max_features=5, max_depth=15, criterion=gini \n",
      "[CV]  n_estimators=75, min_samples_split=2, max_features=5, max_depth=15, criterion=gini, score=0.0048367593712212815, total=   2.5s\n",
      "[CV] n_estimators=75, min_samples_split=2, max_features=5, max_depth=15, criterion=gini \n",
      "[CV]  n_estimators=75, min_samples_split=2, max_features=5, max_depth=15, criterion=gini, score=0.004842615012106537, total=   3.0s\n",
      "[CV] n_estimators=75, min_samples_split=2, max_features=5, max_depth=15, criterion=gini \n",
      "[CV]  n_estimators=75, min_samples_split=2, max_features=5, max_depth=15, criterion=gini, score=0.0024183796856106408, total=   3.0s\n",
      "[CV] n_estimators=1000, min_samples_split=2, max_features=10, max_depth=30, criterion=entropy \n",
      "[CV]  n_estimators=300, min_samples_split=5, max_features=25, max_depth=28, criterion=entropy, score=0.011947431302270013, total=  34.4s\n",
      "[CV] n_estimators=1000, min_samples_split=2, max_features=10, max_depth=30, criterion=entropy \n",
      "[CV]  n_estimators=300, min_samples_split=5, max_features=25, max_depth=28, criterion=entropy, score=0.019115890083632018, total=  35.7s\n",
      "[CV]  n_estimators=300, min_samples_split=5, max_features=25, max_depth=28, criterion=entropy, score=0.016548463356973995, total=  35.6s\n",
      "[CV] n_estimators=1000, min_samples_split=2, max_features=10, max_depth=30, criterion=entropy \n",
      "[CV] n_estimators=75, min_samples_split=10, max_features=20, max_depth=28, criterion=gini \n"
     ]
    },
    {
     "name": "stderr",
     "output_type": "stream",
     "text": [
      "[Parallel(n_jobs=-1)]: Done   5 tasks      | elapsed:   37.7s\n"
     ]
    },
    {
     "name": "stdout",
     "output_type": "stream",
     "text": [
      "[CV]  n_estimators=75, min_samples_split=10, max_features=20, max_depth=28, criterion=gini, score=0.016568047337278107, total=   4.7s\n",
      "[CV] n_estimators=75, min_samples_split=10, max_features=20, max_depth=28, criterion=gini \n",
      "[CV]  n_estimators=75, min_samples_split=10, max_features=20, max_depth=28, criterion=gini, score=0.02364066193853428, total=   7.9s\n",
      "[CV] n_estimators=75, min_samples_split=10, max_features=20, max_depth=28, criterion=gini \n",
      "[CV]  n_estimators=75, min_samples_split=10, max_features=20, max_depth=28, criterion=gini, score=0.011848341232227489, total=  10.7s\n",
      "[CV] n_estimators=300, min_samples_split=10, max_features=3, max_depth=25, criterion=gini \n"
     ]
    },
    {
     "name": "stderr",
     "output_type": "stream",
     "text": [
      "/Users/shaked/miniconda3/lib/python3.6/site-packages/sklearn/metrics/classification.py:1135: UndefinedMetricWarning: F-score is ill-defined and being set to 0.0 due to no predicted samples.\n",
      "  'precision', 'predicted', average, warn_for)\n"
     ]
    },
    {
     "name": "stdout",
     "output_type": "stream",
     "text": [
      "[CV]  n_estimators=300, min_samples_split=10, max_features=3, max_depth=25, criterion=gini, score=0.0, total=  12.3s\n",
      "[CV] n_estimators=300, min_samples_split=10, max_features=3, max_depth=25, criterion=gini \n"
     ]
    },
    {
     "name": "stderr",
     "output_type": "stream",
     "text": [
      "[Parallel(n_jobs=-1)]: Done  10 tasks      | elapsed:  1.3min\n"
     ]
    },
    {
     "name": "stdout",
     "output_type": "stream",
     "text": [
      "[CV]  n_estimators=1000, min_samples_split=2, max_features=10, max_depth=30, criterion=entropy, score=0.01645123384253819, total= 1.2min\n",
      "[CV] n_estimators=300, min_samples_split=10, max_features=3, max_depth=25, criterion=gini \n"
     ]
    },
    {
     "name": "stderr",
     "output_type": "stream",
     "text": [
      "/Users/shaked/miniconda3/lib/python3.6/site-packages/sklearn/metrics/classification.py:1135: UndefinedMetricWarning: F-score is ill-defined and being set to 0.0 due to no predicted samples.\n",
      "  'precision', 'predicted', average, warn_for)\n"
     ]
    },
    {
     "name": "stdout",
     "output_type": "stream",
     "text": [
      "[CV]  n_estimators=300, min_samples_split=10, max_features=3, max_depth=25, criterion=gini, score=0.0, total=  11.0s\n",
      "[CV] n_estimators=75, min_samples_split=3, max_features=5, max_depth=15, criterion=gini \n"
     ]
    },
    {
     "name": "stderr",
     "output_type": "stream",
     "text": [
      "/Users/shaked/miniconda3/lib/python3.6/site-packages/sklearn/metrics/classification.py:1135: UndefinedMetricWarning: F-score is ill-defined and being set to 0.0 due to no predicted samples.\n",
      "  'precision', 'predicted', average, warn_for)\n"
     ]
    },
    {
     "name": "stdout",
     "output_type": "stream",
     "text": [
      "[CV]  n_estimators=75, min_samples_split=3, max_features=5, max_depth=15, criterion=gini, score=0.0, total=   3.5s\n",
      "[CV] n_estimators=75, min_samples_split=3, max_features=5, max_depth=15, criterion=gini \n",
      "[CV]  n_estimators=75, min_samples_split=3, max_features=5, max_depth=15, criterion=gini, score=0.0048250904704463205, total=   2.9s\n",
      "[CV] n_estimators=75, min_samples_split=3, max_features=5, max_depth=15, criterion=gini \n"
     ]
    },
    {
     "name": "stderr",
     "output_type": "stream",
     "text": [
      "/Users/shaked/miniconda3/lib/python3.6/site-packages/sklearn/metrics/classification.py:1135: UndefinedMetricWarning: F-score is ill-defined and being set to 0.0 due to no predicted samples.\n",
      "  'precision', 'predicted', average, warn_for)\n"
     ]
    },
    {
     "name": "stdout",
     "output_type": "stream",
     "text": [
      "[CV]  n_estimators=300, min_samples_split=10, max_features=3, max_depth=25, criterion=gini, score=0.0, total=  11.5s\n",
      "[CV] n_estimators=500, min_samples_split=10, max_features=10, max_depth=25, criterion=entropy \n",
      "[CV]  n_estimators=75, min_samples_split=3, max_features=5, max_depth=15, criterion=gini, score=0.0024242424242424242, total=   3.0s\n",
      "[CV] n_estimators=500, min_samples_split=10, max_features=10, max_depth=25, criterion=entropy \n",
      "[CV]  n_estimators=1000, min_samples_split=2, max_features=10, max_depth=30, criterion=entropy, score=0.009445100354191263, total= 1.2min\n",
      "[CV]  n_estimators=1000, min_samples_split=2, max_features=10, max_depth=30, criterion=entropy, score=0.01175088131609871, total= 1.2min\n"
     ]
    },
    {
     "name": "stderr",
     "output_type": "stream",
     "text": [
      "[Parallel(n_jobs=-1)]: Done  17 tasks      | elapsed:  1.9min\n"
     ]
    },
    {
     "name": "stdout",
     "output_type": "stream",
     "text": [
      "[CV] n_estimators=500, min_samples_split=10, max_features=10, max_depth=25, criterion=entropy \n",
      "[CV] n_estimators=1000, min_samples_split=10, max_features=25, max_depth=25, criterion=gini \n",
      "[CV]  n_estimators=500, min_samples_split=10, max_features=10, max_depth=25, criterion=entropy, score=0.0024183796856106408, total=  30.9s\n",
      "[CV] n_estimators=1000, min_samples_split=10, max_features=25, max_depth=25, criterion=gini \n",
      "[CV]  n_estimators=500, min_samples_split=10, max_features=10, max_depth=25, criterion=entropy, score=0.004830917874396135, total=  31.2s\n",
      "[CV] n_estimators=1000, min_samples_split=10, max_features=25, max_depth=25, criterion=gini \n",
      "[CV]  n_estimators=500, min_samples_split=10, max_features=10, max_depth=25, criterion=entropy, score=0.0024183796856106408, total=  28.9s\n",
      "[CV] n_estimators=500, min_samples_split=10, max_features=3, max_depth=30, criterion=gini \n"
     ]
    },
    {
     "name": "stderr",
     "output_type": "stream",
     "text": [
      "/Users/shaked/miniconda3/lib/python3.6/site-packages/sklearn/metrics/classification.py:1135: UndefinedMetricWarning: F-score is ill-defined and being set to 0.0 due to no predicted samples.\n",
      "  'precision', 'predicted', average, warn_for)\n"
     ]
    },
    {
     "name": "stdout",
     "output_type": "stream",
     "text": [
      "[CV]  n_estimators=500, min_samples_split=10, max_features=3, max_depth=30, criterion=gini, score=0.0, total=  17.7s\n",
      "[CV] n_estimators=500, min_samples_split=10, max_features=3, max_depth=30, criterion=gini \n",
      "[CV]  n_estimators=500, min_samples_split=10, max_features=3, max_depth=30, criterion=gini, score=0.0024242424242424242, total=  18.9s\n",
      "[CV] n_estimators=500, min_samples_split=10, max_features=3, max_depth=30, criterion=gini \n"
     ]
    },
    {
     "name": "stderr",
     "output_type": "stream",
     "text": [
      "/Users/shaked/miniconda3/lib/python3.6/site-packages/sklearn/metrics/classification.py:1135: UndefinedMetricWarning: F-score is ill-defined and being set to 0.0 due to no predicted samples.\n",
      "  'precision', 'predicted', average, warn_for)\n"
     ]
    },
    {
     "name": "stdout",
     "output_type": "stream",
     "text": [
      "[CV]  n_estimators=500, min_samples_split=10, max_features=3, max_depth=30, criterion=gini, score=0.0, total=  18.5s\n",
      "[CV] n_estimators=75, min_samples_split=10, max_features=5, max_depth=28, criterion=gini \n"
     ]
    },
    {
     "name": "stderr",
     "output_type": "stream",
     "text": [
      "[Parallel(n_jobs=-1)]: Done  24 tasks      | elapsed:  3.5min\n"
     ]
    },
    {
     "name": "stdout",
     "output_type": "stream",
     "text": [
      "[CV]  n_estimators=75, min_samples_split=10, max_features=5, max_depth=28, criterion=gini, score=0.0024213075060532684, total=   3.1s\n",
      "[CV] n_estimators=75, min_samples_split=10, max_features=5, max_depth=28, criterion=gini \n",
      "[CV]  n_estimators=75, min_samples_split=10, max_features=5, max_depth=28, criterion=gini, score=0.004830917874396135, total=   3.2s\n",
      "[CV] n_estimators=75, min_samples_split=10, max_features=5, max_depth=28, criterion=gini \n",
      "[CV]  n_estimators=75, min_samples_split=10, max_features=5, max_depth=28, criterion=gini, score=0.002427184466019417, total=   3.2s\n",
      "[CV] n_estimators=200, min_samples_split=2, max_features=25, max_depth=25, criterion=gini \n",
      "[CV]  n_estimators=1000, min_samples_split=10, max_features=25, max_depth=25, criterion=gini, score=0.021276595744680854, total= 2.1min\n",
      "[CV] n_estimators=200, min_samples_split=2, max_features=25, max_depth=25, criterion=gini \n",
      "[CV]  n_estimators=200, min_samples_split=2, max_features=25, max_depth=25, criterion=gini, score=0.03885714285714286, total=  26.6s\n",
      "[CV] n_estimators=200, min_samples_split=2, max_features=25, max_depth=25, criterion=gini \n",
      "[CV]  n_estimators=1000, min_samples_split=10, max_features=25, max_depth=25, criterion=gini, score=0.01897983392645314, total= 2.1min\n",
      "[CV] n_estimators=500, min_samples_split=5, max_features=10, max_depth=25, criterion=gini \n",
      "[CV]  n_estimators=1000, min_samples_split=10, max_features=25, max_depth=25, criterion=gini, score=0.021276595744680854, total= 2.1min\n",
      "[CV] n_estimators=500, min_samples_split=5, max_features=10, max_depth=25, criterion=gini \n",
      "[CV]  n_estimators=200, min_samples_split=2, max_features=25, max_depth=25, criterion=gini, score=0.022988505747126436, total=  24.7s\n",
      "[CV] n_estimators=500, min_samples_split=5, max_features=10, max_depth=25, criterion=gini \n",
      "[CV]  n_estimators=200, min_samples_split=2, max_features=25, max_depth=25, criterion=gini, score=0.029850746268656716, total=  24.3s\n",
      "[CV] n_estimators=1000, min_samples_split=5, max_features=5, max_depth=25, criterion=gini \n"
     ]
    },
    {
     "name": "stderr",
     "output_type": "stream",
     "text": [
      "[Parallel(n_jobs=-1)]: Done  33 tasks      | elapsed:  4.6min\n"
     ]
    },
    {
     "name": "stdout",
     "output_type": "stream",
     "text": [
      "[CV]  n_estimators=500, min_samples_split=5, max_features=10, max_depth=25, criterion=gini, score=0.0048192771084337345, total=  29.5s\n",
      "[CV] n_estimators=1000, min_samples_split=5, max_features=5, max_depth=25, criterion=gini \n",
      "[CV]  n_estimators=500, min_samples_split=5, max_features=10, max_depth=25, criterion=gini, score=0.016746411483253586, total=  30.2s\n",
      "[CV] n_estimators=1000, min_samples_split=5, max_features=5, max_depth=25, criterion=gini \n",
      "[CV]  n_estimators=500, min_samples_split=5, max_features=10, max_depth=25, criterion=gini, score=0.0024067388688327313, total=  29.6s\n",
      "[CV] n_estimators=200, min_samples_split=2, max_features=5, max_depth=28, criterion=gini \n",
      "[CV]  n_estimators=200, min_samples_split=2, max_features=5, max_depth=28, criterion=gini, score=0.007177033492822967, total=  10.1s\n",
      "[CV] n_estimators=200, min_samples_split=2, max_features=5, max_depth=28, criterion=gini \n",
      "[CV]  n_estimators=1000, min_samples_split=5, max_features=5, max_depth=25, criterion=gini, score=0.0024242424242424242, total=  42.8s\n",
      "[CV] n_estimators=200, min_samples_split=2, max_features=5, max_depth=28, criterion=gini \n",
      "[CV]  n_estimators=200, min_samples_split=2, max_features=5, max_depth=28, criterion=gini, score=0.014201183431952664, total=  10.4s\n",
      "[CV] n_estimators=1000, min_samples_split=10, max_features=3, max_depth=30, criterion=gini \n",
      "[CV]  n_estimators=200, min_samples_split=2, max_features=5, max_depth=28, criterion=gini, score=0.014167650531286895, total=   7.8s\n",
      "[CV] n_estimators=1000, min_samples_split=10, max_features=3, max_depth=30, criterion=gini \n",
      "[CV]  n_estimators=1000, min_samples_split=5, max_features=5, max_depth=25, criterion=gini, score=0.004830917874396135, total=  42.2s\n",
      "[CV] n_estimators=1000, min_samples_split=10, max_features=3, max_depth=30, criterion=gini \n",
      "[CV]  n_estimators=1000, min_samples_split=5, max_features=5, max_depth=25, criterion=gini, score=0.0, total=  42.1s\n",
      "[CV] n_estimators=300, min_samples_split=10, max_features=3, max_depth=28, criterion=entropy \n"
     ]
    },
    {
     "name": "stderr",
     "output_type": "stream",
     "text": [
      "[Parallel(n_jobs=-1)]: Done  42 tasks      | elapsed:  5.8min\n",
      "/Users/shaked/miniconda3/lib/python3.6/site-packages/sklearn/metrics/classification.py:1135: UndefinedMetricWarning: F-score is ill-defined and being set to 0.0 due to no predicted samples.\n",
      "  'precision', 'predicted', average, warn_for)\n"
     ]
    },
    {
     "name": "stdout",
     "output_type": "stream",
     "text": [
      "[CV]  n_estimators=300, min_samples_split=10, max_features=3, max_depth=28, criterion=entropy, score=0.0, total=   9.9s\n",
      "[CV] n_estimators=300, min_samples_split=10, max_features=3, max_depth=28, criterion=entropy \n"
     ]
    },
    {
     "name": "stderr",
     "output_type": "stream",
     "text": [
      "/Users/shaked/miniconda3/lib/python3.6/site-packages/sklearn/metrics/classification.py:1135: UndefinedMetricWarning: F-score is ill-defined and being set to 0.0 due to no predicted samples.\n",
      "  'precision', 'predicted', average, warn_for)\n"
     ]
    },
    {
     "name": "stdout",
     "output_type": "stream",
     "text": [
      "[CV]  n_estimators=1000, min_samples_split=10, max_features=3, max_depth=30, criterion=gini, score=0.0, total=  33.5s\n",
      "[CV] n_estimators=300, min_samples_split=10, max_features=3, max_depth=28, criterion=entropy \n"
     ]
    },
    {
     "name": "stderr",
     "output_type": "stream",
     "text": [
      "/Users/shaked/miniconda3/lib/python3.6/site-packages/sklearn/metrics/classification.py:1135: UndefinedMetricWarning: F-score is ill-defined and being set to 0.0 due to no predicted samples.\n",
      "  'precision', 'predicted', average, warn_for)\n",
      "/Users/shaked/miniconda3/lib/python3.6/site-packages/sklearn/metrics/classification.py:1135: UndefinedMetricWarning: F-score is ill-defined and being set to 0.0 due to no predicted samples.\n",
      "  'precision', 'predicted', average, warn_for)\n"
     ]
    },
    {
     "name": "stdout",
     "output_type": "stream",
     "text": [
      "[CV]  n_estimators=300, min_samples_split=10, max_features=3, max_depth=28, criterion=entropy, score=0.0, total=  11.4s\n",
      "[CV] n_estimators=1000, min_samples_split=5, max_features=20, max_depth=28, criterion=gini \n",
      "[CV]  n_estimators=1000, min_samples_split=10, max_features=3, max_depth=30, criterion=gini, score=0.0, total=  35.3s\n",
      "[CV] n_estimators=1000, min_samples_split=5, max_features=20, max_depth=28, criterion=gini \n"
     ]
    },
    {
     "name": "stderr",
     "output_type": "stream",
     "text": [
      "/Users/shaked/miniconda3/lib/python3.6/site-packages/sklearn/metrics/classification.py:1135: UndefinedMetricWarning: F-score is ill-defined and being set to 0.0 due to no predicted samples.\n",
      "  'precision', 'predicted', average, warn_for)\n"
     ]
    },
    {
     "name": "stdout",
     "output_type": "stream",
     "text": [
      "[CV]  n_estimators=300, min_samples_split=10, max_features=3, max_depth=28, criterion=entropy, score=0.0, total=  10.6s\n",
      "[CV] n_estimators=1000, min_samples_split=5, max_features=20, max_depth=28, criterion=gini \n"
     ]
    },
    {
     "name": "stderr",
     "output_type": "stream",
     "text": [
      "/Users/shaked/miniconda3/lib/python3.6/site-packages/sklearn/metrics/classification.py:1135: UndefinedMetricWarning: F-score is ill-defined and being set to 0.0 due to no predicted samples.\n",
      "  'precision', 'predicted', average, warn_for)\n"
     ]
    },
    {
     "name": "stdout",
     "output_type": "stream",
     "text": [
      "[CV]  n_estimators=1000, min_samples_split=10, max_features=3, max_depth=30, criterion=gini, score=0.0, total=  33.8s\n",
      "[CV] n_estimators=300, min_samples_split=2, max_features=10, max_depth=15, criterion=entropy \n",
      "[CV]  n_estimators=300, min_samples_split=2, max_features=10, max_depth=15, criterion=entropy, score=0.0024213075060532684, total=  16.6s\n",
      "[CV] n_estimators=300, min_samples_split=2, max_features=10, max_depth=15, criterion=entropy \n",
      "[CV]  n_estimators=300, min_samples_split=2, max_features=10, max_depth=15, criterion=entropy, score=0.004830917874396135, total=  16.7s\n",
      "[CV] n_estimators=300, min_samples_split=2, max_features=10, max_depth=15, criterion=entropy \n",
      "[CV]  n_estimators=300, min_samples_split=2, max_features=10, max_depth=15, criterion=entropy, score=0.0, total=  16.6s\n",
      "[CV] n_estimators=200, min_samples_split=10, max_features=20, max_depth=25, criterion=gini \n",
      "[CV]  n_estimators=200, min_samples_split=10, max_features=20, max_depth=25, criterion=gini, score=0.01895734597156398, total=  20.3s\n",
      "[CV] n_estimators=200, min_samples_split=10, max_features=20, max_depth=25, criterion=gini \n",
      "[CV]  n_estimators=1000, min_samples_split=5, max_features=20, max_depth=28, criterion=gini, score=0.019047619047619046, total= 1.7min\n"
     ]
    },
    {
     "name": "stderr",
     "output_type": "stream",
     "text": [
      "[Parallel(n_jobs=-1)]: Done  53 tasks      | elapsed:  8.0min\n"
     ]
    },
    {
     "name": "stdout",
     "output_type": "stream",
     "text": [
      "[CV] n_estimators=200, min_samples_split=10, max_features=20, max_depth=25, criterion=gini \n",
      "[CV]  n_estimators=200, min_samples_split=10, max_features=20, max_depth=25, criterion=gini, score=0.01664684898929845, total=  20.7s\n",
      "[CV] n_estimators=300, min_samples_split=10, max_features=20, max_depth=25, criterion=entropy \n",
      "[CV]  n_estimators=1000, min_samples_split=5, max_features=20, max_depth=28, criterion=gini, score=0.018867924528301886, total= 1.7min\n",
      "[CV] n_estimators=300, min_samples_split=10, max_features=20, max_depth=25, criterion=entropy \n",
      "[CV]  n_estimators=1000, min_samples_split=5, max_features=20, max_depth=28, criterion=gini, score=0.016568047337278104, total= 1.7min\n",
      "[CV] n_estimators=300, min_samples_split=10, max_features=20, max_depth=25, criterion=entropy \n",
      "[CV]  n_estimators=200, min_samples_split=10, max_features=20, max_depth=25, criterion=gini, score=0.011890606420927466, total=  19.1s\n",
      "[CV] n_estimators=300, min_samples_split=5, max_features=5, max_depth=25, criterion=gini \n",
      "[CV]  n_estimators=300, min_samples_split=10, max_features=20, max_depth=25, criterion=entropy, score=0.009626955475330925, total=  28.0s\n",
      "[CV] n_estimators=300, min_samples_split=5, max_features=5, max_depth=25, criterion=gini \n",
      "[CV]  n_estimators=300, min_samples_split=5, max_features=5, max_depth=25, criterion=gini, score=0.0024242424242424242, total=  13.0s\n",
      "[CV] n_estimators=300, min_samples_split=5, max_features=5, max_depth=25, criterion=gini \n",
      "[CV]  n_estimators=300, min_samples_split=10, max_features=20, max_depth=25, criterion=entropy, score=0.014354066985645933, total=  29.0s\n",
      "[CV] n_estimators=300, min_samples_split=2, max_features=3, max_depth=28, criterion=entropy \n",
      "[CV]  n_estimators=300, min_samples_split=10, max_features=20, max_depth=25, criterion=entropy, score=0.00718562874251497, total=  29.0s\n",
      "[CV] n_estimators=300, min_samples_split=2, max_features=3, max_depth=28, criterion=entropy \n",
      "[CV]  n_estimators=300, min_samples_split=5, max_features=5, max_depth=25, criterion=gini, score=0.0048250904704463205, total=  12.5s\n",
      "[CV] n_estimators=300, min_samples_split=2, max_features=3, max_depth=28, criterion=entropy \n",
      "[CV]  n_estimators=300, min_samples_split=2, max_features=3, max_depth=28, criterion=entropy, score=0.004801920768307323, total=  12.3s\n",
      "[CV]  n_estimators=300, min_samples_split=5, max_features=5, max_depth=25, criterion=gini, score=0.002421307506053269, total=  12.8s\n",
      "[CV] n_estimators=300, min_samples_split=2, max_features=10, max_depth=28, criterion=entropy \n",
      "[CV] n_estimators=300, min_samples_split=2, max_features=10, max_depth=28, criterion=entropy \n"
     ]
    },
    {
     "name": "stderr",
     "output_type": "stream",
     "text": [
      "[Parallel(n_jobs=-1)]: Done  64 tasks      | elapsed:  8.9min\n"
     ]
    },
    {
     "name": "stdout",
     "output_type": "stream",
     "text": [
      "[CV]  n_estimators=300, min_samples_split=2, max_features=3, max_depth=28, criterion=entropy, score=0.0071428571428571435, total=  13.2s\n",
      "[CV] n_estimators=300, min_samples_split=2, max_features=10, max_depth=28, criterion=entropy \n",
      "[CV]  n_estimators=300, min_samples_split=2, max_features=3, max_depth=28, criterion=entropy, score=0.00954653937947494, total=  11.3s\n",
      "[CV] n_estimators=300, min_samples_split=10, max_features=10, max_depth=25, criterion=gini \n",
      "[CV]  n_estimators=300, min_samples_split=2, max_features=10, max_depth=28, criterion=entropy, score=0.01413427561837456, total=  18.3s\n",
      "[CV] n_estimators=300, min_samples_split=10, max_features=10, max_depth=25, criterion=gini \n",
      "[CV]  n_estimators=300, min_samples_split=2, max_features=10, max_depth=28, criterion=entropy, score=0.009456264775413711, total=  19.0s\n",
      "[CV] n_estimators=300, min_samples_split=10, max_features=10, max_depth=25, criterion=gini \n",
      "[CV]  n_estimators=300, min_samples_split=2, max_features=10, max_depth=28, criterion=entropy, score=0.009467455621301774, total=  19.7s\n",
      "[CV] n_estimators=500, min_samples_split=2, max_features=25, max_depth=25, criterion=gini \n",
      "[CV]  n_estimators=300, min_samples_split=10, max_features=10, max_depth=25, criterion=gini, score=0.007246376811594203, total=  16.9s\n",
      "[CV] n_estimators=500, min_samples_split=2, max_features=25, max_depth=25, criterion=gini \n",
      "[CV]  n_estimators=300, min_samples_split=10, max_features=10, max_depth=25, criterion=gini, score=0.009615384615384614, total=  16.5s\n",
      "[CV] n_estimators=500, min_samples_split=2, max_features=25, max_depth=25, criterion=gini \n",
      "[CV]  n_estimators=300, min_samples_split=10, max_features=10, max_depth=25, criterion=gini, score=0.0024067388688327313, total=  16.7s\n",
      "[CV] n_estimators=75, min_samples_split=2, max_features=25, max_depth=30, criterion=gini \n",
      "[CV]  n_estimators=75, min_samples_split=2, max_features=25, max_depth=30, criterion=gini, score=0.04932735426008969, total=   8.9s\n",
      "[CV] n_estimators=75, min_samples_split=2, max_features=25, max_depth=30, criterion=gini \n",
      "[CV]  n_estimators=75, min_samples_split=2, max_features=25, max_depth=30, criterion=gini, score=0.03859250851305335, total=   9.5s\n",
      "[CV] n_estimators=75, min_samples_split=2, max_features=25, max_depth=30, criterion=gini \n",
      "[CV]  n_estimators=75, min_samples_split=2, max_features=25, max_depth=30, criterion=gini, score=0.03619909502262443, total=   9.5s\n",
      "[CV] n_estimators=500, min_samples_split=3, max_features=25, max_depth=30, criterion=gini \n",
      "[CV]  n_estimators=500, min_samples_split=2, max_features=25, max_depth=25, criterion=gini, score=0.034722222222222224, total= 1.0min\n",
      "[CV] n_estimators=500, min_samples_split=3, max_features=25, max_depth=30, criterion=gini \n",
      "[CV]  n_estimators=500, min_samples_split=2, max_features=25, max_depth=25, criterion=gini, score=0.025229357798165136, total= 1.0min\n",
      "[CV] n_estimators=500, min_samples_split=3, max_features=25, max_depth=30, criterion=gini \n"
     ]
    },
    {
     "name": "stderr",
     "output_type": "stream",
     "text": [
      "[Parallel(n_jobs=-1)]: Done  77 tasks      | elapsed: 10.4min\n"
     ]
    },
    {
     "name": "stdout",
     "output_type": "stream",
     "text": [
      "[CV]  n_estimators=500, min_samples_split=2, max_features=25, max_depth=25, criterion=gini, score=0.025404157043879907, total= 1.0min\n",
      "[CV] n_estimators=1000, min_samples_split=2, max_features=3, max_depth=15, criterion=entropy \n"
     ]
    },
    {
     "name": "stderr",
     "output_type": "stream",
     "text": [
      "/Users/shaked/miniconda3/lib/python3.6/site-packages/sklearn/metrics/classification.py:1135: UndefinedMetricWarning: F-score is ill-defined and being set to 0.0 due to no predicted samples.\n",
      "  'precision', 'predicted', average, warn_for)\n"
     ]
    },
    {
     "name": "stdout",
     "output_type": "stream",
     "text": [
      "[CV]  n_estimators=500, min_samples_split=3, max_features=25, max_depth=30, criterion=gini, score=0.030338389731621937, total= 1.0min\n",
      "[CV] n_estimators=1000, min_samples_split=2, max_features=3, max_depth=15, criterion=entropy \n",
      "[CV]  n_estimators=1000, min_samples_split=2, max_features=3, max_depth=15, criterion=entropy, score=0.0, total=  30.6s\n",
      "[CV] n_estimators=1000, min_samples_split=2, max_features=3, max_depth=15, criterion=entropy \n",
      "[CV]  n_estimators=500, min_samples_split=3, max_features=25, max_depth=30, criterion=gini, score=0.02306805074971165, total=  58.9s\n",
      "[CV] n_estimators=1000, min_samples_split=2, max_features=20, max_depth=30, criterion=gini \n",
      "[CV]  n_estimators=500, min_samples_split=3, max_features=25, max_depth=30, criterion=gini, score=0.018561484918793503, total=  59.2s\n",
      "[CV] n_estimators=1000, min_samples_split=2, max_features=20, max_depth=30, criterion=gini \n"
     ]
    },
    {
     "name": "stderr",
     "output_type": "stream",
     "text": [
      "/Users/shaked/miniconda3/lib/python3.6/site-packages/sklearn/metrics/classification.py:1135: UndefinedMetricWarning: F-score is ill-defined and being set to 0.0 due to no predicted samples.\n",
      "  'precision', 'predicted', average, warn_for)\n",
      "/Users/shaked/miniconda3/lib/python3.6/site-packages/sklearn/metrics/classification.py:1135: UndefinedMetricWarning: F-score is ill-defined and being set to 0.0 due to no predicted samples.\n",
      "  'precision', 'predicted', average, warn_for)\n"
     ]
    },
    {
     "name": "stdout",
     "output_type": "stream",
     "text": [
      "[CV]  n_estimators=1000, min_samples_split=2, max_features=3, max_depth=15, criterion=entropy, score=0.0, total=  27.4s\n",
      "[CV] n_estimators=1000, min_samples_split=2, max_features=20, max_depth=30, criterion=gini \n",
      "[CV]  n_estimators=1000, min_samples_split=2, max_features=3, max_depth=15, criterion=entropy, score=0.0, total=  28.1s\n",
      "[CV] n_estimators=300, min_samples_split=2, max_features=20, max_depth=25, criterion=gini \n",
      "[CV]  n_estimators=300, min_samples_split=2, max_features=20, max_depth=25, criterion=gini, score=0.032407407407407406, total=  30.5s\n",
      "[CV] n_estimators=300, min_samples_split=2, max_features=20, max_depth=25, criterion=gini \n",
      "[CV]  n_estimators=300, min_samples_split=2, max_features=20, max_depth=25, criterion=gini, score=0.020881670533642694, total=  31.3s\n",
      "[CV] n_estimators=300, min_samples_split=2, max_features=20, max_depth=25, criterion=gini \n",
      "[CV]  n_estimators=1000, min_samples_split=2, max_features=20, max_depth=30, criterion=gini, score=0.03214695752009185, total= 1.7min\n",
      "[CV] n_estimators=500, min_samples_split=5, max_features=5, max_depth=30, criterion=gini \n",
      "[CV]  n_estimators=1000, min_samples_split=2, max_features=20, max_depth=30, criterion=gini, score=0.02543352601156069, total= 1.7min\n",
      "[CV] n_estimators=500, min_samples_split=5, max_features=5, max_depth=30, criterion=gini \n",
      "[CV]  n_estimators=300, min_samples_split=2, max_features=20, max_depth=25, criterion=gini, score=0.02555168408826945, total=  31.4s\n",
      "[CV] n_estimators=500, min_samples_split=5, max_features=5, max_depth=30, criterion=gini \n",
      "[CV]  n_estimators=1000, min_samples_split=2, max_features=20, max_depth=30, criterion=gini, score=0.02085747392815759, total= 1.7min\n"
     ]
    },
    {
     "name": "stderr",
     "output_type": "stream",
     "text": [
      "[Parallel(n_jobs=-1)]: Done  90 tasks      | elapsed: 13.4min\n"
     ]
    },
    {
     "name": "stdout",
     "output_type": "stream",
     "text": [
      "[CV] n_estimators=75, min_samples_split=5, max_features=3, max_depth=28, criterion=gini \n",
      "[CV]  n_estimators=75, min_samples_split=5, max_features=3, max_depth=28, criterion=gini, score=0.0024242424242424242, total=   2.9s\n",
      "[CV] n_estimators=75, min_samples_split=5, max_features=3, max_depth=28, criterion=gini \n",
      "[CV]  n_estimators=75, min_samples_split=5, max_features=3, max_depth=28, criterion=gini, score=0.0024183796856106408, total=   2.9s\n",
      "[CV] n_estimators=75, min_samples_split=5, max_features=3, max_depth=28, criterion=gini \n",
      "[CV]  n_estimators=500, min_samples_split=5, max_features=5, max_depth=30, criterion=gini, score=0.0024242424242424242, total=  21.7s\n",
      "[CV] n_estimators=75, min_samples_split=5, max_features=20, max_depth=30, criterion=gini \n",
      "[CV]  n_estimators=75, min_samples_split=5, max_features=3, max_depth=28, criterion=gini, score=0.0, total=   2.8s\n",
      "[CV] n_estimators=75, min_samples_split=5, max_features=20, max_depth=30, criterion=gini \n",
      "[CV]  n_estimators=500, min_samples_split=5, max_features=5, max_depth=30, criterion=gini, score=0.004830917874396135, total=  22.9s\n",
      "[CV] n_estimators=75, min_samples_split=5, max_features=20, max_depth=30, criterion=gini \n",
      "[CV]  n_estimators=75, min_samples_split=5, max_features=20, max_depth=30, criterion=gini, score=0.02364066193853428, total=   8.5s\n",
      "[CV] n_estimators=75, min_samples_split=3, max_features=20, max_depth=15, criterion=entropy \n",
      "[CV]  n_estimators=75, min_samples_split=5, max_features=20, max_depth=30, criterion=gini, score=0.021077283372365342, total=   8.5s\n",
      "[CV] n_estimators=75, min_samples_split=3, max_features=20, max_depth=15, criterion=entropy \n",
      "[CV]  n_estimators=500, min_samples_split=5, max_features=5, max_depth=30, criterion=gini, score=0.0, total=  23.1s\n",
      "[CV] n_estimators=75, min_samples_split=3, max_features=20, max_depth=15, criterion=entropy \n",
      "[CV]  n_estimators=75, min_samples_split=3, max_features=20, max_depth=15, criterion=entropy, score=0.016786570743405275, total=   7.1s\n",
      "[CV] n_estimators=1000, min_samples_split=5, max_features=25, max_depth=15, criterion=gini \n",
      "[CV]  n_estimators=75, min_samples_split=5, max_features=20, max_depth=30, criterion=gini, score=0.025522041763341063, total=   7.8s\n",
      "[CV] n_estimators=1000, min_samples_split=5, max_features=25, max_depth=15, criterion=gini \n",
      "[CV]  n_estimators=75, min_samples_split=3, max_features=20, max_depth=15, criterion=entropy, score=0.02132701421800948, total=   6.2s\n",
      "[CV] n_estimators=1000, min_samples_split=5, max_features=25, max_depth=15, criterion=gini \n",
      "[CV]  n_estimators=75, min_samples_split=3, max_features=20, max_depth=15, criterion=entropy, score=0.009535160905840286, total=   6.1s\n",
      "[CV] n_estimators=200, min_samples_split=3, max_features=5, max_depth=30, criterion=gini \n",
      "[CV]  n_estimators=200, min_samples_split=3, max_features=5, max_depth=30, criterion=gini, score=0.0048367593712212815, total=   6.4s\n",
      "[CV] n_estimators=200, min_samples_split=3, max_features=5, max_depth=30, criterion=gini \n",
      "[CV]  n_estimators=200, min_samples_split=3, max_features=5, max_depth=30, criterion=gini, score=0.004796163069544364, total=   8.7s\n",
      "[CV] n_estimators=200, min_samples_split=3, max_features=5, max_depth=30, criterion=gini \n",
      "[CV]  n_estimators=200, min_samples_split=3, max_features=5, max_depth=30, criterion=gini, score=0.004784688995215311, total=   9.7s\n",
      "[CV] n_estimators=200, min_samples_split=5, max_features=3, max_depth=30, criterion=gini \n"
     ]
    },
    {
     "name": "stderr",
     "output_type": "stream",
     "text": [
      "[Parallel(n_jobs=-1)]: Done 105 tasks      | elapsed: 14.4min\n"
     ]
    },
    {
     "name": "stdout",
     "output_type": "stream",
     "text": [
      "[CV]  n_estimators=200, min_samples_split=5, max_features=3, max_depth=30, criterion=gini, score=0.0024242424242424242, total=   7.0s\n",
      "[CV] n_estimators=200, min_samples_split=5, max_features=3, max_depth=30, criterion=gini \n",
      "[CV]  n_estimators=200, min_samples_split=5, max_features=3, max_depth=30, criterion=gini, score=0.0, total=   7.2s\n",
      "[CV] n_estimators=200, min_samples_split=5, max_features=3, max_depth=30, criterion=gini \n"
     ]
    },
    {
     "name": "stderr",
     "output_type": "stream",
     "text": [
      "/Users/shaked/miniconda3/lib/python3.6/site-packages/sklearn/metrics/classification.py:1135: UndefinedMetricWarning: F-score is ill-defined and being set to 0.0 due to no predicted samples.\n",
      "  'precision', 'predicted', average, warn_for)\n"
     ]
    },
    {
     "name": "stdout",
     "output_type": "stream",
     "text": [
      "[CV]  n_estimators=200, min_samples_split=5, max_features=3, max_depth=30, criterion=gini, score=0.0, total=   7.2s\n",
      "[CV] n_estimators=500, min_samples_split=3, max_features=10, max_depth=15, criterion=entropy \n",
      "[CV]  n_estimators=500, min_samples_split=3, max_features=10, max_depth=15, criterion=entropy, score=0.0024213075060532684, total=  27.7s\n",
      "[CV] n_estimators=500, min_samples_split=3, max_features=10, max_depth=15, criterion=entropy \n",
      "[CV]  n_estimators=1000, min_samples_split=5, max_features=25, max_depth=15, criterion=gini, score=0.016587677725118485, total= 1.7min\n",
      "[CV] n_estimators=500, min_samples_split=3, max_features=10, max_depth=15, criterion=entropy \n",
      "[CV]  n_estimators=1000, min_samples_split=5, max_features=25, max_depth=15, criterion=gini, score=0.019047619047619046, total= 1.7min\n",
      "[CV] n_estimators=1000, min_samples_split=3, max_features=3, max_depth=28, criterion=gini \n",
      "[CV]  n_estimators=1000, min_samples_split=5, max_features=25, max_depth=15, criterion=gini, score=0.011862396204033215, total= 1.7min\n",
      "[CV] n_estimators=1000, min_samples_split=3, max_features=3, max_depth=28, criterion=gini \n",
      "[CV]  n_estimators=500, min_samples_split=3, max_features=10, max_depth=15, criterion=entropy, score=0.004830917874396135, total=  25.2s\n",
      "[CV] n_estimators=1000, min_samples_split=3, max_features=3, max_depth=28, criterion=gini \n",
      "[CV]  n_estimators=500, min_samples_split=3, max_features=10, max_depth=15, criterion=entropy, score=0.0048367593712212815, total=  24.3s\n",
      "[CV] n_estimators=500, min_samples_split=10, max_features=3, max_depth=30, criterion=entropy \n",
      "[CV]  n_estimators=1000, min_samples_split=3, max_features=3, max_depth=28, criterion=gini, score=0.0024213075060532684, total=  37.0s\n",
      "[CV]  n_estimators=1000, min_samples_split=3, max_features=3, max_depth=28, criterion=gini, score=0.0024067388688327313, total=  36.9s\n",
      "[CV] n_estimators=500, min_samples_split=10, max_features=3, max_depth=30, criterion=entropy \n",
      "[CV] n_estimators=500, min_samples_split=10, max_features=3, max_depth=30, criterion=entropy \n"
     ]
    },
    {
     "name": "stderr",
     "output_type": "stream",
     "text": [
      "/Users/shaked/miniconda3/lib/python3.6/site-packages/sklearn/metrics/classification.py:1135: UndefinedMetricWarning: F-score is ill-defined and being set to 0.0 due to no predicted samples.\n",
      "  'precision', 'predicted', average, warn_for)\n"
     ]
    },
    {
     "name": "stdout",
     "output_type": "stream",
     "text": [
      "[CV]  n_estimators=500, min_samples_split=10, max_features=3, max_depth=30, criterion=entropy, score=0.0, total=  20.6s\n",
      "[CV] n_estimators=500, min_samples_split=2, max_features=20, max_depth=30, criterion=entropy \n",
      "[CV]  n_estimators=1000, min_samples_split=3, max_features=3, max_depth=28, criterion=gini, score=0.0, total=  41.1s\n",
      "[CV] n_estimators=500, min_samples_split=2, max_features=20, max_depth=30, criterion=entropy \n"
     ]
    },
    {
     "name": "stderr",
     "output_type": "stream",
     "text": [
      "/Users/shaked/miniconda3/lib/python3.6/site-packages/sklearn/metrics/classification.py:1135: UndefinedMetricWarning: F-score is ill-defined and being set to 0.0 due to no predicted samples.\n",
      "  'precision', 'predicted', average, warn_for)\n",
      "/Users/shaked/miniconda3/lib/python3.6/site-packages/sklearn/metrics/classification.py:1135: UndefinedMetricWarning: F-score is ill-defined and being set to 0.0 due to no predicted samples.\n",
      "  'precision', 'predicted', average, warn_for)\n"
     ]
    },
    {
     "name": "stdout",
     "output_type": "stream",
     "text": [
      "[CV]  n_estimators=500, min_samples_split=10, max_features=3, max_depth=30, criterion=entropy, score=0.0, total=  16.3s\n",
      "[CV] n_estimators=500, min_samples_split=2, max_features=20, max_depth=30, criterion=entropy \n",
      "[CV]  n_estimators=500, min_samples_split=10, max_features=3, max_depth=30, criterion=entropy, score=0.0, total=  16.5s\n",
      "[CV] n_estimators=75, min_samples_split=5, max_features=3, max_depth=30, criterion=gini \n"
     ]
    },
    {
     "name": "stderr",
     "output_type": "stream",
     "text": [
      "[Parallel(n_jobs=-1)]: Done 120 tasks      | elapsed: 16.7min\n"
     ]
    },
    {
     "name": "stdout",
     "output_type": "stream",
     "text": [
      "[CV]  n_estimators=75, min_samples_split=5, max_features=3, max_depth=30, criterion=gini, score=0.0024242424242424242, total=   2.3s\n",
      "[CV] n_estimators=75, min_samples_split=5, max_features=3, max_depth=30, criterion=gini \n",
      "[CV]  n_estimators=75, min_samples_split=5, max_features=3, max_depth=30, criterion=gini, score=0.0, total=   2.6s\n",
      "[CV] n_estimators=75, min_samples_split=5, max_features=3, max_depth=30, criterion=gini \n",
      "[CV]  n_estimators=75, min_samples_split=5, max_features=3, max_depth=30, criterion=gini, score=0.0, total=   2.6s\n",
      "[CV] n_estimators=300, min_samples_split=2, max_features=5, max_depth=15, criterion=gini \n"
     ]
    },
    {
     "name": "stderr",
     "output_type": "stream",
     "text": [
      "/Users/shaked/miniconda3/lib/python3.6/site-packages/sklearn/metrics/classification.py:1135: UndefinedMetricWarning: F-score is ill-defined and being set to 0.0 due to no predicted samples.\n",
      "  'precision', 'predicted', average, warn_for)\n"
     ]
    },
    {
     "name": "stdout",
     "output_type": "stream",
     "text": [
      "[CV]  n_estimators=300, min_samples_split=2, max_features=5, max_depth=15, criterion=gini, score=0.0, total=  10.9s\n",
      "[CV] n_estimators=300, min_samples_split=2, max_features=5, max_depth=15, criterion=gini \n",
      "[CV]  n_estimators=300, min_samples_split=2, max_features=5, max_depth=15, criterion=gini, score=0.0048367593712212815, total=  10.6s\n",
      "[CV] n_estimators=300, min_samples_split=2, max_features=5, max_depth=15, criterion=gini \n",
      "[CV]  n_estimators=500, min_samples_split=2, max_features=20, max_depth=30, criterion=entropy, score=0.03244495944380069, total=  49.2s\n",
      "[CV] n_estimators=300, min_samples_split=10, max_features=20, max_depth=30, criterion=gini \n",
      "[CV]  n_estimators=500, min_samples_split=2, max_features=20, max_depth=30, criterion=entropy, score=0.02097902097902098, total=  49.5s\n",
      "[CV] n_estimators=300, min_samples_split=10, max_features=20, max_depth=30, criterion=gini \n",
      "[CV]  n_estimators=300, min_samples_split=2, max_features=5, max_depth=15, criterion=gini, score=0.0, total=  10.1s\n",
      "[CV] n_estimators=300, min_samples_split=10, max_features=20, max_depth=30, criterion=gini \n",
      "[CV]  n_estimators=500, min_samples_split=2, max_features=20, max_depth=30, criterion=entropy, score=0.013986013986013984, total=  48.2s\n",
      "[CV] n_estimators=75, min_samples_split=10, max_features=25, max_depth=15, criterion=entropy \n",
      "[CV]  n_estimators=75, min_samples_split=10, max_features=25, max_depth=15, criterion=entropy, score=0.016746411483253586, total=   7.8s\n",
      "[CV] n_estimators=75, min_samples_split=10, max_features=25, max_depth=15, criterion=entropy \n",
      "[CV]  n_estimators=300, min_samples_split=10, max_features=20, max_depth=30, criterion=gini, score=0.021352313167259787, total=  29.0s\n",
      "[CV] n_estimators=75, min_samples_split=10, max_features=25, max_depth=15, criterion=entropy \n",
      "[CV]  n_estimators=75, min_samples_split=10, max_features=25, max_depth=15, criterion=entropy, score=0.01437125748502994, total=   7.6s\n",
      "[CV] n_estimators=500, min_samples_split=3, max_features=25, max_depth=15, criterion=gini \n",
      "[CV]  n_estimators=300, min_samples_split=10, max_features=20, max_depth=30, criterion=gini, score=0.019002375296912115, total=  29.3s\n",
      "[CV] n_estimators=500, min_samples_split=3, max_features=25, max_depth=15, criterion=gini \n",
      "[CV]  n_estimators=75, min_samples_split=10, max_features=25, max_depth=15, criterion=entropy, score=0.009512485136741973, total=   6.5s\n",
      "[CV] n_estimators=500, min_samples_split=3, max_features=25, max_depth=15, criterion=gini \n",
      "[CV]  n_estimators=300, min_samples_split=10, max_features=20, max_depth=30, criterion=gini, score=0.014234875444839859, total=  27.7s\n",
      "[CV] n_estimators=75, min_samples_split=2, max_features=20, max_depth=15, criterion=entropy \n",
      "[CV]  n_estimators=75, min_samples_split=2, max_features=20, max_depth=15, criterion=entropy, score=0.019002375296912115, total=   6.2s\n",
      "[CV] n_estimators=75, min_samples_split=2, max_features=20, max_depth=15, criterion=entropy \n",
      "[CV]  n_estimators=75, min_samples_split=2, max_features=20, max_depth=15, criterion=entropy, score=0.019024970273483946, total=   6.7s\n",
      "[CV] n_estimators=75, min_samples_split=2, max_features=20, max_depth=15, criterion=entropy \n"
     ]
    },
    {
     "name": "stderr",
     "output_type": "stream",
     "text": [
      "[Parallel(n_jobs=-1)]: Done 137 tasks      | elapsed: 18.2min\n"
     ]
    },
    {
     "name": "stdout",
     "output_type": "stream",
     "text": [
      "[CV]  n_estimators=75, min_samples_split=2, max_features=20, max_depth=15, criterion=entropy, score=0.01199040767386091, total=   6.6s\n",
      "[CV] n_estimators=500, min_samples_split=3, max_features=25, max_depth=15, criterion=entropy \n",
      "[CV]  n_estimators=500, min_samples_split=3, max_features=25, max_depth=15, criterion=gini, score=0.019047619047619046, total=  50.9s\n",
      "[CV] n_estimators=500, min_samples_split=3, max_features=25, max_depth=15, criterion=entropy \n",
      "[CV]  n_estimators=500, min_samples_split=3, max_features=25, max_depth=15, criterion=gini, score=0.02122641509433962, total=  51.2s\n",
      "[CV] n_estimators=500, min_samples_split=3, max_features=25, max_depth=15, criterion=entropy \n",
      "[CV]  n_estimators=500, min_samples_split=3, max_features=25, max_depth=15, criterion=gini, score=0.009501187648456056, total=  51.3s\n",
      "[CV] n_estimators=200, min_samples_split=2, max_features=3, max_depth=15, criterion=gini \n"
     ]
    },
    {
     "name": "stderr",
     "output_type": "stream",
     "text": [
      "/Users/shaked/miniconda3/lib/python3.6/site-packages/sklearn/metrics/classification.py:1135: UndefinedMetricWarning: F-score is ill-defined and being set to 0.0 due to no predicted samples.\n",
      "  'precision', 'predicted', average, warn_for)\n"
     ]
    },
    {
     "name": "stdout",
     "output_type": "stream",
     "text": [
      "[CV]  n_estimators=200, min_samples_split=2, max_features=3, max_depth=15, criterion=gini, score=0.0, total=   5.9s\n",
      "[CV] n_estimators=200, min_samples_split=2, max_features=3, max_depth=15, criterion=gini \n"
     ]
    },
    {
     "name": "stderr",
     "output_type": "stream",
     "text": [
      "/Users/shaked/miniconda3/lib/python3.6/site-packages/sklearn/metrics/classification.py:1135: UndefinedMetricWarning: F-score is ill-defined and being set to 0.0 due to no predicted samples.\n",
      "  'precision', 'predicted', average, warn_for)\n"
     ]
    },
    {
     "name": "stdout",
     "output_type": "stream",
     "text": [
      "[CV]  n_estimators=200, min_samples_split=2, max_features=3, max_depth=15, criterion=gini, score=0.0, total=   5.7s\n",
      "[CV] n_estimators=200, min_samples_split=2, max_features=3, max_depth=15, criterion=gini \n"
     ]
    },
    {
     "name": "stderr",
     "output_type": "stream",
     "text": [
      "/Users/shaked/miniconda3/lib/python3.6/site-packages/sklearn/metrics/classification.py:1135: UndefinedMetricWarning: F-score is ill-defined and being set to 0.0 due to no predicted samples.\n",
      "  'precision', 'predicted', average, warn_for)\n"
     ]
    },
    {
     "name": "stdout",
     "output_type": "stream",
     "text": [
      "[CV]  n_estimators=200, min_samples_split=2, max_features=3, max_depth=15, criterion=gini, score=0.0, total=   5.5s\n",
      "[CV] n_estimators=75, min_samples_split=10, max_features=20, max_depth=15, criterion=gini \n",
      "[CV]  n_estimators=500, min_samples_split=3, max_features=25, max_depth=15, criterion=entropy, score=0.012019230769230768, total=  51.9s\n",
      "[CV] n_estimators=75, min_samples_split=10, max_features=20, max_depth=15, criterion=gini \n",
      "[CV]  n_estimators=75, min_samples_split=10, max_features=20, max_depth=15, criterion=gini, score=0.011904761904761906, total=   6.6s\n",
      "[CV] n_estimators=75, min_samples_split=10, max_features=20, max_depth=15, criterion=gini \n",
      "[CV]  n_estimators=75, min_samples_split=10, max_features=20, max_depth=15, criterion=gini, score=0.018934911242603547, total=   6.3s\n",
      "[CV] n_estimators=200, min_samples_split=3, max_features=25, max_depth=28, criterion=gini \n",
      "[CV]  n_estimators=75, min_samples_split=10, max_features=20, max_depth=15, criterion=gini, score=0.01426872770511296, total=   6.3s\n",
      "[CV] n_estimators=200, min_samples_split=3, max_features=25, max_depth=28, criterion=gini \n",
      "[CV]  n_estimators=500, min_samples_split=3, max_features=25, max_depth=15, criterion=entropy, score=0.011976047904191616, total=  51.5s\n",
      "[CV] n_estimators=200, min_samples_split=3, max_features=25, max_depth=28, criterion=gini \n",
      "[CV]  n_estimators=500, min_samples_split=3, max_features=25, max_depth=15, criterion=entropy, score=0.009580838323353293, total=  51.9s\n",
      "[CV] n_estimators=500, min_samples_split=10, max_features=5, max_depth=15, criterion=gini \n",
      "[CV]  n_estimators=200, min_samples_split=3, max_features=25, max_depth=28, criterion=gini, score=0.023391812865497075, total=  23.6s\n",
      "[CV] n_estimators=500, min_samples_split=10, max_features=5, max_depth=15, criterion=gini \n",
      "[CV]  n_estimators=200, min_samples_split=3, max_features=25, max_depth=28, criterion=gini, score=0.02085747392815759, total=  23.6s\n",
      "[CV] n_estimators=500, min_samples_split=10, max_features=5, max_depth=15, criterion=gini \n"
     ]
    },
    {
     "name": "stderr",
     "output_type": "stream",
     "text": [
      "/Users/shaked/miniconda3/lib/python3.6/site-packages/sklearn/metrics/classification.py:1135: UndefinedMetricWarning: F-score is ill-defined and being set to 0.0 due to no predicted samples.\n",
      "  'precision', 'predicted', average, warn_for)\n"
     ]
    },
    {
     "name": "stdout",
     "output_type": "stream",
     "text": [
      "[CV]  n_estimators=500, min_samples_split=10, max_features=5, max_depth=15, criterion=gini, score=0.0, total=  16.9s\n",
      "[CV] n_estimators=500, min_samples_split=3, max_features=5, max_depth=30, criterion=entropy \n",
      "[CV]  n_estimators=200, min_samples_split=3, max_features=25, max_depth=28, criterion=gini, score=0.02314814814814815, total=  23.5s\n",
      "[CV] n_estimators=500, min_samples_split=3, max_features=5, max_depth=30, criterion=entropy \n"
     ]
    },
    {
     "name": "stderr",
     "output_type": "stream",
     "text": [
      "[Parallel(n_jobs=-1)]: Done 154 tasks      | elapsed: 20.1min\n"
     ]
    },
    {
     "name": "stdout",
     "output_type": "stream",
     "text": [
      "[CV]  n_estimators=500, min_samples_split=10, max_features=5, max_depth=15, criterion=gini, score=0.0024242424242424242, total=  17.4s\n",
      "[CV] n_estimators=500, min_samples_split=3, max_features=5, max_depth=30, criterion=entropy \n",
      "[CV]  n_estimators=500, min_samples_split=10, max_features=5, max_depth=15, criterion=gini, score=0.0, total=  17.6s\n",
      "[CV] n_estimators=300, min_samples_split=3, max_features=20, max_depth=28, criterion=gini \n",
      "[CV]  n_estimators=500, min_samples_split=3, max_features=5, max_depth=30, criterion=entropy, score=0.0024183796856106408, total=  25.0s\n",
      "[CV] n_estimators=300, min_samples_split=3, max_features=20, max_depth=28, criterion=gini \n",
      "[CV]  n_estimators=500, min_samples_split=3, max_features=5, max_depth=30, criterion=entropy, score=0.0023923444976076554, total=  25.4s\n",
      "[CV] n_estimators=300, min_samples_split=3, max_features=20, max_depth=28, criterion=gini \n",
      "[CV]  n_estimators=500, min_samples_split=3, max_features=5, max_depth=30, criterion=entropy, score=0.002403846153846154, total=  25.5s\n",
      "[CV] n_estimators=200, min_samples_split=5, max_features=25, max_depth=30, criterion=gini \n",
      "[CV]  n_estimators=300, min_samples_split=3, max_features=20, max_depth=28, criterion=gini, score=0.023557126030624265, total=  32.7s\n",
      "[CV] n_estimators=200, min_samples_split=5, max_features=25, max_depth=30, criterion=gini \n",
      "[CV]  n_estimators=200, min_samples_split=5, max_features=25, max_depth=30, criterion=gini, score=0.02823529411764706, total=  24.6s\n",
      "[CV] n_estimators=200, min_samples_split=5, max_features=25, max_depth=30, criterion=gini \n",
      "[CV]  n_estimators=300, min_samples_split=3, max_features=20, max_depth=28, criterion=gini, score=0.018626309662398133, total=  30.7s\n",
      "[CV] n_estimators=500, min_samples_split=10, max_features=20, max_depth=15, criterion=entropy \n",
      "[CV]  n_estimators=300, min_samples_split=3, max_features=20, max_depth=28, criterion=gini, score=0.016431924882629106, total=  29.9s\n",
      "[CV] n_estimators=500, min_samples_split=10, max_features=20, max_depth=15, criterion=entropy \n",
      "[CV]  n_estimators=200, min_samples_split=5, max_features=25, max_depth=30, criterion=gini, score=0.01875732708089097, total=  23.1s\n",
      "[CV] n_estimators=500, min_samples_split=10, max_features=20, max_depth=15, criterion=entropy \n",
      "[CV]  n_estimators=200, min_samples_split=5, max_features=25, max_depth=30, criterion=gini, score=0.02350176263219742, total=  22.4s\n",
      "[CV] n_estimators=1000, min_samples_split=3, max_features=5, max_depth=15, criterion=gini \n",
      "[CV]  n_estimators=500, min_samples_split=10, max_features=20, max_depth=15, criterion=entropy, score=0.004830917874396135, total=  40.9s\n",
      "[CV] n_estimators=1000, min_samples_split=3, max_features=5, max_depth=15, criterion=gini \n",
      "[CV]  n_estimators=500, min_samples_split=10, max_features=20, max_depth=15, criterion=entropy, score=0.012019230769230768, total=  41.0s\n",
      "[CV] n_estimators=1000, min_samples_split=3, max_features=5, max_depth=15, criterion=gini \n",
      "[CV]  n_estimators=500, min_samples_split=10, max_features=20, max_depth=15, criterion=entropy, score=0.007202881152460984, total=  40.6s\n",
      "[CV] n_estimators=200, min_samples_split=2, max_features=20, max_depth=28, criterion=entropy \n"
     ]
    },
    {
     "name": "stderr",
     "output_type": "stream",
     "text": [
      "/Users/shaked/miniconda3/lib/python3.6/site-packages/sklearn/metrics/classification.py:1135: UndefinedMetricWarning: F-score is ill-defined and being set to 0.0 due to no predicted samples.\n",
      "  'precision', 'predicted', average, warn_for)\n"
     ]
    },
    {
     "name": "stdout",
     "output_type": "stream",
     "text": [
      "[CV]  n_estimators=1000, min_samples_split=3, max_features=5, max_depth=15, criterion=gini, score=0.0, total=  33.7s\n",
      "[CV] n_estimators=200, min_samples_split=2, max_features=20, max_depth=28, criterion=entropy \n",
      "[CV]  n_estimators=200, min_samples_split=2, max_features=20, max_depth=28, criterion=entropy, score=0.025522041763341066, total=  20.1s\n",
      "[CV] n_estimators=200, min_samples_split=2, max_features=20, max_depth=28, criterion=entropy \n",
      "[CV]  n_estimators=200, min_samples_split=2, max_features=20, max_depth=28, criterion=entropy, score=0.018735362997658076, total=  21.6s\n",
      "[CV] n_estimators=1000, min_samples_split=2, max_features=3, max_depth=25, criterion=entropy \n",
      "[CV]  n_estimators=1000, min_samples_split=3, max_features=5, max_depth=15, criterion=gini, score=0.0048367593712212815, total=  35.0s\n",
      "[CV] n_estimators=1000, min_samples_split=2, max_features=3, max_depth=25, criterion=entropy \n",
      "[CV]  n_estimators=1000, min_samples_split=3, max_features=5, max_depth=15, criterion=gini, score=0.0, total=  36.6s\n",
      "[CV] n_estimators=1000, min_samples_split=2, max_features=3, max_depth=25, criterion=entropy \n"
     ]
    },
    {
     "name": "stderr",
     "output_type": "stream",
     "text": [
      "[Parallel(n_jobs=-1)]: Done 173 tasks      | elapsed: 22.5min\n"
     ]
    },
    {
     "name": "stdout",
     "output_type": "stream",
     "text": [
      "[CV]  n_estimators=200, min_samples_split=2, max_features=20, max_depth=28, criterion=entropy, score=0.020930232558139535, total=  18.3s\n",
      "[CV] n_estimators=75, min_samples_split=2, max_features=10, max_depth=28, criterion=entropy \n",
      "[CV]  n_estimators=75, min_samples_split=2, max_features=10, max_depth=28, criterion=entropy, score=0.018713450292397658, total=   4.6s\n",
      "[CV] n_estimators=75, min_samples_split=2, max_features=10, max_depth=28, criterion=entropy \n",
      "[CV]  n_estimators=75, min_samples_split=2, max_features=10, max_depth=28, criterion=entropy, score=0.01635514018691589, total=   5.2s\n",
      "[CV] n_estimators=75, min_samples_split=2, max_features=10, max_depth=28, criterion=entropy \n",
      "[CV]  n_estimators=75, min_samples_split=2, max_features=10, max_depth=28, criterion=entropy, score=0.018801410105757928, total=   5.3s\n",
      "[CV] n_estimators=1000, min_samples_split=10, max_features=3, max_depth=25, criterion=entropy \n",
      "[CV]  n_estimators=1000, min_samples_split=2, max_features=3, max_depth=25, criterion=entropy, score=0.0024096385542168672, total=  37.6s\n",
      "[CV] n_estimators=1000, min_samples_split=10, max_features=3, max_depth=25, criterion=entropy \n",
      "[CV]  n_estimators=1000, min_samples_split=2, max_features=3, max_depth=25, criterion=entropy, score=0.002398081534772182, total=  38.5s\n",
      "[CV] n_estimators=1000, min_samples_split=10, max_features=3, max_depth=25, criterion=entropy \n",
      "[CV]  n_estimators=1000, min_samples_split=2, max_features=3, max_depth=25, criterion=entropy, score=0.002403846153846154, total=  40.2s\n",
      "[CV] n_estimators=200, min_samples_split=10, max_features=10, max_depth=25, criterion=gini \n"
     ]
    },
    {
     "name": "stderr",
     "output_type": "stream",
     "text": [
      "/Users/shaked/miniconda3/lib/python3.6/site-packages/sklearn/metrics/classification.py:1135: UndefinedMetricWarning: F-score is ill-defined and being set to 0.0 due to no predicted samples.\n",
      "  'precision', 'predicted', average, warn_for)\n"
     ]
    },
    {
     "name": "stdout",
     "output_type": "stream",
     "text": [
      "[CV]  n_estimators=200, min_samples_split=10, max_features=10, max_depth=25, criterion=gini, score=0.007220216606498195, total=  11.1s\n",
      "[CV] n_estimators=200, min_samples_split=10, max_features=10, max_depth=25, criterion=gini \n",
      "[CV]  n_estimators=1000, min_samples_split=10, max_features=3, max_depth=25, criterion=entropy, score=0.0, total=  36.9s\n",
      "[CV] n_estimators=200, min_samples_split=10, max_features=10, max_depth=25, criterion=gini \n",
      "[CV]  n_estimators=200, min_samples_split=10, max_features=10, max_depth=25, criterion=gini, score=0.012033694344163657, total=  13.4s\n",
      "[CV] n_estimators=75, min_samples_split=10, max_features=3, max_depth=15, criterion=gini \n"
     ]
    },
    {
     "name": "stderr",
     "output_type": "stream",
     "text": [
      "/Users/shaked/miniconda3/lib/python3.6/site-packages/sklearn/metrics/classification.py:1135: UndefinedMetricWarning: F-score is ill-defined and being set to 0.0 due to no predicted samples.\n",
      "  'precision', 'predicted', average, warn_for)\n"
     ]
    },
    {
     "name": "stdout",
     "output_type": "stream",
     "text": [
      "[CV]  n_estimators=75, min_samples_split=10, max_features=3, max_depth=15, criterion=gini, score=0.0, total=   2.5s\n",
      "[CV] n_estimators=75, min_samples_split=10, max_features=3, max_depth=15, criterion=gini \n",
      "[CV]  n_estimators=200, min_samples_split=10, max_features=10, max_depth=25, criterion=gini, score=0.009580838323353293, total=  13.4s\n",
      "[CV] n_estimators=75, min_samples_split=10, max_features=3, max_depth=15, criterion=gini \n",
      "[CV]  n_estimators=75, min_samples_split=10, max_features=3, max_depth=15, criterion=gini, score=0.0024242424242424242, total=   2.1s\n",
      "[CV] n_estimators=500, min_samples_split=10, max_features=25, max_depth=30, criterion=entropy \n"
     ]
    },
    {
     "name": "stderr",
     "output_type": "stream",
     "text": [
      "/Users/shaked/miniconda3/lib/python3.6/site-packages/sklearn/metrics/classification.py:1135: UndefinedMetricWarning: F-score is ill-defined and being set to 0.0 due to no predicted samples.\n",
      "  'precision', 'predicted', average, warn_for)\n"
     ]
    },
    {
     "name": "stdout",
     "output_type": "stream",
     "text": [
      "[CV]  n_estimators=75, min_samples_split=10, max_features=3, max_depth=15, criterion=gini, score=0.0, total=   2.2s\n",
      "[CV] n_estimators=500, min_samples_split=10, max_features=25, max_depth=30, criterion=entropy \n"
     ]
    },
    {
     "name": "stderr",
     "output_type": "stream",
     "text": [
      "/Users/shaked/miniconda3/lib/python3.6/site-packages/sklearn/metrics/classification.py:1135: UndefinedMetricWarning: F-score is ill-defined and being set to 0.0 due to no predicted samples.\n",
      "  'precision', 'predicted', average, warn_for)\n",
      "/Users/shaked/miniconda3/lib/python3.6/site-packages/sklearn/metrics/classification.py:1135: UndefinedMetricWarning: F-score is ill-defined and being set to 0.0 due to no predicted samples.\n",
      "  'precision', 'predicted', average, warn_for)\n"
     ]
    },
    {
     "name": "stdout",
     "output_type": "stream",
     "text": [
      "[CV]  n_estimators=1000, min_samples_split=10, max_features=3, max_depth=25, criterion=entropy, score=0.0, total=  36.2s\n",
      "[CV] n_estimators=500, min_samples_split=10, max_features=25, max_depth=30, criterion=entropy \n",
      "[CV]  n_estimators=1000, min_samples_split=10, max_features=3, max_depth=25, criterion=entropy, score=0.0, total=  36.0s\n",
      "[CV] n_estimators=200, min_samples_split=2, max_features=25, max_depth=28, criterion=entropy \n",
      "[CV]  n_estimators=200, min_samples_split=2, max_features=25, max_depth=28, criterion=entropy, score=0.025522041763341066, total=  25.5s\n",
      "[CV] n_estimators=200, min_samples_split=2, max_features=25, max_depth=28, criterion=entropy \n",
      "[CV]  n_estimators=200, min_samples_split=2, max_features=25, max_depth=28, criterion=entropy, score=0.023121387283236997, total=  27.4s\n",
      "[CV] n_estimators=200, min_samples_split=2, max_features=25, max_depth=28, criterion=entropy \n",
      "[CV]  n_estimators=500, min_samples_split=10, max_features=25, max_depth=30, criterion=entropy, score=0.012004801920768306, total= 1.0min\n",
      "[CV] n_estimators=300, min_samples_split=5, max_features=20, max_depth=25, criterion=entropy \n"
     ]
    },
    {
     "name": "stderr",
     "output_type": "stream",
     "text": [
      "[Parallel(n_jobs=-1)]: Done 192 tasks      | elapsed: 24.9min\n"
     ]
    },
    {
     "name": "stdout",
     "output_type": "stream",
     "text": [
      "[CV]  n_estimators=500, min_samples_split=10, max_features=25, max_depth=30, criterion=entropy, score=0.016706443914081142, total= 1.0min\n",
      "[CV] n_estimators=300, min_samples_split=5, max_features=20, max_depth=25, criterion=entropy \n",
      "[CV]  n_estimators=500, min_samples_split=10, max_features=25, max_depth=30, criterion=entropy, score=0.007177033492822966, total= 1.0min\n",
      "[CV] n_estimators=300, min_samples_split=5, max_features=20, max_depth=25, criterion=entropy \n",
      "[CV]  n_estimators=200, min_samples_split=2, max_features=25, max_depth=28, criterion=entropy, score=0.027681660899653977, total=  24.2s\n",
      "[CV] n_estimators=500, min_samples_split=5, max_features=5, max_depth=28, criterion=entropy \n",
      "[CV]  n_estimators=300, min_samples_split=5, max_features=20, max_depth=25, criterion=entropy, score=0.01199040767386091, total=  29.8s\n",
      "[CV] n_estimators=500, min_samples_split=5, max_features=5, max_depth=28, criterion=entropy \n",
      "[CV]  n_estimators=300, min_samples_split=5, max_features=20, max_depth=25, criterion=entropy, score=0.014302741358760428, total=  30.6s\n",
      "[CV] n_estimators=500, min_samples_split=5, max_features=5, max_depth=28, criterion=entropy \n",
      "[CV]  n_estimators=300, min_samples_split=5, max_features=20, max_depth=25, criterion=entropy, score=0.009557945041816009, total=  28.7s\n",
      "[CV] n_estimators=1000, min_samples_split=2, max_features=25, max_depth=15, criterion=entropy \n",
      "[CV]  n_estimators=500, min_samples_split=5, max_features=5, max_depth=28, criterion=entropy, score=0.0024242424242424242, total=  20.2s\n",
      "[CV] n_estimators=1000, min_samples_split=2, max_features=25, max_depth=15, criterion=entropy \n",
      "[CV]  n_estimators=500, min_samples_split=5, max_features=5, max_depth=28, criterion=entropy, score=0.004830917874396135, total=  20.2s\n",
      "[CV] n_estimators=1000, min_samples_split=2, max_features=25, max_depth=15, criterion=entropy \n",
      "[CV]  n_estimators=500, min_samples_split=5, max_features=5, max_depth=28, criterion=entropy, score=0.0, total=  20.3s\n",
      "[CV] n_estimators=1000, min_samples_split=3, max_features=25, max_depth=30, criterion=entropy \n",
      "[CV]  n_estimators=1000, min_samples_split=2, max_features=25, max_depth=15, criterion=entropy, score=0.01199040767386091, total= 1.7min\n",
      "[CV] n_estimators=1000, min_samples_split=3, max_features=25, max_depth=30, criterion=entropy \n",
      "[CV]  n_estimators=1000, min_samples_split=2, max_features=25, max_depth=15, criterion=entropy, score=0.014336917562724014, total= 1.7min\n",
      "[CV] n_estimators=1000, min_samples_split=3, max_features=25, max_depth=30, criterion=entropy \n",
      "[CV]  n_estimators=1000, min_samples_split=2, max_features=25, max_depth=15, criterion=entropy, score=0.004801920768307323, total= 1.7min\n",
      "[CV] n_estimators=200, min_samples_split=3, max_features=5, max_depth=30, criterion=entropy \n",
      "[CV]  n_estimators=200, min_samples_split=3, max_features=5, max_depth=30, criterion=entropy, score=0.0024183796856106408, total=   9.1s\n",
      "[CV] n_estimators=200, min_samples_split=3, max_features=5, max_depth=30, criterion=entropy \n",
      "[CV]  n_estimators=1000, min_samples_split=3, max_features=25, max_depth=30, criterion=entropy, score=0.023557126030624265, total= 2.0min\n",
      "[CV] n_estimators=200, min_samples_split=3, max_features=5, max_depth=30, criterion=entropy \n",
      "[CV]  n_estimators=200, min_samples_split=3, max_features=5, max_depth=30, criterion=entropy, score=0.0, total=  11.4s\n",
      "[CV] n_estimators=200, min_samples_split=3, max_features=25, max_depth=25, criterion=entropy \n",
      "[CV]  n_estimators=200, min_samples_split=3, max_features=5, max_depth=30, criterion=entropy, score=0.004807692307692308, total=  12.7s\n",
      "[CV] n_estimators=200, min_samples_split=3, max_features=25, max_depth=25, criterion=entropy \n",
      "[CV]  n_estimators=200, min_samples_split=3, max_features=25, max_depth=25, criterion=entropy, score=0.016666666666666666, total=  26.3s\n",
      "[CV] n_estimators=200, min_samples_split=3, max_features=25, max_depth=25, criterion=entropy \n",
      "[CV]  n_estimators=200, min_samples_split=3, max_features=25, max_depth=25, criterion=entropy, score=0.018713450292397658, total=  24.7s\n",
      "[CV] n_estimators=200, min_samples_split=5, max_features=10, max_depth=25, criterion=gini \n",
      "[CV]  n_estimators=200, min_samples_split=5, max_features=10, max_depth=25, criterion=gini, score=0.012004801920768306, total=  13.1s\n",
      "[CV] n_estimators=200, min_samples_split=5, max_features=10, max_depth=25, criterion=gini \n",
      "[CV]  n_estimators=200, min_samples_split=3, max_features=25, max_depth=25, criterion=entropy, score=0.01647058823529412, total=  24.5s\n",
      "[CV] n_estimators=200, min_samples_split=5, max_features=10, max_depth=25, criterion=gini \n",
      "[CV]  n_estimators=200, min_samples_split=5, max_features=10, max_depth=25, criterion=gini, score=0.01437125748502994, total=  12.8s\n",
      "[CV] n_estimators=300, min_samples_split=3, max_features=20, max_depth=30, criterion=gini \n"
     ]
    },
    {
     "name": "stderr",
     "output_type": "stream",
     "text": [
      "[Parallel(n_jobs=-1)]: Done 213 tasks      | elapsed: 29.0min\n"
     ]
    },
    {
     "name": "stdout",
     "output_type": "stream",
     "text": [
      "[CV]  n_estimators=200, min_samples_split=5, max_features=10, max_depth=25, criterion=gini, score=0.009592326139088728, total=  12.2s\n",
      "[CV] n_estimators=300, min_samples_split=3, max_features=20, max_depth=30, criterion=gini \n",
      "[CV]  n_estimators=1000, min_samples_split=3, max_features=25, max_depth=30, criterion=entropy, score=0.021077283372365342, total= 2.1min\n",
      "[CV] n_estimators=300, min_samples_split=3, max_features=20, max_depth=30, criterion=gini \n",
      "[CV]  n_estimators=300, min_samples_split=3, max_features=20, max_depth=30, criterion=gini, score=0.02102803738317757, total=  31.8s\n",
      "[CV] n_estimators=1000, min_samples_split=5, max_features=3, max_depth=25, criterion=entropy \n",
      "[CV]  n_estimators=300, min_samples_split=3, max_features=20, max_depth=30, criterion=gini, score=0.023419203747072598, total=  31.9s\n",
      "[CV] n_estimators=1000, min_samples_split=5, max_features=3, max_depth=25, criterion=entropy \n",
      "[CV]  n_estimators=1000, min_samples_split=3, max_features=25, max_depth=30, criterion=entropy, score=0.018801410105757928, total= 2.1min\n",
      "[CV] n_estimators=1000, min_samples_split=5, max_features=3, max_depth=25, criterion=entropy \n",
      "[CV]  n_estimators=300, min_samples_split=3, max_features=20, max_depth=30, criterion=gini, score=0.016317016317016316, total=  27.8s\n",
      "[CV] n_estimators=1000, min_samples_split=10, max_features=5, max_depth=28, criterion=gini \n"
     ]
    },
    {
     "name": "stderr",
     "output_type": "stream",
     "text": [
      "/Users/shaked/miniconda3/lib/python3.6/site-packages/sklearn/metrics/classification.py:1135: UndefinedMetricWarning: F-score is ill-defined and being set to 0.0 due to no predicted samples.\n",
      "  'precision', 'predicted', average, warn_for)\n",
      "/Users/shaked/miniconda3/lib/python3.6/site-packages/sklearn/metrics/classification.py:1135: UndefinedMetricWarning: F-score is ill-defined and being set to 0.0 due to no predicted samples.\n",
      "  'precision', 'predicted', average, warn_for)\n"
     ]
    },
    {
     "name": "stdout",
     "output_type": "stream",
     "text": [
      "[CV]  n_estimators=1000, min_samples_split=5, max_features=3, max_depth=25, criterion=entropy, score=0.0024242424242424242, total=  34.6s\n",
      "[CV] n_estimators=1000, min_samples_split=10, max_features=5, max_depth=28, criterion=gini \n",
      "[CV]  n_estimators=1000, min_samples_split=5, max_features=3, max_depth=25, criterion=entropy, score=0.0, total=  36.6s\n",
      "[CV]  n_estimators=1000, min_samples_split=5, max_features=3, max_depth=25, criterion=entropy, score=0.0, total=  36.8s\n",
      "[CV] n_estimators=1000, min_samples_split=10, max_features=5, max_depth=28, criterion=gini \n",
      "[CV] n_estimators=500, min_samples_split=10, max_features=3, max_depth=25, criterion=gini \n"
     ]
    },
    {
     "name": "stderr",
     "output_type": "stream",
     "text": [
      "/Users/shaked/miniconda3/lib/python3.6/site-packages/sklearn/metrics/classification.py:1135: UndefinedMetricWarning: F-score is ill-defined and being set to 0.0 due to no predicted samples.\n",
      "  'precision', 'predicted', average, warn_for)\n"
     ]
    },
    {
     "name": "stdout",
     "output_type": "stream",
     "text": [
      "[CV]  n_estimators=500, min_samples_split=10, max_features=3, max_depth=25, criterion=gini, score=0.0, total=  15.4s\n",
      "[CV] n_estimators=500, min_samples_split=10, max_features=3, max_depth=25, criterion=gini \n"
     ]
    },
    {
     "name": "stderr",
     "output_type": "stream",
     "text": [
      "/Users/shaked/miniconda3/lib/python3.6/site-packages/sklearn/metrics/classification.py:1135: UndefinedMetricWarning: F-score is ill-defined and being set to 0.0 due to no predicted samples.\n",
      "  'precision', 'predicted', average, warn_for)\n"
     ]
    },
    {
     "name": "stdout",
     "output_type": "stream",
     "text": [
      "[CV]  n_estimators=1000, min_samples_split=10, max_features=5, max_depth=28, criterion=gini, score=0.0, total=  41.4s\n",
      "[CV] n_estimators=500, min_samples_split=10, max_features=3, max_depth=25, criterion=gini \n"
     ]
    },
    {
     "name": "stderr",
     "output_type": "stream",
     "text": [
      "/Users/shaked/miniconda3/lib/python3.6/site-packages/sklearn/metrics/classification.py:1135: UndefinedMetricWarning: F-score is ill-defined and being set to 0.0 due to no predicted samples.\n",
      "  'precision', 'predicted', average, warn_for)\n"
     ]
    },
    {
     "name": "stdout",
     "output_type": "stream",
     "text": [
      "[CV]  n_estimators=500, min_samples_split=10, max_features=3, max_depth=25, criterion=gini, score=0.0, total=  17.5s\n",
      "[CV] n_estimators=500, min_samples_split=10, max_features=20, max_depth=25, criterion=entropy \n"
     ]
    },
    {
     "name": "stderr",
     "output_type": "stream",
     "text": [
      "/Users/shaked/miniconda3/lib/python3.6/site-packages/sklearn/metrics/classification.py:1135: UndefinedMetricWarning: F-score is ill-defined and being set to 0.0 due to no predicted samples.\n",
      "  'precision', 'predicted', average, warn_for)\n"
     ]
    },
    {
     "name": "stdout",
     "output_type": "stream",
     "text": [
      "[CV]  n_estimators=1000, min_samples_split=10, max_features=5, max_depth=28, criterion=gini, score=0.0024183796856106408, total=  40.4s\n",
      "[CV] n_estimators=500, min_samples_split=10, max_features=20, max_depth=25, criterion=entropy \n",
      "[CV]  n_estimators=500, min_samples_split=10, max_features=3, max_depth=25, criterion=gini, score=0.0, total=  17.9s\n",
      "[CV] n_estimators=500, min_samples_split=10, max_features=20, max_depth=25, criterion=entropy \n",
      "[CV]  n_estimators=1000, min_samples_split=10, max_features=5, max_depth=28, criterion=gini, score=0.0, total=  41.2s\n",
      "[CV] n_estimators=500, min_samples_split=10, max_features=3, max_depth=28, criterion=gini \n"
     ]
    },
    {
     "name": "stderr",
     "output_type": "stream",
     "text": [
      "/Users/shaked/miniconda3/lib/python3.6/site-packages/sklearn/metrics/classification.py:1135: UndefinedMetricWarning: F-score is ill-defined and being set to 0.0 due to no predicted samples.\n",
      "  'precision', 'predicted', average, warn_for)\n"
     ]
    },
    {
     "name": "stdout",
     "output_type": "stream",
     "text": [
      "[CV]  n_estimators=500, min_samples_split=10, max_features=3, max_depth=28, criterion=gini, score=0.0, total=  16.8s\n",
      "[CV] n_estimators=500, min_samples_split=10, max_features=3, max_depth=28, criterion=gini \n"
     ]
    },
    {
     "name": "stderr",
     "output_type": "stream",
     "text": [
      "/Users/shaked/miniconda3/lib/python3.6/site-packages/sklearn/metrics/classification.py:1135: UndefinedMetricWarning: F-score is ill-defined and being set to 0.0 due to no predicted samples.\n",
      "  'precision', 'predicted', average, warn_for)\n"
     ]
    },
    {
     "name": "stdout",
     "output_type": "stream",
     "text": [
      "[CV]  n_estimators=500, min_samples_split=10, max_features=3, max_depth=28, criterion=gini, score=0.0, total=  17.3s\n",
      "[CV] n_estimators=500, min_samples_split=10, max_features=3, max_depth=28, criterion=gini \n",
      "[CV]  n_estimators=500, min_samples_split=10, max_features=20, max_depth=25, criterion=entropy, score=0.009638554216867469, total=  47.0s\n",
      "[CV] n_estimators=300, min_samples_split=2, max_features=3, max_depth=15, criterion=entropy \n",
      "[CV]  n_estimators=500, min_samples_split=10, max_features=20, max_depth=25, criterion=entropy, score=0.01437125748502994, total=  46.9s\n",
      "[CV] n_estimators=300, min_samples_split=2, max_features=3, max_depth=15, criterion=entropy \n",
      "[CV]  n_estimators=500, min_samples_split=10, max_features=20, max_depth=25, criterion=entropy, score=0.007194244604316546, total=  46.5s\n",
      "[CV] n_estimators=300, min_samples_split=2, max_features=3, max_depth=15, criterion=entropy \n"
     ]
    },
    {
     "name": "stderr",
     "output_type": "stream",
     "text": [
      "/Users/shaked/miniconda3/lib/python3.6/site-packages/sklearn/metrics/classification.py:1135: UndefinedMetricWarning: F-score is ill-defined and being set to 0.0 due to no predicted samples.\n",
      "  'precision', 'predicted', average, warn_for)\n"
     ]
    },
    {
     "name": "stdout",
     "output_type": "stream",
     "text": [
      "[CV]  n_estimators=300, min_samples_split=2, max_features=3, max_depth=15, criterion=entropy, score=0.0, total=   8.5s\n",
      "[CV] n_estimators=1000, min_samples_split=3, max_features=25, max_depth=30, criterion=gini \n"
     ]
    },
    {
     "name": "stderr",
     "output_type": "stream",
     "text": [
      "[Parallel(n_jobs=-1)]: Done 234 tasks      | elapsed: 32.0min\n",
      "/Users/shaked/miniconda3/lib/python3.6/site-packages/sklearn/metrics/classification.py:1135: UndefinedMetricWarning: F-score is ill-defined and being set to 0.0 due to no predicted samples.\n",
      "  'precision', 'predicted', average, warn_for)\n"
     ]
    },
    {
     "name": "stdout",
     "output_type": "stream",
     "text": [
      "[CV]  n_estimators=300, min_samples_split=2, max_features=3, max_depth=15, criterion=entropy, score=0.0, total=   8.7s\n",
      "[CV] n_estimators=1000, min_samples_split=3, max_features=25, max_depth=30, criterion=gini \n"
     ]
    },
    {
     "name": "stderr",
     "output_type": "stream",
     "text": [
      "/Users/shaked/miniconda3/lib/python3.6/site-packages/sklearn/metrics/classification.py:1135: UndefinedMetricWarning: F-score is ill-defined and being set to 0.0 due to no predicted samples.\n",
      "  'precision', 'predicted', average, warn_for)\n",
      "/Users/shaked/miniconda3/lib/python3.6/site-packages/sklearn/metrics/classification.py:1135: UndefinedMetricWarning: F-score is ill-defined and being set to 0.0 due to no predicted samples.\n",
      "  'precision', 'predicted', average, warn_for)\n"
     ]
    },
    {
     "name": "stdout",
     "output_type": "stream",
     "text": [
      "[CV]  n_estimators=300, min_samples_split=2, max_features=3, max_depth=15, criterion=entropy, score=0.0, total=   8.9s\n",
      "[CV] n_estimators=1000, min_samples_split=3, max_features=25, max_depth=30, criterion=gini \n",
      "[CV]  n_estimators=500, min_samples_split=10, max_features=3, max_depth=28, criterion=gini, score=0.0, total=  16.1s\n",
      "[CV] n_estimators=1000, min_samples_split=5, max_features=10, max_depth=15, criterion=gini \n",
      "[CV]  n_estimators=1000, min_samples_split=5, max_features=10, max_depth=15, criterion=gini, score=0.0, total=  53.1s\n",
      "[CV] n_estimators=1000, min_samples_split=5, max_features=10, max_depth=15, criterion=gini \n",
      "[CV]  n_estimators=1000, min_samples_split=5, max_features=10, max_depth=15, criterion=gini, score=0.012019230769230768, total=  58.2s\n",
      "[CV] n_estimators=1000, min_samples_split=5, max_features=10, max_depth=15, criterion=gini \n",
      "[CV]  n_estimators=1000, min_samples_split=3, max_features=25, max_depth=30, criterion=gini, score=0.03259604190919674, total= 2.1min\n",
      "[CV] n_estimators=500, min_samples_split=5, max_features=3, max_depth=28, criterion=gini \n",
      "[CV]  n_estimators=1000, min_samples_split=3, max_features=25, max_depth=30, criterion=gini, score=0.020905923344947737, total= 2.1min\n",
      "[CV] n_estimators=500, min_samples_split=5, max_features=3, max_depth=28, criterion=gini \n",
      "[CV]  n_estimators=1000, min_samples_split=3, max_features=25, max_depth=30, criterion=gini, score=0.023310023310023312, total= 2.1min\n",
      "[CV] n_estimators=500, min_samples_split=5, max_features=3, max_depth=28, criterion=gini \n",
      "[CV]  n_estimators=500, min_samples_split=5, max_features=3, max_depth=28, criterion=gini, score=0.0024242424242424242, total=  16.8s\n",
      "[CV] n_estimators=1000, min_samples_split=5, max_features=20, max_depth=25, criterion=entropy \n"
     ]
    },
    {
     "name": "stderr",
     "output_type": "stream",
     "text": [
      "/Users/shaked/miniconda3/lib/python3.6/site-packages/sklearn/metrics/classification.py:1135: UndefinedMetricWarning: F-score is ill-defined and being set to 0.0 due to no predicted samples.\n",
      "  'precision', 'predicted', average, warn_for)\n",
      "/Users/shaked/miniconda3/lib/python3.6/site-packages/sklearn/metrics/classification.py:1135: UndefinedMetricWarning: F-score is ill-defined and being set to 0.0 due to no predicted samples.\n",
      "  'precision', 'predicted', average, warn_for)\n"
     ]
    },
    {
     "name": "stdout",
     "output_type": "stream",
     "text": [
      "[CV]  n_estimators=500, min_samples_split=5, max_features=3, max_depth=28, criterion=gini, score=0.0, total=  18.5s\n",
      "[CV] n_estimators=1000, min_samples_split=5, max_features=20, max_depth=25, criterion=entropy \n",
      "[CV]  n_estimators=500, min_samples_split=5, max_features=3, max_depth=28, criterion=gini, score=0.0, total=  18.6s\n",
      "[CV] n_estimators=1000, min_samples_split=5, max_features=20, max_depth=25, criterion=entropy \n",
      "[CV]  n_estimators=1000, min_samples_split=5, max_features=10, max_depth=15, criterion=gini, score=0.0048192771084337345, total=  51.4s\n",
      "[CV] n_estimators=500, min_samples_split=5, max_features=10, max_depth=15, criterion=gini \n",
      "[CV]  n_estimators=500, min_samples_split=5, max_features=10, max_depth=15, criterion=gini, score=0.0024183796856106408, total=  34.8s\n",
      "[CV] n_estimators=500, min_samples_split=5, max_features=10, max_depth=15, criterion=gini \n",
      "[CV]  n_estimators=500, min_samples_split=5, max_features=10, max_depth=15, criterion=gini, score=0.012033694344163657, total=  32.6s\n",
      "[CV] n_estimators=500, min_samples_split=5, max_features=10, max_depth=15, criterion=gini \n",
      "[CV]  n_estimators=1000, min_samples_split=5, max_features=20, max_depth=25, criterion=entropy, score=0.01199040767386091, total= 1.9min\n",
      "[CV] n_estimators=500, min_samples_split=5, max_features=20, max_depth=28, criterion=gini \n",
      "[CV]  n_estimators=1000, min_samples_split=5, max_features=20, max_depth=25, criterion=entropy, score=0.016686531585220498, total= 1.9min\n",
      "[CV] n_estimators=500, min_samples_split=5, max_features=20, max_depth=28, criterion=gini \n",
      "[CV]  n_estimators=1000, min_samples_split=5, max_features=20, max_depth=25, criterion=entropy, score=0.004796163069544364, total= 2.0min\n",
      "[CV] n_estimators=500, min_samples_split=5, max_features=20, max_depth=28, criterion=gini \n",
      "[CV]  n_estimators=500, min_samples_split=5, max_features=10, max_depth=15, criterion=gini, score=0.007220216606498195, total=  33.3s\n",
      "[CV] n_estimators=200, min_samples_split=2, max_features=3, max_depth=25, criterion=entropy \n",
      "[CV]  n_estimators=200, min_samples_split=2, max_features=3, max_depth=25, criterion=entropy, score=0.0024125452352231603, total=   8.6s\n",
      "[CV] n_estimators=200, min_samples_split=2, max_features=3, max_depth=25, criterion=entropy \n",
      "[CV]  n_estimators=200, min_samples_split=2, max_features=3, max_depth=25, criterion=entropy, score=0.004784688995215311, total=  10.1s\n",
      "[CV] n_estimators=200, min_samples_split=2, max_features=3, max_depth=25, criterion=entropy \n",
      "[CV]  n_estimators=200, min_samples_split=2, max_features=3, max_depth=25, criterion=entropy, score=0.0024009603841536613, total=  11.2s\n",
      "[CV] n_estimators=75, min_samples_split=2, max_features=25, max_depth=28, criterion=gini \n",
      "[CV]  n_estimators=500, min_samples_split=5, max_features=20, max_depth=28, criterion=gini, score=0.02372479240806643, total= 1.1min\n",
      "[CV] n_estimators=75, min_samples_split=2, max_features=25, max_depth=28, criterion=gini \n",
      "[CV]  n_estimators=75, min_samples_split=2, max_features=25, max_depth=28, criterion=gini, score=0.038461538461538464, total=  13.4s\n",
      "[CV] n_estimators=75, min_samples_split=2, max_features=25, max_depth=28, criterion=gini \n"
     ]
    },
    {
     "name": "stderr",
     "output_type": "stream",
     "text": [
      "[Parallel(n_jobs=-1)]: Done 257 tasks      | elapsed: 37.8min\n"
     ]
    },
    {
     "name": "stdout",
     "output_type": "stream",
     "text": [
      "[CV]  n_estimators=500, min_samples_split=5, max_features=20, max_depth=28, criterion=gini, score=0.021301775147928994, total= 1.1min\n",
      "[CV] n_estimators=300, min_samples_split=5, max_features=3, max_depth=15, criterion=entropy \n",
      "[CV]  n_estimators=500, min_samples_split=5, max_features=20, max_depth=28, criterion=gini, score=0.014234875444839859, total= 1.1min\n",
      "[CV] n_estimators=300, min_samples_split=5, max_features=3, max_depth=15, criterion=entropy \n",
      "[CV]  n_estimators=75, min_samples_split=2, max_features=25, max_depth=28, criterion=gini, score=0.027057497181510713, total=  10.9s\n",
      "[CV] n_estimators=300, min_samples_split=5, max_features=3, max_depth=15, criterion=entropy \n",
      "[CV]  n_estimators=75, min_samples_split=2, max_features=25, max_depth=28, criterion=gini, score=0.029180695847362513, total=  10.7s\n",
      "[CV] n_estimators=300, min_samples_split=5, max_features=10, max_depth=28, criterion=entropy \n"
     ]
    },
    {
     "name": "stderr",
     "output_type": "stream",
     "text": [
      "/Users/shaked/miniconda3/lib/python3.6/site-packages/sklearn/metrics/classification.py:1135: UndefinedMetricWarning: F-score is ill-defined and being set to 0.0 due to no predicted samples.\n",
      "  'precision', 'predicted', average, warn_for)\n"
     ]
    },
    {
     "name": "stdout",
     "output_type": "stream",
     "text": [
      "[CV]  n_estimators=300, min_samples_split=5, max_features=3, max_depth=15, criterion=entropy, score=0.0, total=  10.6s\n"
     ]
    },
    {
     "name": "stderr",
     "output_type": "stream",
     "text": [
      "/Users/shaked/miniconda3/lib/python3.6/site-packages/sklearn/metrics/classification.py:1135: UndefinedMetricWarning: F-score is ill-defined and being set to 0.0 due to no predicted samples.\n",
      "  'precision', 'predicted', average, warn_for)\n"
     ]
    },
    {
     "name": "stdout",
     "output_type": "stream",
     "text": [
      "[CV] n_estimators=300, min_samples_split=5, max_features=10, max_depth=28, criterion=entropy \n",
      "[CV]  n_estimators=300, min_samples_split=5, max_features=3, max_depth=15, criterion=entropy, score=0.0, total=  10.9s\n",
      "[CV] n_estimators=300, min_samples_split=5, max_features=10, max_depth=28, criterion=entropy \n"
     ]
    },
    {
     "name": "stderr",
     "output_type": "stream",
     "text": [
      "/Users/shaked/miniconda3/lib/python3.6/site-packages/sklearn/metrics/classification.py:1135: UndefinedMetricWarning: F-score is ill-defined and being set to 0.0 due to no predicted samples.\n",
      "  'precision', 'predicted', average, warn_for)\n"
     ]
    },
    {
     "name": "stdout",
     "output_type": "stream",
     "text": [
      "[CV]  n_estimators=300, min_samples_split=5, max_features=3, max_depth=15, criterion=entropy, score=0.0, total=  10.6s\n",
      "[CV] n_estimators=500, min_samples_split=10, max_features=5, max_depth=28, criterion=gini \n",
      "[CV]  n_estimators=300, min_samples_split=5, max_features=10, max_depth=28, criterion=entropy, score=0.004830917874396135, total=  23.2s\n",
      "[CV] n_estimators=500, min_samples_split=10, max_features=5, max_depth=28, criterion=gini \n",
      "[CV]  n_estimators=300, min_samples_split=5, max_features=10, max_depth=28, criterion=entropy, score=0.0024096385542168672, total=  24.1s\n",
      "[CV] n_estimators=500, min_samples_split=10, max_features=5, max_depth=28, criterion=gini \n",
      "[CV]  n_estimators=300, min_samples_split=5, max_features=10, max_depth=28, criterion=entropy, score=0.0, total=  24.1s\n",
      "[CV] n_estimators=200, min_samples_split=5, max_features=3, max_depth=28, criterion=entropy \n"
     ]
    },
    {
     "name": "stderr",
     "output_type": "stream",
     "text": [
      "/Users/shaked/miniconda3/lib/python3.6/site-packages/sklearn/metrics/classification.py:1135: UndefinedMetricWarning: F-score is ill-defined and being set to 0.0 due to no predicted samples.\n",
      "  'precision', 'predicted', average, warn_for)\n"
     ]
    },
    {
     "name": "stdout",
     "output_type": "stream",
     "text": [
      "[CV]  n_estimators=500, min_samples_split=10, max_features=5, max_depth=28, criterion=gini, score=0.0, total=  27.0s\n",
      "[CV] n_estimators=200, min_samples_split=5, max_features=3, max_depth=28, criterion=entropy \n",
      "[CV]  n_estimators=200, min_samples_split=5, max_features=3, max_depth=28, criterion=entropy, score=0.0024242424242424242, total=   8.2s\n",
      "[CV] n_estimators=200, min_samples_split=5, max_features=3, max_depth=28, criterion=entropy \n",
      "[CV]  n_estimators=200, min_samples_split=5, max_features=3, max_depth=28, criterion=entropy, score=0.0, total=   8.1s\n",
      "[CV] n_estimators=1000, min_samples_split=3, max_features=10, max_depth=30, criterion=gini \n"
     ]
    },
    {
     "name": "stderr",
     "output_type": "stream",
     "text": [
      "/Users/shaked/miniconda3/lib/python3.6/site-packages/sklearn/metrics/classification.py:1135: UndefinedMetricWarning: F-score is ill-defined and being set to 0.0 due to no predicted samples.\n",
      "  'precision', 'predicted', average, warn_for)\n"
     ]
    },
    {
     "name": "stdout",
     "output_type": "stream",
     "text": [
      "[CV]  n_estimators=500, min_samples_split=10, max_features=5, max_depth=28, criterion=gini, score=0.0024242424242424242, total=  24.5s\n",
      "[CV] n_estimators=1000, min_samples_split=3, max_features=10, max_depth=30, criterion=gini \n",
      "[CV]  n_estimators=200, min_samples_split=5, max_features=3, max_depth=28, criterion=entropy, score=0.0, total=   8.4s\n",
      "[CV] n_estimators=1000, min_samples_split=3, max_features=10, max_depth=30, criterion=gini \n",
      "[CV]  n_estimators=500, min_samples_split=10, max_features=5, max_depth=28, criterion=gini, score=0.0, total=  21.9s\n",
      "[CV] n_estimators=500, min_samples_split=2, max_features=5, max_depth=28, criterion=gini \n",
      "[CV]  n_estimators=500, min_samples_split=2, max_features=5, max_depth=28, criterion=gini, score=0.00948991696322657, total=  24.0s\n",
      "[CV] n_estimators=500, min_samples_split=2, max_features=5, max_depth=28, criterion=gini \n",
      "[CV]  n_estimators=500, min_samples_split=2, max_features=5, max_depth=28, criterion=gini, score=0.00947867298578199, total=  26.0s\n",
      "[CV] n_estimators=500, min_samples_split=2, max_features=5, max_depth=28, criterion=gini \n",
      "[CV]  n_estimators=1000, min_samples_split=3, max_features=10, max_depth=30, criterion=gini, score=0.0048192771084337345, total= 1.1min\n",
      "[CV] n_estimators=75, min_samples_split=3, max_features=3, max_depth=25, criterion=gini \n",
      "[CV]  n_estimators=1000, min_samples_split=3, max_features=10, max_depth=30, criterion=gini, score=0.011876484560570071, total= 1.1min\n",
      "[CV] n_estimators=75, min_samples_split=3, max_features=3, max_depth=25, criterion=gini \n",
      "[CV]  n_estimators=1000, min_samples_split=3, max_features=10, max_depth=30, criterion=gini, score=0.009535160905840286, total= 1.1min\n",
      "[CV] n_estimators=75, min_samples_split=3, max_features=3, max_depth=25, criterion=gini \n",
      "[CV]  n_estimators=75, min_samples_split=3, max_features=3, max_depth=25, criterion=gini, score=0.0024183796856106408, total=   2.9s\n",
      "[CV] n_estimators=75, min_samples_split=10, max_features=5, max_depth=25, criterion=entropy \n",
      "[CV]  n_estimators=75, min_samples_split=3, max_features=3, max_depth=25, criterion=gini, score=0.0048192771084337345, total=   2.8s\n",
      "[CV] n_estimators=75, min_samples_split=10, max_features=5, max_depth=25, criterion=entropy \n"
     ]
    },
    {
     "name": "stderr",
     "output_type": "stream",
     "text": [
      "[Parallel(n_jobs=-1)]: Done 280 tasks      | elapsed: 40.1min\n"
     ]
    },
    {
     "name": "stdout",
     "output_type": "stream",
     "text": [
      "[CV]  n_estimators=75, min_samples_split=3, max_features=3, max_depth=25, criterion=gini, score=0.004830917874396134, total=   3.0s\n",
      "[CV] n_estimators=75, min_samples_split=10, max_features=5, max_depth=25, criterion=entropy \n",
      "[CV]  n_estimators=75, min_samples_split=10, max_features=5, max_depth=25, criterion=entropy, score=0.0024213075060532684, total=   3.3s\n",
      "[CV] n_estimators=200, min_samples_split=5, max_features=20, max_depth=15, criterion=gini \n",
      "[CV]  n_estimators=75, min_samples_split=10, max_features=5, max_depth=25, criterion=entropy, score=0.0, total=   3.4s\n",
      "[CV] n_estimators=200, min_samples_split=5, max_features=20, max_depth=15, criterion=gini \n",
      "[CV]  n_estimators=75, min_samples_split=10, max_features=5, max_depth=25, criterion=entropy, score=0.0, total=   3.2s\n",
      "[CV] n_estimators=200, min_samples_split=5, max_features=20, max_depth=15, criterion=gini \n",
      "[CV]  n_estimators=500, min_samples_split=2, max_features=5, max_depth=28, criterion=gini, score=0.011848341232227489, total=  24.6s\n",
      "[CV] n_estimators=300, min_samples_split=5, max_features=5, max_depth=30, criterion=gini \n",
      "[CV]  n_estimators=200, min_samples_split=5, max_features=20, max_depth=15, criterion=gini, score=0.014319809069212411, total=  20.1s\n",
      "[CV] n_estimators=300, min_samples_split=5, max_features=5, max_depth=30, criterion=gini \n",
      "[CV]  n_estimators=200, min_samples_split=5, max_features=20, max_depth=15, criterion=gini, score=0.0166073546856465, total=  20.2s\n",
      "[CV] n_estimators=300, min_samples_split=5, max_features=5, max_depth=30, criterion=gini \n",
      "[CV]  n_estimators=200, min_samples_split=5, max_features=20, max_depth=15, criterion=gini, score=0.011904761904761904, total=  20.6s\n",
      "[CV] n_estimators=300, min_samples_split=5, max_features=5, max_depth=30, criterion=entropy \n",
      "[CV]  n_estimators=300, min_samples_split=5, max_features=5, max_depth=30, criterion=gini, score=0.0024242424242424242, total=  14.8s\n",
      "[CV] n_estimators=300, min_samples_split=5, max_features=5, max_depth=30, criterion=entropy \n",
      "[CV]  n_estimators=300, min_samples_split=5, max_features=5, max_depth=30, criterion=gini, score=0.0024183796856106408, total=  13.0s\n",
      "[CV] n_estimators=300, min_samples_split=5, max_features=5, max_depth=30, criterion=entropy \n",
      "[CV]  n_estimators=300, min_samples_split=5, max_features=5, max_depth=30, criterion=gini, score=0.0, total=  13.0s\n",
      "[CV] n_estimators=200, min_samples_split=2, max_features=3, max_depth=28, criterion=entropy \n",
      "[CV]  n_estimators=300, min_samples_split=5, max_features=5, max_depth=30, criterion=entropy, score=0.0024242424242424242, total=  14.0s\n",
      "[CV] n_estimators=200, min_samples_split=2, max_features=3, max_depth=28, criterion=entropy \n",
      "[CV]  n_estimators=300, min_samples_split=5, max_features=5, max_depth=30, criterion=entropy, score=0.0024125452352231603, total=  13.5s\n",
      "[CV] n_estimators=200, min_samples_split=2, max_features=3, max_depth=28, criterion=entropy \n",
      "[CV]  n_estimators=200, min_samples_split=2, max_features=3, max_depth=28, criterion=entropy, score=0.004796163069544364, total=   7.7s\n",
      "[CV] n_estimators=200, min_samples_split=10, max_features=25, max_depth=15, criterion=entropy \n",
      "[CV]  n_estimators=200, min_samples_split=2, max_features=3, max_depth=28, criterion=entropy, score=0.004750593824228029, total=   8.3s\n",
      "[CV] n_estimators=200, min_samples_split=10, max_features=25, max_depth=15, criterion=entropy \n"
     ]
    },
    {
     "name": "stderr",
     "output_type": "stream",
     "text": [
      "/Users/shaked/miniconda3/lib/python3.6/site-packages/sklearn/metrics/classification.py:1135: UndefinedMetricWarning: F-score is ill-defined and being set to 0.0 due to no predicted samples.\n",
      "  'precision', 'predicted', average, warn_for)\n"
     ]
    },
    {
     "name": "stdout",
     "output_type": "stream",
     "text": [
      "[CV]  n_estimators=200, min_samples_split=2, max_features=3, max_depth=28, criterion=entropy, score=0.007142857142857143, total=   7.9s\n",
      "[CV] n_estimators=200, min_samples_split=10, max_features=25, max_depth=15, criterion=entropy \n",
      "[CV]  n_estimators=300, min_samples_split=5, max_features=5, max_depth=30, criterion=entropy, score=0.0, total=  13.4s\n",
      "[CV]  n_estimators=200, min_samples_split=10, max_features=25, max_depth=15, criterion=entropy, score=0.012019230769230768, total=  18.1s\n",
      "[CV]  n_estimators=200, min_samples_split=10, max_features=25, max_depth=15, criterion=entropy, score=0.023837902264600714, total=  18.1s\n",
      "[CV]  n_estimators=200, min_samples_split=10, max_features=25, max_depth=15, criterion=entropy, score=0.014319809069212411, total=  16.3s\n"
     ]
    },
    {
     "name": "stderr",
     "output_type": "stream",
     "text": [
      "[Parallel(n_jobs=-1)]: Done 300 out of 300 | elapsed: 41.3min finished\n"
     ]
    },
    {
     "data": {
      "text/plain": [
       "RandomizedSearchCV(cv=None, error_score='raise',\n",
       "          estimator=RandomForestClassifier(bootstrap=True, class_weight=None, criterion='gini',\n",
       "            max_depth=None, max_features='auto', max_leaf_nodes=None,\n",
       "            min_impurity_decrease=0.0, min_impurity_split=None,\n",
       "            min_samples_leaf=1, min_samples_split=2,\n",
       "            min_weight_fraction_leaf=0.0, n_estimators=10, n_jobs=-1,\n",
       "            oob_score=False, random_state=None, verbose=0,\n",
       "            warm_start=False),\n",
       "          fit_params=None, iid=True, n_iter=100, n_jobs=-1,\n",
       "          param_distributions={'min_samples_split': [2, 3, 5, 10], 'n_estimators': [75, 200, 300, 500, 1000], 'max_depth': [15, 25, 28, 30], 'max_features': [3, 5, 10, 20, 25], 'criterion': ['gini', 'entropy']},\n",
       "          pre_dispatch='2*n_jobs', random_state=None, refit=True,\n",
       "          return_train_score=True, scoring='f1', verbose=10)"
      ]
     },
     "execution_count": 39,
     "metadata": {},
     "output_type": "execute_result"
    }
   ],
   "source": [
    "randomized_search.fit(X_train, y_train)"
   ]
  },
  {
   "cell_type": "code",
   "execution_count": 45,
   "metadata": {},
   "outputs": [
    {
     "data": {
      "text/plain": [
       "RandomForestClassifier(bootstrap=True, class_weight=None, criterion='gini',\n",
       "            max_depth=30, max_features=25, max_leaf_nodes=None,\n",
       "            min_impurity_decrease=0.0, min_impurity_split=None,\n",
       "            min_samples_leaf=1, min_samples_split=2,\n",
       "            min_weight_fraction_leaf=0.0, n_estimators=75, n_jobs=-1,\n",
       "            oob_score=False, random_state=None, verbose=0,\n",
       "            warm_start=False)"
      ]
     },
     "execution_count": 45,
     "metadata": {},
     "output_type": "execute_result"
    }
   ],
   "source": [
    "randomized_search.best_estimator_"
   ]
  },
  {
   "cell_type": "code",
   "execution_count": 59,
   "metadata": {},
   "outputs": [
    {
     "data": {
      "text/plain": [
       "{'n_estimators': 75,\n",
       " 'min_samples_split': 2,\n",
       " 'max_features': 25,\n",
       " 'max_depth': 30,\n",
       " 'criterion': 'gini'}"
      ]
     },
     "execution_count": 59,
     "metadata": {},
     "output_type": "execute_result"
    }
   ],
   "source": [
    "randomized_search.best_params_"
   ]
  },
  {
   "cell_type": "code",
   "execution_count": 42,
   "metadata": {},
   "outputs": [
    {
     "data": {
      "text/plain": [
       "array([0.0268254 , 0.09541789, 0.06666667, ..., 0.        , 0.4       ,\n",
       "       0.        ])"
      ]
     },
     "execution_count": 42,
     "metadata": {},
     "output_type": "execute_result"
    }
   ],
   "source": [
    "prob = randomized_search.predict_proba(X_test)[:,1]\n",
    "prob"
   ]
  },
  {
   "cell_type": "code",
   "execution_count": 46,
   "metadata": {},
   "outputs": [],
   "source": [
    "#thr = np.arange(0.01, 0.2, 0.01)\n",
    "thr = [0.01,0.015, 0.02, 0.03, 0.04, 0.05, 0.06, 0.07, 0.08, 0.09, 0.1,0.15, 0.2, 0.25, 0.3, 0.35]\n",
    "recalls = []\n",
    "precisions = []\n",
    "y_pred = []"
   ]
  },
  {
   "cell_type": "code",
   "execution_count": 47,
   "metadata": {},
   "outputs": [
    {
     "name": "stdout",
     "output_type": "stream",
     "text": [
      "for  0.01\n",
      "recall:  0.9266770670826833\n",
      "precision:  0.0953298025999037\n",
      "[1232 5637   47  594]\n",
      "f1 score:  0.17287543655413268\n",
      "0.5530167982086877\n",
      "for  0.015\n",
      "recall:  0.8814352574102964\n",
      "precision:  0.10053380782918149\n",
      "[1814 5055   76  565]\n",
      "f1 score:  0.18048235106213062\n",
      "0.5727601385319061\n",
      "for  0.02\n",
      "recall:  0.875195007800312\n",
      "precision:  0.10142831314409691\n",
      "[1899 4970   80  561]\n",
      "f1 score:  0.18178872326636422\n",
      "0.5758272316625668\n",
      "for  0.03\n",
      "recall:  0.8190327613104524\n",
      "precision:  0.10636142625607779\n",
      "[2458 4411  116  525]\n",
      "f1 score:  0.1882732651963421\n",
      "0.5884361651944605\n",
      "for  0.04\n",
      "recall:  0.7691107644305772\n",
      "precision:  0.11031550682479302\n",
      "[2893 3976  148  493]\n",
      "f1 score:  0.1929549902152642\n",
      "0.5951391644252173\n",
      "for  0.05\n",
      "recall:  0.7535101404056163\n",
      "precision:  0.1137005649717514\n",
      "[3104 3765  158  483]\n",
      "f1 score:  0.19758641849048883\n",
      "0.6026977110530047\n",
      "for  0.06\n",
      "recall:  0.6911076443057722\n",
      "precision:  0.11694825765575502\n",
      "[3524 3345  198  443]\n",
      "f1 score:  0.20004515692029806\n",
      "0.6020685986851324\n",
      "for  0.07\n",
      "recall:  0.641185647425897\n",
      "precision:  0.12221231043710973\n",
      "[3917 2952  230  411]\n",
      "f1 score:  0.20529470529470528\n",
      "0.6057143843476842\n",
      "for  0.08\n",
      "recall:  0.6053042121684867\n",
      "precision:  0.12593313859136643\n",
      "[4176 2693  253  388]\n",
      "f1 score:  0.20849005910800641\n",
      "0.6066264837229098\n",
      "for  0.09\n",
      "recall:  0.592823712948518\n",
      "precision:  0.1282483968950388\n",
      "[4286 2583  261  380]\n",
      "f1 score:  0.21087680355160932\n",
      "0.6083932220296528\n",
      "for  0.1\n",
      "recall:  0.5553822152886115\n",
      "precision:  0.13408662900188323\n",
      "[4570 2299  285  356]\n",
      "f1 score:  0.21601941747572814\n",
      "0.6103450601847047\n",
      "for  0.15\n",
      "recall:  0.42121684867394693\n",
      "precision:  0.15854374633000587\n",
      "[5436 1433  371  270]\n",
      "f1 score:  0.23037542662116037\n",
      "0.6062992090217892\n",
      "for  0.2\n",
      "recall:  0.296411856474259\n",
      "precision:  0.17790262172284643\n",
      "[5991  878  451  190]\n",
      "f1 score:  0.22235225277940315\n",
      "0.5842956065017969\n",
      "for  0.25\n",
      "recall:  0.2059282371294852\n",
      "precision:  0.1896551724137931\n",
      "[6305  564  509  132]\n",
      "f1 score:  0.19745699326851157\n",
      "0.5619101077917044\n",
      "for  0.3\n",
      "recall:  0.1357254290171607\n",
      "precision:  0.21323529411764705\n",
      "[6548  321  554   87]\n",
      "f1 score:  0.16587225929456628\n",
      "0.5444968679515851\n",
      "for  0.35\n",
      "recall:  0.078003120124805\n",
      "precision:  0.22026431718061673\n",
      "[6692  177  591   50]\n",
      "f1 score:  0.11520737327188942\n",
      "0.5261175885963959\n"
     ]
    }
   ],
   "source": [
    "for t in thr:\n",
    "    y_pred = [1 if x > t else 0 for x in prob]\n",
    "    recall = recall_score(y_test, y_pred)\n",
    "    precision = precision_score(y_test, y_pred)\n",
    "    recalls.append(recall)\n",
    "    precisions.append(precision)\n",
    "    print('for ',t)\n",
    "    print('recall: ', recall_score(y_test, y_pred))\n",
    "    print('precision: ', precision_score(y_test, y_pred))\n",
    "    print(confusion_matrix(y_test, y_pred).ravel())\n",
    "    print('f1 score: ', f1_score(y_test, y_pred))\n",
    "    fpr, tpr, thresholds = metrics.roc_curve(y_test, y_pred)\n",
    "    print(metrics.auc(fpr, tpr))"
   ]
  },
  {
   "cell_type": "code",
   "execution_count": 48,
   "metadata": {},
   "outputs": [],
   "source": [
    "t = 0.015\n",
    "y_pred = [1 if x > t else 0 for x in prob]"
   ]
  },
  {
   "cell_type": "code",
   "execution_count": 97,
   "metadata": {},
   "outputs": [],
   "source": [
    "fpr, tpr, threshold = metrics.roc_curve(y_test, prob)\n",
    "roc_auc = metrics.auc(fpr, tpr)\n"
   ]
  },
  {
   "cell_type": "code",
   "execution_count": 98,
   "metadata": {},
   "outputs": [
    {
     "data": {
      "text/plain": [
       "Text(0.5,15,'False Positive Rate')"
      ]
     },
     "execution_count": 98,
     "metadata": {},
     "output_type": "execute_result"
    },
    {
     "data": {
      "image/png": "[encoded data removed]",
      "text/plain": [
       "<Figure size 432x288 with 1 Axes>"
      ]
     },
     "metadata": {},
     "output_type": "display_data"
    }
   ],
   "source": [
    "plt.title('Predict Depression')\n",
    "plt.plot(fpr, tpr, 'b', label = 'AUC = %0.2f' % roc_auc)\n",
    "plt.legend(loc = 'lower right')\n",
    "plt.plot([0, 1], [0, 1],'r--')\n",
    "plt.xlim([0, 1])\n",
    "plt.ylim([0, 1])\n",
    "plt.ylabel('True Positive Rate')\n",
    "plt.xlabel('False Positive Rate')"
   ]
  },
  {
   "cell_type": "markdown",
   "metadata": {},
   "source": [
    "#Over sampling"
   ]
  },
  {
   "cell_type": "code",
   "execution_count": 62,
   "metadata": {},
   "outputs": [],
   "source": [
    "ros = RandomOverSampler(random_state=42)\n",
    "X_res, y_res = ros.fit_sample(X_train, y_train)"
   ]
  },
  {
   "cell_type": "code",
   "execution_count": 64,
   "metadata": {},
   "outputs": [
    {
     "data": {
      "text/plain": [
       "27566"
      ]
     },
     "execution_count": 64,
     "metadata": {},
     "output_type": "execute_result"
    }
   ],
   "source": [
    "y_res.sum()"
   ]
  },
  {
   "cell_type": "code",
   "execution_count": 65,
   "metadata": {},
   "outputs": [
    {
     "data": {
      "text/plain": [
       "2471"
      ]
     },
     "execution_count": 65,
     "metadata": {},
     "output_type": "execute_result"
    }
   ],
   "source": [
    "y_train.sum()"
   ]
  },
  {
   "cell_type": "markdown",
   "metadata": {},
   "source": [
    "Run Random Forest on X_res, y_res"
   ]
  },
  {
   "cell_type": "code",
   "execution_count": 109,
   "metadata": {},
   "outputs": [],
   "source": [
    "os_clf = RandomForestClassifier(bootstrap=True, class_weight=None, criterion='gini',\n",
    "            max_depth=30, max_features=25, max_leaf_nodes=None,\n",
    "            min_impurity_decrease=0.0, min_impurity_split=None,\n",
    "            min_samples_leaf=1, min_samples_split=2,\n",
    "            min_weight_fraction_leaf=0.0, n_estimators=75, n_jobs=-1,\n",
    "            oob_score=False, random_state=None, verbose=0,\n",
    "            warm_start=False)"
   ]
  },
  {
   "cell_type": "code",
   "execution_count": 110,
   "metadata": {},
   "outputs": [
    {
     "data": {
      "text/plain": [
       "array([0.04      , 0.57943626, 0.02666667, ..., 0.01333333, 0.22666667,\n",
       "       0.01212121])"
      ]
     },
     "execution_count": 110,
     "metadata": {},
     "output_type": "execute_result"
    }
   ],
   "source": [
    "os_clf.fit(X_res, y_res)\n",
    "prob = os_clf.predict_proba(X_test)[:,1]\n",
    "prob"
   ]
  },
  {
   "cell_type": "code",
   "execution_count": 111,
   "metadata": {},
   "outputs": [],
   "source": [
    "thr = np.arange(0.01, 0.2, 0.01)\n",
    "#thr = [0.01, 0.02, 0.03, 0.04, 0.05, 0.06, 0.07, 0.08, 0.09, 0.1,0.15, 0.2, 0.25, 0.3, 0.35]\n",
    "recalls = []\n",
    "precisions = []\n",
    "y_pred = []"
   ]
  },
  {
   "cell_type": "code",
   "execution_count": 112,
   "metadata": {},
   "outputs": [
    {
     "name": "stdout",
     "output_type": "stream",
     "text": [
      "for  0.01\n",
      "recall:  0.9235569422776911\n",
      "precision:  0.0925433797092387\n",
      "[1064 5805   49  592]\n",
      "f1 score:  0.16822961068485365\n",
      "0.5392278815333718\n",
      "for  0.02\n",
      "recall:  0.8845553822152886\n",
      "precision:  0.0970724191063174\n",
      "[1595 5274   74  567]\n",
      "f1 score:  0.17494600431965443\n",
      "0.5583790159001905\n",
      "for  0.03\n",
      "recall:  0.8361934477379095\n",
      "precision:  0.09986957331842743\n",
      "[2038 4831  105  536]\n",
      "f1 score:  0.17842876165113183\n",
      "0.5664443727261392\n",
      "for  0.04\n",
      "recall:  0.797191887675507\n",
      "precision:  0.10346223931970035\n",
      "[2441 4428  130  511]\n",
      "f1 score:  0.18315412186379929\n",
      "0.5762782847898571\n",
      "for  0.05\n",
      "recall:  0.7893915756630265\n",
      "precision:  0.10299206187665377\n",
      "[2462 4407  135  506]\n",
      "f1 score:  0.1822110190853439\n",
      "0.5739067355677194\n",
      "for  0.060000000000000005\n",
      "recall:  0.750390015600624\n",
      "precision:  0.1061575811079232\n",
      "[2819 4050  160  481]\n",
      "f1 score:  0.1860015467904099\n",
      "0.5803922708662604\n",
      "for  0.06999999999999999\n",
      "recall:  0.7160686427457098\n",
      "precision:  0.10980861244019138\n",
      "[3148 3721  182  459]\n",
      "f1 score:  0.19041692594897325\n",
      "0.5871797573897424\n",
      "for  0.08\n",
      "recall:  0.6677067082683308\n",
      "precision:  0.11105345096004152\n",
      "[3443 3426  213  428]\n",
      "f1 score:  0.19043381535038933\n",
      "0.5844720759277306\n",
      "for  0.09\n",
      "recall:  0.6645865834633385\n",
      "precision:  0.11160597327744302\n",
      "[3478 3391  215  426]\n",
      "f1 score:  0.1911170928667564\n",
      "0.5854596914987387\n",
      "for  0.09999999999999999\n",
      "recall:  0.6224648985959438\n",
      "precision:  0.11413043478260869\n",
      "[3772 3097  242  399]\n",
      "f1 score:  0.19289340101522842\n",
      "0.5857993440424762\n",
      "for  0.11\n",
      "recall:  0.5975039001560063\n",
      "precision:  0.11835599505562423\n",
      "[4016 2853  258  383]\n",
      "f1 score:  0.1975754449316482\n",
      "0.5910797998377936\n",
      "for  0.12\n",
      "recall:  0.5585023400936038\n",
      "precision:  0.12025529056096741\n",
      "[4250 2619  283  358]\n",
      "f1 score:  0.1978993919292427\n",
      "0.5886120668294486\n",
      "for  0.13\n",
      "recall:  0.5522620904836193\n",
      "precision:  0.12004069175991862\n",
      "[4274 2595  287  354]\n",
      "f1 score:  0.19721448467966576\n",
      "0.5872389212062877\n",
      "for  0.14\n",
      "recall:  0.5226209048361935\n",
      "precision:  0.1226656902233614\n",
      "[4473 2396  306  335]\n",
      "f1 score:  0.19869513641755635\n",
      "0.5869036974319269\n",
      "for  0.15000000000000002\n",
      "recall:  0.4914196567862715\n",
      "precision:  0.1248513674197384\n",
      "[4661 2208  326  315]\n",
      "f1 score:  0.19911504424778761\n",
      "0.5849877436646455\n",
      "for  0.16\n",
      "recall:  0.46489859594383776\n",
      "precision:  0.1293402777777778\n",
      "[4863 2006  343  298]\n",
      "f1 score:  0.20237691001697794\n",
      "0.5864309546905097\n",
      "for  0.17\n",
      "recall:  0.46021840873634945\n",
      "precision:  0.12944273804300133\n",
      "[4885 1984  346  295]\n",
      "f1 score:  0.20205479452054798\n",
      "0.585692258670111\n",
      "for  0.18000000000000002\n",
      "recall:  0.43369734789391573\n",
      "precision:  0.1325071496663489\n",
      "[5049 1820  363  278]\n",
      "f1 score:  0.20299379335523912\n",
      "0.5843694193247421\n",
      "for  0.19\n",
      "recall:  0.39313572542901715\n",
      "precision:  0.13003095975232198\n",
      "[5183 1686  389  252]\n",
      "f1 score:  0.19542458317177203\n",
      "0.5738425751908516\n"
     ]
    }
   ],
   "source": [
    "for t in thr:\n",
    "    y_pred = [1 if x > t else 0 for x in prob]\n",
    "    recall = recall_score(y_test, y_pred)\n",
    "    precision = precision_score(y_test, y_pred)\n",
    "    recalls.append(recall)\n",
    "    precisions.append(precision)\n",
    "    print('for ',t)\n",
    "    print('recall: ', recall_score(y_test, y_pred))\n",
    "    print('precision: ', precision_score(y_test, y_pred))\n",
    "    print(confusion_matrix(y_test, y_pred).ravel())\n",
    "    print('f1 score: ', f1_score(y_test, y_pred))\n",
    "    fpr, tpr, thresholds = metrics.roc_curve(y_test, y_pred)\n",
    "    print(metrics.auc(fpr, tpr))"
   ]
  },
  {
   "cell_type": "code",
   "execution_count": 94,
   "metadata": {},
   "outputs": [],
   "source": [
    "feature_importances = pd.DataFrame(os_clf.feature_importances_,\n",
    "                                   index = X_train.columns,\n",
    "                                    columns=['importance']).sort_values('importance',ascending=False)"
   ]
  },
  {
   "cell_type": "code",
   "execution_count": 95,
   "metadata": {},
   "outputs": [
    {
     "data": {
      "text/plain": [
       "Index([ 'IRALCFY', 'IRALCAGE',   'SUMAGE', 'IRCIGAGE', 'EDUCCAT2',   'INCOME',\n",
       "       'IRCGRAGE',   'CATAG6',  'IRCIGFM',   'IRMJFY',    'IRSEX', 'NEWRACE2',\n",
       "        'IRANLFY', 'IRSNFAGE', 'ABODILAL', 'DPILLALC',  'IRTRNFY',  'IRHALFY',\n",
       "        'IRCOCFY',    'CIGYR',          2,  'SUMFLAG',  'IRSTMFY',    'CGRYR',\n",
       "        'TOBFLAG',  'IRINHFY',          7,    'ALCYR',    'SUMYR', 'IRCRKAGE',\n",
       "        'SNFFLAG',          5,    'SNFYR',          6,  'IRSEDFY',  'IRHERFY',\n",
       "        'ALCFLAG',          4,          3,  'IRCRKFY',  'CRKFLAG', 'DEPNDMRJ',\n",
       "          'CRKYR'],\n",
       "      dtype='object')"
      ]
     },
     "execution_count": 95,
     "metadata": {},
     "output_type": "execute_result"
    }
   ],
   "source": [
    "feature_importances.index\n"
   ]
  },
  {
   "cell_type": "code",
   "execution_count": 72,
   "metadata": {},
   "outputs": [
    {
     "data": {
      "text/plain": [
       "(55132,)"
      ]
     },
     "execution_count": 72,
     "metadata": {},
     "output_type": "execute_result"
    }
   ],
   "source": [
    "y_res.shape"
   ]
  },
  {
   "cell_type": "code",
   "execution_count": 113,
   "metadata": {},
   "outputs": [
    {
     "data": {
      "text/plain": [
       "(55132, 43)"
      ]
     },
     "execution_count": 113,
     "metadata": {},
     "output_type": "execute_result"
    }
   ],
   "source": [
    "X_res.shape"
   ]
  },
  {
   "cell_type": "code",
   "execution_count": 114,
   "metadata": {},
   "outputs": [],
   "source": [
    "fpr, tpr, threshold = metrics.roc_curve(y_test, prob)\n",
    "roc_auc = metrics.auc(fpr, tpr)"
   ]
  },
  {
   "cell_type": "code",
   "execution_count": 115,
   "metadata": {},
   "outputs": [
    {
     "data": {
      "text/plain": [
       "Text(0.5,15,'False Positive Rate')"
      ]
     },
     "execution_count": 115,
     "metadata": {},
     "output_type": "execute_result"
    },
    {
     "data": {
      "image/png": "[encoded data removed]",
      "text/plain": [
       "<Figure size 432x288 with 1 Axes>"
      ]
     },
     "metadata": {},
     "output_type": "display_data"
    }
   ],
   "source": [
    "plt.title('Predict Depression')\n",
    "plt.plot(fpr, tpr, 'b', label = 'AUC = %0.2f' % roc_auc)\n",
    "plt.legend(loc = 'lower right')\n",
    "plt.plot([0, 1], [0, 1],'r--')\n",
    "plt.xlim([0, 1])\n",
    "plt.ylim([0, 1])\n",
    "plt.ylabel('True Positive Rate')\n",
    "plt.xlabel('False Positive Rate')"
   ]
  },
  {
   "cell_type": "markdown",
   "metadata": {},
   "source": [
    "Over sampling + GradientBoosting "
   ]
  },
  {
   "cell_type": "code",
   "execution_count": 116,
   "metadata": {},
   "outputs": [],
   "source": [
    "gb_gs = GradientBoostingClassifier(n_estimators = 1700, \n",
    "                                   learning_rate=0.005, max_depth=7, max_features=9,\n",
    "                                   min_samples_split=2000, min_samples_leaf=50, subsample=0.85)"
   ]
  },
  {
   "cell_type": "code",
   "execution_count": 117,
   "metadata": {},
   "outputs": [
    {
     "data": {
      "text/plain": [
       "GradientBoostingClassifier(criterion='friedman_mse', init=None,\n",
       "              learning_rate=0.005, loss='deviance', max_depth=7,\n",
       "              max_features=9, max_leaf_nodes=None,\n",
       "              min_impurity_decrease=0.0, min_impurity_split=None,\n",
       "              min_samples_leaf=50, min_samples_split=2000,\n",
       "              min_weight_fraction_leaf=0.0, n_estimators=1700,\n",
       "              presort='auto', random_state=None, subsample=0.85, verbose=0,\n",
       "              warm_start=False)"
      ]
     },
     "execution_count": 117,
     "metadata": {},
     "output_type": "execute_result"
    }
   ],
   "source": [
    "gb_gs.fit(X_res, y_res)"
   ]
  },
  {
   "cell_type": "code",
   "execution_count": 118,
   "metadata": {},
   "outputs": [
    {
     "data": {
      "text/plain": [
       "array([0.52539781, 0.34344694, 0.27322845, ..., 0.22532553, 0.74148674,\n",
       "       0.33844117])"
      ]
     },
     "execution_count": 118,
     "metadata": {},
     "output_type": "execute_result"
    }
   ],
   "source": [
    "prob = gb_gs.predict_proba(X_test)[:,1]\n",
    "prob"
   ]
  },
  {
   "cell_type": "code",
   "execution_count": 119,
   "metadata": {},
   "outputs": [],
   "source": [
    "\n",
    "thr = [0.2, 0.25, 0.3, 0.33, 0.35, 0.40, 0.5]\n",
    "recalls = []\n",
    "precisions = []\n",
    "y_pred = []"
   ]
  },
  {
   "cell_type": "code",
   "execution_count": 120,
   "metadata": {},
   "outputs": [
    {
     "name": "stdout",
     "output_type": "stream",
     "text": [
      "for  0.2\n",
      "recall:  0.9656786271450858\n",
      "precision:  0.09057652911911034\n",
      "[ 654 6215   22  619]\n",
      "f1 score:  0.16561872909698996\n",
      "0.530444496277449\n",
      "for  0.25\n",
      "recall:  0.9375975039001561\n",
      "precision:  0.09671709044093982\n",
      "[1256 5613   40  601]\n",
      "f1 score:  0.175346462436178\n",
      "0.5602239957992554\n",
      "for  0.3\n",
      "recall:  0.9017160686427457\n",
      "precision:  0.10505270810614321\n",
      "[1945 4924   63  578]\n",
      "f1 score:  0.18818167019371643\n",
      "0.5924361388489605\n",
      "for  0.33\n",
      "recall:  0.8642745709828393\n",
      "precision:  0.11027070063694268\n",
      "[2399 4470   87  554]\n",
      "f1 score:  0.19558693733451016\n",
      "0.6067624128753184\n",
      "for  0.35\n",
      "recall:  0.8299531981279251\n",
      "precision:  0.11463046757164404\n",
      "[2760 4109  109  532]\n",
      "f1 score:  0.2014388489208633\n",
      "0.6158792049745754\n",
      "for  0.4\n",
      "recall:  0.7535101404056163\n",
      "precision:  0.12914438502673797\n",
      "[3612 3257  158  483]\n",
      "f1 score:  0.2204976032869208\n",
      "0.6396754370684363\n",
      "for  0.5\n",
      "recall:  0.5538221528861155\n",
      "precision:  0.15701017249004864\n",
      "[4963 1906  286  355]\n",
      "f1 score:  0.2446588559614059\n",
      "0.6381718130859462\n"
     ]
    }
   ],
   "source": [
    "for t in thr:\n",
    "    y_pred = [1 if x > t else 0 for x in prob]\n",
    "    recall = recall_score(y_test, y_pred)\n",
    "    precision = precision_score(y_test, y_pred)\n",
    "    recalls.append(recall)\n",
    "    precisions.append(precision)\n",
    "    print('for ',t)\n",
    "    print('recall: ', recall_score(y_test, y_pred))\n",
    "    print('precision: ', precision_score(y_test, y_pred))\n",
    "    print(confusion_matrix(y_test, y_pred).ravel())\n",
    "    print('f1 score: ', f1_score(y_test, y_pred))\n",
    "    fpr, tpr, thresholds = metrics.roc_curve(y_test, y_pred)\n",
    "    print(metrics.auc(fpr, tpr))"
   ]
  },
  {
   "cell_type": "code",
   "execution_count": 83,
   "metadata": {},
   "outputs": [],
   "source": [
    "t = 0.3\n",
    "y_pred = [1 if x > t else 0 for x in prob]"
   ]
  },
  {
   "cell_type": "code",
   "execution_count": 124,
   "metadata": {},
   "outputs": [],
   "source": [
    "fpr, tpr, threshold = metrics.roc_curve(y_test, prob)\n",
    "roc_auc = metrics.auc(fpr, tpr)"
   ]
  },
  {
   "cell_type": "code",
   "execution_count": 125,
   "metadata": {},
   "outputs": [
    {
     "data": {
      "text/plain": [
       "Text(0.5,15,'False Positive Rate')"
      ]
     },
     "execution_count": 125,
     "metadata": {},
     "output_type": "execute_result"
    },
    {
     "data": {
      "image/png": "[encoded data removed]",
      "text/plain": [
       "<Figure size 432x288 with 1 Axes>"
      ]
     },
     "metadata": {},
     "output_type": "display_data"
    }
   ],
   "source": [
    "plt.title('Predict Depression')\n",
    "plt.plot(fpr, tpr, 'b', label = 'AUC = %0.2f' % roc_auc)\n",
    "plt.legend(loc = 'lower right')\n",
    "plt.plot([0, 1], [0, 1],'r--')\n",
    "plt.xlim([0, 1])\n",
    "plt.ylim([0, 1])\n",
    "plt.ylabel('True Positive Rate')\n",
    "plt.xlabel('False Positive Rate')"
   ]
  },
  {
   "cell_type": "code",
   "execution_count": 92,
   "metadata": {},
   "outputs": [
    {
     "data": {
      "text/plain": [
       "'Resampled dataset shape Counter({0: 27566, 1: 27566})'"
      ]
     },
     "execution_count": 92,
     "metadata": {},
     "output_type": "execute_result"
    }
   ],
   "source": [
    "'Resampled dataset shape {}'.format(Counter(y_res))"
   ]
  }
 ],
 "metadata": {
  "kernelspec": {
   "display_name": "Python 3",
   "language": "python",
   "name": "python3"
  },
  "language_info": {
   "codemirror_mode": {
    "name": "ipython",
    "version": 3
   },
   "file_extension": ".py",
   "mimetype": "text/x-python",
   "name": "python",
   "nbconvert_exporter": "python",
   "pygments_lexer": "ipython3",
   "version": "3.6.5"
  }
 },
 "nbformat": 4,
 "nbformat_minor": 2
}

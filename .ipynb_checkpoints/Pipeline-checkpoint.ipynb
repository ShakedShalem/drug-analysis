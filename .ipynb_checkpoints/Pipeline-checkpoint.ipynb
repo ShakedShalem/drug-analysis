{
 "cells": [
  {
   "cell_type": "code",
   "execution_count": null,
   "metadata": {},
   "outputs": [],
   "source": [
    "import pandas as pd\n",
    "import numpy as np\n",
    "import seaborn as sns\n",
    "import matplotlib.pyplot as plt\n",
    "from sklearn.model_selection import train_test_split\n",
    "from sklearn.ensemble import RandomForestClassifier\n",
    "\n",
    "%run code.py"
   ]
  },
  {
   "cell_type": "code",
   "execution_count": 21,
   "metadata": {},
   "outputs": [
    {
     "data": {
      "text/plain": [
       "(37547, 74)"
      ]
     },
     "execution_count": 21,
     "metadata": {},
     "output_type": "execute_result"
    }
   ],
   "source": [
    "X.shape"
   ]
  },
  {
   "cell_type": "code",
   "execution_count": 22,
   "metadata": {},
   "outputs": [
    {
     "data": {
      "text/plain": [
       "(37547,)"
      ]
     },
     "execution_count": 22,
     "metadata": {},
     "output_type": "execute_result"
    }
   ],
   "source": [
    "y.shape"
   ]
  },
  {
   "cell_type": "code",
   "execution_count": 7,
   "metadata": {},
   "outputs": [],
   "source": [
    "from sklearn.feature_selection import chi2\n",
    "from sklearn.feature_selection import SelectKBest"
   ]
  },
  {
   "cell_type": "code",
   "execution_count": 13,
   "metadata": {},
   "outputs": [],
   "source": [
    "X.drop(columns='NDSSANSP', inplace=True)"
   ]
  },
  {
   "cell_type": "code",
   "execution_count": 25,
   "metadata": {},
   "outputs": [
    {
     "ename": "TypeError",
     "evalue": "The score function should be a callable, (array([1.667e+04, 2.928e+04, 9.487e+02, 8.078e+01, 6.086e+01, 2.228e+03,\n       1.952e+02, 1.660e+04, 8.309e+03, 2.396e+03, 1.454e+02, 2.467e+03,\n       1.564e+02, 2.355e+01, 4.152e+00, 7.392e+00, 1.476e+02, 3.589e+01,\n       2.178e+01, 1.455e+01, 6.285e+01, 2.715e+01, 2.471e+02, 2.720e+02,\n       1.264e+02, 6.366e+01, 6.249e+04, 2.173e+04, 3.258e-01, 4.085e+04,\n       1.487e+05, 2.634e+04, 6.145e+03, 1.755e+03, 4.541e+04, 1.755e+04,\n       8.363e+04, 5.343e+04, 2.195e+04, 2.378e+03, 2.127e+02, 4.982e+02,\n       1.492e+02, 9.861e+01, 9.484e+01, 1.426e+01, 6.615e+00, 9.367e+01,\n       6.607e+01, 1.253e+02, 1.348e+02, 5.941e+02, 4.369e+01, 2.939e+01,\n       4.957e+02, 3.561e+01, 3.678e+01, 1.426e-03, 6.807e+00, 1.537e+02,\n       1.534e+02, 1.702e+02, 8.838e+01, 2.230e+02, 1.840e+02, 3.773e+02,\n       4.423e+02, 2.439e+02, 1.187e+02, 1.793e+00, 2.764e+01, 3.619e+00,\n       4.076e+01, 5.822e+01]), array([0.000e+000, 0.000e+000, 2.498e-208, 2.519e-019, 6.127e-015,\n       0.000e+000, 2.327e-044, 0.000e+000, 0.000e+000, 0.000e+000,\n       1.737e-033, 0.000e+000, 6.886e-036, 1.219e-006, 4.159e-002,\n       6.552e-003, 5.926e-034, 2.084e-009, 3.052e-006, 1.367e-004,\n       2.233e-015, 1.881e-007, 1.103e-055, 4.237e-061, 2.566e-029,\n       1.481e-015, 0.000e+000, 0.000e+000, 5.682e-001, 0.000e+000,\n       0.000e+000, 0.000e+000, 0.000e+000, 0.000e+000, 0.000e+000,\n       0.000e+000, 0.000e+000, 0.000e+000, 0.000e+000, 0.000e+000,\n       3.524e-048, 2.391e-110, 2.621e-034, 3.073e-023, 2.065e-022,\n       1.593e-004, 1.011e-002, 3.719e-022, 4.344e-016, 4.312e-029,\n       3.617e-031, 3.270e-131, 3.854e-011, 5.907e-008, 8.173e-110,\n       2.413e-009, 1.325e-009, 9.699e-001, 9.082e-003, 2.667e-035,\n       3.103e-035, 6.656e-039, 5.413e-021, 2.032e-050, 6.406e-042,\n       4.860e-084, 3.427e-098, 5.500e-055, 1.206e-027, 1.806e-001,\n       1.462e-007, 5.711e-002, 1.724e-010, 2.349e-014])) (<class 'tuple'>) was passed.",
     "output_type": "error",
     "traceback": [
      "\u001b[0;31m---------------------------------------------------------------------------\u001b[0m",
      "\u001b[0;31mTypeError\u001b[0m                                 Traceback (most recent call last)",
      "\u001b[0;32m<ipython-input-25-61b00a34b58d>\u001b[0m in \u001b[0;36m<module>\u001b[0;34m()\u001b[0m\n\u001b[1;32m      1\u001b[0m \u001b[0mchi2_selector\u001b[0m \u001b[0;34m=\u001b[0m \u001b[0mSelectKBest\u001b[0m\u001b[0;34m(\u001b[0m\u001b[0mchi2\u001b[0m\u001b[0;34m,\u001b[0m \u001b[0mk\u001b[0m\u001b[0;34m=\u001b[0m\u001b[0;36m10\u001b[0m\u001b[0;34m)\u001b[0m\u001b[0;34m\u001b[0m\u001b[0m\n\u001b[0;32m----> 2\u001b[0;31m \u001b[0mX_kbest\u001b[0m \u001b[0;34m=\u001b[0m \u001b[0mchi2_selector\u001b[0m\u001b[0;34m.\u001b[0m\u001b[0mfit_transform\u001b[0m\u001b[0;34m(\u001b[0m\u001b[0mX\u001b[0m\u001b[0;34m,\u001b[0m \u001b[0my\u001b[0m\u001b[0;34m)\u001b[0m\u001b[0;34m\u001b[0m\u001b[0m\n\u001b[0m",
      "\u001b[0;32m~/miniconda3/lib/python3.6/site-packages/sklearn/base.py\u001b[0m in \u001b[0;36mfit_transform\u001b[0;34m(self, X, y, **fit_params)\u001b[0m\n\u001b[1;32m    518\u001b[0m         \u001b[0;32melse\u001b[0m\u001b[0;34m:\u001b[0m\u001b[0;34m\u001b[0m\u001b[0m\n\u001b[1;32m    519\u001b[0m             \u001b[0;31m# fit method of arity 2 (supervised transformation)\u001b[0m\u001b[0;34m\u001b[0m\u001b[0;34m\u001b[0m\u001b[0m\n\u001b[0;32m--> 520\u001b[0;31m             \u001b[0;32mreturn\u001b[0m \u001b[0mself\u001b[0m\u001b[0;34m.\u001b[0m\u001b[0mfit\u001b[0m\u001b[0;34m(\u001b[0m\u001b[0mX\u001b[0m\u001b[0;34m,\u001b[0m \u001b[0my\u001b[0m\u001b[0;34m,\u001b[0m \u001b[0;34m**\u001b[0m\u001b[0mfit_params\u001b[0m\u001b[0;34m)\u001b[0m\u001b[0;34m.\u001b[0m\u001b[0mtransform\u001b[0m\u001b[0;34m(\u001b[0m\u001b[0mX\u001b[0m\u001b[0;34m)\u001b[0m\u001b[0;34m\u001b[0m\u001b[0m\n\u001b[0m\u001b[1;32m    521\u001b[0m \u001b[0;34m\u001b[0m\u001b[0m\n\u001b[1;32m    522\u001b[0m \u001b[0;34m\u001b[0m\u001b[0m\n",
      "\u001b[0;32m~/miniconda3/lib/python3.6/site-packages/sklearn/feature_selection/univariate_selection.py\u001b[0m in \u001b[0;36mfit\u001b[0;34m(self, X, y)\u001b[0m\n\u001b[1;32m    344\u001b[0m             raise TypeError(\"The score function should be a callable, %s (%s) \"\n\u001b[1;32m    345\u001b[0m                             \u001b[0;34m\"was passed.\"\u001b[0m\u001b[0;34m\u001b[0m\u001b[0m\n\u001b[0;32m--> 346\u001b[0;31m                             % (self.score_func, type(self.score_func)))\n\u001b[0m\u001b[1;32m    347\u001b[0m \u001b[0;34m\u001b[0m\u001b[0m\n\u001b[1;32m    348\u001b[0m         \u001b[0mself\u001b[0m\u001b[0;34m.\u001b[0m\u001b[0m_check_params\u001b[0m\u001b[0;34m(\u001b[0m\u001b[0mX\u001b[0m\u001b[0;34m,\u001b[0m \u001b[0my\u001b[0m\u001b[0;34m)\u001b[0m\u001b[0;34m\u001b[0m\u001b[0m\n",
      "\u001b[0;31mTypeError\u001b[0m: The score function should be a callable, (array([1.667e+04, 2.928e+04, 9.487e+02, 8.078e+01, 6.086e+01, 2.228e+03,\n       1.952e+02, 1.660e+04, 8.309e+03, 2.396e+03, 1.454e+02, 2.467e+03,\n       1.564e+02, 2.355e+01, 4.152e+00, 7.392e+00, 1.476e+02, 3.589e+01,\n       2.178e+01, 1.455e+01, 6.285e+01, 2.715e+01, 2.471e+02, 2.720e+02,\n       1.264e+02, 6.366e+01, 6.249e+04, 2.173e+04, 3.258e-01, 4.085e+04,\n       1.487e+05, 2.634e+04, 6.145e+03, 1.755e+03, 4.541e+04, 1.755e+04,\n       8.363e+04, 5.343e+04, 2.195e+04, 2.378e+03, 2.127e+02, 4.982e+02,\n       1.492e+02, 9.861e+01, 9.484e+01, 1.426e+01, 6.615e+00, 9.367e+01,\n       6.607e+01, 1.253e+02, 1.348e+02, 5.941e+02, 4.369e+01, 2.939e+01,\n       4.957e+02, 3.561e+01, 3.678e+01, 1.426e-03, 6.807e+00, 1.537e+02,\n       1.534e+02, 1.702e+02, 8.838e+01, 2.230e+02, 1.840e+02, 3.773e+02,\n       4.423e+02, 2.439e+02, 1.187e+02, 1.793e+00, 2.764e+01, 3.619e+00,\n       4.076e+01, 5.822e+01]), array([0.000e+000, 0.000e+000, 2.498e-208, 2.519e-019, 6.127e-015,\n       0.000e+000, 2.327e-044, 0.000e+000, 0.000e+000, 0.000e+000,\n       1.737e-033, 0.000e+000, 6.886e-036, 1.219e-006, 4.159e-002,\n       6.552e-003, 5.926e-034, 2.084e-009, 3.052e-006, 1.367e-004,\n       2.233e-015, 1.881e-007, 1.103e-055, 4.237e-061, 2.566e-029,\n       1.481e-015, 0.000e+000, 0.000e+000, 5.682e-001, 0.000e+000,\n       0.000e+000, 0.000e+000, 0.000e+000, 0.000e+000, 0.000e+000,\n       0.000e+000, 0.000e+000, 0.000e+000, 0.000e+000, 0.000e+000,\n       3.524e-048, 2.391e-110, 2.621e-034, 3.073e-023, 2.065e-022,\n       1.593e-004, 1.011e-002, 3.719e-022, 4.344e-016, 4.312e-029,\n       3.617e-031, 3.270e-131, 3.854e-011, 5.907e-008, 8.173e-110,\n       2.413e-009, 1.325e-009, 9.699e-001, 9.082e-003, 2.667e-035,\n       3.103e-035, 6.656e-039, 5.413e-021, 2.032e-050, 6.406e-042,\n       4.860e-084, 3.427e-098, 5.500e-055, 1.206e-027, 1.806e-001,\n       1.462e-007, 5.711e-002, 1.724e-010, 2.349e-014])) (<class 'tuple'>) was passed."
     ]
    }
   ],
   "source": [
    "chi2_selector = SelectKBest(chi2, k=10)\n",
    "X_kbest = chi2_selector.fit_transform(X, y)"
   ]
  },
  {
   "cell_type": "code",
   "execution_count": null,
   "metadata": {},
   "outputs": [],
   "source": []
  }
 ],
 "metadata": {
  "kernelspec": {
   "display_name": "Python 3",
   "language": "python",
   "name": "python3"
  },
  "language_info": {
   "codemirror_mode": {
    "name": "ipython",
    "version": 3
   },
   "file_extension": ".py",
   "mimetype": "text/x-python",
   "name": "python",
   "nbconvert_exporter": "python",
   "pygments_lexer": "ipython3",
   "version": "3.6.5"
  }
 },
 "nbformat": 4,
 "nbformat_minor": 2
}

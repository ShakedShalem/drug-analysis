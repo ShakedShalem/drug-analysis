{
 "cells": [
  {
   "cell_type": "code",
   "execution_count": 1,
   "metadata": {},
   "outputs": [],
   "source": [
    "import pandas as pd\n",
    "import numpy as np\n",
    "import seaborn as sns\n",
    "import matplotlib.pyplot as plt\n",
    "sns.set(style=\"ticks\", color_codes=True)\n",
    "from sklearn.linear_model import LogisticRegression"
   ]
  },
  {
   "cell_type": "code",
   "execution_count": 2,
   "metadata": {},
   "outputs": [],
   "source": [
    "df = pd.read_csv('data/druguse.tsv', sep='\\t')"
   ]
  },
  {
   "cell_type": "code",
   "execution_count": 4,
   "metadata": {},
   "outputs": [
    {
     "data": {
      "text/html": [
       "<div>\n",
       "<style scoped>\n",
       "    .dataframe tbody tr th:only-of-type {\n",
       "        vertical-align: middle;\n",
       "    }\n",
       "\n",
       "    .dataframe tbody tr th {\n",
       "        vertical-align: top;\n",
       "    }\n",
       "\n",
       "    .dataframe thead th {\n",
       "        text-align: right;\n",
       "    }\n",
       "</style>\n",
       "<table border=\"1\" class=\"dataframe\">\n",
       "  <thead>\n",
       "    <tr style=\"text-align: right;\">\n",
       "      <th></th>\n",
       "      <th>CASEID</th>\n",
       "      <th>QUESTID2</th>\n",
       "      <th>CIGEVER</th>\n",
       "      <th>CIGOFRSM</th>\n",
       "      <th>CIGWILYR</th>\n",
       "      <th>CIGTRY</th>\n",
       "      <th>CIGYFU</th>\n",
       "      <th>CIGMFU</th>\n",
       "      <th>CIGREC</th>\n",
       "      <th>CIG30USE</th>\n",
       "      <th>...</th>\n",
       "      <th>IIEMPSTY</th>\n",
       "      <th>II2EMSTY</th>\n",
       "      <th>EMPSTAT4</th>\n",
       "      <th>IIEMPST4</th>\n",
       "      <th>II2EMST4</th>\n",
       "      <th>PDEN00</th>\n",
       "      <th>COUTYP2</th>\n",
       "      <th>ANALWT_C</th>\n",
       "      <th>VESTR</th>\n",
       "      <th>VEREP</th>\n",
       "    </tr>\n",
       "  </thead>\n",
       "  <tbody>\n",
       "    <tr>\n",
       "      <th>0</th>\n",
       "      <td>1</td>\n",
       "      <td>50886467</td>\n",
       "      <td>2</td>\n",
       "      <td>4</td>\n",
       "      <td>4</td>\n",
       "      <td>991</td>\n",
       "      <td>9991</td>\n",
       "      <td>91</td>\n",
       "      <td>91</td>\n",
       "      <td>91</td>\n",
       "      <td>...</td>\n",
       "      <td>1</td>\n",
       "      <td>1</td>\n",
       "      <td>99</td>\n",
       "      <td>9</td>\n",
       "      <td>9</td>\n",
       "      <td>2</td>\n",
       "      <td>2</td>\n",
       "      <td>1275.597449</td>\n",
       "      <td>30054</td>\n",
       "      <td>2</td>\n",
       "    </tr>\n",
       "    <tr>\n",
       "      <th>1</th>\n",
       "      <td>2</td>\n",
       "      <td>13766883</td>\n",
       "      <td>2</td>\n",
       "      <td>99</td>\n",
       "      <td>99</td>\n",
       "      <td>991</td>\n",
       "      <td>9991</td>\n",
       "      <td>91</td>\n",
       "      <td>91</td>\n",
       "      <td>91</td>\n",
       "      <td>...</td>\n",
       "      <td>1</td>\n",
       "      <td>1</td>\n",
       "      <td>1</td>\n",
       "      <td>1</td>\n",
       "      <td>1</td>\n",
       "      <td>2</td>\n",
       "      <td>2</td>\n",
       "      <td>5191.071173</td>\n",
       "      <td>30031</td>\n",
       "      <td>1</td>\n",
       "    </tr>\n",
       "    <tr>\n",
       "      <th>2</th>\n",
       "      <td>3</td>\n",
       "      <td>17772877</td>\n",
       "      <td>2</td>\n",
       "      <td>99</td>\n",
       "      <td>99</td>\n",
       "      <td>991</td>\n",
       "      <td>9991</td>\n",
       "      <td>91</td>\n",
       "      <td>91</td>\n",
       "      <td>91</td>\n",
       "      <td>...</td>\n",
       "      <td>1</td>\n",
       "      <td>1</td>\n",
       "      <td>1</td>\n",
       "      <td>1</td>\n",
       "      <td>1</td>\n",
       "      <td>3</td>\n",
       "      <td>3</td>\n",
       "      <td>419.742011</td>\n",
       "      <td>30056</td>\n",
       "      <td>2</td>\n",
       "    </tr>\n",
       "    <tr>\n",
       "      <th>3</th>\n",
       "      <td>4</td>\n",
       "      <td>45622817</td>\n",
       "      <td>1</td>\n",
       "      <td>99</td>\n",
       "      <td>99</td>\n",
       "      <td>13</td>\n",
       "      <td>9999</td>\n",
       "      <td>99</td>\n",
       "      <td>2</td>\n",
       "      <td>93</td>\n",
       "      <td>...</td>\n",
       "      <td>1</td>\n",
       "      <td>1</td>\n",
       "      <td>2</td>\n",
       "      <td>1</td>\n",
       "      <td>1</td>\n",
       "      <td>2</td>\n",
       "      <td>2</td>\n",
       "      <td>1449.303889</td>\n",
       "      <td>30054</td>\n",
       "      <td>1</td>\n",
       "    </tr>\n",
       "    <tr>\n",
       "      <th>4</th>\n",
       "      <td>5</td>\n",
       "      <td>17239390</td>\n",
       "      <td>1</td>\n",
       "      <td>99</td>\n",
       "      <td>99</td>\n",
       "      <td>11</td>\n",
       "      <td>9999</td>\n",
       "      <td>99</td>\n",
       "      <td>4</td>\n",
       "      <td>93</td>\n",
       "      <td>...</td>\n",
       "      <td>1</td>\n",
       "      <td>1</td>\n",
       "      <td>1</td>\n",
       "      <td>1</td>\n",
       "      <td>1</td>\n",
       "      <td>1</td>\n",
       "      <td>1</td>\n",
       "      <td>15344.293577</td>\n",
       "      <td>30012</td>\n",
       "      <td>2</td>\n",
       "    </tr>\n",
       "  </tbody>\n",
       "</table>\n",
       "<p>5 rows × 3120 columns</p>\n",
       "</div>"
      ],
      "text/plain": [
       "   CASEID  QUESTID2  CIGEVER  CIGOFRSM  CIGWILYR  CIGTRY  CIGYFU  CIGMFU  \\\n",
       "0       1  50886467        2         4         4     991    9991      91   \n",
       "1       2  13766883        2        99        99     991    9991      91   \n",
       "2       3  17772877        2        99        99     991    9991      91   \n",
       "3       4  45622817        1        99        99      13    9999      99   \n",
       "4       5  17239390        1        99        99      11    9999      99   \n",
       "\n",
       "   CIGREC  CIG30USE  ...    IIEMPSTY  II2EMSTY  EMPSTAT4  IIEMPST4  II2EMST4  \\\n",
       "0      91        91  ...           1         1        99         9         9   \n",
       "1      91        91  ...           1         1         1         1         1   \n",
       "2      91        91  ...           1         1         1         1         1   \n",
       "3       2        93  ...           1         1         2         1         1   \n",
       "4       4        93  ...           1         1         1         1         1   \n",
       "\n",
       "   PDEN00  COUTYP2      ANALWT_C  VESTR  VEREP  \n",
       "0       2        2   1275.597449  30054      2  \n",
       "1       2        2   5191.071173  30031      1  \n",
       "2       3        3    419.742011  30056      2  \n",
       "3       2        2   1449.303889  30054      1  \n",
       "4       1        1  15344.293577  30012      2  \n",
       "\n",
       "[5 rows x 3120 columns]"
      ]
     },
     "execution_count": 4,
     "metadata": {},
     "output_type": "execute_result"
    }
   ],
   "source": [
    "df.head()"
   ]
  },
  {
   "cell_type": "code",
   "execution_count": null,
   "metadata": {},
   "outputs": [],
   "source": [
    "#HALLUCINOGENS\n",
    "\n",
    "hall = ['HALFLAG', 'HALYR', 'HALMON', 'LSDFLAG', 'LSDYR', 'LSDMON', 'PCPFLAG', 'PCPYR', 'PCPMON', 'ECSFLAG', 'ECSYR', 'ECSMON', 'PEYOTE2', 'MESC2', 'PSILCY2', 'HALYDAYS', 'HALMDAYS', 'FUHAL18', 'FUHAL21', 'FULSD18', 'FULSD21', 'FUPCP18', 'FUPCP21', 'FUECS18', 'FUECS21', 'LSLAST', 'TOTHALL']\n"
   ]
  },
  {
   "cell_type": "code",
   "execution_count": null,
   "metadata": {},
   "outputs": [],
   "source": [
    "halldf = df[['HALFLAG', 'HALYR', 'HALMON', 'LSDFLAG', 'LSDYR', 'LSDMON', 'PCPFLAG', 'PCPYR', 'PCPMON', 'ECSFLAG', 'ECSYR', 'ECSMON', 'PEYOTE2', 'MESC2', 'PSILCY2', 'HALYDAYS', 'HALMDAYS', 'FUHAL18', 'FUHAL21', 'FULSD18', 'FULSD21', 'FUPCP18', 'FUPCP21', 'FUECS18', 'FUECS21', 'LSLAST', 'TOTHALL']].copy()"
   ]
  },
  {
   "cell_type": "code",
   "execution_count": 3,
   "metadata": {},
   "outputs": [],
   "source": [
    "#Tabacco vs. Depression\n",
    "ever_used = df[['CIGFLAG', 'AMDELT']]\n",
    "cig_dep = ever_used[ever_used.AMDELT > 0]\n",
    "cig_yes_dep_yes = cig_dep[(cig_dep.CIGFLAG == 1) & (cig_dep.AMDELT == 1)]\n",
    "cig_yes_dep_no = cig_dep[(cig_dep.CIGFLAG == 1) & (cig_dep.AMDELT == 2)]\n",
    "cig = len(cig_yes_dep_yes) + len(cig_yes_dep_no)\n",
    "cig_yes_dep_yes_percent = len(cig_yes_dep_yes) / cig\n",
    "cig_no_dep_yes = cig_dep[(cig_dep.CIGFLAG == 0) & (cig_dep.AMDELT == 1)]\n",
    "cig_no_dep_no = cig_dep[(cig_dep.CIGFLAG == 0) & (cig_dep.AMDELT == 2)]\n",
    "no_cig = len(cig_no_dep_no) + len(cig_no_dep_yes)\n",
    "cig_no_dep_yes_percent = len(cig_no_dep_yes) / no_cig "
   ]
  },
  {
   "cell_type": "code",
   "execution_count": 14,
   "metadata": {},
   "outputs": [
    {
     "data": {
      "text/plain": [
       "CIGFLAG  AMDELT\n",
       "0        1          1476\n",
       "         2         11625\n",
       "1        1          4110\n",
       "         2         20380\n",
       "dtype: int64"
      ]
     },
     "execution_count": 14,
     "metadata": {},
     "output_type": "execute_result"
    }
   ],
   "source": [
    "grouped = cig_dep.groupby(['CIGFLAG', 'AMDELT'])\n",
    "grouped.size()"
   ]
  },
  {
   "cell_type": "code",
   "execution_count": 15,
   "metadata": {},
   "outputs": [],
   "source": [
    "#Alcohol vs. Depression\n",
    "ever_used = df[['ALCFLAG', 'AMDELT']]\n",
    "alc_dep = ever_used[ever_used.AMDELT > 0]\n",
    "alc_yes_dep_yes = alc_dep[(alc_dep.ALCFLAG == 1) & (alc_dep.AMDELT == 1)]\n",
    "alc_yes_dep_no = alc_dep[(alc_dep.ALCFLAG == 1) & (alc_dep.AMDELT == 2)]\n",
    "alc = len(alc_yes_dep_yes) + len(alc_yes_dep_no)\n",
    "alc_yes_dep_yes_percent = len(alc_yes_dep_yes) / alc\n",
    "alc_no_dep_yes = alc_dep[(alc_dep.ALCFLAG == 0) & (alc_dep.AMDELT == 1)]\n",
    "alc_no_dep_no = alc_dep[(alc_dep.ALCFLAG == 0) & (alc_dep.AMDELT == 2)]\n",
    "no_alc = len(alc_no_dep_no) + len(alc_no_dep_yes)\n",
    "alc_no_dep_yes_percent = len(alc_no_dep_yes) / no_alc "
   ]
  },
  {
   "cell_type": "code",
   "execution_count": 16,
   "metadata": {},
   "outputs": [
    {
     "data": {
      "text/plain": [
       "0.08669686985172982"
      ]
     },
     "execution_count": 16,
     "metadata": {},
     "output_type": "execute_result"
    }
   ],
   "source": [
    "alc_no_dep_yes_percent"
   ]
  },
  {
   "cell_type": "code",
   "execution_count": 17,
   "metadata": {},
   "outputs": [
    {
     "data": {
      "text/plain": [
       "0.15778219031617535"
      ]
     },
     "execution_count": 17,
     "metadata": {},
     "output_type": "execute_result"
    }
   ],
   "source": [
    "alc_yes_dep_yes_percent"
   ]
  },
  {
   "cell_type": "code",
   "execution_count": 18,
   "metadata": {},
   "outputs": [],
   "source": [
    "#Marijuana vs. Depression\n",
    "ever_used = df[['MRJFLAG', 'AMDELT']]\n",
    "mrj_dep = ever_used[ever_used.AMDELT > 0]\n",
    "mrj_yes_dep_yes = mrj_dep[(mrj_dep.MRJFLAG == 1) & (mrj_dep.AMDELT == 1)]\n",
    "mrj_yes_dep_no = mrj_dep[(mrj_dep.MRJFLAG == 1) & (mrj_dep.AMDELT == 2)]\n",
    "mrj = len(mrj_yes_dep_yes) + len(mrj_yes_dep_no)\n",
    "mrj_yes_dep_yes_percent = len(mrj_yes_dep_yes) / mrj\n",
    "mrj_no_dep_yes = mrj_dep[(mrj_dep.MRJFLAG == 0) & (mrj_dep.AMDELT == 1)]\n",
    "mrj_no_dep_no = mrj_dep[(mrj_dep.MRJFLAG == 0) & (mrj_dep.AMDELT == 2)]\n",
    "no_mrj = len(mrj_no_dep_no) + len(mrj_no_dep_yes)\n",
    "mrj_no_dep_yes_percent = len(mrj_no_dep_yes) / no_mrj "
   ]
  },
  {
   "cell_type": "code",
   "execution_count": 19,
   "metadata": {},
   "outputs": [
    {
     "data": {
      "text/plain": [
       "0.10259866292861763"
      ]
     },
     "execution_count": 19,
     "metadata": {},
     "output_type": "execute_result"
    }
   ],
   "source": [
    "mrj_no_dep_yes_percent"
   ]
  },
  {
   "cell_type": "code",
   "execution_count": 20,
   "metadata": {},
   "outputs": [
    {
     "data": {
      "text/plain": [
       "0.19340440056713754"
      ]
     },
     "execution_count": 20,
     "metadata": {},
     "output_type": "execute_result"
    }
   ],
   "source": [
    "mrj_yes_dep_yes_percent"
   ]
  },
  {
   "cell_type": "code",
   "execution_count": 50,
   "metadata": {},
   "outputs": [],
   "source": [
    "#Hallucinogens vs. Depression\n",
    "ever_used = df[['HALYR', 'MHSUITHK']]\n",
    "hal_dep = ever_used[ever_used.MHSUITHK >0]\n",
    "hal_yes_dep_yes = hal_dep[(hal_dep.HALYR == 1) & (hal_dep.MHSUITHK == 1)]\n",
    "hal_yes_dep_no = hal_dep[(hal_dep.HALYR == 1) & (hal_dep.MHSUITHK == 0)]\n",
    "hal = len(hal_yes_dep_yes) + len(hal_yes_dep_no)\n",
    "hal_yes_dep_yes_percent = len(hal_yes_dep_yes) / hal\n",
    "hal_no_dep_yes = hal_dep[(hal_dep.HALYR == 0) & (hal_dep.MHSUITHK == 1)]\n",
    "hal_no_dep_no = hal_dep[(hal_dep.HALYR == 0) & (hal_dep.MHSUITHK == 0)]\n",
    "no_hal = len(hal_no_dep_no) + len(hal_no_dep_yes)\n",
    "hal_no_dep_yes_percent = len(hal_no_dep_yes) / no_hal"
   ]
  },
  {
   "cell_type": "code",
   "execution_count": 51,
   "metadata": {},
   "outputs": [
    {
     "data": {
      "text/plain": [
       "1.0"
      ]
     },
     "execution_count": 51,
     "metadata": {},
     "output_type": "execute_result"
    }
   ],
   "source": [
    "hal_no_dep_yes_percent"
   ]
  },
  {
   "cell_type": "code",
   "execution_count": 52,
   "metadata": {},
   "outputs": [
    {
     "data": {
      "text/plain": [
       "1.0"
      ]
     },
     "execution_count": 52,
     "metadata": {},
     "output_type": "execute_result"
    }
   ],
   "source": [
    "hal_yes_dep_yes_percent"
   ]
  },
  {
   "cell_type": "code",
   "execution_count": null,
   "metadata": {},
   "outputs": [],
   "source": []
  },
  {
   "cell_type": "code",
   "execution_count": 59,
   "metadata": {},
   "outputs": [],
   "source": [
    "consumers = (16, 20, 22)\n",
    "non_consumers = (11, 12, 7)\n",
    "n_groups = 3\n",
    "bar_width = 0.35\n",
    "opacity = 0.8"
   ]
  },
  {
   "cell_type": "code",
   "execution_count": 61,
   "metadata": {},
   "outputs": [
    {
     "data": {
      "image/png": "[encoded data removed]",
      "text/plain": [
       "<Figure size 432x288 with 1 Axes>"
      ]
     },
     "metadata": {},
     "output_type": "display_data"
    }
   ],
   "source": [
    "fig, ax = plt.subplots()\n",
    "index = np.arange(n_groups)\n",
    "rects1 = plt.bar(index, consumers, bar_width,\n",
    "                 alpha=opacity,\n",
    "                 color='b',\n",
    "                 label='consumers')\n",
    " \n",
    "rects2 = plt.bar(index + bar_width, non_consumers, bar_width,\n",
    "                 alpha=opacity,\n",
    "                 color='g',\n",
    "                 label='non_consumers')\n",
    "plt.xlabel('drug')\n",
    "plt.ylabel('depression percent')\n",
    "plt.title('Depression levels by different drug')\n",
    "plt.xticks(index + bar_width, ('tabacco', 'Alcohol', 'C', 'D'))\n",
    "plt.legend()\n",
    " \n",
    "plt.tight_layout() "
   ]
  },
  {
   "cell_type": "code",
   "execution_count": 62,
   "metadata": {},
   "outputs": [
    {
     "data": {
      "text/plain": [
       "Text(0.5,1,'Programming language usage')"
      ]
     },
     "execution_count": 62,
     "metadata": {},
     "output_type": "execute_result"
    },
    {
     "data": {
      "image/png": "[encoded data removed]",
      "text/plain": [
       "<Figure size 432x288 with 1 Axes>"
      ]
     },
     "metadata": {},
     "output_type": "display_data"
    }
   ],
   "source": [
    "objects = ('Tabacco', 'Alcohol', 'Hall', 'Weed')\n",
    "y_pos = np.arange(len(objects))\n",
    "performance = [5, 10, -3, -10]\n",
    " \n",
    "plt.bar(y_pos, performance, align='center', alpha=0.5)\n",
    "plt.xticks(y_pos, objects)\n",
    "plt.ylabel('Usage')\n",
    "plt.title('Programming language usage')"
   ]
  },
  {
   "cell_type": "code",
   "execution_count": 79,
   "metadata": {},
   "outputs": [],
   "source": [
    "X = cig_dep[['CIGFLAG']]\n",
    "y = cig_dep['AMDELT']\n",
    "model = LogisticRegression()\n",
    "model.fit(X, y)\n",
    "prediction = model.predict(X)"
   ]
  },
  {
   "cell_type": "code",
   "execution_count": 90,
   "metadata": {},
   "outputs": [],
   "source": [
    "model = LogisticRegression()"
   ]
  },
  {
   "cell_type": "code",
   "execution_count": 91,
   "metadata": {},
   "outputs": [
    {
     "data": {
      "text/plain": [
       "LogisticRegression(C=1.0, class_weight=None, dual=False, fit_intercept=True,\n",
       "          intercept_scaling=1, max_iter=100, multi_class='ovr', n_jobs=1,\n",
       "          penalty='l2', random_state=None, solver='liblinear', tol=0.0001,\n",
       "          verbose=0, warm_start=False)"
      ]
     },
     "execution_count": 91,
     "metadata": {},
     "output_type": "execute_result"
    }
   ],
   "source": [
    "model.fit(X, y)"
   ]
  },
  {
   "cell_type": "code",
   "execution_count": 92,
   "metadata": {},
   "outputs": [],
   "source": [
    "prediction = model.predict(X)"
   ]
  },
  {
   "cell_type": "code",
   "execution_count": 93,
   "metadata": {},
   "outputs": [
    {
     "data": {
      "text/plain": [
       "array([2, 2, 2, ..., 2, 2, 2])"
      ]
     },
     "execution_count": 93,
     "metadata": {},
     "output_type": "execute_result"
    }
   ],
   "source": [
    "prediction"
   ]
  },
  {
   "cell_type": "code",
   "execution_count": 94,
   "metadata": {},
   "outputs": [
    {
     "data": {
      "text/plain": [
       "0.8514006012077359"
      ]
     },
     "execution_count": 94,
     "metadata": {},
     "output_type": "execute_result"
    }
   ],
   "source": [
    "model.score(X, y)"
   ]
  },
  {
   "cell_type": "code",
   "execution_count": 95,
   "metadata": {},
   "outputs": [
    {
     "data": {
      "text/plain": [
       "array([[0.1128557 , 0.8871443 ],\n",
       "       [0.1128557 , 0.8871443 ],\n",
       "       [0.16780479, 0.83219521],\n",
       "       ...,\n",
       "       [0.1128557 , 0.8871443 ],\n",
       "       [0.1128557 , 0.8871443 ],\n",
       "       [0.16780479, 0.83219521]])"
      ]
     },
     "execution_count": 95,
     "metadata": {},
     "output_type": "execute_result"
    }
   ],
   "source": [
    "model.predict_proba(X)"
   ]
  },
  {
   "cell_type": "code",
   "execution_count": 96,
   "metadata": {},
   "outputs": [
    {
     "data": {
      "text/plain": [
       "array([[-0.46063192]])"
      ]
     },
     "execution_count": 96,
     "metadata": {},
     "output_type": "execute_result"
    }
   ],
   "source": [
    "model.coef_"
   ]
  },
  {
   "cell_type": "code",
   "execution_count": 98,
   "metadata": {},
   "outputs": [
    {
     "data": {
      "text/plain": [
       "array([2.0618976 , 2.0618976 , 1.60126568, ..., 2.0618976 , 2.0618976 ,\n",
       "       1.60126568])"
      ]
     },
     "execution_count": 98,
     "metadata": {},
     "output_type": "execute_result"
    }
   ],
   "source": [
    "model.decision_function(X)"
   ]
  },
  {
   "cell_type": "code",
   "execution_count": null,
   "metadata": {},
   "outputs": [],
   "source": []
  }
 ],
 "metadata": {
  "kernelspec": {
   "display_name": "Python 3",
   "language": "python",
   "name": "python3"
  },
  "language_info": {
   "codemirror_mode": {
    "name": "ipython",
    "version": 3
   },
   "file_extension": ".py",
   "mimetype": "text/x-python",
   "name": "python",
   "nbconvert_exporter": "python",
   "pygments_lexer": "ipython3",
   "version": "3.6.5"
  }
 },
 "nbformat": 4,
 "nbformat_minor": 2
}

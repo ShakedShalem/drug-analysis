{
 "cells": [
  {
   "cell_type": "code",
   "execution_count": 1,
   "metadata": {},
   "outputs": [
    {
     "name": "stderr",
     "output_type": "stream",
     "text": [
      "/Users/shaked/miniconda3/lib/python3.6/site-packages/sklearn/cross_validation.py:41: DeprecationWarning: This module was deprecated in version 0.18 in favor of the model_selection module into which all the refactored classes and functions are moved. Also note that the interface of the new CV iterators are different from that of this module. This module will be removed in 0.20.\n",
      "  \"This module will be removed in 0.20.\", DeprecationWarning)\n"
     ]
    }
   ],
   "source": [
    "import pandas as pd\n",
    "import numpy as np\n",
    "import seaborn as sns\n",
    "import matplotlib.pyplot as plt\n",
    "from sklearn.model_selection import train_test_split\n",
    "from sklearn.ensemble import RandomForestClassifier\n",
    "from sklearn.metrics import accuracy_score, precision_score, recall_score\n",
    "from sklearn.metrics import confusion_matrix\n",
    "from sklearn.metrics import f1_score\n",
    "from sklearn.model_selection import GridSearchCV\n",
    "from sklearn.ensemble import GradientBoostingClassifier\n",
    "from sklearn import cross_validation, metrics   #Additional scklearn functions\n",
    "\n",
    "\n",
    "import xgboost as xgb\n",
    "from sklearn.metrics import mean_squared_error\n",
    "\n",
    "%matplotlib inline"
   ]
  },
  {
   "cell_type": "code",
   "execution_count": 2,
   "metadata": {},
   "outputs": [],
   "source": [
    "X = pd.read_pickle('feature_df.pkl')\n",
    "y = pd.read_pickle('target.pkl')"
   ]
  },
  {
   "cell_type": "code",
   "execution_count": 3,
   "metadata": {},
   "outputs": [
    {
     "data": {
      "text/html": [
       "<div>\n",
       "<style scoped>\n",
       "    .dataframe tbody tr th:only-of-type {\n",
       "        vertical-align: middle;\n",
       "    }\n",
       "\n",
       "    .dataframe tbody tr th {\n",
       "        vertical-align: top;\n",
       "    }\n",
       "\n",
       "    .dataframe thead th {\n",
       "        text-align: right;\n",
       "    }\n",
       "</style>\n",
       "<table border=\"1\" class=\"dataframe\">\n",
       "  <thead>\n",
       "    <tr style=\"text-align: right;\">\n",
       "      <th></th>\n",
       "      <th>IRALCFY</th>\n",
       "      <th>IRMJFY</th>\n",
       "      <th>IRCOCFY</th>\n",
       "      <th>IRCRKFY</th>\n",
       "      <th>IRHERFY</th>\n",
       "      <th>IRHALFY</th>\n",
       "      <th>IRINHFY</th>\n",
       "      <th>IRANLFY</th>\n",
       "      <th>IRTRNFY</th>\n",
       "      <th>IRSTMFY</th>\n",
       "      <th>IRSEDFY</th>\n",
       "      <th>IRCIGFM</th>\n",
       "      <th>CIGYR</th>\n",
       "      <th>CGRYR</th>\n",
       "      <th>SNFYR</th>\n",
       "      <th>ALCYR</th>\n",
       "      <th>CRKYR</th>\n",
       "      <th>SUMYR</th>\n",
       "      <th>IRCIGAGE</th>\n",
       "      <th>IRCGRAGE</th>\n",
       "      <th>IRSNFAGE</th>\n",
       "      <th>IRALCAGE</th>\n",
       "      <th>IRCRKAGE</th>\n",
       "      <th>SUMAGE</th>\n",
       "      <th>DEPNDMRJ</th>\n",
       "      <th>DPILLALC</th>\n",
       "      <th>ABODILAL</th>\n",
       "      <th>TOBFLAG</th>\n",
       "      <th>SNFFLAG</th>\n",
       "      <th>ALCFLAG</th>\n",
       "      <th>CRKFLAG</th>\n",
       "      <th>SUMFLAG</th>\n",
       "      <th>EDUCCAT2</th>\n",
       "      <th>CATAG6</th>\n",
       "      <th>IRSEX</th>\n",
       "      <th>INCOME</th>\n",
       "      <th>NEWRACE2</th>\n",
       "      <th>2</th>\n",
       "      <th>3</th>\n",
       "      <th>4</th>\n",
       "      <th>5</th>\n",
       "      <th>6</th>\n",
       "      <th>7</th>\n",
       "    </tr>\n",
       "  </thead>\n",
       "  <tbody>\n",
       "    <tr>\n",
       "      <th>1</th>\n",
       "      <td>48</td>\n",
       "      <td>-2</td>\n",
       "      <td>-2</td>\n",
       "      <td>-2</td>\n",
       "      <td>-2</td>\n",
       "      <td>-2</td>\n",
       "      <td>-2</td>\n",
       "      <td>-2</td>\n",
       "      <td>-2</td>\n",
       "      <td>-2</td>\n",
       "      <td>-2</td>\n",
       "      <td>91.0</td>\n",
       "      <td>0</td>\n",
       "      <td>0</td>\n",
       "      <td>0</td>\n",
       "      <td>1</td>\n",
       "      <td>0</td>\n",
       "      <td>0</td>\n",
       "      <td>991</td>\n",
       "      <td>991</td>\n",
       "      <td>991</td>\n",
       "      <td>18</td>\n",
       "      <td>991</td>\n",
       "      <td>991</td>\n",
       "      <td>0</td>\n",
       "      <td>0</td>\n",
       "      <td>0</td>\n",
       "      <td>0</td>\n",
       "      <td>0</td>\n",
       "      <td>1</td>\n",
       "      <td>0</td>\n",
       "      <td>0</td>\n",
       "      <td>3</td>\n",
       "      <td>5</td>\n",
       "      <td>2</td>\n",
       "      <td>3</td>\n",
       "      <td>1</td>\n",
       "      <td>0</td>\n",
       "      <td>0</td>\n",
       "      <td>0</td>\n",
       "      <td>0</td>\n",
       "      <td>0</td>\n",
       "      <td>0</td>\n",
       "    </tr>\n",
       "    <tr>\n",
       "      <th>2</th>\n",
       "      <td>-2</td>\n",
       "      <td>-2</td>\n",
       "      <td>-2</td>\n",
       "      <td>-2</td>\n",
       "      <td>-2</td>\n",
       "      <td>-2</td>\n",
       "      <td>-2</td>\n",
       "      <td>-2</td>\n",
       "      <td>-2</td>\n",
       "      <td>-2</td>\n",
       "      <td>-2</td>\n",
       "      <td>91.0</td>\n",
       "      <td>0</td>\n",
       "      <td>0</td>\n",
       "      <td>0</td>\n",
       "      <td>0</td>\n",
       "      <td>0</td>\n",
       "      <td>0</td>\n",
       "      <td>991</td>\n",
       "      <td>991</td>\n",
       "      <td>991</td>\n",
       "      <td>991</td>\n",
       "      <td>991</td>\n",
       "      <td>991</td>\n",
       "      <td>0</td>\n",
       "      <td>0</td>\n",
       "      <td>0</td>\n",
       "      <td>0</td>\n",
       "      <td>0</td>\n",
       "      <td>0</td>\n",
       "      <td>0</td>\n",
       "      <td>0</td>\n",
       "      <td>2</td>\n",
       "      <td>2</td>\n",
       "      <td>1</td>\n",
       "      <td>2</td>\n",
       "      <td>1</td>\n",
       "      <td>0</td>\n",
       "      <td>0</td>\n",
       "      <td>0</td>\n",
       "      <td>0</td>\n",
       "      <td>0</td>\n",
       "      <td>0</td>\n",
       "    </tr>\n",
       "    <tr>\n",
       "      <th>3</th>\n",
       "      <td>52</td>\n",
       "      <td>144</td>\n",
       "      <td>-1</td>\n",
       "      <td>-2</td>\n",
       "      <td>-2</td>\n",
       "      <td>5</td>\n",
       "      <td>-2</td>\n",
       "      <td>-2</td>\n",
       "      <td>-2</td>\n",
       "      <td>-2</td>\n",
       "      <td>-2</td>\n",
       "      <td>93.0</td>\n",
       "      <td>1</td>\n",
       "      <td>0</td>\n",
       "      <td>0</td>\n",
       "      <td>1</td>\n",
       "      <td>0</td>\n",
       "      <td>1</td>\n",
       "      <td>13</td>\n",
       "      <td>14</td>\n",
       "      <td>991</td>\n",
       "      <td>12</td>\n",
       "      <td>991</td>\n",
       "      <td>14</td>\n",
       "      <td>0</td>\n",
       "      <td>0</td>\n",
       "      <td>1</td>\n",
       "      <td>1</td>\n",
       "      <td>0</td>\n",
       "      <td>1</td>\n",
       "      <td>0</td>\n",
       "      <td>1</td>\n",
       "      <td>3</td>\n",
       "      <td>2</td>\n",
       "      <td>1</td>\n",
       "      <td>1</td>\n",
       "      <td>1</td>\n",
       "      <td>0</td>\n",
       "      <td>0</td>\n",
       "      <td>0</td>\n",
       "      <td>0</td>\n",
       "      <td>0</td>\n",
       "      <td>0</td>\n",
       "    </tr>\n",
       "    <tr>\n",
       "      <th>4</th>\n",
       "      <td>260</td>\n",
       "      <td>-2</td>\n",
       "      <td>-2</td>\n",
       "      <td>-2</td>\n",
       "      <td>-2</td>\n",
       "      <td>-2</td>\n",
       "      <td>-2</td>\n",
       "      <td>-2</td>\n",
       "      <td>-2</td>\n",
       "      <td>-2</td>\n",
       "      <td>-2</td>\n",
       "      <td>93.0</td>\n",
       "      <td>0</td>\n",
       "      <td>0</td>\n",
       "      <td>0</td>\n",
       "      <td>1</td>\n",
       "      <td>0</td>\n",
       "      <td>0</td>\n",
       "      <td>11</td>\n",
       "      <td>25</td>\n",
       "      <td>991</td>\n",
       "      <td>17</td>\n",
       "      <td>991</td>\n",
       "      <td>991</td>\n",
       "      <td>0</td>\n",
       "      <td>0</td>\n",
       "      <td>0</td>\n",
       "      <td>1</td>\n",
       "      <td>0</td>\n",
       "      <td>1</td>\n",
       "      <td>0</td>\n",
       "      <td>0</td>\n",
       "      <td>4</td>\n",
       "      <td>6</td>\n",
       "      <td>1</td>\n",
       "      <td>4</td>\n",
       "      <td>1</td>\n",
       "      <td>0</td>\n",
       "      <td>0</td>\n",
       "      <td>0</td>\n",
       "      <td>0</td>\n",
       "      <td>0</td>\n",
       "      <td>0</td>\n",
       "    </tr>\n",
       "    <tr>\n",
       "      <th>5</th>\n",
       "      <td>24</td>\n",
       "      <td>-2</td>\n",
       "      <td>-2</td>\n",
       "      <td>-2</td>\n",
       "      <td>-2</td>\n",
       "      <td>-2</td>\n",
       "      <td>-2</td>\n",
       "      <td>-2</td>\n",
       "      <td>-2</td>\n",
       "      <td>-2</td>\n",
       "      <td>-2</td>\n",
       "      <td>91.0</td>\n",
       "      <td>0</td>\n",
       "      <td>0</td>\n",
       "      <td>0</td>\n",
       "      <td>1</td>\n",
       "      <td>0</td>\n",
       "      <td>0</td>\n",
       "      <td>991</td>\n",
       "      <td>991</td>\n",
       "      <td>991</td>\n",
       "      <td>22</td>\n",
       "      <td>991</td>\n",
       "      <td>991</td>\n",
       "      <td>0</td>\n",
       "      <td>0</td>\n",
       "      <td>0</td>\n",
       "      <td>0</td>\n",
       "      <td>0</td>\n",
       "      <td>1</td>\n",
       "      <td>0</td>\n",
       "      <td>0</td>\n",
       "      <td>2</td>\n",
       "      <td>2</td>\n",
       "      <td>2</td>\n",
       "      <td>1</td>\n",
       "      <td>7</td>\n",
       "      <td>0</td>\n",
       "      <td>0</td>\n",
       "      <td>0</td>\n",
       "      <td>0</td>\n",
       "      <td>0</td>\n",
       "      <td>1</td>\n",
       "    </tr>\n",
       "  </tbody>\n",
       "</table>\n",
       "</div>"
      ],
      "text/plain": [
       "   IRALCFY  IRMJFY  IRCOCFY  IRCRKFY  IRHERFY  IRHALFY  IRINHFY  IRANLFY  IRTRNFY  IRSTMFY  IRSEDFY ...  EDUCCAT2  CATAG6  IRSEX  INCOME  NEWRACE2  2  3  4  5  6  7\n",
       "1       48      -2       -2       -2       -2       -2       -2       -2       -2       -2       -2 ...         3       5      2       3         1  0  0  0  0  0  0\n",
       "2       -2      -2       -2       -2       -2       -2       -2       -2       -2       -2       -2 ...         2       2      1       2         1  0  0  0  0  0  0\n",
       "3       52     144       -1       -2       -2        5       -2       -2       -2       -2       -2 ...         3       2      1       1         1  0  0  0  0  0  0\n",
       "4      260      -2       -2       -2       -2       -2       -2       -2       -2       -2       -2 ...         4       6      1       4         1  0  0  0  0  0  0\n",
       "5       24      -2       -2       -2       -2       -2       -2       -2       -2       -2       -2 ...         2       2      2       1         7  0  0  0  0  0  1\n",
       "\n",
       "[5 rows x 43 columns]"
      ]
     },
     "execution_count": 3,
     "metadata": {},
     "output_type": "execute_result"
    }
   ],
   "source": [
    "X.head()"
   ]
  },
  {
   "cell_type": "code",
   "execution_count": 3,
   "metadata": {},
   "outputs": [],
   "source": [
    "X_train, X_test, y_train, y_test = train_test_split(X, y, test_size=0.2, random_state=42)"
   ]
  },
  {
   "cell_type": "code",
   "execution_count": null,
   "metadata": {},
   "outputs": [],
   "source": []
  },
  {
   "cell_type": "code",
   "execution_count": null,
   "metadata": {},
   "outputs": [],
   "source": []
  },
  {
   "cell_type": "code",
   "execution_count": null,
   "metadata": {},
   "outputs": [],
   "source": []
  },
  {
   "cell_type": "markdown",
   "metadata": {},
   "source": [
    "Random Forest"
   ]
  },
  {
   "cell_type": "code",
   "execution_count": 4,
   "metadata": {},
   "outputs": [],
   "source": [
    "clf = RandomForestClassifier(n_jobs=-1, max_depth=25, max_features=25, min_samples_split=5, n_estimators=1000, oob_score=True, class_weight='balanced')\n",
    "clf.fit(X_train, y_train)\n",
    "prob = clf.predict_proba(X_test)[:,1]"
   ]
  },
  {
   "cell_type": "code",
   "execution_count": 6,
   "metadata": {},
   "outputs": [],
   "source": [
    "thr = [0.01, 0.02, 0.03, 0.04, 0.05, 0.06, 0.07, 0.08, 0.09, 0.1,0.15, 0.2, 0.25, 0.3, 0.35]\n",
    "recalls = []\n",
    "precisions = []\n",
    "y_pred = []"
   ]
  },
  {
   "cell_type": "code",
   "execution_count": 8,
   "metadata": {},
   "outputs": [
    {
     "name": "stdout",
     "output_type": "stream",
     "text": [
      "for  0.01\n",
      "recall:  0.9732704402515723\n",
      "precision:  0.08842857142857143\n",
      "[ 493 6381   17  619]\n",
      "f1 score:  0.16212676794133055\n",
      "for  0.02\n",
      "recall:  0.960691823899371\n",
      "precision:  0.09233791748526522\n",
      "[ 868 6006   25  611]\n",
      "f1 score:  0.1684820074451951\n",
      "for  0.03\n",
      "recall:  0.9433962264150944\n",
      "precision:  0.09664948453608248\n",
      "[1266 5608   36  600]\n",
      "f1 score:  0.17533606078316774\n",
      "for  0.04\n",
      "recall:  0.9182389937106918\n",
      "precision:  0.10037813681677553\n",
      "[1640 5234   52  584]\n",
      "f1 score:  0.1809730399752092\n",
      "for  0.05\n",
      "recall:  0.9040880503144654\n",
      "precision:  0.10542720938760543\n",
      "[1995 4879   61  575]\n",
      "f1 score:  0.1888341543513957\n",
      "for  0.06\n",
      "recall:  0.8789308176100629\n",
      "precision:  0.11089069629041856\n",
      "[2392 4482   77  559]\n",
      "f1 score:  0.19693500088074686\n",
      "for  0.07\n",
      "recall:  0.8380503144654088\n",
      "precision:  0.11379163108454313\n",
      "[2723 4151  103  533]\n",
      "f1 score:  0.20037593984962404\n",
      "for  0.08\n",
      "recall:  0.8128930817610063\n",
      "precision:  0.11874138723013321\n",
      "[3037 3837  119  517]\n",
      "f1 score:  0.20721442885771543\n",
      "for  0.09\n",
      "recall:  0.7783018867924528\n",
      "precision:  0.12264618434093162\n",
      "[3333 3541  141  495]\n",
      "f1 score:  0.21190068493150685\n",
      "for  0.1\n",
      "recall:  0.7279874213836478\n",
      "precision:  0.12363150867823765\n",
      "[3592 3282  173  463]\n",
      "f1 score:  0.2113672677470897\n",
      "for  0.15\n",
      "recall:  0.5644654088050315\n",
      "precision:  0.14172917489143308\n",
      "[4700 2174  277  359]\n",
      "f1 score:  0.22656989586620385\n",
      "for  0.2\n",
      "recall:  0.419811320754717\n",
      "precision:  0.15780141843971632\n",
      "[5449 1425  369  267]\n",
      "f1 score:  0.2293814432989691\n",
      "for  0.25\n",
      "recall:  0.28144654088050314\n",
      "precision:  0.16317228805834094\n",
      "[5956  918  457  179]\n",
      "f1 score:  0.2065781881130987\n",
      "for  0.3\n",
      "recall:  0.19025157232704404\n",
      "precision:  0.16462585034013605\n",
      "[6260  614  515  121]\n",
      "f1 score:  0.1765134938001459\n",
      "for  0.35\n",
      "recall:  0.12735849056603774\n",
      "precision:  0.16735537190082644\n",
      "[6471  403  555   81]\n",
      "f1 score:  0.14464285714285716\n"
     ]
    }
   ],
   "source": [
    "for t in thr:\n",
    "    y_pred = [1 if x > t else 0 for x in prob]\n",
    "    recall = recall_score(y_test, y_pred)\n",
    "    precision = precision_score(y_test, y_pred)\n",
    "    recalls.append(recall)\n",
    "    precisions.append(precision)\n",
    "    print('for ',t)\n",
    "    print('recall: ', recall_score(y_test, y_pred))\n",
    "    print('precision: ', precision_score(y_test, y_pred))\n",
    "    print(confusion_matrix(y_test, y_pred).ravel())\n",
    "    print('f1 score: ', f1_score(y_test, y_pred))"
   ]
  },
  {
   "cell_type": "code",
   "execution_count": 9,
   "metadata": {},
   "outputs": [],
   "source": [
    "t = 0.06\n",
    "y_pred = [1 if x > t else 0 for x in prob]"
   ]
  },
  {
   "cell_type": "code",
   "execution_count": 10,
   "metadata": {},
   "outputs": [
    {
     "data": {
      "text/plain": [
       "array([2392, 4482,   77,  559])"
      ]
     },
     "execution_count": 10,
     "metadata": {},
     "output_type": "execute_result"
    }
   ],
   "source": [
    "confusion_matrix(y_test, y_pred).ravel()"
   ]
  },
  {
   "cell_type": "code",
   "execution_count": null,
   "metadata": {},
   "outputs": [],
   "source": [
    "weights = np.linspace(0.05, 0.95, 20)\n",
    "\n",
    "rf_gsearch = GridSearchCV(estimator=clf,\n",
    "    param_grid={\n",
    "        'class_weight': [{0: x, 1: 1.0-x} for x in weights]\n",
    "    },\n",
    "    scoring='f1',\n",
    "    cv=3\n",
    ")\n",
    "grid_result = rf_gsearch.fit(X_train,y_train)"
   ]
  },
  {
   "cell_type": "code",
   "execution_count": null,
   "metadata": {},
   "outputs": [],
   "source": []
  },
  {
   "cell_type": "code",
   "execution_count": null,
   "metadata": {},
   "outputs": [],
   "source": []
  },
  {
   "cell_type": "code",
   "execution_count": 11,
   "metadata": {},
   "outputs": [],
   "source": [
    "fpr, tpr, threshold = metrics.roc_curve(y_test, y_pred)\n",
    "roc_auc = metrics.auc(fpr, tpr)"
   ]
  },
  {
   "cell_type": "code",
   "execution_count": 12,
   "metadata": {},
   "outputs": [
    {
     "data": {
      "text/plain": [
       "Text(0.5,15,'False Positive Rate')"
      ]
     },
     "execution_count": 12,
     "metadata": {},
     "output_type": "execute_result"
    },
    {
     "data": {
      "image/png": "[encoded data removed]",
      "text/plain": [
       "<Figure size 432x288 with 1 Axes>"
      ]
     },
     "metadata": {},
     "output_type": "display_data"
    }
   ],
   "source": [
    "plt.title('Predict Depression')\n",
    "plt.plot(fpr, tpr, 'b', label = 'AUC = %0.2f' % roc_auc)\n",
    "plt.legend(loc = 'lower right')\n",
    "plt.plot([0, 1], [0, 1],'r--')\n",
    "plt.xlim([0, 1])\n",
    "plt.ylim([0, 1])\n",
    "plt.ylabel('True Positive Rate')\n",
    "plt.xlabel('False Positive Rate')"
   ]
  },
  {
   "cell_type": "code",
   "execution_count": 13,
   "metadata": {},
   "outputs": [],
   "source": [
    "feature_importances = pd.DataFrame(clf.feature_importances_,\n",
    "                                   index = X_train.columns,\n",
    "                                    columns=['importance']).sort_values('importance',ascending=False)"
   ]
  },
  {
   "cell_type": "code",
   "execution_count": 14,
   "metadata": {},
   "outputs": [
    {
     "data": {
      "text/plain": [
       "Index([ 'IRALCFY', 'IRALCAGE', 'IRCIGAGE',   'SUMAGE', 'EDUCCAT2',   'INCOME',\n",
       "       'IRCGRAGE',   'CATAG6',  'IRCIGFM',   'IRMJFY',    'IRSEX', 'NEWRACE2',\n",
       "        'IRANLFY', 'IRSNFAGE', 'ABODILAL', 'DPILLALC',  'IRTRNFY',  'IRHALFY',\n",
       "        'IRCOCFY',    'CIGYR',          2,  'IRSTMFY',    'CGRYR',  'SUMFLAG',\n",
       "        'IRINHFY',  'TOBFLAG',          7,    'SUMYR',    'ALCYR', 'IRCRKAGE',\n",
       "        'SNFFLAG',          5,          6,    'SNFYR',  'IRSEDFY',  'IRHERFY',\n",
       "        'ALCFLAG',          3,          4,  'IRCRKFY',  'CRKFLAG', 'DEPNDMRJ',\n",
       "          'CRKYR'],\n",
       "      dtype='object')"
      ]
     },
     "execution_count": 14,
     "metadata": {},
     "output_type": "execute_result"
    }
   ],
   "source": [
    "feature_importances.index"
   ]
  },
  {
   "cell_type": "code",
   "execution_count": 15,
   "metadata": {},
   "outputs": [
    {
     "data": {
      "text/html": [
       "<div>\n",
       "<style scoped>\n",
       "    .dataframe tbody tr th:only-of-type {\n",
       "        vertical-align: middle;\n",
       "    }\n",
       "\n",
       "    .dataframe tbody tr th {\n",
       "        vertical-align: top;\n",
       "    }\n",
       "\n",
       "    .dataframe thead th {\n",
       "        text-align: right;\n",
       "    }\n",
       "</style>\n",
       "<table border=\"1\" class=\"dataframe\">\n",
       "  <thead>\n",
       "    <tr style=\"text-align: right;\">\n",
       "      <th></th>\n",
       "      <th>importance</th>\n",
       "    </tr>\n",
       "  </thead>\n",
       "  <tbody>\n",
       "    <tr>\n",
       "      <th>IRALCFY</th>\n",
       "      <td>0.123482</td>\n",
       "    </tr>\n",
       "    <tr>\n",
       "      <th>IRALCAGE</th>\n",
       "      <td>0.099313</td>\n",
       "    </tr>\n",
       "    <tr>\n",
       "      <th>IRCIGAGE</th>\n",
       "      <td>0.078031</td>\n",
       "    </tr>\n",
       "    <tr>\n",
       "      <th>SUMAGE</th>\n",
       "      <td>0.076742</td>\n",
       "    </tr>\n",
       "    <tr>\n",
       "      <th>EDUCCAT2</th>\n",
       "      <td>0.056659</td>\n",
       "    </tr>\n",
       "    <tr>\n",
       "      <th>INCOME</th>\n",
       "      <td>0.054837</td>\n",
       "    </tr>\n",
       "    <tr>\n",
       "      <th>IRCGRAGE</th>\n",
       "      <td>0.051664</td>\n",
       "    </tr>\n",
       "    <tr>\n",
       "      <th>CATAG6</th>\n",
       "      <td>0.051627</td>\n",
       "    </tr>\n",
       "    <tr>\n",
       "      <th>IRCIGFM</th>\n",
       "      <td>0.041409</td>\n",
       "    </tr>\n",
       "    <tr>\n",
       "      <th>IRMJFY</th>\n",
       "      <td>0.038550</td>\n",
       "    </tr>\n",
       "    <tr>\n",
       "      <th>IRSEX</th>\n",
       "      <td>0.030860</td>\n",
       "    </tr>\n",
       "    <tr>\n",
       "      <th>NEWRACE2</th>\n",
       "      <td>0.029728</td>\n",
       "    </tr>\n",
       "    <tr>\n",
       "      <th>IRANLFY</th>\n",
       "      <td>0.026538</td>\n",
       "    </tr>\n",
       "    <tr>\n",
       "      <th>IRSNFAGE</th>\n",
       "      <td>0.023340</td>\n",
       "    </tr>\n",
       "    <tr>\n",
       "      <th>ABODILAL</th>\n",
       "      <td>0.019943</td>\n",
       "    </tr>\n",
       "    <tr>\n",
       "      <th>DPILLALC</th>\n",
       "      <td>0.016969</td>\n",
       "    </tr>\n",
       "    <tr>\n",
       "      <th>IRTRNFY</th>\n",
       "      <td>0.016364</td>\n",
       "    </tr>\n",
       "    <tr>\n",
       "      <th>IRHALFY</th>\n",
       "      <td>0.014290</td>\n",
       "    </tr>\n",
       "    <tr>\n",
       "      <th>IRCOCFY</th>\n",
       "      <td>0.012767</td>\n",
       "    </tr>\n",
       "    <tr>\n",
       "      <th>CIGYR</th>\n",
       "      <td>0.012607</td>\n",
       "    </tr>\n",
       "    <tr>\n",
       "      <th>2</th>\n",
       "      <td>0.011429</td>\n",
       "    </tr>\n",
       "    <tr>\n",
       "      <th>IRSTMFY</th>\n",
       "      <td>0.011391</td>\n",
       "    </tr>\n",
       "    <tr>\n",
       "      <th>CGRYR</th>\n",
       "      <td>0.009463</td>\n",
       "    </tr>\n",
       "    <tr>\n",
       "      <th>SUMFLAG</th>\n",
       "      <td>0.009148</td>\n",
       "    </tr>\n",
       "    <tr>\n",
       "      <th>IRINHFY</th>\n",
       "      <td>0.009112</td>\n",
       "    </tr>\n",
       "    <tr>\n",
       "      <th>TOBFLAG</th>\n",
       "      <td>0.008961</td>\n",
       "    </tr>\n",
       "    <tr>\n",
       "      <th>7</th>\n",
       "      <td>0.006910</td>\n",
       "    </tr>\n",
       "    <tr>\n",
       "      <th>SUMYR</th>\n",
       "      <td>0.006505</td>\n",
       "    </tr>\n",
       "    <tr>\n",
       "      <th>ALCYR</th>\n",
       "      <td>0.006473</td>\n",
       "    </tr>\n",
       "    <tr>\n",
       "      <th>IRCRKAGE</th>\n",
       "      <td>0.006030</td>\n",
       "    </tr>\n",
       "    <tr>\n",
       "      <th>SNFFLAG</th>\n",
       "      <td>0.005353</td>\n",
       "    </tr>\n",
       "    <tr>\n",
       "      <th>5</th>\n",
       "      <td>0.004687</td>\n",
       "    </tr>\n",
       "    <tr>\n",
       "      <th>6</th>\n",
       "      <td>0.004685</td>\n",
       "    </tr>\n",
       "    <tr>\n",
       "      <th>SNFYR</th>\n",
       "      <td>0.004573</td>\n",
       "    </tr>\n",
       "    <tr>\n",
       "      <th>IRSEDFY</th>\n",
       "      <td>0.003786</td>\n",
       "    </tr>\n",
       "    <tr>\n",
       "      <th>IRHERFY</th>\n",
       "      <td>0.003523</td>\n",
       "    </tr>\n",
       "    <tr>\n",
       "      <th>ALCFLAG</th>\n",
       "      <td>0.003109</td>\n",
       "    </tr>\n",
       "    <tr>\n",
       "      <th>3</th>\n",
       "      <td>0.002946</td>\n",
       "    </tr>\n",
       "    <tr>\n",
       "      <th>4</th>\n",
       "      <td>0.001939</td>\n",
       "    </tr>\n",
       "    <tr>\n",
       "      <th>IRCRKFY</th>\n",
       "      <td>0.001708</td>\n",
       "    </tr>\n",
       "    <tr>\n",
       "      <th>CRKFLAG</th>\n",
       "      <td>0.001219</td>\n",
       "    </tr>\n",
       "    <tr>\n",
       "      <th>DEPNDMRJ</th>\n",
       "      <td>0.001104</td>\n",
       "    </tr>\n",
       "    <tr>\n",
       "      <th>CRKYR</th>\n",
       "      <td>0.000228</td>\n",
       "    </tr>\n",
       "  </tbody>\n",
       "</table>\n",
       "</div>"
      ],
      "text/plain": [
       "          importance\n",
       "IRALCFY     0.123482\n",
       "IRALCAGE    0.099313\n",
       "IRCIGAGE    0.078031\n",
       "SUMAGE      0.076742\n",
       "EDUCCAT2    0.056659\n",
       "INCOME      0.054837\n",
       "IRCGRAGE    0.051664\n",
       "CATAG6      0.051627\n",
       "IRCIGFM     0.041409\n",
       "IRMJFY      0.038550\n",
       "IRSEX       0.030860\n",
       "NEWRACE2    0.029728\n",
       "IRANLFY     0.026538\n",
       "IRSNFAGE    0.023340\n",
       "ABODILAL    0.019943\n",
       "DPILLALC    0.016969\n",
       "IRTRNFY     0.016364\n",
       "IRHALFY     0.014290\n",
       "IRCOCFY     0.012767\n",
       "CIGYR       0.012607\n",
       "2           0.011429\n",
       "IRSTMFY     0.011391\n",
       "CGRYR       0.009463\n",
       "SUMFLAG     0.009148\n",
       "IRINHFY     0.009112\n",
       "TOBFLAG     0.008961\n",
       "7           0.006910\n",
       "SUMYR       0.006505\n",
       "ALCYR       0.006473\n",
       "IRCRKAGE    0.006030\n",
       "SNFFLAG     0.005353\n",
       "5           0.004687\n",
       "6           0.004685\n",
       "SNFYR       0.004573\n",
       "IRSEDFY     0.003786\n",
       "IRHERFY     0.003523\n",
       "ALCFLAG     0.003109\n",
       "3           0.002946\n",
       "4           0.001939\n",
       "IRCRKFY     0.001708\n",
       "CRKFLAG     0.001219\n",
       "DEPNDMRJ    0.001104\n",
       "CRKYR       0.000228"
      ]
     },
     "execution_count": 15,
     "metadata": {},
     "output_type": "execute_result"
    }
   ],
   "source": [
    "feature_importances"
   ]
  },
  {
   "cell_type": "markdown",
   "metadata": {},
   "source": [
    "Random forest with 24 highest featuers from feature importance"
   ]
  },
  {
   "cell_type": "code",
   "execution_count": 37,
   "metadata": {},
   "outputs": [],
   "source": [
    "reduce_X = pd.read_pickle('reduce_x.pkl')"
   ]
  },
  {
   "cell_type": "code",
   "execution_count": 38,
   "metadata": {},
   "outputs": [
    {
     "data": {
      "text/plain": [
       "(37547, 24)"
      ]
     },
     "execution_count": 38,
     "metadata": {},
     "output_type": "execute_result"
    }
   ],
   "source": [
    "reduce_X.shape"
   ]
  },
  {
   "cell_type": "code",
   "execution_count": 39,
   "metadata": {},
   "outputs": [],
   "source": [
    "X_train, X_test, y_train, y_test = train_test_split(reduce_X, y, test_size=0.2)"
   ]
  },
  {
   "cell_type": "code",
   "execution_count": 56,
   "metadata": {},
   "outputs": [
    {
     "data": {
      "text/plain": [
       "(7510,)"
      ]
     },
     "execution_count": 56,
     "metadata": {},
     "output_type": "execute_result"
    }
   ],
   "source": [
    "y_test.shape"
   ]
  },
  {
   "cell_type": "code",
   "execution_count": 53,
   "metadata": {},
   "outputs": [],
   "source": [
    "clf = RandomForestClassifier(n_jobs=-1, max_depth=10, max_features=5, min_samples_split=5, n_estimators=1000)\n",
    "clf.fit(X_train, y_train)\n",
    "prob = clf.predict_proba(X_test)[:,1]"
   ]
  },
  {
   "cell_type": "code",
   "execution_count": 54,
   "metadata": {},
   "outputs": [],
   "source": [
    "thr = [0.01, 0.02, 0.03, 0.04, 0.05, 0.06, 0.07, 0.08, 0.09, 0.1,0.15, 0.2, 0.25, 0.3, 0.35]\n",
    "recalls = []\n",
    "precisions = []\n",
    "y_pred = []"
   ]
  },
  {
   "cell_type": "code",
   "execution_count": 55,
   "metadata": {},
   "outputs": [
    {
     "name": "stdout",
     "output_type": "stream",
     "text": [
      "for  0.01\n",
      "recall:  1.0\n",
      "precision:  0.07696404793608522\n",
      "[   0 6932    0  578]\n",
      "f1 score:  0.14292779426310584\n",
      "for  0.02\n",
      "recall:  0.9930795847750865\n",
      "precision:  0.07760951865873444\n",
      "[ 110 6822    4  574]\n",
      "f1 score:  0.14396789566089793\n",
      "for  0.03\n",
      "recall:  0.9740484429065744\n",
      "precision:  0.08060128847530422\n",
      "[ 510 6422   15  563]\n",
      "f1 score:  0.14888271849795054\n",
      "for  0.04\n",
      "recall:  0.9532871972318339\n",
      "precision:  0.08520179372197309\n",
      "[1016 5916   27  551]\n",
      "f1 score:  0.15642299503193755\n",
      "for  0.05\n",
      "recall:  0.8719723183391004\n",
      "precision:  0.09578107183580388\n",
      "[2174 4758   74  504]\n",
      "f1 score:  0.1726027397260274\n",
      "for  0.06\n",
      "recall:  0.7577854671280276\n",
      "precision:  0.10952738184546136\n",
      "[3371 3561  140  438]\n",
      "f1 score:  0.19139174131527198\n",
      "for  0.07\n",
      "recall:  0.6730103806228374\n",
      "precision:  0.12198181248040138\n",
      "[4132 2800  189  389]\n",
      "f1 score:  0.20653039554021765\n",
      "for  0.08\n",
      "recall:  0.6193771626297578\n",
      "precision:  0.12938200216841345\n",
      "[4523 2409  220  358]\n",
      "f1 score:  0.214050822122571\n",
      "for  0.09\n",
      "recall:  0.5570934256055363\n",
      "precision:  0.137430644472898\n",
      "[4911 2021  256  322]\n",
      "f1 score:  0.22047244094488186\n",
      "for  0.1\n",
      "recall:  0.5\n",
      "precision:  0.146033350176857\n",
      "[5242 1690  289  289]\n",
      "f1 score:  0.22604614782948768\n",
      "for  0.15\n",
      "recall:  0.3079584775086505\n",
      "precision:  0.19821826280623608\n",
      "[6212  720  400  178]\n",
      "f1 score:  0.24119241192411925\n",
      "for  0.2\n",
      "recall:  0.15916955017301038\n",
      "precision:  0.21904761904761905\n",
      "[6604  328  486   92]\n",
      "f1 score:  0.1843687374749499\n",
      "for  0.25\n",
      "recall:  0.07612456747404844\n",
      "precision:  0.23157894736842105\n",
      "[6786  146  534   44]\n",
      "f1 score:  0.11458333333333334\n",
      "for  0.3\n",
      "recall:  0.03460207612456748\n",
      "precision:  0.2777777777777778\n",
      "[6880   52  558   20]\n",
      "f1 score:  0.06153846153846155\n",
      "for  0.35\n",
      "recall:  0.020761245674740483\n",
      "precision:  0.41379310344827586\n",
      "[6915   17  566   12]\n",
      "f1 score:  0.039538714991762765\n"
     ]
    }
   ],
   "source": [
    "for t in thr:\n",
    "    y_pred = [1 if x > t else 0 for x in prob]\n",
    "    recall = recall_score(y_test, y_pred)\n",
    "    precision = precision_score(y_test, y_pred)\n",
    "    recalls.append(recall)\n",
    "    precisions.append(precision)\n",
    "    print('for ',t)\n",
    "    print('recall: ', recall_score(y_test, y_pred))\n",
    "    print('precision: ', precision_score(y_test, y_pred))\n",
    "    print(confusion_matrix(y_test, y_pred).ravel())\n",
    "    print('f1 score: ', f1_score(y_test, y_pred))"
   ]
  },
  {
   "cell_type": "markdown",
   "metadata": {},
   "source": [
    "Gradient Boosting"
   ]
  },
  {
   "cell_type": "code",
   "execution_count": 16,
   "metadata": {},
   "outputs": [
    {
     "data": {
      "text/plain": [
       "(30037, 43)"
      ]
     },
     "execution_count": 16,
     "metadata": {},
     "output_type": "execute_result"
    }
   ],
   "source": [
    "X_train.shape"
   ]
  },
  {
   "cell_type": "code",
   "execution_count": 17,
   "metadata": {},
   "outputs": [],
   "source": [
    "gb_gs = GradientBoostingClassifier(n_estimators = 1700, \n",
    "                                   learning_rate=0.005, max_depth=7, max_features=9,\n",
    "                                   min_samples_split=2000, min_samples_leaf=50, subsample=0.85)"
   ]
  },
  {
   "cell_type": "code",
   "execution_count": 18,
   "metadata": {
    "scrolled": true
   },
   "outputs": [
    {
     "data": {
      "text/plain": [
       "GradientBoostingClassifier(criterion='friedman_mse', init=None,\n",
       "              learning_rate=0.005, loss='deviance', max_depth=7,\n",
       "              max_features=9, max_leaf_nodes=None,\n",
       "              min_impurity_decrease=0.0, min_impurity_split=None,\n",
       "              min_samples_leaf=50, min_samples_split=2000,\n",
       "              min_weight_fraction_leaf=0.0, n_estimators=1700,\n",
       "              presort='auto', random_state=None, subsample=0.85, verbose=0,\n",
       "              warm_start=False)"
      ]
     },
     "execution_count": 18,
     "metadata": {},
     "output_type": "execute_result"
    }
   ],
   "source": [
    "gb_gs.fit(X_train, y_train)"
   ]
  },
  {
   "cell_type": "code",
   "execution_count": 19,
   "metadata": {},
   "outputs": [],
   "source": [
    "prob = gb_gs.predict_proba(X_test)[:,1]"
   ]
  },
  {
   "cell_type": "code",
   "execution_count": 20,
   "metadata": {},
   "outputs": [
    {
     "data": {
      "text/plain": [
       "array([0.02635029, 0.03191384, 0.05976487, ..., 0.11369416, 0.05571779,\n",
       "       0.03729602])"
      ]
     },
     "execution_count": 20,
     "metadata": {},
     "output_type": "execute_result"
    }
   ],
   "source": [
    "prob"
   ]
  },
  {
   "cell_type": "code",
   "execution_count": 32,
   "metadata": {},
   "outputs": [],
   "source": [
    "thr = [ 0.02, 0.03, 0.04,0.045, 0.05, 0.06,0.065, 0.07, 0.08, 0.09, 0.1,0.15, 0.2, 0.25]\n",
    "recalls = []\n",
    "precisions = []\n",
    "y_pred = []"
   ]
  },
  {
   "cell_type": "code",
   "execution_count": 22,
   "metadata": {},
   "outputs": [
    {
     "name": "stdout",
     "output_type": "stream",
     "text": [
      "for  0.02\n",
      "recall:  0.9984276729559748\n",
      "precision:  0.0855564537860415\n",
      "[  87 6787    1  635]\n",
      "f1 score:  0.15760734673616283\n",
      "0.5055420296697244\n",
      "for  0.03\n",
      "recall:  0.9779874213836478\n",
      "precision:  0.09145713865607999\n",
      "[ 695 6179   14  622]\n",
      "f1 score:  0.16727174936130162\n",
      "0.5395465183729411\n",
      "for  0.04\n",
      "recall:  0.9433962264150944\n",
      "precision:  0.10112927692566998\n",
      "[1541 5333   36  600]\n",
      "f1 score:  0.18267620642411325\n",
      "0.5837871443393481\n",
      "for  0.045\n",
      "recall:  0.9166666666666666\n",
      "precision:  0.10897196261682243\n",
      "[2107 4767   53  583]\n",
      "f1 score:  0.1947878382893418\n",
      "0.611591989137814\n",
      "for  0.05\n",
      "recall:  0.8805031446540881\n",
      "precision:  0.11618257261410789\n",
      "[2614 4260   76  560]\n",
      "f1 score:  0.20527859237536658\n",
      "0.6303883194902677\n",
      "for  0.06\n",
      "recall:  0.8223270440251572\n",
      "precision:  0.13455106766143554\n",
      "[3510 3364  113  523]\n",
      "f1 score:  0.23126243643599378\n",
      "0.6664733852654154\n",
      "for  0.065\n",
      "recall:  0.7767295597484277\n",
      "precision:  0.1415878475207796\n",
      "[3879 2995  142  494]\n",
      "f1 score:  0.23951515151515154\n",
      "0.6705149108023489\n",
      "for  0.07\n",
      "recall:  0.7232704402515723\n",
      "precision:  0.1475777991658646\n",
      "[4217 2657  176  460]\n",
      "f1 score:  0.24513722355448975\n",
      "0.6683707452930833\n",
      "for  0.08\n",
      "recall:  0.6572327044025157\n",
      "precision:  0.16145229818462728\n",
      "[4703 2171  218  418]\n",
      "f1 score:  0.2592248062015504\n",
      "0.6707024738189477\n",
      "for  0.09\n",
      "recall:  0.5990566037735849\n",
      "precision:  0.17647058823529413\n",
      "[5096 1778  255  381]\n",
      "f1 score:  0.27262969588550984\n",
      "0.6702003996464666\n",
      "for  0.1\n",
      "recall:  0.5424528301886793\n",
      "precision:  0.18628509719222464\n",
      "[5367 1507  291  345]\n",
      "f1 score:  0.277331189710611\n",
      "0.6616104709570106\n",
      "for  0.15\n",
      "recall:  0.3694968553459119\n",
      "precision:  0.25711159737417943\n",
      "[6195  679  401  235]\n",
      "f1 score:  0.3032258064516129\n",
      "0.6353594256362961\n",
      "for  0.2\n",
      "recall:  0.24056603773584906\n",
      "precision:  0.3154639175257732\n",
      "[6542  332  483  153]\n",
      "f1 score:  0.2729705619982159\n",
      "0.596134051745434\n",
      "for  0.25\n",
      "recall:  0.13364779874213836\n",
      "precision:  0.34274193548387094\n",
      "[6711  163  551   85]\n",
      "f1 score:  0.1923076923076923\n",
      "0.5549676293681597\n"
     ]
    }
   ],
   "source": [
    "for t in thr:\n",
    "    y_pred = [1 if x > t else 0 for x in pred]\n",
    "    recall = recall_score(y_test, y_pred)\n",
    "    precision = precision_score(y_test, y_pred)\n",
    "    recalls.append(recall)\n",
    "    precisions.append(precision)\n",
    "    print('for ',t)\n",
    "    print('recall: ', recall_score(y_test, y_pred))\n",
    "    print('precision: ', precision_score(y_test, y_pred))\n",
    "    print(confusion_matrix(y_test, y_pred).ravel())\n",
    "    print('f1 score: ', f1_score(y_test, y_pred))\n",
    "    fpr, tpr, thresholds = metrics.roc_curve(y_test, y_pred)\n",
    "    print(metrics.auc(fpr, tpr))"
   ]
  },
  {
   "cell_type": "code",
   "execution_count": 23,
   "metadata": {},
   "outputs": [],
   "source": [
    "t= 0.05\n",
    "y_pred = [1 if x > t else 0 for x in prob]"
   ]
  },
  {
   "cell_type": "code",
   "execution_count": 24,
   "metadata": {},
   "outputs": [],
   "source": [
    "fpr, tpr, threshold = metrics.roc_curve(y_test, y_pred)\n",
    "roc_auc = metrics.auc(fpr, tpr)"
   ]
  },
  {
   "cell_type": "code",
   "execution_count": 25,
   "metadata": {},
   "outputs": [
    {
     "data": {
      "text/plain": [
       "Text(0.5,15,'False Positive Rate')"
      ]
     },
     "execution_count": 25,
     "metadata": {},
     "output_type": "execute_result"
    },
    {
     "data": {
      "image/png": "[encoded data removed]",
      "text/plain": [
       "<Figure size 432x288 with 1 Axes>"
      ]
     },
     "metadata": {},
     "output_type": "display_data"
    }
   ],
   "source": [
    "plt.title('Predict Depression')\n",
    "plt.plot(fpr, tpr, 'b', label = 'AUC = %0.2f' % roc_auc)\n",
    "plt.legend(loc = 'lower right')\n",
    "plt.plot([0, 1], [0, 1],'r--')\n",
    "plt.xlim([0, 1])\n",
    "plt.ylim([0, 1])\n",
    "plt.ylabel('True Positive Rate')\n",
    "plt.xlabel('False Positive Rate')"
   ]
  },
  {
   "cell_type": "code",
   "execution_count": 26,
   "metadata": {},
   "outputs": [],
   "source": [
    "feature_importances = pd.DataFrame(gb_gs.feature_importances_,\n",
    "                                   index = X_train.columns,\n",
    "                                    columns=['importance']).sort_values('importance',ascending=False)"
   ]
  },
  {
   "cell_type": "code",
   "execution_count": 27,
   "metadata": {
    "scrolled": true
   },
   "outputs": [
    {
     "data": {
      "text/html": [
       "<div>\n",
       "<style scoped>\n",
       "    .dataframe tbody tr th:only-of-type {\n",
       "        vertical-align: middle;\n",
       "    }\n",
       "\n",
       "    .dataframe tbody tr th {\n",
       "        vertical-align: top;\n",
       "    }\n",
       "\n",
       "    .dataframe thead th {\n",
       "        text-align: right;\n",
       "    }\n",
       "</style>\n",
       "<table border=\"1\" class=\"dataframe\">\n",
       "  <thead>\n",
       "    <tr style=\"text-align: right;\">\n",
       "      <th></th>\n",
       "      <th>importance</th>\n",
       "    </tr>\n",
       "  </thead>\n",
       "  <tbody>\n",
       "    <tr>\n",
       "      <th>IRTRNFY</th>\n",
       "      <td>0.089030</td>\n",
       "    </tr>\n",
       "    <tr>\n",
       "      <th>IRANLFY</th>\n",
       "      <td>0.077969</td>\n",
       "    </tr>\n",
       "    <tr>\n",
       "      <th>IRALCFY</th>\n",
       "      <td>0.057943</td>\n",
       "    </tr>\n",
       "    <tr>\n",
       "      <th>IRMJFY</th>\n",
       "      <td>0.054940</td>\n",
       "    </tr>\n",
       "    <tr>\n",
       "      <th>DPILLALC</th>\n",
       "      <td>0.048721</td>\n",
       "    </tr>\n",
       "    <tr>\n",
       "      <th>SUMAGE</th>\n",
       "      <td>0.047201</td>\n",
       "    </tr>\n",
       "    <tr>\n",
       "      <th>IRSEX</th>\n",
       "      <td>0.046200</td>\n",
       "    </tr>\n",
       "    <tr>\n",
       "      <th>IRCIGAGE</th>\n",
       "      <td>0.045832</td>\n",
       "    </tr>\n",
       "    <tr>\n",
       "      <th>IRCOCFY</th>\n",
       "      <td>0.043611</td>\n",
       "    </tr>\n",
       "    <tr>\n",
       "      <th>IRALCAGE</th>\n",
       "      <td>0.041117</td>\n",
       "    </tr>\n",
       "    <tr>\n",
       "      <th>ABODILAL</th>\n",
       "      <td>0.040184</td>\n",
       "    </tr>\n",
       "    <tr>\n",
       "      <th>IRSTMFY</th>\n",
       "      <td>0.039728</td>\n",
       "    </tr>\n",
       "    <tr>\n",
       "      <th>IRCGRAGE</th>\n",
       "      <td>0.037540</td>\n",
       "    </tr>\n",
       "    <tr>\n",
       "      <th>CATAG6</th>\n",
       "      <td>0.036182</td>\n",
       "    </tr>\n",
       "    <tr>\n",
       "      <th>IRCIGFM</th>\n",
       "      <td>0.031861</td>\n",
       "    </tr>\n",
       "    <tr>\n",
       "      <th>INCOME</th>\n",
       "      <td>0.029074</td>\n",
       "    </tr>\n",
       "    <tr>\n",
       "      <th>IRSEDFY</th>\n",
       "      <td>0.028424</td>\n",
       "    </tr>\n",
       "    <tr>\n",
       "      <th>IRCRKAGE</th>\n",
       "      <td>0.028045</td>\n",
       "    </tr>\n",
       "    <tr>\n",
       "      <th>IRHALFY</th>\n",
       "      <td>0.021232</td>\n",
       "    </tr>\n",
       "    <tr>\n",
       "      <th>IRSNFAGE</th>\n",
       "      <td>0.017895</td>\n",
       "    </tr>\n",
       "    <tr>\n",
       "      <th>IRINHFY</th>\n",
       "      <td>0.017425</td>\n",
       "    </tr>\n",
       "    <tr>\n",
       "      <th>IRHERFY</th>\n",
       "      <td>0.017052</td>\n",
       "    </tr>\n",
       "    <tr>\n",
       "      <th>NEWRACE2</th>\n",
       "      <td>0.013545</td>\n",
       "    </tr>\n",
       "    <tr>\n",
       "      <th>DEPNDMRJ</th>\n",
       "      <td>0.010619</td>\n",
       "    </tr>\n",
       "    <tr>\n",
       "      <th>EDUCCAT2</th>\n",
       "      <td>0.010191</td>\n",
       "    </tr>\n",
       "    <tr>\n",
       "      <th>SUMYR</th>\n",
       "      <td>0.007638</td>\n",
       "    </tr>\n",
       "    <tr>\n",
       "      <th>CIGYR</th>\n",
       "      <td>0.007354</td>\n",
       "    </tr>\n",
       "    <tr>\n",
       "      <th>SUMFLAG</th>\n",
       "      <td>0.006995</td>\n",
       "    </tr>\n",
       "    <tr>\n",
       "      <th>IRCRKFY</th>\n",
       "      <td>0.006976</td>\n",
       "    </tr>\n",
       "    <tr>\n",
       "      <th>2</th>\n",
       "      <td>0.006844</td>\n",
       "    </tr>\n",
       "    <tr>\n",
       "      <th>CRKFLAG</th>\n",
       "      <td>0.005404</td>\n",
       "    </tr>\n",
       "    <tr>\n",
       "      <th>TOBFLAG</th>\n",
       "      <td>0.004489</td>\n",
       "    </tr>\n",
       "    <tr>\n",
       "      <th>SNFYR</th>\n",
       "      <td>0.003093</td>\n",
       "    </tr>\n",
       "    <tr>\n",
       "      <th>ALCYR</th>\n",
       "      <td>0.003038</td>\n",
       "    </tr>\n",
       "    <tr>\n",
       "      <th>CGRYR</th>\n",
       "      <td>0.002738</td>\n",
       "    </tr>\n",
       "    <tr>\n",
       "      <th>6</th>\n",
       "      <td>0.002671</td>\n",
       "    </tr>\n",
       "    <tr>\n",
       "      <th>5</th>\n",
       "      <td>0.002488</td>\n",
       "    </tr>\n",
       "    <tr>\n",
       "      <th>3</th>\n",
       "      <td>0.002265</td>\n",
       "    </tr>\n",
       "    <tr>\n",
       "      <th>SNFFLAG</th>\n",
       "      <td>0.002213</td>\n",
       "    </tr>\n",
       "    <tr>\n",
       "      <th>7</th>\n",
       "      <td>0.001844</td>\n",
       "    </tr>\n",
       "    <tr>\n",
       "      <th>4</th>\n",
       "      <td>0.001000</td>\n",
       "    </tr>\n",
       "    <tr>\n",
       "      <th>CRKYR</th>\n",
       "      <td>0.000771</td>\n",
       "    </tr>\n",
       "    <tr>\n",
       "      <th>ALCFLAG</th>\n",
       "      <td>0.000618</td>\n",
       "    </tr>\n",
       "  </tbody>\n",
       "</table>\n",
       "</div>"
      ],
      "text/plain": [
       "          importance\n",
       "IRTRNFY     0.089030\n",
       "IRANLFY     0.077969\n",
       "IRALCFY     0.057943\n",
       "IRMJFY      0.054940\n",
       "DPILLALC    0.048721\n",
       "SUMAGE      0.047201\n",
       "IRSEX       0.046200\n",
       "IRCIGAGE    0.045832\n",
       "IRCOCFY     0.043611\n",
       "IRALCAGE    0.041117\n",
       "ABODILAL    0.040184\n",
       "IRSTMFY     0.039728\n",
       "IRCGRAGE    0.037540\n",
       "CATAG6      0.036182\n",
       "IRCIGFM     0.031861\n",
       "INCOME      0.029074\n",
       "IRSEDFY     0.028424\n",
       "IRCRKAGE    0.028045\n",
       "IRHALFY     0.021232\n",
       "IRSNFAGE    0.017895\n",
       "IRINHFY     0.017425\n",
       "IRHERFY     0.017052\n",
       "NEWRACE2    0.013545\n",
       "DEPNDMRJ    0.010619\n",
       "EDUCCAT2    0.010191\n",
       "SUMYR       0.007638\n",
       "CIGYR       0.007354\n",
       "SUMFLAG     0.006995\n",
       "IRCRKFY     0.006976\n",
       "2           0.006844\n",
       "CRKFLAG     0.005404\n",
       "TOBFLAG     0.004489\n",
       "SNFYR       0.003093\n",
       "ALCYR       0.003038\n",
       "CGRYR       0.002738\n",
       "6           0.002671\n",
       "5           0.002488\n",
       "3           0.002265\n",
       "SNFFLAG     0.002213\n",
       "7           0.001844\n",
       "4           0.001000\n",
       "CRKYR       0.000771\n",
       "ALCFLAG     0.000618"
      ]
     },
     "execution_count": 27,
     "metadata": {},
     "output_type": "execute_result"
    }
   ],
   "source": [
    "feature_importances"
   ]
  },
  {
   "cell_type": "code",
   "execution_count": 34,
   "metadata": {},
   "outputs": [],
   "source": [
    "from sklearn.ensemble import BaggingClassifier\n",
    "from sklearn.model_selection import cross_val_predict\n",
    "from sklearn.ensemble import AdaBoostClassifier"
   ]
  },
  {
   "cell_type": "code",
   "execution_count": 35,
   "metadata": {},
   "outputs": [
    {
     "ename": "TypeError",
     "evalue": "__init__() got an unexpected keyword argument 'max_depth'",
     "output_type": "error",
     "traceback": [
      "\u001b[0;31m---------------------------------------------------------------------------\u001b[0m",
      "\u001b[0;31mTypeError\u001b[0m                                 Traceback (most recent call last)",
      "\u001b[0;32m<ipython-input-35-a2802073e378>\u001b[0m in \u001b[0;36m<module>\u001b[0;34m()\u001b[0m\n\u001b[1;32m      1\u001b[0m model = AdaBoostClassifier(n_estimators = 1700, \n\u001b[1;32m      2\u001b[0m                                    \u001b[0mlearning_rate\u001b[0m\u001b[0;34m=\u001b[0m\u001b[0;36m0.005\u001b[0m\u001b[0;34m,\u001b[0m \u001b[0mmax_depth\u001b[0m\u001b[0;34m=\u001b[0m\u001b[0;36m7\u001b[0m\u001b[0;34m,\u001b[0m \u001b[0mmax_features\u001b[0m\u001b[0;34m=\u001b[0m\u001b[0;36m9\u001b[0m\u001b[0;34m,\u001b[0m\u001b[0;34m\u001b[0m\u001b[0m\n\u001b[0;32m----> 3\u001b[0;31m                                    min_samples_split=2000, min_samples_leaf=50, subsample=0.85)\n\u001b[0m",
      "\u001b[0;31mTypeError\u001b[0m: __init__() got an unexpected keyword argument 'max_depth'"
     ]
    }
   ],
   "source": [
    "model = AdaBoostClassifier(n_estimators = 1700, \n",
    "                                   learning_rate=0.005, max_depth=7, max_features=9,\n",
    "                                   min_samples_split=2000, min_samples_leaf=50, subsample=0.85)"
   ]
  },
  {
   "cell_type": "code",
   "execution_count": null,
   "metadata": {},
   "outputs": [],
   "source": []
  },
  {
   "cell_type": "code",
   "execution_count": null,
   "metadata": {},
   "outputs": [],
   "source": []
  },
  {
   "cell_type": "markdown",
   "metadata": {},
   "source": [
    "Grid search: tune n_estimators"
   ]
  },
  {
   "cell_type": "code",
   "execution_count": 134,
   "metadata": {},
   "outputs": [],
   "source": [
    "gb_gs = GradientBoostingClassifier(learning_rate=0.1, max_depth=5, max_features='sqrt',\n",
    "                                   min_samples_split=300, min_samples_leaf=30, subsample=0.8)"
   ]
  },
  {
   "cell_type": "code",
   "execution_count": 135,
   "metadata": {},
   "outputs": [
    {
     "data": {
      "text/plain": [
       "GridSearchCV(cv=5, error_score='raise',\n",
       "       estimator=GradientBoostingClassifier(criterion='friedman_mse', init=None,\n",
       "              learning_rate=0.1, loss='deviance', max_depth=5,\n",
       "              max_features='sqrt', max_leaf_nodes=None,\n",
       "              min_impurity_decrease=0.0, min_impurity_split=None,\n",
       "              min_samples_leaf=30, min_samples_split=300,\n",
       "              min_weight_fraction_leaf=0.0, n_estimators=100,\n",
       "              presort='auto', random_state=None, subsample=0.8, verbose=0,\n",
       "              warm_start=False),\n",
       "       fit_params=None, iid=False, n_jobs=4,\n",
       "       param_grid={'n_estimators': range(20, 201, 10)},\n",
       "       pre_dispatch='2*n_jobs', refit=True, return_train_score='warn',\n",
       "       scoring='roc_auc', verbose=0)"
      ]
     },
     "execution_count": 135,
     "metadata": {},
     "output_type": "execute_result"
    }
   ],
   "source": [
    "param_test1 = {'n_estimators':range(20,201,10)}\n",
    "gsearch1 = GridSearchCV(estimator=gb_gs, \n",
    "param_grid = param_test1, scoring='roc_auc',n_jobs=4,iid=False, cv=5)\n",
    "gsearch1.fit(X_train,y_train)"
   ]
  },
  {
   "cell_type": "code",
   "execution_count": 136,
   "metadata": {},
   "outputs": [
    {
     "name": "stderr",
     "output_type": "stream",
     "text": [
      "/Users/shaked/miniconda3/lib/python3.6/site-packages/sklearn/model_selection/_search.py:761: DeprecationWarning: The grid_scores_ attribute was deprecated in version 0.18 in favor of the more elaborate cv_results_ attribute. The grid_scores_ attribute will not be available from 0.20\n",
      "  DeprecationWarning)\n"
     ]
    },
    {
     "data": {
      "text/plain": [
       "([mean: 0.69210, std: 0.00568, params: {'n_estimators': 20},\n",
       "  mean: 0.69898, std: 0.00718, params: {'n_estimators': 30},\n",
       "  mean: 0.70142, std: 0.00477, params: {'n_estimators': 40},\n",
       "  mean: 0.70132, std: 0.00635, params: {'n_estimators': 50},\n",
       "  mean: 0.70474, std: 0.00486, params: {'n_estimators': 60},\n",
       "  mean: 0.70185, std: 0.00626, params: {'n_estimators': 70},\n",
       "  mean: 0.70348, std: 0.00830, params: {'n_estimators': 80},\n",
       "  mean: 0.70383, std: 0.00734, params: {'n_estimators': 90},\n",
       "  mean: 0.70297, std: 0.00690, params: {'n_estimators': 100},\n",
       "  mean: 0.70157, std: 0.00914, params: {'n_estimators': 110},\n",
       "  mean: 0.70230, std: 0.00848, params: {'n_estimators': 120},\n",
       "  mean: 0.70410, std: 0.00693, params: {'n_estimators': 130},\n",
       "  mean: 0.70143, std: 0.00848, params: {'n_estimators': 140},\n",
       "  mean: 0.70234, std: 0.00694, params: {'n_estimators': 150},\n",
       "  mean: 0.70167, std: 0.00873, params: {'n_estimators': 160},\n",
       "  mean: 0.70155, std: 0.00971, params: {'n_estimators': 170},\n",
       "  mean: 0.70059, std: 0.00919, params: {'n_estimators': 180},\n",
       "  mean: 0.70036, std: 0.00885, params: {'n_estimators': 190},\n",
       "  mean: 0.70120, std: 0.00868, params: {'n_estimators': 200}],\n",
       " {'n_estimators': 60},\n",
       " 0.704741422990477)"
      ]
     },
     "execution_count": 136,
     "metadata": {},
     "output_type": "execute_result"
    }
   ],
   "source": [
    "gsearch1.grid_scores_, gsearch1.best_params_, gsearch1.best_score_\n"
   ]
  },
  {
   "cell_type": "markdown",
   "metadata": {},
   "source": [
    "Grid search: tuning max_depth, min_samples_split"
   ]
  },
  {
   "cell_type": "code",
   "execution_count": 152,
   "metadata": {},
   "outputs": [],
   "source": [
    "gb_gs = GradientBoostingClassifier(learning_rate=0.1, max_features='sqrt',\n",
    "                                   min_samples_leaf=30, subsample=0.8)"
   ]
  },
  {
   "cell_type": "code",
   "execution_count": 154,
   "metadata": {},
   "outputs": [
    {
     "data": {
      "text/plain": [
       "GridSearchCV(cv=5, error_score='raise',\n",
       "       estimator=GradientBoostingClassifier(criterion='friedman_mse', init=None,\n",
       "              learning_rate=0.1, loss='deviance', max_depth=3,\n",
       "              max_features='sqrt', max_leaf_nodes=None,\n",
       "              min_impurity_decrease=0.0, min_impurity_split=None,\n",
       "              min_samples_leaf=30, min_samples_split=2,\n",
       "              min_weight_fraction_leaf=0.0, n_estimators=100,\n",
       "              presort='auto', random_state=None, subsample=0.8, verbose=0,\n",
       "              warm_start=False),\n",
       "       fit_params=None, iid=False, n_jobs=4,\n",
       "       param_grid={'max_depth': range(5, 16, 2), 'min_samples_split': range(200, 1001, 200)},\n",
       "       pre_dispatch='2*n_jobs', refit=True, return_train_score='warn',\n",
       "       scoring='roc_auc', verbose=0)"
      ]
     },
     "execution_count": 154,
     "metadata": {},
     "output_type": "execute_result"
    }
   ],
   "source": [
    "param_test2 = {'max_depth':range(2,14,2), 'min_samples_split':range(200,1001,200)}\n",
    "gsearch2 = GridSearchCV(estimator=gb_gs, \n",
    "param_grid = param_test2, scoring='roc_auc',n_jobs=4,iid=False, cv=5)\n",
    "gsearch2.fit(X_train,y_train)"
   ]
  },
  {
   "cell_type": "code",
   "execution_count": 155,
   "metadata": {},
   "outputs": [
    {
     "name": "stderr",
     "output_type": "stream",
     "text": [
      "/Users/shaked/miniconda3/lib/python3.6/site-packages/sklearn/model_selection/_search.py:761: DeprecationWarning: The grid_scores_ attribute was deprecated in version 0.18 in favor of the more elaborate cv_results_ attribute. The grid_scores_ attribute will not be available from 0.20\n",
      "  DeprecationWarning)\n"
     ]
    },
    {
     "data": {
      "text/plain": [
       "([mean: 0.70323, std: 0.00804, params: {'max_depth': 5, 'min_samples_split': 200},\n",
       "  mean: 0.70384, std: 0.00743, params: {'max_depth': 5, 'min_samples_split': 400},\n",
       "  mean: 0.70246, std: 0.00614, params: {'max_depth': 5, 'min_samples_split': 600},\n",
       "  mean: 0.70371, std: 0.00717, params: {'max_depth': 5, 'min_samples_split': 800},\n",
       "  mean: 0.70294, std: 0.00665, params: {'max_depth': 5, 'min_samples_split': 1000},\n",
       "  mean: 0.70120, std: 0.00875, params: {'max_depth': 7, 'min_samples_split': 200},\n",
       "  mean: 0.70213, std: 0.00872, params: {'max_depth': 7, 'min_samples_split': 400},\n",
       "  mean: 0.70076, std: 0.00736, params: {'max_depth': 7, 'min_samples_split': 600},\n",
       "  mean: 0.70367, std: 0.00784, params: {'max_depth': 7, 'min_samples_split': 800},\n",
       "  mean: 0.70448, std: 0.00699, params: {'max_depth': 7, 'min_samples_split': 1000},\n",
       "  mean: 0.69603, std: 0.00869, params: {'max_depth': 9, 'min_samples_split': 200},\n",
       "  mean: 0.69591, std: 0.00776, params: {'max_depth': 9, 'min_samples_split': 400},\n",
       "  mean: 0.69801, std: 0.00706, params: {'max_depth': 9, 'min_samples_split': 600},\n",
       "  mean: 0.70110, std: 0.00851, params: {'max_depth': 9, 'min_samples_split': 800},\n",
       "  mean: 0.70087, std: 0.00789, params: {'max_depth': 9, 'min_samples_split': 1000},\n",
       "  mean: 0.68966, std: 0.00914, params: {'max_depth': 11, 'min_samples_split': 200},\n",
       "  mean: 0.69415, std: 0.00958, params: {'max_depth': 11, 'min_samples_split': 400},\n",
       "  mean: 0.69631, std: 0.00749, params: {'max_depth': 11, 'min_samples_split': 600},\n",
       "  mean: 0.69801, std: 0.01002, params: {'max_depth': 11, 'min_samples_split': 800},\n",
       "  mean: 0.70120, std: 0.00572, params: {'max_depth': 11, 'min_samples_split': 1000},\n",
       "  mean: 0.68418, std: 0.00980, params: {'max_depth': 13, 'min_samples_split': 200},\n",
       "  mean: 0.69347, std: 0.01048, params: {'max_depth': 13, 'min_samples_split': 400},\n",
       "  mean: 0.69722, std: 0.00903, params: {'max_depth': 13, 'min_samples_split': 600},\n",
       "  mean: 0.69572, std: 0.00786, params: {'max_depth': 13, 'min_samples_split': 800},\n",
       "  mean: 0.69755, std: 0.00766, params: {'max_depth': 13, 'min_samples_split': 1000},\n",
       "  mean: 0.68125, std: 0.00979, params: {'max_depth': 15, 'min_samples_split': 200},\n",
       "  mean: 0.68955, std: 0.00522, params: {'max_depth': 15, 'min_samples_split': 400},\n",
       "  mean: 0.69406, std: 0.00762, params: {'max_depth': 15, 'min_samples_split': 600},\n",
       "  mean: 0.69706, std: 0.00935, params: {'max_depth': 15, 'min_samples_split': 800},\n",
       "  mean: 0.69736, std: 0.00880, params: {'max_depth': 15, 'min_samples_split': 1000}],\n",
       " {'max_depth': 7, 'min_samples_split': 1000},\n",
       " 0.704476192860907)"
      ]
     },
     "execution_count": 155,
     "metadata": {},
     "output_type": "execute_result"
    }
   ],
   "source": [
    "gsearch2.grid_scores_, gsearch2.best_params_, gsearch2.best_score_"
   ]
  },
  {
   "cell_type": "markdown",
   "metadata": {},
   "source": [
    "Grid search: tuning min_samples_split, min_samples_leaf"
   ]
  },
  {
   "cell_type": "code",
   "execution_count": 162,
   "metadata": {},
   "outputs": [],
   "source": [
    "gb_gs = GradientBoostingClassifier(n_estimators = 60, \n",
    "                                   learning_rate=0.1, max_depth=7, max_features='sqrt',\n",
    "                                subsample=0.8)"
   ]
  },
  {
   "cell_type": "code",
   "execution_count": 163,
   "metadata": {},
   "outputs": [
    {
     "data": {
      "text/plain": [
       "GridSearchCV(cv=5, error_score='raise',\n",
       "       estimator=GradientBoostingClassifier(criterion='friedman_mse', init=None,\n",
       "              learning_rate=0.1, loss='deviance', max_depth=7,\n",
       "              max_features='sqrt', max_leaf_nodes=None,\n",
       "              min_impurity_decrease=0.0, min_impurity_split=None,\n",
       "              min_samples_leaf=1, min_samples_split=2,\n",
       "              min_weight_fraction_leaf=0.0, n_estimators=60,\n",
       "              presort='auto', random_state=None, subsample=0.8, verbose=0,\n",
       "              warm_start=False),\n",
       "       fit_params=None, iid=False, n_jobs=4,\n",
       "       param_grid={'min_samples_split': range(800, 2100, 200), 'min_samples_leaf': range(20, 71, 10)},\n",
       "       pre_dispatch='2*n_jobs', refit=True, return_train_score='warn',\n",
       "       scoring='roc_auc', verbose=0)"
      ]
     },
     "execution_count": 163,
     "metadata": {},
     "output_type": "execute_result"
    }
   ],
   "source": [
    "param_test3 = {'min_samples_split':range(800,2100,200), 'min_samples_leaf':range(20,71,10)}\n",
    "gsearch3 = GridSearchCV(estimator=gb_gs, \n",
    "param_grid = param_test3, scoring='roc_auc',n_jobs=4,iid=False, cv=5)\n",
    "gsearch3.fit(X_train,y_train)"
   ]
  },
  {
   "cell_type": "code",
   "execution_count": 164,
   "metadata": {},
   "outputs": [
    {
     "name": "stderr",
     "output_type": "stream",
     "text": [
      "/Users/shaked/miniconda3/lib/python3.6/site-packages/sklearn/model_selection/_search.py:761: DeprecationWarning: The grid_scores_ attribute was deprecated in version 0.18 in favor of the more elaborate cv_results_ attribute. The grid_scores_ attribute will not be available from 0.20\n",
      "  DeprecationWarning)\n"
     ]
    },
    {
     "data": {
      "text/plain": [
       "([mean: 0.70311, std: 0.00760, params: {'min_samples_leaf': 20, 'min_samples_split': 800},\n",
       "  mean: 0.70070, std: 0.00673, params: {'min_samples_leaf': 20, 'min_samples_split': 1000},\n",
       "  mean: 0.70510, std: 0.00465, params: {'min_samples_leaf': 20, 'min_samples_split': 1200},\n",
       "  mean: 0.70516, std: 0.00501, params: {'min_samples_leaf': 20, 'min_samples_split': 1400},\n",
       "  mean: 0.70442, std: 0.00622, params: {'min_samples_leaf': 20, 'min_samples_split': 1600},\n",
       "  mean: 0.70437, std: 0.00567, params: {'min_samples_leaf': 20, 'min_samples_split': 1800},\n",
       "  mean: 0.70277, std: 0.00655, params: {'min_samples_leaf': 20, 'min_samples_split': 2000},\n",
       "  mean: 0.70446, std: 0.00809, params: {'min_samples_leaf': 30, 'min_samples_split': 800},\n",
       "  mean: 0.70428, std: 0.00922, params: {'min_samples_leaf': 30, 'min_samples_split': 1000},\n",
       "  mean: 0.70352, std: 0.00640, params: {'min_samples_leaf': 30, 'min_samples_split': 1200},\n",
       "  mean: 0.70362, std: 0.00845, params: {'min_samples_leaf': 30, 'min_samples_split': 1400},\n",
       "  mean: 0.70457, std: 0.00608, params: {'min_samples_leaf': 30, 'min_samples_split': 1600},\n",
       "  mean: 0.70526, std: 0.00563, params: {'min_samples_leaf': 30, 'min_samples_split': 1800},\n",
       "  mean: 0.70153, std: 0.00680, params: {'min_samples_leaf': 30, 'min_samples_split': 2000},\n",
       "  mean: 0.70284, std: 0.00803, params: {'min_samples_leaf': 40, 'min_samples_split': 800},\n",
       "  mean: 0.70592, std: 0.00665, params: {'min_samples_leaf': 40, 'min_samples_split': 1000},\n",
       "  mean: 0.70476, std: 0.00643, params: {'min_samples_leaf': 40, 'min_samples_split': 1200},\n",
       "  mean: 0.70316, std: 0.00840, params: {'min_samples_leaf': 40, 'min_samples_split': 1400},\n",
       "  mean: 0.70212, std: 0.00599, params: {'min_samples_leaf': 40, 'min_samples_split': 1600},\n",
       "  mean: 0.70480, std: 0.00538, params: {'min_samples_leaf': 40, 'min_samples_split': 1800},\n",
       "  mean: 0.70334, std: 0.00981, params: {'min_samples_leaf': 40, 'min_samples_split': 2000},\n",
       "  mean: 0.70293, std: 0.00675, params: {'min_samples_leaf': 50, 'min_samples_split': 800},\n",
       "  mean: 0.70497, std: 0.00697, params: {'min_samples_leaf': 50, 'min_samples_split': 1000},\n",
       "  mean: 0.70271, std: 0.00670, params: {'min_samples_leaf': 50, 'min_samples_split': 1200},\n",
       "  mean: 0.70482, std: 0.00695, params: {'min_samples_leaf': 50, 'min_samples_split': 1400},\n",
       "  mean: 0.70319, std: 0.00696, params: {'min_samples_leaf': 50, 'min_samples_split': 1600},\n",
       "  mean: 0.70322, std: 0.00637, params: {'min_samples_leaf': 50, 'min_samples_split': 1800},\n",
       "  mean: 0.70661, std: 0.00761, params: {'min_samples_leaf': 50, 'min_samples_split': 2000},\n",
       "  mean: 0.70310, std: 0.00605, params: {'min_samples_leaf': 60, 'min_samples_split': 800},\n",
       "  mean: 0.70288, std: 0.00681, params: {'min_samples_leaf': 60, 'min_samples_split': 1000},\n",
       "  mean: 0.70407, std: 0.00579, params: {'min_samples_leaf': 60, 'min_samples_split': 1200},\n",
       "  mean: 0.70455, std: 0.00788, params: {'min_samples_leaf': 60, 'min_samples_split': 1400},\n",
       "  mean: 0.70303, std: 0.00661, params: {'min_samples_leaf': 60, 'min_samples_split': 1600},\n",
       "  mean: 0.70442, std: 0.00762, params: {'min_samples_leaf': 60, 'min_samples_split': 1800},\n",
       "  mean: 0.70315, std: 0.00723, params: {'min_samples_leaf': 60, 'min_samples_split': 2000},\n",
       "  mean: 0.70372, std: 0.00730, params: {'min_samples_leaf': 70, 'min_samples_split': 800},\n",
       "  mean: 0.70520, std: 0.00743, params: {'min_samples_leaf': 70, 'min_samples_split': 1000},\n",
       "  mean: 0.70446, std: 0.00666, params: {'min_samples_leaf': 70, 'min_samples_split': 1200},\n",
       "  mean: 0.70415, std: 0.00762, params: {'min_samples_leaf': 70, 'min_samples_split': 1400},\n",
       "  mean: 0.70412, std: 0.00781, params: {'min_samples_leaf': 70, 'min_samples_split': 1600},\n",
       "  mean: 0.70151, std: 0.00708, params: {'min_samples_leaf': 70, 'min_samples_split': 1800},\n",
       "  mean: 0.70303, std: 0.00669, params: {'min_samples_leaf': 70, 'min_samples_split': 2000}],\n",
       " {'min_samples_leaf': 50, 'min_samples_split': 2000},\n",
       " 0.7066088559088476)"
      ]
     },
     "execution_count": 164,
     "metadata": {},
     "output_type": "execute_result"
    }
   ],
   "source": [
    "gsearch3.grid_scores_, gsearch3.best_params_, gsearch3.best_score_"
   ]
  },
  {
   "cell_type": "code",
   "execution_count": 176,
   "metadata": {},
   "outputs": [],
   "source": [
    "gb_gs = GradientBoostingClassifier(n_estimators = 60, \n",
    "                                   learning_rate=0.1, max_depth=7,\n",
    "                                   min_samples_split=2000, min_samples_leaf=50, subsample=0.8)"
   ]
  },
  {
   "cell_type": "code",
   "execution_count": 179,
   "metadata": {},
   "outputs": [
    {
     "data": {
      "text/plain": [
       "GridSearchCV(cv=5, error_score='raise',\n",
       "       estimator=GradientBoostingClassifier(criterion='friedman_mse', init=None,\n",
       "              learning_rate=0.1, loss='deviance', max_depth=7,\n",
       "              max_features=None, max_leaf_nodes=None,\n",
       "              min_impurity_decrease=0.0, min_impurity_split=None,\n",
       "              min_samples_leaf=50, min_samples_split=2000,\n",
       "              min_weight_fraction_leaf=0.0, n_estimators=60,\n",
       "              presort='auto', random_state=None, subsample=0.8, verbose=0,\n",
       "              warm_start=False),\n",
       "       fit_params=None, iid=False, n_jobs=4,\n",
       "       param_grid={'max_features': range(7, 20, 2)},\n",
       "       pre_dispatch='2*n_jobs', refit=True, return_train_score='warn',\n",
       "       scoring='roc_auc', verbose=0)"
      ]
     },
     "execution_count": 179,
     "metadata": {},
     "output_type": "execute_result"
    }
   ],
   "source": [
    "param_test4 = {'max_features':range(7,20,2)}\n",
    "gsearch4 = GridSearchCV(estimator=gb_gs, \n",
    "param_grid = param_test4, scoring='roc_auc',n_jobs=4,iid=False, cv=5)\n",
    "gsearch4.fit(X_train,y_train)"
   ]
  },
  {
   "cell_type": "code",
   "execution_count": 180,
   "metadata": {},
   "outputs": [
    {
     "name": "stderr",
     "output_type": "stream",
     "text": [
      "/Users/shaked/miniconda3/lib/python3.6/site-packages/sklearn/model_selection/_search.py:761: DeprecationWarning: The grid_scores_ attribute was deprecated in version 0.18 in favor of the more elaborate cv_results_ attribute. The grid_scores_ attribute will not be available from 0.20\n",
      "  DeprecationWarning)\n"
     ]
    },
    {
     "data": {
      "text/plain": [
       "([mean: 0.70300, std: 0.00759, params: {'max_features': 7},\n",
       "  mean: 0.70412, std: 0.00946, params: {'max_features': 9},\n",
       "  mean: 0.70325, std: 0.00693, params: {'max_features': 11},\n",
       "  mean: 0.70256, std: 0.00796, params: {'max_features': 13},\n",
       "  mean: 0.70277, std: 0.00834, params: {'max_features': 15},\n",
       "  mean: 0.70359, std: 0.00720, params: {'max_features': 17},\n",
       "  mean: 0.70229, std: 0.00729, params: {'max_features': 19}],\n",
       " {'max_features': 9},\n",
       " 0.7041176825808726)"
      ]
     },
     "execution_count": 180,
     "metadata": {},
     "output_type": "execute_result"
    }
   ],
   "source": [
    "gsearch4.grid_scores_, gsearch4.best_params_, gsearch4.best_score_"
   ]
  },
  {
   "cell_type": "code",
   "execution_count": 5,
   "metadata": {},
   "outputs": [],
   "source": [
    "gb_gs = GradientBoostingClassifier(n_estimators = 60, \n",
    "                                   learning_rate=0.1, max_depth=7, max_features=9,\n",
    "                                   min_samples_split=2000, min_samples_leaf=50)"
   ]
  },
  {
   "cell_type": "code",
   "execution_count": 6,
   "metadata": {},
   "outputs": [
    {
     "data": {
      "text/plain": [
       "GridSearchCV(cv=5, error_score='raise',\n",
       "       estimator=GradientBoostingClassifier(criterion='friedman_mse', init=None,\n",
       "              learning_rate=0.1, loss='deviance', max_depth=7,\n",
       "              max_features=9, max_leaf_nodes=None,\n",
       "              min_impurity_decrease=0.0, min_impurity_split=None,\n",
       "              min_samples_leaf=50, min_samples_split=2000,\n",
       "              min_weight_fraction_leaf=0.0, n_estimators=60,\n",
       "              presort='auto', random_state=None, subsample=1.0, verbose=0,\n",
       "              warm_start=False),\n",
       "       fit_params=None, iid=False, n_jobs=4,\n",
       "       param_grid={'subsample': [0.6, 0.7, 0.75, 0.8, 0.85, 0.9]},\n",
       "       pre_dispatch='2*n_jobs', refit=True, return_train_score='warn',\n",
       "       scoring='roc_auc', verbose=0)"
      ]
     },
     "execution_count": 6,
     "metadata": {},
     "output_type": "execute_result"
    }
   ],
   "source": [
    "param_test5 = {'subsample':[0.6,0.7,0.75,0.8,0.85,0.9]}\n",
    "gsearch5 = GridSearchCV(estimator=gb_gs, \n",
    "param_grid = param_test5, scoring='roc_auc',n_jobs=4,iid=False, cv=5)\n",
    "gsearch5.fit(X_train,y_train)"
   ]
  },
  {
   "cell_type": "code",
   "execution_count": 7,
   "metadata": {},
   "outputs": [
    {
     "name": "stderr",
     "output_type": "stream",
     "text": [
      "/Users/shaked/miniconda3/lib/python3.6/site-packages/sklearn/model_selection/_search.py:761: DeprecationWarning: The grid_scores_ attribute was deprecated in version 0.18 in favor of the more elaborate cv_results_ attribute. The grid_scores_ attribute will not be available from 0.20\n",
      "  DeprecationWarning)\n"
     ]
    },
    {
     "data": {
      "text/plain": [
       "([mean: 0.70232, std: 0.00769, params: {'subsample': 0.6},\n",
       "  mean: 0.70415, std: 0.00905, params: {'subsample': 0.7},\n",
       "  mean: 0.70395, std: 0.00637, params: {'subsample': 0.75},\n",
       "  mean: 0.70412, std: 0.00556, params: {'subsample': 0.8},\n",
       "  mean: 0.70605, std: 0.00706, params: {'subsample': 0.85},\n",
       "  mean: 0.70339, std: 0.00599, params: {'subsample': 0.9}],\n",
       " {'subsample': 0.85},\n",
       " 0.7060501503379315)"
      ]
     },
     "execution_count": 7,
     "metadata": {},
     "output_type": "execute_result"
    }
   ],
   "source": [
    "gsearch5.grid_scores_, gsearch5.best_params_, gsearch5.best_score_"
   ]
  },
  {
   "cell_type": "code",
   "execution_count": 36,
   "metadata": {},
   "outputs": [],
   "source": [
    "gb_gs = GradientBoostingClassifier(n_estimators = 1700, \n",
    "                                   learning_rate=0.005, max_depth=7, max_features=9,\n",
    "                                   min_samples_split=2000, min_samples_leaf=50, subsample=0.85)"
   ]
  },
  {
   "cell_type": "code",
   "execution_count": null,
   "metadata": {},
   "outputs": [],
   "source": [
    "param_test6 = {'learning_rate':[0.15,0.1,0.05,0.01,0.005,0.001], 'n_estimators':[100,250,500,750,1000,1250,1500,1750]}\n",
    "gsearch6 = GridSearchCV(estimator=gb_gs, \n",
    "param_grid = param_test6, scoring='roc_auc',n_jobs=4,iid=False, cv=5)\n",
    "gsearch6.fit(X_train,y_train)"
   ]
  },
  {
   "cell_type": "code",
   "execution_count": 37,
   "metadata": {},
   "outputs": [
    {
     "ename": "ValueError",
     "evalue": "Invalid parameter class_weight for estimator GradientBoostingClassifier(criterion='friedman_mse', init=None,\n              learning_rate=0.005, loss='deviance', max_depth=7,\n              max_features=9, max_leaf_nodes=None,\n              min_impurity_decrease=0.0, min_impurity_split=None,\n              min_samples_leaf=50, min_samples_split=2000,\n              min_weight_fraction_leaf=0.0, n_estimators=1700,\n              presort='auto', random_state=None, subsample=0.85, verbose=0,\n              warm_start=False). Check the list of available parameters with `estimator.get_params().keys()`.",
     "output_type": "error",
     "traceback": [
      "\u001b[0;31m---------------------------------------------------------------------------\u001b[0m",
      "\u001b[0;31mValueError\u001b[0m                                Traceback (most recent call last)",
      "\u001b[0;32m<ipython-input-37-bef88f54e72c>\u001b[0m in \u001b[0;36m<module>\u001b[0;34m()\u001b[0m\n\u001b[1;32m      8\u001b[0m     \u001b[0mcv\u001b[0m\u001b[0;34m=\u001b[0m\u001b[0;36m3\u001b[0m\u001b[0;34m\u001b[0m\u001b[0m\n\u001b[1;32m      9\u001b[0m )\n\u001b[0;32m---> 10\u001b[0;31m \u001b[0mgrid_result\u001b[0m \u001b[0;34m=\u001b[0m \u001b[0mgsearch7\u001b[0m\u001b[0;34m.\u001b[0m\u001b[0mfit\u001b[0m\u001b[0;34m(\u001b[0m\u001b[0mX_train\u001b[0m\u001b[0;34m,\u001b[0m\u001b[0my_train\u001b[0m\u001b[0;34m)\u001b[0m\u001b[0;34m\u001b[0m\u001b[0m\n\u001b[0m",
      "\u001b[0;32m~/miniconda3/lib/python3.6/site-packages/sklearn/model_selection/_search.py\u001b[0m in \u001b[0;36mfit\u001b[0;34m(self, X, y, groups, **fit_params)\u001b[0m\n\u001b[1;32m    637\u001b[0m                                   error_score=self.error_score)\n\u001b[1;32m    638\u001b[0m           for parameters, (train, test) in product(candidate_params,\n\u001b[0;32m--> 639\u001b[0;31m                                                    cv.split(X, y, groups)))\n\u001b[0m\u001b[1;32m    640\u001b[0m \u001b[0;34m\u001b[0m\u001b[0m\n\u001b[1;32m    641\u001b[0m         \u001b[0;31m# if one choose to see train score, \"out\" will contain train score info\u001b[0m\u001b[0;34m\u001b[0m\u001b[0;34m\u001b[0m\u001b[0m\n",
      "\u001b[0;32m~/miniconda3/lib/python3.6/site-packages/sklearn/externals/joblib/parallel.py\u001b[0m in \u001b[0;36m__call__\u001b[0;34m(self, iterable)\u001b[0m\n\u001b[1;32m    777\u001b[0m             \u001b[0;31m# was dispatched. In particular this covers the edge\u001b[0m\u001b[0;34m\u001b[0m\u001b[0;34m\u001b[0m\u001b[0m\n\u001b[1;32m    778\u001b[0m             \u001b[0;31m# case of Parallel used with an exhausted iterator.\u001b[0m\u001b[0;34m\u001b[0m\u001b[0;34m\u001b[0m\u001b[0m\n\u001b[0;32m--> 779\u001b[0;31m             \u001b[0;32mwhile\u001b[0m \u001b[0mself\u001b[0m\u001b[0;34m.\u001b[0m\u001b[0mdispatch_one_batch\u001b[0m\u001b[0;34m(\u001b[0m\u001b[0miterator\u001b[0m\u001b[0;34m)\u001b[0m\u001b[0;34m:\u001b[0m\u001b[0;34m\u001b[0m\u001b[0m\n\u001b[0m\u001b[1;32m    780\u001b[0m                 \u001b[0mself\u001b[0m\u001b[0;34m.\u001b[0m\u001b[0m_iterating\u001b[0m \u001b[0;34m=\u001b[0m \u001b[0;32mTrue\u001b[0m\u001b[0;34m\u001b[0m\u001b[0m\n\u001b[1;32m    781\u001b[0m             \u001b[0;32melse\u001b[0m\u001b[0;34m:\u001b[0m\u001b[0;34m\u001b[0m\u001b[0m\n",
      "\u001b[0;32m~/miniconda3/lib/python3.6/site-packages/sklearn/externals/joblib/parallel.py\u001b[0m in \u001b[0;36mdispatch_one_batch\u001b[0;34m(self, iterator)\u001b[0m\n\u001b[1;32m    623\u001b[0m                 \u001b[0;32mreturn\u001b[0m \u001b[0;32mFalse\u001b[0m\u001b[0;34m\u001b[0m\u001b[0m\n\u001b[1;32m    624\u001b[0m             \u001b[0;32melse\u001b[0m\u001b[0;34m:\u001b[0m\u001b[0;34m\u001b[0m\u001b[0m\n\u001b[0;32m--> 625\u001b[0;31m                 \u001b[0mself\u001b[0m\u001b[0;34m.\u001b[0m\u001b[0m_dispatch\u001b[0m\u001b[0;34m(\u001b[0m\u001b[0mtasks\u001b[0m\u001b[0;34m)\u001b[0m\u001b[0;34m\u001b[0m\u001b[0m\n\u001b[0m\u001b[1;32m    626\u001b[0m                 \u001b[0;32mreturn\u001b[0m \u001b[0;32mTrue\u001b[0m\u001b[0;34m\u001b[0m\u001b[0m\n\u001b[1;32m    627\u001b[0m \u001b[0;34m\u001b[0m\u001b[0m\n",
      "\u001b[0;32m~/miniconda3/lib/python3.6/site-packages/sklearn/externals/joblib/parallel.py\u001b[0m in \u001b[0;36m_dispatch\u001b[0;34m(self, batch)\u001b[0m\n\u001b[1;32m    586\u001b[0m         \u001b[0mdispatch_timestamp\u001b[0m \u001b[0;34m=\u001b[0m \u001b[0mtime\u001b[0m\u001b[0;34m.\u001b[0m\u001b[0mtime\u001b[0m\u001b[0;34m(\u001b[0m\u001b[0;34m)\u001b[0m\u001b[0;34m\u001b[0m\u001b[0m\n\u001b[1;32m    587\u001b[0m         \u001b[0mcb\u001b[0m \u001b[0;34m=\u001b[0m \u001b[0mBatchCompletionCallBack\u001b[0m\u001b[0;34m(\u001b[0m\u001b[0mdispatch_timestamp\u001b[0m\u001b[0;34m,\u001b[0m \u001b[0mlen\u001b[0m\u001b[0;34m(\u001b[0m\u001b[0mbatch\u001b[0m\u001b[0;34m)\u001b[0m\u001b[0;34m,\u001b[0m \u001b[0mself\u001b[0m\u001b[0;34m)\u001b[0m\u001b[0;34m\u001b[0m\u001b[0m\n\u001b[0;32m--> 588\u001b[0;31m         \u001b[0mjob\u001b[0m \u001b[0;34m=\u001b[0m \u001b[0mself\u001b[0m\u001b[0;34m.\u001b[0m\u001b[0m_backend\u001b[0m\u001b[0;34m.\u001b[0m\u001b[0mapply_async\u001b[0m\u001b[0;34m(\u001b[0m\u001b[0mbatch\u001b[0m\u001b[0;34m,\u001b[0m \u001b[0mcallback\u001b[0m\u001b[0;34m=\u001b[0m\u001b[0mcb\u001b[0m\u001b[0;34m)\u001b[0m\u001b[0;34m\u001b[0m\u001b[0m\n\u001b[0m\u001b[1;32m    589\u001b[0m         \u001b[0mself\u001b[0m\u001b[0;34m.\u001b[0m\u001b[0m_jobs\u001b[0m\u001b[0;34m.\u001b[0m\u001b[0mappend\u001b[0m\u001b[0;34m(\u001b[0m\u001b[0mjob\u001b[0m\u001b[0;34m)\u001b[0m\u001b[0;34m\u001b[0m\u001b[0m\n\u001b[1;32m    590\u001b[0m \u001b[0;34m\u001b[0m\u001b[0m\n",
      "\u001b[0;32m~/miniconda3/lib/python3.6/site-packages/sklearn/externals/joblib/_parallel_backends.py\u001b[0m in \u001b[0;36mapply_async\u001b[0;34m(self, func, callback)\u001b[0m\n\u001b[1;32m    109\u001b[0m     \u001b[0;32mdef\u001b[0m \u001b[0mapply_async\u001b[0m\u001b[0;34m(\u001b[0m\u001b[0mself\u001b[0m\u001b[0;34m,\u001b[0m \u001b[0mfunc\u001b[0m\u001b[0;34m,\u001b[0m \u001b[0mcallback\u001b[0m\u001b[0;34m=\u001b[0m\u001b[0;32mNone\u001b[0m\u001b[0;34m)\u001b[0m\u001b[0;34m:\u001b[0m\u001b[0;34m\u001b[0m\u001b[0m\n\u001b[1;32m    110\u001b[0m         \u001b[0;34m\"\"\"Schedule a func to be run\"\"\"\u001b[0m\u001b[0;34m\u001b[0m\u001b[0m\n\u001b[0;32m--> 111\u001b[0;31m         \u001b[0mresult\u001b[0m \u001b[0;34m=\u001b[0m \u001b[0mImmediateResult\u001b[0m\u001b[0;34m(\u001b[0m\u001b[0mfunc\u001b[0m\u001b[0;34m)\u001b[0m\u001b[0;34m\u001b[0m\u001b[0m\n\u001b[0m\u001b[1;32m    112\u001b[0m         \u001b[0;32mif\u001b[0m \u001b[0mcallback\u001b[0m\u001b[0;34m:\u001b[0m\u001b[0;34m\u001b[0m\u001b[0m\n\u001b[1;32m    113\u001b[0m             \u001b[0mcallback\u001b[0m\u001b[0;34m(\u001b[0m\u001b[0mresult\u001b[0m\u001b[0;34m)\u001b[0m\u001b[0;34m\u001b[0m\u001b[0m\n",
      "\u001b[0;32m~/miniconda3/lib/python3.6/site-packages/sklearn/externals/joblib/_parallel_backends.py\u001b[0m in \u001b[0;36m__init__\u001b[0;34m(self, batch)\u001b[0m\n\u001b[1;32m    330\u001b[0m         \u001b[0;31m# Don't delay the application, to avoid keeping the input\u001b[0m\u001b[0;34m\u001b[0m\u001b[0;34m\u001b[0m\u001b[0m\n\u001b[1;32m    331\u001b[0m         \u001b[0;31m# arguments in memory\u001b[0m\u001b[0;34m\u001b[0m\u001b[0;34m\u001b[0m\u001b[0m\n\u001b[0;32m--> 332\u001b[0;31m         \u001b[0mself\u001b[0m\u001b[0;34m.\u001b[0m\u001b[0mresults\u001b[0m \u001b[0;34m=\u001b[0m \u001b[0mbatch\u001b[0m\u001b[0;34m(\u001b[0m\u001b[0;34m)\u001b[0m\u001b[0;34m\u001b[0m\u001b[0m\n\u001b[0m\u001b[1;32m    333\u001b[0m \u001b[0;34m\u001b[0m\u001b[0m\n\u001b[1;32m    334\u001b[0m     \u001b[0;32mdef\u001b[0m \u001b[0mget\u001b[0m\u001b[0;34m(\u001b[0m\u001b[0mself\u001b[0m\u001b[0;34m)\u001b[0m\u001b[0;34m:\u001b[0m\u001b[0;34m\u001b[0m\u001b[0m\n",
      "\u001b[0;32m~/miniconda3/lib/python3.6/site-packages/sklearn/externals/joblib/parallel.py\u001b[0m in \u001b[0;36m__call__\u001b[0;34m(self)\u001b[0m\n\u001b[1;32m    129\u001b[0m \u001b[0;34m\u001b[0m\u001b[0m\n\u001b[1;32m    130\u001b[0m     \u001b[0;32mdef\u001b[0m \u001b[0m__call__\u001b[0m\u001b[0;34m(\u001b[0m\u001b[0mself\u001b[0m\u001b[0;34m)\u001b[0m\u001b[0;34m:\u001b[0m\u001b[0;34m\u001b[0m\u001b[0m\n\u001b[0;32m--> 131\u001b[0;31m         \u001b[0;32mreturn\u001b[0m \u001b[0;34m[\u001b[0m\u001b[0mfunc\u001b[0m\u001b[0;34m(\u001b[0m\u001b[0;34m*\u001b[0m\u001b[0margs\u001b[0m\u001b[0;34m,\u001b[0m \u001b[0;34m**\u001b[0m\u001b[0mkwargs\u001b[0m\u001b[0;34m)\u001b[0m \u001b[0;32mfor\u001b[0m \u001b[0mfunc\u001b[0m\u001b[0;34m,\u001b[0m \u001b[0margs\u001b[0m\u001b[0;34m,\u001b[0m \u001b[0mkwargs\u001b[0m \u001b[0;32min\u001b[0m \u001b[0mself\u001b[0m\u001b[0;34m.\u001b[0m\u001b[0mitems\u001b[0m\u001b[0;34m]\u001b[0m\u001b[0;34m\u001b[0m\u001b[0m\n\u001b[0m\u001b[1;32m    132\u001b[0m \u001b[0;34m\u001b[0m\u001b[0m\n\u001b[1;32m    133\u001b[0m     \u001b[0;32mdef\u001b[0m \u001b[0m__len__\u001b[0m\u001b[0;34m(\u001b[0m\u001b[0mself\u001b[0m\u001b[0;34m)\u001b[0m\u001b[0;34m:\u001b[0m\u001b[0;34m\u001b[0m\u001b[0m\n",
      "\u001b[0;32m~/miniconda3/lib/python3.6/site-packages/sklearn/externals/joblib/parallel.py\u001b[0m in \u001b[0;36m<listcomp>\u001b[0;34m(.0)\u001b[0m\n\u001b[1;32m    129\u001b[0m \u001b[0;34m\u001b[0m\u001b[0m\n\u001b[1;32m    130\u001b[0m     \u001b[0;32mdef\u001b[0m \u001b[0m__call__\u001b[0m\u001b[0;34m(\u001b[0m\u001b[0mself\u001b[0m\u001b[0;34m)\u001b[0m\u001b[0;34m:\u001b[0m\u001b[0;34m\u001b[0m\u001b[0m\n\u001b[0;32m--> 131\u001b[0;31m         \u001b[0;32mreturn\u001b[0m \u001b[0;34m[\u001b[0m\u001b[0mfunc\u001b[0m\u001b[0;34m(\u001b[0m\u001b[0;34m*\u001b[0m\u001b[0margs\u001b[0m\u001b[0;34m,\u001b[0m \u001b[0;34m**\u001b[0m\u001b[0mkwargs\u001b[0m\u001b[0;34m)\u001b[0m \u001b[0;32mfor\u001b[0m \u001b[0mfunc\u001b[0m\u001b[0;34m,\u001b[0m \u001b[0margs\u001b[0m\u001b[0;34m,\u001b[0m \u001b[0mkwargs\u001b[0m \u001b[0;32min\u001b[0m \u001b[0mself\u001b[0m\u001b[0;34m.\u001b[0m\u001b[0mitems\u001b[0m\u001b[0;34m]\u001b[0m\u001b[0;34m\u001b[0m\u001b[0m\n\u001b[0m\u001b[1;32m    132\u001b[0m \u001b[0;34m\u001b[0m\u001b[0m\n\u001b[1;32m    133\u001b[0m     \u001b[0;32mdef\u001b[0m \u001b[0m__len__\u001b[0m\u001b[0;34m(\u001b[0m\u001b[0mself\u001b[0m\u001b[0;34m)\u001b[0m\u001b[0;34m:\u001b[0m\u001b[0;34m\u001b[0m\u001b[0m\n",
      "\u001b[0;32m~/miniconda3/lib/python3.6/site-packages/sklearn/model_selection/_validation.py\u001b[0m in \u001b[0;36m_fit_and_score\u001b[0;34m(estimator, X, y, scorer, train, test, verbose, parameters, fit_params, return_train_score, return_parameters, return_n_test_samples, return_times, error_score)\u001b[0m\n\u001b[1;32m    442\u001b[0m     \u001b[0mtrain_scores\u001b[0m \u001b[0;34m=\u001b[0m \u001b[0;34m{\u001b[0m\u001b[0;34m}\u001b[0m\u001b[0;34m\u001b[0m\u001b[0m\n\u001b[1;32m    443\u001b[0m     \u001b[0;32mif\u001b[0m \u001b[0mparameters\u001b[0m \u001b[0;32mis\u001b[0m \u001b[0;32mnot\u001b[0m \u001b[0;32mNone\u001b[0m\u001b[0;34m:\u001b[0m\u001b[0;34m\u001b[0m\u001b[0m\n\u001b[0;32m--> 444\u001b[0;31m         \u001b[0mestimator\u001b[0m\u001b[0;34m.\u001b[0m\u001b[0mset_params\u001b[0m\u001b[0;34m(\u001b[0m\u001b[0;34m**\u001b[0m\u001b[0mparameters\u001b[0m\u001b[0;34m)\u001b[0m\u001b[0;34m\u001b[0m\u001b[0m\n\u001b[0m\u001b[1;32m    445\u001b[0m \u001b[0;34m\u001b[0m\u001b[0m\n\u001b[1;32m    446\u001b[0m     \u001b[0mstart_time\u001b[0m \u001b[0;34m=\u001b[0m \u001b[0mtime\u001b[0m\u001b[0;34m.\u001b[0m\u001b[0mtime\u001b[0m\u001b[0;34m(\u001b[0m\u001b[0;34m)\u001b[0m\u001b[0;34m\u001b[0m\u001b[0m\n",
      "\u001b[0;32m~/miniconda3/lib/python3.6/site-packages/sklearn/base.py\u001b[0m in \u001b[0;36mset_params\u001b[0;34m(self, **params)\u001b[0m\n\u001b[1;32m    272\u001b[0m                                  \u001b[0;34m'Check the list of available parameters '\u001b[0m\u001b[0;34m\u001b[0m\u001b[0m\n\u001b[1;32m    273\u001b[0m                                  \u001b[0;34m'with `estimator.get_params().keys()`.'\u001b[0m \u001b[0;34m%\u001b[0m\u001b[0;34m\u001b[0m\u001b[0m\n\u001b[0;32m--> 274\u001b[0;31m                                  (key, self))\n\u001b[0m\u001b[1;32m    275\u001b[0m \u001b[0;34m\u001b[0m\u001b[0m\n\u001b[1;32m    276\u001b[0m             \u001b[0;32mif\u001b[0m \u001b[0mdelim\u001b[0m\u001b[0;34m:\u001b[0m\u001b[0;34m\u001b[0m\u001b[0m\n",
      "\u001b[0;31mValueError\u001b[0m: Invalid parameter class_weight for estimator GradientBoostingClassifier(criterion='friedman_mse', init=None,\n              learning_rate=0.005, loss='deviance', max_depth=7,\n              max_features=9, max_leaf_nodes=None,\n              min_impurity_decrease=0.0, min_impurity_split=None,\n              min_samples_leaf=50, min_samples_split=2000,\n              min_weight_fraction_leaf=0.0, n_estimators=1700,\n              presort='auto', random_state=None, subsample=0.85, verbose=0,\n              warm_start=False). Check the list of available parameters with `estimator.get_params().keys()`."
     ]
    }
   ],
   "source": [
    "weights = np.linspace(0.05, 0.95, 20)\n",
    "\n",
    "gsearch7 = GridSearchCV(estimator=gb_gs,\n",
    "    param_grid={\n",
    "        'class_weight': [{0: x, 1: 1.0-x} for x in weights]\n",
    "    },\n",
    "    scoring='f1',\n",
    "    cv=3\n",
    ")\n",
    "grid_result = gsearch7.fit(X_train,y_train)"
   ]
  },
  {
   "cell_type": "code",
   "execution_count": null,
   "metadata": {},
   "outputs": [],
   "source": []
  }
 ],
 "metadata": {
  "kernelspec": {
   "display_name": "Python 3",
   "language": "python",
   "name": "python3"
  },
  "language_info": {
   "codemirror_mode": {
    "name": "ipython",
    "version": 3
   },
   "file_extension": ".py",
   "mimetype": "text/x-python",
   "name": "python",
   "nbconvert_exporter": "python",
   "pygments_lexer": "ipython3",
   "version": "3.6.5"
  }
 },
 "nbformat": 4,
 "nbformat_minor": 2
}

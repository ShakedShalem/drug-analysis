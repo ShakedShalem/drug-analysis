{
 "cells": [
  {
   "cell_type": "code",
   "execution_count": null,
   "metadata": {},
   "outputs": [],
   "source": [
    "import pandas as pd\n",
    "import numpy as np\n",
    "import seaborn as sns\n",
    "import matplotlib.pyplot as plt\n",
    "from sklearn.model_selection import train_test_split\n",
    "from sklearn.ensemble import RandomForestClassifier\n",
    "from sklearn.metrics import accuracy_score, precision_score, recall_score\n",
    "from sklearn.metrics import confusion_matrix\n",
    "from sklearn.metrics import f1_score\n",
    "from sklearn.model_selection import GridSearchCV\n",
    "from sklearn.ensemble import GradientBoostingClassifier\n",
    "from sklearn import cross_validation, metrics  #Additional scklearn functions\n",
    "\n",
    "\n",
    "import xgboost as xgb\n",
    "from sklearn.metrics import mean_squared_error\n",
    "\n",
    "%matplotlib inline"
   ]
  },
  {
   "cell_type": "code",
   "execution_count": 2,
   "metadata": {},
   "outputs": [],
   "source": [
    "X = pd.read_pickle('feature_df.pkl')\n",
    "y = pd.read_pickle('target.pkl')"
   ]
  },
  {
   "cell_type": "code",
   "execution_count": 3,
   "metadata": {},
   "outputs": [
    {
     "data": {
      "text/html": [
       "<div>\n",
       "<style scoped>\n",
       "    .dataframe tbody tr th:only-of-type {\n",
       "        vertical-align: middle;\n",
       "    }\n",
       "\n",
       "    .dataframe tbody tr th {\n",
       "        vertical-align: top;\n",
       "    }\n",
       "\n",
       "    .dataframe thead th {\n",
       "        text-align: right;\n",
       "    }\n",
       "</style>\n",
       "<table border=\"1\" class=\"dataframe\">\n",
       "  <thead>\n",
       "    <tr style=\"text-align: right;\">\n",
       "      <th></th>\n",
       "      <th>IRALCFY</th>\n",
       "      <th>IRMJFY</th>\n",
       "      <th>IRCOCFY</th>\n",
       "      <th>IRCRKFY</th>\n",
       "      <th>IRHERFY</th>\n",
       "      <th>IRHALFY</th>\n",
       "      <th>IRINHFY</th>\n",
       "      <th>IRANLFY</th>\n",
       "      <th>IRTRNFY</th>\n",
       "      <th>IRSTMFY</th>\n",
       "      <th>IRSEDFY</th>\n",
       "      <th>IRCIGFM</th>\n",
       "      <th>CIGYR</th>\n",
       "      <th>CGRYR</th>\n",
       "      <th>SNFYR</th>\n",
       "      <th>ALCYR</th>\n",
       "      <th>CRKYR</th>\n",
       "      <th>SUMYR</th>\n",
       "      <th>IRCIGAGE</th>\n",
       "      <th>IRCGRAGE</th>\n",
       "      <th>IRSNFAGE</th>\n",
       "      <th>IRALCAGE</th>\n",
       "      <th>IRCRKAGE</th>\n",
       "      <th>SUMAGE</th>\n",
       "      <th>DEPNDMRJ</th>\n",
       "      <th>DPILLALC</th>\n",
       "      <th>ABODILAL</th>\n",
       "      <th>TOBFLAG</th>\n",
       "      <th>SNFFLAG</th>\n",
       "      <th>ALCFLAG</th>\n",
       "      <th>CRKFLAG</th>\n",
       "      <th>SUMFLAG</th>\n",
       "      <th>EDUCCAT2</th>\n",
       "      <th>CATAG6</th>\n",
       "      <th>IRSEX</th>\n",
       "      <th>INCOME</th>\n",
       "      <th>NEWRACE2</th>\n",
       "      <th>2</th>\n",
       "      <th>3</th>\n",
       "      <th>4</th>\n",
       "      <th>5</th>\n",
       "      <th>6</th>\n",
       "      <th>7</th>\n",
       "    </tr>\n",
       "  </thead>\n",
       "  <tbody>\n",
       "    <tr>\n",
       "      <th>1</th>\n",
       "      <td>48</td>\n",
       "      <td>-2</td>\n",
       "      <td>-2</td>\n",
       "      <td>-2</td>\n",
       "      <td>-2</td>\n",
       "      <td>-2</td>\n",
       "      <td>-2</td>\n",
       "      <td>-2</td>\n",
       "      <td>-2</td>\n",
       "      <td>-2</td>\n",
       "      <td>-2</td>\n",
       "      <td>91.0</td>\n",
       "      <td>0</td>\n",
       "      <td>0</td>\n",
       "      <td>0</td>\n",
       "      <td>1</td>\n",
       "      <td>0</td>\n",
       "      <td>0</td>\n",
       "      <td>991</td>\n",
       "      <td>991</td>\n",
       "      <td>991</td>\n",
       "      <td>18</td>\n",
       "      <td>991</td>\n",
       "      <td>991</td>\n",
       "      <td>0</td>\n",
       "      <td>0</td>\n",
       "      <td>0</td>\n",
       "      <td>0</td>\n",
       "      <td>0</td>\n",
       "      <td>1</td>\n",
       "      <td>0</td>\n",
       "      <td>0</td>\n",
       "      <td>3</td>\n",
       "      <td>5</td>\n",
       "      <td>2</td>\n",
       "      <td>3</td>\n",
       "      <td>1</td>\n",
       "      <td>0</td>\n",
       "      <td>0</td>\n",
       "      <td>0</td>\n",
       "      <td>0</td>\n",
       "      <td>0</td>\n",
       "      <td>0</td>\n",
       "    </tr>\n",
       "    <tr>\n",
       "      <th>2</th>\n",
       "      <td>-2</td>\n",
       "      <td>-2</td>\n",
       "      <td>-2</td>\n",
       "      <td>-2</td>\n",
       "      <td>-2</td>\n",
       "      <td>-2</td>\n",
       "      <td>-2</td>\n",
       "      <td>-2</td>\n",
       "      <td>-2</td>\n",
       "      <td>-2</td>\n",
       "      <td>-2</td>\n",
       "      <td>91.0</td>\n",
       "      <td>0</td>\n",
       "      <td>0</td>\n",
       "      <td>0</td>\n",
       "      <td>0</td>\n",
       "      <td>0</td>\n",
       "      <td>0</td>\n",
       "      <td>991</td>\n",
       "      <td>991</td>\n",
       "      <td>991</td>\n",
       "      <td>991</td>\n",
       "      <td>991</td>\n",
       "      <td>991</td>\n",
       "      <td>0</td>\n",
       "      <td>0</td>\n",
       "      <td>0</td>\n",
       "      <td>0</td>\n",
       "      <td>0</td>\n",
       "      <td>0</td>\n",
       "      <td>0</td>\n",
       "      <td>0</td>\n",
       "      <td>2</td>\n",
       "      <td>2</td>\n",
       "      <td>1</td>\n",
       "      <td>2</td>\n",
       "      <td>1</td>\n",
       "      <td>0</td>\n",
       "      <td>0</td>\n",
       "      <td>0</td>\n",
       "      <td>0</td>\n",
       "      <td>0</td>\n",
       "      <td>0</td>\n",
       "    </tr>\n",
       "    <tr>\n",
       "      <th>3</th>\n",
       "      <td>52</td>\n",
       "      <td>144</td>\n",
       "      <td>-1</td>\n",
       "      <td>-2</td>\n",
       "      <td>-2</td>\n",
       "      <td>5</td>\n",
       "      <td>-2</td>\n",
       "      <td>-2</td>\n",
       "      <td>-2</td>\n",
       "      <td>-2</td>\n",
       "      <td>-2</td>\n",
       "      <td>93.0</td>\n",
       "      <td>1</td>\n",
       "      <td>0</td>\n",
       "      <td>0</td>\n",
       "      <td>1</td>\n",
       "      <td>0</td>\n",
       "      <td>1</td>\n",
       "      <td>13</td>\n",
       "      <td>14</td>\n",
       "      <td>991</td>\n",
       "      <td>12</td>\n",
       "      <td>991</td>\n",
       "      <td>14</td>\n",
       "      <td>0</td>\n",
       "      <td>0</td>\n",
       "      <td>1</td>\n",
       "      <td>1</td>\n",
       "      <td>0</td>\n",
       "      <td>1</td>\n",
       "      <td>0</td>\n",
       "      <td>1</td>\n",
       "      <td>3</td>\n",
       "      <td>2</td>\n",
       "      <td>1</td>\n",
       "      <td>1</td>\n",
       "      <td>1</td>\n",
       "      <td>0</td>\n",
       "      <td>0</td>\n",
       "      <td>0</td>\n",
       "      <td>0</td>\n",
       "      <td>0</td>\n",
       "      <td>0</td>\n",
       "    </tr>\n",
       "    <tr>\n",
       "      <th>4</th>\n",
       "      <td>260</td>\n",
       "      <td>-2</td>\n",
       "      <td>-2</td>\n",
       "      <td>-2</td>\n",
       "      <td>-2</td>\n",
       "      <td>-2</td>\n",
       "      <td>-2</td>\n",
       "      <td>-2</td>\n",
       "      <td>-2</td>\n",
       "      <td>-2</td>\n",
       "      <td>-2</td>\n",
       "      <td>93.0</td>\n",
       "      <td>0</td>\n",
       "      <td>0</td>\n",
       "      <td>0</td>\n",
       "      <td>1</td>\n",
       "      <td>0</td>\n",
       "      <td>0</td>\n",
       "      <td>11</td>\n",
       "      <td>25</td>\n",
       "      <td>991</td>\n",
       "      <td>17</td>\n",
       "      <td>991</td>\n",
       "      <td>991</td>\n",
       "      <td>0</td>\n",
       "      <td>0</td>\n",
       "      <td>0</td>\n",
       "      <td>1</td>\n",
       "      <td>0</td>\n",
       "      <td>1</td>\n",
       "      <td>0</td>\n",
       "      <td>0</td>\n",
       "      <td>4</td>\n",
       "      <td>6</td>\n",
       "      <td>1</td>\n",
       "      <td>4</td>\n",
       "      <td>1</td>\n",
       "      <td>0</td>\n",
       "      <td>0</td>\n",
       "      <td>0</td>\n",
       "      <td>0</td>\n",
       "      <td>0</td>\n",
       "      <td>0</td>\n",
       "    </tr>\n",
       "    <tr>\n",
       "      <th>5</th>\n",
       "      <td>24</td>\n",
       "      <td>-2</td>\n",
       "      <td>-2</td>\n",
       "      <td>-2</td>\n",
       "      <td>-2</td>\n",
       "      <td>-2</td>\n",
       "      <td>-2</td>\n",
       "      <td>-2</td>\n",
       "      <td>-2</td>\n",
       "      <td>-2</td>\n",
       "      <td>-2</td>\n",
       "      <td>91.0</td>\n",
       "      <td>0</td>\n",
       "      <td>0</td>\n",
       "      <td>0</td>\n",
       "      <td>1</td>\n",
       "      <td>0</td>\n",
       "      <td>0</td>\n",
       "      <td>991</td>\n",
       "      <td>991</td>\n",
       "      <td>991</td>\n",
       "      <td>22</td>\n",
       "      <td>991</td>\n",
       "      <td>991</td>\n",
       "      <td>0</td>\n",
       "      <td>0</td>\n",
       "      <td>0</td>\n",
       "      <td>0</td>\n",
       "      <td>0</td>\n",
       "      <td>1</td>\n",
       "      <td>0</td>\n",
       "      <td>0</td>\n",
       "      <td>2</td>\n",
       "      <td>2</td>\n",
       "      <td>2</td>\n",
       "      <td>1</td>\n",
       "      <td>7</td>\n",
       "      <td>0</td>\n",
       "      <td>0</td>\n",
       "      <td>0</td>\n",
       "      <td>0</td>\n",
       "      <td>0</td>\n",
       "      <td>1</td>\n",
       "    </tr>\n",
       "  </tbody>\n",
       "</table>\n",
       "</div>"
      ],
      "text/plain": [
       "   IRALCFY  IRMJFY  IRCOCFY  IRCRKFY  IRHERFY  IRHALFY  IRINHFY  IRANLFY  IRTRNFY  IRSTMFY  IRSEDFY ...  EDUCCAT2  CATAG6  IRSEX  INCOME  NEWRACE2  2  3  4  5  6  7\n",
       "1       48      -2       -2       -2       -2       -2       -2       -2       -2       -2       -2 ...         3       5      2       3         1  0  0  0  0  0  0\n",
       "2       -2      -2       -2       -2       -2       -2       -2       -2       -2       -2       -2 ...         2       2      1       2         1  0  0  0  0  0  0\n",
       "3       52     144       -1       -2       -2        5       -2       -2       -2       -2       -2 ...         3       2      1       1         1  0  0  0  0  0  0\n",
       "4      260      -2       -2       -2       -2       -2       -2       -2       -2       -2       -2 ...         4       6      1       4         1  0  0  0  0  0  0\n",
       "5       24      -2       -2       -2       -2       -2       -2       -2       -2       -2       -2 ...         2       2      2       1         7  0  0  0  0  0  1\n",
       "\n",
       "[5 rows x 43 columns]"
      ]
     },
     "execution_count": 3,
     "metadata": {},
     "output_type": "execute_result"
    }
   ],
   "source": [
    "X.head()"
   ]
  },
  {
   "cell_type": "code",
   "execution_count": 5,
   "metadata": {},
   "outputs": [],
   "source": [
    "X_train, X_test, y_train, y_test = train_test_split(X, y, test_size=0.2, random_state=111)"
   ]
  },
  {
   "cell_type": "code",
   "execution_count": null,
   "metadata": {},
   "outputs": [],
   "source": []
  },
  {
   "cell_type": "code",
   "execution_count": null,
   "metadata": {},
   "outputs": [],
   "source": []
  },
  {
   "cell_type": "code",
   "execution_count": null,
   "metadata": {},
   "outputs": [],
   "source": []
  },
  {
   "cell_type": "markdown",
   "metadata": {},
   "source": [
    "Random Forest"
   ]
  },
  {
   "cell_type": "code",
   "execution_count": 6,
   "metadata": {},
   "outputs": [],
   "source": [
    "clf = RandomForestClassifier(n_jobs=-1, max_depth=25, max_features=25, min_samples_split=5, n_estimators=1000, oob_score=True, class_weight='balanced')\n",
    "clf.fit(X_train, y_train)\n",
    "prob = clf.predict_proba(X_test)[:,1]"
   ]
  },
  {
   "cell_type": "code",
   "execution_count": 8,
   "metadata": {},
   "outputs": [],
   "source": [
    "thr = np.arange(0.01, 0.2, 0.01)\n",
    "#thr = [0.01, 0.02, 0.03, 0.04, 0.05, 0.06, 0.07, 0.08, 0.09, 0.1,0.15, 0.2, 0.25, 0.3, 0.35]\n",
    "recalls = []\n",
    "precisions = []\n",
    "y_pred = []"
   ]
  },
  {
   "cell_type": "code",
   "execution_count": 10,
   "metadata": {},
   "outputs": [
    {
     "name": "stdout",
     "output_type": "stream",
     "text": [
      "for  0.01\n",
      "recall:  0.9641185647425897\n",
      "precision:  0.08904899135446685\n",
      "[ 547 6322   23  618]\n",
      "f1 score:  0.1630391768895924\n",
      "0.5218758495572026\n",
      "for  0.02\n",
      "recall:  0.9297971918876755\n",
      "precision:  0.09190439475713184\n",
      "[ 980 5889   45  596]\n",
      "f1 score:  0.16727476845355035\n",
      "0.5362335792019539\n",
      "for  0.03\n",
      "recall:  0.9095163806552262\n",
      "precision:  0.09576215505913271\n",
      "[1364 5505   58  583]\n",
      "f1 score:  0.17327983355624904\n",
      "0.554044840495032\n",
      "for  0.04\n",
      "recall:  0.8814352574102964\n",
      "precision:  0.09881077299755159\n",
      "[1716 5153   76  565]\n",
      "f1 score:  0.17770089636735337\n",
      "0.5656266402060944\n",
      "for  0.05\n",
      "recall:  0.8533541341653667\n",
      "precision:  0.1026844377698517\n",
      "[2089 4780   94  547]\n",
      "f1 score:  0.18331099195710457\n",
      "0.5787370467012596\n",
      "for  0.060000000000000005\n",
      "recall:  0.8252730109204368\n",
      "precision:  0.10635303578608765\n",
      "[2424 4445  112  529]\n",
      "f1 score:  0.18842386464826358\n",
      "0.5890814028251914\n",
      "for  0.06999999999999999\n",
      "recall:  0.797191887675507\n",
      "precision:  0.11060606060606061\n",
      "[2760 4109  130  511]\n",
      "f1 score:  0.1942596464550466\n",
      "0.5994985497483664\n",
      "for  0.08\n",
      "recall:  0.748829953198128\n",
      "precision:  0.11220196353436185\n",
      "[3071 3798  161  480]\n",
      "f1 score:  0.19516161821508435\n",
      "0.5979555210742423\n",
      "for  0.09\n",
      "recall:  0.7269890795631825\n",
      "precision:  0.1185147507629705\n",
      "[3403 3466  175  466]\n",
      "f1 score:  0.2038049420511699\n",
      "0.6112016296054374\n",
      "for  0.09999999999999999\n",
      "recall:  0.6817472698907956\n",
      "precision:  0.12085176991150443\n",
      "[3690 3179  204  437]\n",
      "f1 score:  0.2053089029833216\n",
      "0.609471684151978\n",
      "for  0.11\n",
      "recall:  0.6380655226209049\n",
      "precision:  0.1228597176329228\n",
      "[3949 2920  232  409]\n",
      "f1 score:  0.20604534005037783\n",
      "0.6064836275209634\n",
      "for  0.12\n",
      "recall:  0.6037441497659907\n",
      "precision:  0.12569015914257875\n",
      "[4177 2692  254  387]\n",
      "f1 score:  0.20806451612903226\n",
      "0.6059192433209047\n",
      "for  0.13\n",
      "recall:  0.5585023400936038\n",
      "precision:  0.12627865961199294\n",
      "[4392 2477  283  358]\n",
      "f1 score:  0.20598388952819333\n",
      "0.5989483603219511\n",
      "for  0.14\n",
      "recall:  0.5257410296411856\n",
      "precision:  0.128234398782344\n",
      "[4578 2291  304  337]\n",
      "f1 score:  0.2061792597124503\n",
      "0.5961067937549356\n",
      "for  0.15000000000000002\n",
      "recall:  0.48205928237129486\n",
      "precision:  0.12737015663643858\n",
      "[4752 2117  332  309]\n",
      "f1 score:  0.20149983697424192\n",
      "0.5869315191882678\n",
      "for  0.16\n",
      "recall:  0.45865834633385333\n",
      "precision:  0.13072476656291684\n",
      "[4914 1955  347  294]\n",
      "f1 score:  0.20346020761245676\n",
      "0.5870231606469092\n",
      "for  0.17\n",
      "recall:  0.41809672386895474\n",
      "precision:  0.12990790111488124\n",
      "[5074 1795  373  268]\n",
      "f1 score:  0.1982248520710059\n",
      "0.5783888772933361\n",
      "for  0.18000000000000002\n",
      "recall:  0.40249609984399376\n",
      "precision:  0.13529103303618248\n",
      "[5220 1649  383  258]\n",
      "f1 score:  0.20251177394034536\n",
      "0.58121602197033\n",
      "for  0.19\n",
      "recall:  0.3790951638065523\n",
      "precision:  0.1377551020408163\n",
      "[5348 1521  398  243]\n",
      "f1 score:  0.20207900207900206\n",
      "0.5788327762547101\n"
     ]
    }
   ],
   "source": [
    "for t in thr:\n",
    "    y_pred = [1 if x > t else 0 for x in prob]\n",
    "    recall = recall_score(y_test, y_pred)\n",
    "    precision = precision_score(y_test, y_pred)\n",
    "    recalls.append(recall)\n",
    "    precisions.append(precision)\n",
    "    print('for ',t)\n",
    "    print('recall: ', recall_score(y_test, y_pred))\n",
    "    print('precision: ', precision_score(y_test, y_pred))\n",
    "    print(confusion_matrix(y_test, y_pred).ravel())\n",
    "    print('f1 score: ', f1_score(y_test, y_pred))\n",
    "    fpr, tpr, thresholds = metrics.roc_curve(y_test, y_pred)\n",
    "    print(metrics.auc(fpr, tpr))"
   ]
  },
  {
   "cell_type": "code",
   "execution_count": 11,
   "metadata": {},
   "outputs": [],
   "source": [
    "t = 0.07\n",
    "y_pred = [1 if x > t else 0 for x in prob]"
   ]
  },
  {
   "cell_type": "code",
   "execution_count": 12,
   "metadata": {},
   "outputs": [
    {
     "data": {
      "text/plain": [
       "array([2760, 4109,  130,  511])"
      ]
     },
     "execution_count": 12,
     "metadata": {},
     "output_type": "execute_result"
    }
   ],
   "source": [
    "confusion_matrix(y_test, y_pred).ravel()"
   ]
  },
  {
   "cell_type": "code",
   "execution_count": 13,
   "metadata": {},
   "outputs": [],
   "source": [
    "fpr, tpr, threshold = metrics.roc_curve(y_test, y_pred)\n",
    "roc_auc = metrics.auc(fpr, tpr)"
   ]
  },
  {
   "cell_type": "code",
   "execution_count": 14,
   "metadata": {},
   "outputs": [
    {
     "data": {
      "text/plain": [
       "Text(0.5,15,'False Positive Rate')"
      ]
     },
     "execution_count": 14,
     "metadata": {},
     "output_type": "execute_result"
    },
    {
     "data": {
      "image/png": "[encoded data removed]",
      "text/plain": [
       "<Figure size 432x288 with 1 Axes>"
      ]
     },
     "metadata": {},
     "output_type": "display_data"
    }
   ],
   "source": [
    "plt.title('Predict Depression')\n",
    "plt.plot(fpr, tpr, 'b', label = 'AUC = %0.2f' % roc_auc)\n",
    "plt.legend(loc = 'lower right')\n",
    "plt.plot([0, 1], [0, 1],'r--')\n",
    "plt.xlim([0, 1])\n",
    "plt.ylim([0, 1])\n",
    "plt.ylabel('True Positive Rate')\n",
    "plt.xlabel('False Positive Rate')"
   ]
  },
  {
   "cell_type": "code",
   "execution_count": 15,
   "metadata": {},
   "outputs": [],
   "source": [
    "feature_importances = pd.DataFrame(clf.feature_importances_,\n",
    "                                   index = X_train.columns,\n",
    "                                    columns=['importance']).sort_values('importance',ascending=False)"
   ]
  },
  {
   "cell_type": "code",
   "execution_count": 16,
   "metadata": {},
   "outputs": [
    {
     "data": {
      "text/plain": [
       "Index([ 'IRALCFY', 'IRALCAGE',   'SUMAGE', 'IRCIGAGE',   'INCOME', 'EDUCCAT2',\n",
       "       'IRCGRAGE',   'CATAG6',  'IRCIGFM',   'IRMJFY',    'IRSEX', 'NEWRACE2',\n",
       "        'IRANLFY', 'IRSNFAGE', 'ABODILAL', 'DPILLALC',  'IRTRNFY',  'IRHALFY',\n",
       "        'IRCOCFY',          2,    'CIGYR',  'SUMFLAG',  'IRSTMFY',    'CGRYR',\n",
       "        'TOBFLAG',  'IRINHFY',          7,    'SUMYR',    'ALCYR', 'IRCRKAGE',\n",
       "                5,  'SNFFLAG',          6,    'SNFYR',  'IRSEDFY',  'IRHERFY',\n",
       "        'ALCFLAG',          3,          4,  'IRCRKFY', 'DEPNDMRJ',  'CRKFLAG',\n",
       "          'CRKYR'],\n",
       "      dtype='object')"
      ]
     },
     "execution_count": 16,
     "metadata": {},
     "output_type": "execute_result"
    }
   ],
   "source": [
    "feature_importances.index"
   ]
  },
  {
   "cell_type": "code",
   "execution_count": 17,
   "metadata": {},
   "outputs": [
    {
     "data": {
      "text/html": [
       "<div>\n",
       "<style scoped>\n",
       "    .dataframe tbody tr th:only-of-type {\n",
       "        vertical-align: middle;\n",
       "    }\n",
       "\n",
       "    .dataframe tbody tr th {\n",
       "        vertical-align: top;\n",
       "    }\n",
       "\n",
       "    .dataframe thead th {\n",
       "        text-align: right;\n",
       "    }\n",
       "</style>\n",
       "<table border=\"1\" class=\"dataframe\">\n",
       "  <thead>\n",
       "    <tr style=\"text-align: right;\">\n",
       "      <th></th>\n",
       "      <th>importance</th>\n",
       "    </tr>\n",
       "  </thead>\n",
       "  <tbody>\n",
       "    <tr>\n",
       "      <th>IRALCFY</th>\n",
       "      <td>0.123127</td>\n",
       "    </tr>\n",
       "    <tr>\n",
       "      <th>IRALCAGE</th>\n",
       "      <td>0.098943</td>\n",
       "    </tr>\n",
       "    <tr>\n",
       "      <th>SUMAGE</th>\n",
       "      <td>0.077017</td>\n",
       "    </tr>\n",
       "    <tr>\n",
       "      <th>IRCIGAGE</th>\n",
       "      <td>0.076878</td>\n",
       "    </tr>\n",
       "    <tr>\n",
       "      <th>INCOME</th>\n",
       "      <td>0.055564</td>\n",
       "    </tr>\n",
       "    <tr>\n",
       "      <th>EDUCCAT2</th>\n",
       "      <td>0.055195</td>\n",
       "    </tr>\n",
       "    <tr>\n",
       "      <th>IRCGRAGE</th>\n",
       "      <td>0.050634</td>\n",
       "    </tr>\n",
       "    <tr>\n",
       "      <th>CATAG6</th>\n",
       "      <td>0.050171</td>\n",
       "    </tr>\n",
       "    <tr>\n",
       "      <th>IRCIGFM</th>\n",
       "      <td>0.040877</td>\n",
       "    </tr>\n",
       "    <tr>\n",
       "      <th>IRMJFY</th>\n",
       "      <td>0.037969</td>\n",
       "    </tr>\n",
       "    <tr>\n",
       "      <th>IRSEX</th>\n",
       "      <td>0.034786</td>\n",
       "    </tr>\n",
       "    <tr>\n",
       "      <th>NEWRACE2</th>\n",
       "      <td>0.030670</td>\n",
       "    </tr>\n",
       "    <tr>\n",
       "      <th>IRANLFY</th>\n",
       "      <td>0.027447</td>\n",
       "    </tr>\n",
       "    <tr>\n",
       "      <th>IRSNFAGE</th>\n",
       "      <td>0.022388</td>\n",
       "    </tr>\n",
       "    <tr>\n",
       "      <th>ABODILAL</th>\n",
       "      <td>0.018096</td>\n",
       "    </tr>\n",
       "    <tr>\n",
       "      <th>DPILLALC</th>\n",
       "      <td>0.017301</td>\n",
       "    </tr>\n",
       "    <tr>\n",
       "      <th>IRTRNFY</th>\n",
       "      <td>0.015412</td>\n",
       "    </tr>\n",
       "    <tr>\n",
       "      <th>IRHALFY</th>\n",
       "      <td>0.013544</td>\n",
       "    </tr>\n",
       "    <tr>\n",
       "      <th>IRCOCFY</th>\n",
       "      <td>0.013211</td>\n",
       "    </tr>\n",
       "    <tr>\n",
       "      <th>2</th>\n",
       "      <td>0.012513</td>\n",
       "    </tr>\n",
       "    <tr>\n",
       "      <th>CIGYR</th>\n",
       "      <td>0.012241</td>\n",
       "    </tr>\n",
       "    <tr>\n",
       "      <th>SUMFLAG</th>\n",
       "      <td>0.011669</td>\n",
       "    </tr>\n",
       "    <tr>\n",
       "      <th>IRSTMFY</th>\n",
       "      <td>0.011136</td>\n",
       "    </tr>\n",
       "    <tr>\n",
       "      <th>CGRYR</th>\n",
       "      <td>0.009429</td>\n",
       "    </tr>\n",
       "    <tr>\n",
       "      <th>TOBFLAG</th>\n",
       "      <td>0.009331</td>\n",
       "    </tr>\n",
       "    <tr>\n",
       "      <th>IRINHFY</th>\n",
       "      <td>0.008853</td>\n",
       "    </tr>\n",
       "    <tr>\n",
       "      <th>7</th>\n",
       "      <td>0.007428</td>\n",
       "    </tr>\n",
       "    <tr>\n",
       "      <th>SUMYR</th>\n",
       "      <td>0.007113</td>\n",
       "    </tr>\n",
       "    <tr>\n",
       "      <th>ALCYR</th>\n",
       "      <td>0.006479</td>\n",
       "    </tr>\n",
       "    <tr>\n",
       "      <th>IRCRKAGE</th>\n",
       "      <td>0.006233</td>\n",
       "    </tr>\n",
       "    <tr>\n",
       "      <th>5</th>\n",
       "      <td>0.005092</td>\n",
       "    </tr>\n",
       "    <tr>\n",
       "      <th>SNFFLAG</th>\n",
       "      <td>0.004850</td>\n",
       "    </tr>\n",
       "    <tr>\n",
       "      <th>6</th>\n",
       "      <td>0.004741</td>\n",
       "    </tr>\n",
       "    <tr>\n",
       "      <th>SNFYR</th>\n",
       "      <td>0.004539</td>\n",
       "    </tr>\n",
       "    <tr>\n",
       "      <th>IRSEDFY</th>\n",
       "      <td>0.003914</td>\n",
       "    </tr>\n",
       "    <tr>\n",
       "      <th>IRHERFY</th>\n",
       "      <td>0.003825</td>\n",
       "    </tr>\n",
       "    <tr>\n",
       "      <th>ALCFLAG</th>\n",
       "      <td>0.003030</td>\n",
       "    </tr>\n",
       "    <tr>\n",
       "      <th>3</th>\n",
       "      <td>0.002212</td>\n",
       "    </tr>\n",
       "    <tr>\n",
       "      <th>4</th>\n",
       "      <td>0.002212</td>\n",
       "    </tr>\n",
       "    <tr>\n",
       "      <th>IRCRKFY</th>\n",
       "      <td>0.001482</td>\n",
       "    </tr>\n",
       "    <tr>\n",
       "      <th>DEPNDMRJ</th>\n",
       "      <td>0.001190</td>\n",
       "    </tr>\n",
       "    <tr>\n",
       "      <th>CRKFLAG</th>\n",
       "      <td>0.001139</td>\n",
       "    </tr>\n",
       "    <tr>\n",
       "      <th>CRKYR</th>\n",
       "      <td>0.000118</td>\n",
       "    </tr>\n",
       "  </tbody>\n",
       "</table>\n",
       "</div>"
      ],
      "text/plain": [
       "          importance\n",
       "IRALCFY     0.123127\n",
       "IRALCAGE    0.098943\n",
       "SUMAGE      0.077017\n",
       "IRCIGAGE    0.076878\n",
       "INCOME      0.055564\n",
       "EDUCCAT2    0.055195\n",
       "IRCGRAGE    0.050634\n",
       "CATAG6      0.050171\n",
       "IRCIGFM     0.040877\n",
       "IRMJFY      0.037969\n",
       "IRSEX       0.034786\n",
       "NEWRACE2    0.030670\n",
       "IRANLFY     0.027447\n",
       "IRSNFAGE    0.022388\n",
       "ABODILAL    0.018096\n",
       "DPILLALC    0.017301\n",
       "IRTRNFY     0.015412\n",
       "IRHALFY     0.013544\n",
       "IRCOCFY     0.013211\n",
       "2           0.012513\n",
       "CIGYR       0.012241\n",
       "SUMFLAG     0.011669\n",
       "IRSTMFY     0.011136\n",
       "CGRYR       0.009429\n",
       "TOBFLAG     0.009331\n",
       "IRINHFY     0.008853\n",
       "7           0.007428\n",
       "SUMYR       0.007113\n",
       "ALCYR       0.006479\n",
       "IRCRKAGE    0.006233\n",
       "5           0.005092\n",
       "SNFFLAG     0.004850\n",
       "6           0.004741\n",
       "SNFYR       0.004539\n",
       "IRSEDFY     0.003914\n",
       "IRHERFY     0.003825\n",
       "ALCFLAG     0.003030\n",
       "3           0.002212\n",
       "4           0.002212\n",
       "IRCRKFY     0.001482\n",
       "DEPNDMRJ    0.001190\n",
       "CRKFLAG     0.001139\n",
       "CRKYR       0.000118"
      ]
     },
     "execution_count": 17,
     "metadata": {},
     "output_type": "execute_result"
    }
   ],
   "source": [
    "feature_importances"
   ]
  },
  {
   "cell_type": "markdown",
   "metadata": {},
   "source": [
    "Grid search to find the best class_weight"
   ]
  },
  {
   "cell_type": "code",
   "execution_count": null,
   "metadata": {},
   "outputs": [],
   "source": [
    "weights = np.linspace(0.65, 0.95, 20)\n",
    "\n",
    "rf_gsearch = GridSearchCV(estimator=clf,\n",
    "    param_grid={\n",
    "        'class_weight': [{0: x, 1: 1.0-x} for x in weights]\n",
    "    },\n",
    "    scoring='f1',\n",
    "    cv=3\n",
    ")\n",
    "grid_result = rf_gsearch.fit(X_train,y_train)"
   ]
  },
  {
   "cell_type": "code",
   "execution_count": null,
   "metadata": {},
   "outputs": [],
   "source": []
  },
  {
   "cell_type": "code",
   "execution_count": null,
   "metadata": {},
   "outputs": [],
   "source": []
  },
  {
   "cell_type": "code",
   "execution_count": null,
   "metadata": {},
   "outputs": [],
   "source": []
  },
  {
   "cell_type": "code",
   "execution_count": null,
   "metadata": {},
   "outputs": [],
   "source": []
  },
  {
   "cell_type": "code",
   "execution_count": null,
   "metadata": {},
   "outputs": [],
   "source": []
  },
  {
   "cell_type": "code",
   "execution_count": null,
   "metadata": {},
   "outputs": [],
   "source": []
  },
  {
   "cell_type": "code",
   "execution_count": null,
   "metadata": {},
   "outputs": [],
   "source": []
  },
  {
   "cell_type": "code",
   "execution_count": null,
   "metadata": {},
   "outputs": [],
   "source": []
  },
  {
   "cell_type": "code",
   "execution_count": null,
   "metadata": {},
   "outputs": [],
   "source": []
  },
  {
   "cell_type": "markdown",
   "metadata": {},
   "source": [
    "Random forest with 24 highest featuers from feature importance"
   ]
  },
  {
   "cell_type": "code",
   "execution_count": 37,
   "metadata": {},
   "outputs": [],
   "source": [
    "reduce_X = pd.read_pickle('reduce_x.pkl')"
   ]
  },
  {
   "cell_type": "code",
   "execution_count": 38,
   "metadata": {},
   "outputs": [
    {
     "data": {
      "text/plain": [
       "(37547, 24)"
      ]
     },
     "execution_count": 38,
     "metadata": {},
     "output_type": "execute_result"
    }
   ],
   "source": [
    "reduce_X.shape"
   ]
  },
  {
   "cell_type": "code",
   "execution_count": 39,
   "metadata": {},
   "outputs": [],
   "source": [
    "X_train, X_test, y_train, y_test = train_test_split(reduce_X, y, test_size=0.2)"
   ]
  },
  {
   "cell_type": "code",
   "execution_count": 56,
   "metadata": {},
   "outputs": [
    {
     "data": {
      "text/plain": [
       "(7510,)"
      ]
     },
     "execution_count": 56,
     "metadata": {},
     "output_type": "execute_result"
    }
   ],
   "source": [
    "y_test.shape"
   ]
  },
  {
   "cell_type": "code",
   "execution_count": 53,
   "metadata": {},
   "outputs": [],
   "source": [
    "clf = RandomForestClassifier(n_jobs=-1, max_depth=10, max_features=5, min_samples_split=5, n_estimators=1000)\n",
    "clf.fit(X_train, y_train)\n",
    "prob = clf.predict_proba(X_test)[:,1]"
   ]
  },
  {
   "cell_type": "code",
   "execution_count": 54,
   "metadata": {},
   "outputs": [],
   "source": [
    "thr = [0.01, 0.02, 0.03, 0.04, 0.05, 0.06, 0.07, 0.08, 0.09, 0.1,0.15, 0.2, 0.25, 0.3, 0.35]\n",
    "recalls = []\n",
    "precisions = []\n",
    "y_pred = []"
   ]
  },
  {
   "cell_type": "code",
   "execution_count": 55,
   "metadata": {},
   "outputs": [
    {
     "name": "stdout",
     "output_type": "stream",
     "text": [
      "for  0.01\n",
      "recall:  1.0\n",
      "precision:  0.07696404793608522\n",
      "[   0 6932    0  578]\n",
      "f1 score:  0.14292779426310584\n",
      "for  0.02\n",
      "recall:  0.9930795847750865\n",
      "precision:  0.07760951865873444\n",
      "[ 110 6822    4  574]\n",
      "f1 score:  0.14396789566089793\n",
      "for  0.03\n",
      "recall:  0.9740484429065744\n",
      "precision:  0.08060128847530422\n",
      "[ 510 6422   15  563]\n",
      "f1 score:  0.14888271849795054\n",
      "for  0.04\n",
      "recall:  0.9532871972318339\n",
      "precision:  0.08520179372197309\n",
      "[1016 5916   27  551]\n",
      "f1 score:  0.15642299503193755\n",
      "for  0.05\n",
      "recall:  0.8719723183391004\n",
      "precision:  0.09578107183580388\n",
      "[2174 4758   74  504]\n",
      "f1 score:  0.1726027397260274\n",
      "for  0.06\n",
      "recall:  0.7577854671280276\n",
      "precision:  0.10952738184546136\n",
      "[3371 3561  140  438]\n",
      "f1 score:  0.19139174131527198\n",
      "for  0.07\n",
      "recall:  0.6730103806228374\n",
      "precision:  0.12198181248040138\n",
      "[4132 2800  189  389]\n",
      "f1 score:  0.20653039554021765\n",
      "for  0.08\n",
      "recall:  0.6193771626297578\n",
      "precision:  0.12938200216841345\n",
      "[4523 2409  220  358]\n",
      "f1 score:  0.214050822122571\n",
      "for  0.09\n",
      "recall:  0.5570934256055363\n",
      "precision:  0.137430644472898\n",
      "[4911 2021  256  322]\n",
      "f1 score:  0.22047244094488186\n",
      "for  0.1\n",
      "recall:  0.5\n",
      "precision:  0.146033350176857\n",
      "[5242 1690  289  289]\n",
      "f1 score:  0.22604614782948768\n",
      "for  0.15\n",
      "recall:  0.3079584775086505\n",
      "precision:  0.19821826280623608\n",
      "[6212  720  400  178]\n",
      "f1 score:  0.24119241192411925\n",
      "for  0.2\n",
      "recall:  0.15916955017301038\n",
      "precision:  0.21904761904761905\n",
      "[6604  328  486   92]\n",
      "f1 score:  0.1843687374749499\n",
      "for  0.25\n",
      "recall:  0.07612456747404844\n",
      "precision:  0.23157894736842105\n",
      "[6786  146  534   44]\n",
      "f1 score:  0.11458333333333334\n",
      "for  0.3\n",
      "recall:  0.03460207612456748\n",
      "precision:  0.2777777777777778\n",
      "[6880   52  558   20]\n",
      "f1 score:  0.06153846153846155\n",
      "for  0.35\n",
      "recall:  0.020761245674740483\n",
      "precision:  0.41379310344827586\n",
      "[6915   17  566   12]\n",
      "f1 score:  0.039538714991762765\n"
     ]
    }
   ],
   "source": [
    "for t in thr:\n",
    "    y_pred = [1 if x > t else 0 for x in prob]\n",
    "    recall = recall_score(y_test, y_pred)\n",
    "    precision = precision_score(y_test, y_pred)\n",
    "    recalls.append(recall)\n",
    "    precisions.append(precision)\n",
    "    print('for ',t)\n",
    "    print('recall: ', recall_score(y_test, y_pred))\n",
    "    print('precision: ', precision_score(y_test, y_pred))\n",
    "    print(confusion_matrix(y_test, y_pred).ravel())\n",
    "    print('f1 score: ', f1_score(y_test, y_pred))"
   ]
  },
  {
   "cell_type": "markdown",
   "metadata": {},
   "source": [
    "Gradient Boosting"
   ]
  },
  {
   "cell_type": "code",
   "execution_count": 16,
   "metadata": {},
   "outputs": [
    {
     "data": {
      "text/plain": [
       "(30037, 43)"
      ]
     },
     "execution_count": 16,
     "metadata": {},
     "output_type": "execute_result"
    }
   ],
   "source": [
    "X_train.shape"
   ]
  },
  {
   "cell_type": "code",
   "execution_count": 18,
   "metadata": {},
   "outputs": [],
   "source": [
    "gb_gs = GradientBoostingClassifier(n_estimators = 1700, \n",
    "                                   learning_rate=0.005, max_depth=7, max_features=9,\n",
    "                                   min_samples_split=2000, min_samples_leaf=50, subsample=0.85)"
   ]
  },
  {
   "cell_type": "code",
   "execution_count": 19,
   "metadata": {
    "scrolled": true
   },
   "outputs": [
    {
     "data": {
      "text/plain": [
       "GradientBoostingClassifier(criterion='friedman_mse', init=None,\n",
       "              learning_rate=0.005, loss='deviance', max_depth=7,\n",
       "              max_features=9, max_leaf_nodes=None,\n",
       "              min_impurity_decrease=0.0, min_impurity_split=None,\n",
       "              min_samples_leaf=50, min_samples_split=2000,\n",
       "              min_weight_fraction_leaf=0.0, n_estimators=1700,\n",
       "              presort='auto', random_state=None, subsample=0.85, verbose=0,\n",
       "              warm_start=False)"
      ]
     },
     "execution_count": 19,
     "metadata": {},
     "output_type": "execute_result"
    }
   ],
   "source": [
    "gb_gs.fit(X_train, y_train)"
   ]
  },
  {
   "cell_type": "code",
   "execution_count": 20,
   "metadata": {},
   "outputs": [],
   "source": [
    "prob = gb_gs.predict_proba(X_test)[:,1]"
   ]
  },
  {
   "cell_type": "code",
   "execution_count": 21,
   "metadata": {},
   "outputs": [
    {
     "data": {
      "text/plain": [
       "array([0.09050814, 0.05167885, 0.03853633, ..., 0.03556142, 0.2167762 ,\n",
       "       0.04063796])"
      ]
     },
     "execution_count": 21,
     "metadata": {},
     "output_type": "execute_result"
    }
   ],
   "source": [
    "prob"
   ]
  },
  {
   "cell_type": "code",
   "execution_count": 22,
   "metadata": {},
   "outputs": [],
   "source": [
    "thr = np.arange(0.01, 0.2, 0.01)\n",
    "#thr = [ 0.02, 0.03, 0.04,0.045, 0.05, 0.06,0.065, 0.07, 0.08, 0.09, 0.1,0.15, 0.2, 0.25]\n",
    "recalls = []\n",
    "precisions = []\n",
    "y_pred = []"
   ]
  },
  {
   "cell_type": "code",
   "execution_count": 24,
   "metadata": {},
   "outputs": [
    {
     "name": "stdout",
     "output_type": "stream",
     "text": [
      "for  0.01\n",
      "recall:  1.0\n",
      "precision:  0.08536422959115728\n",
      "[   1 6868    0  641]\n",
      "f1 score:  0.15730061349693253\n",
      "0.500072790799243\n",
      "for  0.02\n",
      "recall:  0.9953198127925117\n",
      "precision:  0.08669656203288491\n",
      "[ 148 6721    3  638]\n",
      "f1 score:  0.1595\n",
      "0.5084329446842162\n",
      "for  0.03\n",
      "recall:  0.9609984399375975\n",
      "precision:  0.09316394434361766\n",
      "[ 873 5996   25  616]\n",
      "f1 score:  0.16986074727698883\n",
      "0.5440455877079164\n",
      "for  0.04\n",
      "recall:  0.9048361934477379\n",
      "precision:  0.102184637068358\n",
      "[1773 5096   61  580]\n",
      "f1 score:  0.18363147063479499\n",
      "0.5814761837816649\n",
      "for  0.05\n",
      "recall:  0.8471138845553822\n",
      "precision:  0.11496929917425365\n",
      "[2689 4180   98  543]\n",
      "f1 score:  0.2024608501118568\n",
      "0.6192914014420526\n",
      "for  0.060000000000000005\n",
      "recall:  0.765990639625585\n",
      "precision:  0.12958564264977568\n",
      "[3571 3298  150  491]\n",
      "f1 score:  0.2216704288939052\n",
      "0.6429312639094587\n",
      "for  0.06999999999999999\n",
      "recall:  0.6770670826833073\n",
      "precision:  0.13839285714285715\n",
      "[4167 2702  207  434]\n",
      "f1 score:  0.2298120201217898\n",
      "0.6418528017871334\n",
      "for  0.08\n",
      "recall:  0.6146645865834633\n",
      "precision:  0.1520648398301814\n",
      "[4672 2197  247  394]\n",
      "f1 score:  0.24381188118811883\n",
      "0.6474109073549141\n",
      "for  0.09\n",
      "recall:  0.5694227769110765\n",
      "precision:  0.17080018717828732\n",
      "[5097 1772  276  365]\n",
      "f1 score:  0.26277897768178543\n",
      "0.6557260921969853\n",
      "for  0.09999999999999999\n",
      "recall:  0.5226209048361935\n",
      "precision:  0.18416712479384276\n",
      "[5385 1484  306  335]\n",
      "f1 score:  0.27235772357723576\n",
      "0.6532889063415208\n",
      "for  0.11\n",
      "recall:  0.47269890795631825\n",
      "precision:  0.1914087176247631\n",
      "[5589 1280  338  303]\n",
      "f1 score:  0.2724820143884892\n",
      "0.6431772309471502\n",
      "for  0.12\n",
      "recall:  0.43213728549141966\n",
      "precision:  0.20160116448326054\n",
      "[5772 1097  364  277]\n",
      "f1 score:  0.2749379652605459\n",
      "0.6362171359761655\n",
      "for  0.13\n",
      "recall:  0.39781591263650545\n",
      "precision:  0.21214642262895175\n",
      "[5922  947  386  255]\n",
      "f1 score:  0.2767227346717309\n",
      "0.6299750694351548\n",
      "for  0.14\n",
      "recall:  0.35257410296411856\n",
      "precision:  0.21161048689138576\n",
      "[6027  842  415  226]\n",
      "f1 score:  0.26448215330602687\n",
      "0.6149971985194737\n",
      "for  0.15000000000000002\n",
      "recall:  0.31513260530421217\n",
      "precision:  0.2160427807486631\n",
      "[6136  733  439  202]\n",
      "f1 score:  0.25634517766497456\n",
      "0.604210646807005\n",
      "for  0.16\n",
      "recall:  0.2839313572542902\n",
      "precision:  0.22835633626097868\n",
      "[6254  615  459  182]\n",
      "f1 score:  0.25312934631432543\n",
      "0.597199337092715\n",
      "for  0.17\n",
      "recall:  0.27301092043681746\n",
      "precision:  0.24305555555555555\n",
      "[6324  545  466  175]\n",
      "f1 score:  0.2571638501102131\n",
      "0.5968344746309869\n",
      "for  0.18000000000000002\n",
      "recall:  0.24336973478939158\n",
      "precision:  0.2480127186009539\n",
      "[6396  473  485  156]\n",
      "f1 score:  0.24566929133858267\n",
      "0.5872548193527682\n",
      "for  0.19\n",
      "recall:  0.21684867394695787\n",
      "precision:  0.2555147058823529\n",
      "[6464  405  502  139]\n",
      "f1 score:  0.23459915611814344\n",
      "0.5789440632800739\n"
     ]
    }
   ],
   "source": [
    "for t in thr:\n",
    "    y_pred = [1 if x > t else 0 for x in prob]\n",
    "    recall = recall_score(y_test, y_pred)\n",
    "    precision = precision_score(y_test, y_pred)\n",
    "    recalls.append(recall)\n",
    "    precisions.append(precision)\n",
    "    print('for ',t)\n",
    "    print('recall: ', recall_score(y_test, y_pred))\n",
    "    print('precision: ', precision_score(y_test, y_pred))\n",
    "    print(confusion_matrix(y_test, y_pred).ravel())\n",
    "    print('f1 score: ', f1_score(y_test, y_pred))\n",
    "    fpr, tpr, thresholds = metrics.roc_curve(y_test, y_pred)\n",
    "    print(metrics.auc(fpr, tpr))"
   ]
  },
  {
   "cell_type": "code",
   "execution_count": 25,
   "metadata": {},
   "outputs": [],
   "source": [
    "t= 0.09\n",
    "y_pred = [1 if x > t else 0 for x in prob]"
   ]
  },
  {
   "cell_type": "code",
   "execution_count": 26,
   "metadata": {},
   "outputs": [],
   "source": [
    "fpr, tpr, threshold = metrics.roc_curve(y_test, y_pred)\n",
    "roc_auc = metrics.auc(fpr, tpr)"
   ]
  },
  {
   "cell_type": "code",
   "execution_count": 27,
   "metadata": {},
   "outputs": [
    {
     "data": {
      "text/plain": [
       "Text(0.5,15,'False Positive Rate')"
      ]
     },
     "execution_count": 27,
     "metadata": {},
     "output_type": "execute_result"
    },
    {
     "data": {
      "image/png": "[encoded data removed]",
      "text/plain": [
       "<Figure size 432x288 with 1 Axes>"
      ]
     },
     "metadata": {},
     "output_type": "display_data"
    }
   ],
   "source": [
    "plt.title('Predict Depression')\n",
    "plt.plot(fpr, tpr, 'b', label = 'AUC = %0.2f' % roc_auc)\n",
    "plt.legend(loc = 'lower right')\n",
    "plt.plot([0, 1], [0, 1],'r--')\n",
    "plt.xlim([0, 1])\n",
    "plt.ylim([0, 1])\n",
    "plt.ylabel('True Positive Rate')\n",
    "plt.xlabel('False Positive Rate')"
   ]
  },
  {
   "cell_type": "code",
   "execution_count": 26,
   "metadata": {},
   "outputs": [],
   "source": [
    "feature_importances = pd.DataFrame(gb_gs.feature_importances_,\n",
    "                                   index = X_train.columns,\n",
    "                                    columns=['importance']).sort_values('importance',ascending=False)"
   ]
  },
  {
   "cell_type": "code",
   "execution_count": 27,
   "metadata": {
    "scrolled": true
   },
   "outputs": [
    {
     "data": {
      "text/html": [
       "<div>\n",
       "<style scoped>\n",
       "    .dataframe tbody tr th:only-of-type {\n",
       "        vertical-align: middle;\n",
       "    }\n",
       "\n",
       "    .dataframe tbody tr th {\n",
       "        vertical-align: top;\n",
       "    }\n",
       "\n",
       "    .dataframe thead th {\n",
       "        text-align: right;\n",
       "    }\n",
       "</style>\n",
       "<table border=\"1\" class=\"dataframe\">\n",
       "  <thead>\n",
       "    <tr style=\"text-align: right;\">\n",
       "      <th></th>\n",
       "      <th>importance</th>\n",
       "    </tr>\n",
       "  </thead>\n",
       "  <tbody>\n",
       "    <tr>\n",
       "      <th>IRTRNFY</th>\n",
       "      <td>0.089030</td>\n",
       "    </tr>\n",
       "    <tr>\n",
       "      <th>IRANLFY</th>\n",
       "      <td>0.077969</td>\n",
       "    </tr>\n",
       "    <tr>\n",
       "      <th>IRALCFY</th>\n",
       "      <td>0.057943</td>\n",
       "    </tr>\n",
       "    <tr>\n",
       "      <th>IRMJFY</th>\n",
       "      <td>0.054940</td>\n",
       "    </tr>\n",
       "    <tr>\n",
       "      <th>DPILLALC</th>\n",
       "      <td>0.048721</td>\n",
       "    </tr>\n",
       "    <tr>\n",
       "      <th>SUMAGE</th>\n",
       "      <td>0.047201</td>\n",
       "    </tr>\n",
       "    <tr>\n",
       "      <th>IRSEX</th>\n",
       "      <td>0.046200</td>\n",
       "    </tr>\n",
       "    <tr>\n",
       "      <th>IRCIGAGE</th>\n",
       "      <td>0.045832</td>\n",
       "    </tr>\n",
       "    <tr>\n",
       "      <th>IRCOCFY</th>\n",
       "      <td>0.043611</td>\n",
       "    </tr>\n",
       "    <tr>\n",
       "      <th>IRALCAGE</th>\n",
       "      <td>0.041117</td>\n",
       "    </tr>\n",
       "    <tr>\n",
       "      <th>ABODILAL</th>\n",
       "      <td>0.040184</td>\n",
       "    </tr>\n",
       "    <tr>\n",
       "      <th>IRSTMFY</th>\n",
       "      <td>0.039728</td>\n",
       "    </tr>\n",
       "    <tr>\n",
       "      <th>IRCGRAGE</th>\n",
       "      <td>0.037540</td>\n",
       "    </tr>\n",
       "    <tr>\n",
       "      <th>CATAG6</th>\n",
       "      <td>0.036182</td>\n",
       "    </tr>\n",
       "    <tr>\n",
       "      <th>IRCIGFM</th>\n",
       "      <td>0.031861</td>\n",
       "    </tr>\n",
       "    <tr>\n",
       "      <th>INCOME</th>\n",
       "      <td>0.029074</td>\n",
       "    </tr>\n",
       "    <tr>\n",
       "      <th>IRSEDFY</th>\n",
       "      <td>0.028424</td>\n",
       "    </tr>\n",
       "    <tr>\n",
       "      <th>IRCRKAGE</th>\n",
       "      <td>0.028045</td>\n",
       "    </tr>\n",
       "    <tr>\n",
       "      <th>IRHALFY</th>\n",
       "      <td>0.021232</td>\n",
       "    </tr>\n",
       "    <tr>\n",
       "      <th>IRSNFAGE</th>\n",
       "      <td>0.017895</td>\n",
       "    </tr>\n",
       "    <tr>\n",
       "      <th>IRINHFY</th>\n",
       "      <td>0.017425</td>\n",
       "    </tr>\n",
       "    <tr>\n",
       "      <th>IRHERFY</th>\n",
       "      <td>0.017052</td>\n",
       "    </tr>\n",
       "    <tr>\n",
       "      <th>NEWRACE2</th>\n",
       "      <td>0.013545</td>\n",
       "    </tr>\n",
       "    <tr>\n",
       "      <th>DEPNDMRJ</th>\n",
       "      <td>0.010619</td>\n",
       "    </tr>\n",
       "    <tr>\n",
       "      <th>EDUCCAT2</th>\n",
       "      <td>0.010191</td>\n",
       "    </tr>\n",
       "    <tr>\n",
       "      <th>SUMYR</th>\n",
       "      <td>0.007638</td>\n",
       "    </tr>\n",
       "    <tr>\n",
       "      <th>CIGYR</th>\n",
       "      <td>0.007354</td>\n",
       "    </tr>\n",
       "    <tr>\n",
       "      <th>SUMFLAG</th>\n",
       "      <td>0.006995</td>\n",
       "    </tr>\n",
       "    <tr>\n",
       "      <th>IRCRKFY</th>\n",
       "      <td>0.006976</td>\n",
       "    </tr>\n",
       "    <tr>\n",
       "      <th>2</th>\n",
       "      <td>0.006844</td>\n",
       "    </tr>\n",
       "    <tr>\n",
       "      <th>CRKFLAG</th>\n",
       "      <td>0.005404</td>\n",
       "    </tr>\n",
       "    <tr>\n",
       "      <th>TOBFLAG</th>\n",
       "      <td>0.004489</td>\n",
       "    </tr>\n",
       "    <tr>\n",
       "      <th>SNFYR</th>\n",
       "      <td>0.003093</td>\n",
       "    </tr>\n",
       "    <tr>\n",
       "      <th>ALCYR</th>\n",
       "      <td>0.003038</td>\n",
       "    </tr>\n",
       "    <tr>\n",
       "      <th>CGRYR</th>\n",
       "      <td>0.002738</td>\n",
       "    </tr>\n",
       "    <tr>\n",
       "      <th>6</th>\n",
       "      <td>0.002671</td>\n",
       "    </tr>\n",
       "    <tr>\n",
       "      <th>5</th>\n",
       "      <td>0.002488</td>\n",
       "    </tr>\n",
       "    <tr>\n",
       "      <th>3</th>\n",
       "      <td>0.002265</td>\n",
       "    </tr>\n",
       "    <tr>\n",
       "      <th>SNFFLAG</th>\n",
       "      <td>0.002213</td>\n",
       "    </tr>\n",
       "    <tr>\n",
       "      <th>7</th>\n",
       "      <td>0.001844</td>\n",
       "    </tr>\n",
       "    <tr>\n",
       "      <th>4</th>\n",
       "      <td>0.001000</td>\n",
       "    </tr>\n",
       "    <tr>\n",
       "      <th>CRKYR</th>\n",
       "      <td>0.000771</td>\n",
       "    </tr>\n",
       "    <tr>\n",
       "      <th>ALCFLAG</th>\n",
       "      <td>0.000618</td>\n",
       "    </tr>\n",
       "  </tbody>\n",
       "</table>\n",
       "</div>"
      ],
      "text/plain": [
       "          importance\n",
       "IRTRNFY     0.089030\n",
       "IRANLFY     0.077969\n",
       "IRALCFY     0.057943\n",
       "IRMJFY      0.054940\n",
       "DPILLALC    0.048721\n",
       "SUMAGE      0.047201\n",
       "IRSEX       0.046200\n",
       "IRCIGAGE    0.045832\n",
       "IRCOCFY     0.043611\n",
       "IRALCAGE    0.041117\n",
       "ABODILAL    0.040184\n",
       "IRSTMFY     0.039728\n",
       "IRCGRAGE    0.037540\n",
       "CATAG6      0.036182\n",
       "IRCIGFM     0.031861\n",
       "INCOME      0.029074\n",
       "IRSEDFY     0.028424\n",
       "IRCRKAGE    0.028045\n",
       "IRHALFY     0.021232\n",
       "IRSNFAGE    0.017895\n",
       "IRINHFY     0.017425\n",
       "IRHERFY     0.017052\n",
       "NEWRACE2    0.013545\n",
       "DEPNDMRJ    0.010619\n",
       "EDUCCAT2    0.010191\n",
       "SUMYR       0.007638\n",
       "CIGYR       0.007354\n",
       "SUMFLAG     0.006995\n",
       "IRCRKFY     0.006976\n",
       "2           0.006844\n",
       "CRKFLAG     0.005404\n",
       "TOBFLAG     0.004489\n",
       "SNFYR       0.003093\n",
       "ALCYR       0.003038\n",
       "CGRYR       0.002738\n",
       "6           0.002671\n",
       "5           0.002488\n",
       "3           0.002265\n",
       "SNFFLAG     0.002213\n",
       "7           0.001844\n",
       "4           0.001000\n",
       "CRKYR       0.000771\n",
       "ALCFLAG     0.000618"
      ]
     },
     "execution_count": 27,
     "metadata": {},
     "output_type": "execute_result"
    }
   ],
   "source": [
    "feature_importances"
   ]
  },
  {
   "cell_type": "markdown",
   "metadata": {},
   "source": [
    "Adaboost?"
   ]
  },
  {
   "cell_type": "code",
   "execution_count": 34,
   "metadata": {},
   "outputs": [],
   "source": [
    "from sklearn.ensemble import BaggingClassifier\n",
    "from sklearn.model_selection import cross_val_predict\n",
    "from sklearn.ensemble import AdaBoostClassifier"
   ]
  },
  {
   "cell_type": "code",
   "execution_count": 35,
   "metadata": {},
   "outputs": [
    {
     "ename": "TypeError",
     "evalue": "__init__() got an unexpected keyword argument 'max_depth'",
     "output_type": "error",
     "traceback": [
      "\u001b[0;31m---------------------------------------------------------------------------\u001b[0m",
      "\u001b[0;31mTypeError\u001b[0m                                 Traceback (most recent call last)",
      "\u001b[0;32m<ipython-input-35-a2802073e378>\u001b[0m in \u001b[0;36m<module>\u001b[0;34m()\u001b[0m\n\u001b[1;32m      1\u001b[0m model = AdaBoostClassifier(n_estimators = 1700, \n\u001b[1;32m      2\u001b[0m                                    \u001b[0mlearning_rate\u001b[0m\u001b[0;34m=\u001b[0m\u001b[0;36m0.005\u001b[0m\u001b[0;34m,\u001b[0m \u001b[0mmax_depth\u001b[0m\u001b[0;34m=\u001b[0m\u001b[0;36m7\u001b[0m\u001b[0;34m,\u001b[0m \u001b[0mmax_features\u001b[0m\u001b[0;34m=\u001b[0m\u001b[0;36m9\u001b[0m\u001b[0;34m,\u001b[0m\u001b[0;34m\u001b[0m\u001b[0m\n\u001b[0;32m----> 3\u001b[0;31m                                    min_samples_split=2000, min_samples_leaf=50, subsample=0.85)\n\u001b[0m",
      "\u001b[0;31mTypeError\u001b[0m: __init__() got an unexpected keyword argument 'max_depth'"
     ]
    }
   ],
   "source": [
    "model = AdaBoostClassifier(n_estimators = 1700, \n",
    "                                   learning_rate=0.005, max_depth=7, max_features=9,\n",
    "                                   min_samples_split=2000, min_samples_leaf=50, subsample=0.85)"
   ]
  },
  {
   "cell_type": "code",
   "execution_count": null,
   "metadata": {},
   "outputs": [],
   "source": []
  },
  {
   "cell_type": "code",
   "execution_count": null,
   "metadata": {},
   "outputs": [],
   "source": []
  },
  {
   "cell_type": "markdown",
   "metadata": {},
   "source": [
    "Grid search: tune n_estimators"
   ]
  },
  {
   "cell_type": "code",
   "execution_count": 134,
   "metadata": {},
   "outputs": [],
   "source": [
    "gb_gs = GradientBoostingClassifier(learning_rate=0.1, max_depth=5, max_features='sqrt',\n",
    "                                   min_samples_split=300, min_samples_leaf=30, subsample=0.8)"
   ]
  },
  {
   "cell_type": "code",
   "execution_count": 135,
   "metadata": {},
   "outputs": [
    {
     "data": {
      "text/plain": [
       "GridSearchCV(cv=5, error_score='raise',\n",
       "       estimator=GradientBoostingClassifier(criterion='friedman_mse', init=None,\n",
       "              learning_rate=0.1, loss='deviance', max_depth=5,\n",
       "              max_features='sqrt', max_leaf_nodes=None,\n",
       "              min_impurity_decrease=0.0, min_impurity_split=None,\n",
       "              min_samples_leaf=30, min_samples_split=300,\n",
       "              min_weight_fraction_leaf=0.0, n_estimators=100,\n",
       "              presort='auto', random_state=None, subsample=0.8, verbose=0,\n",
       "              warm_start=False),\n",
       "       fit_params=None, iid=False, n_jobs=4,\n",
       "       param_grid={'n_estimators': range(20, 201, 10)},\n",
       "       pre_dispatch='2*n_jobs', refit=True, return_train_score='warn',\n",
       "       scoring='roc_auc', verbose=0)"
      ]
     },
     "execution_count": 135,
     "metadata": {},
     "output_type": "execute_result"
    }
   ],
   "source": [
    "param_test1 = {'n_estimators':range(20,201,10)}\n",
    "gsearch1 = GridSearchCV(estimator=gb_gs, \n",
    "param_grid = param_test1, scoring='roc_auc',n_jobs=4,iid=False, cv=5)\n",
    "gsearch1.fit(X_train,y_train)"
   ]
  },
  {
   "cell_type": "code",
   "execution_count": 136,
   "metadata": {},
   "outputs": [
    {
     "name": "stderr",
     "output_type": "stream",
     "text": [
      "/Users/shaked/miniconda3/lib/python3.6/site-packages/sklearn/model_selection/_search.py:761: DeprecationWarning: The grid_scores_ attribute was deprecated in version 0.18 in favor of the more elaborate cv_results_ attribute. The grid_scores_ attribute will not be available from 0.20\n",
      "  DeprecationWarning)\n"
     ]
    },
    {
     "data": {
      "text/plain": [
       "([mean: 0.69210, std: 0.00568, params: {'n_estimators': 20},\n",
       "  mean: 0.69898, std: 0.00718, params: {'n_estimators': 30},\n",
       "  mean: 0.70142, std: 0.00477, params: {'n_estimators': 40},\n",
       "  mean: 0.70132, std: 0.00635, params: {'n_estimators': 50},\n",
       "  mean: 0.70474, std: 0.00486, params: {'n_estimators': 60},\n",
       "  mean: 0.70185, std: 0.00626, params: {'n_estimators': 70},\n",
       "  mean: 0.70348, std: 0.00830, params: {'n_estimators': 80},\n",
       "  mean: 0.70383, std: 0.00734, params: {'n_estimators': 90},\n",
       "  mean: 0.70297, std: 0.00690, params: {'n_estimators': 100},\n",
       "  mean: 0.70157, std: 0.00914, params: {'n_estimators': 110},\n",
       "  mean: 0.70230, std: 0.00848, params: {'n_estimators': 120},\n",
       "  mean: 0.70410, std: 0.00693, params: {'n_estimators': 130},\n",
       "  mean: 0.70143, std: 0.00848, params: {'n_estimators': 140},\n",
       "  mean: 0.70234, std: 0.00694, params: {'n_estimators': 150},\n",
       "  mean: 0.70167, std: 0.00873, params: {'n_estimators': 160},\n",
       "  mean: 0.70155, std: 0.00971, params: {'n_estimators': 170},\n",
       "  mean: 0.70059, std: 0.00919, params: {'n_estimators': 180},\n",
       "  mean: 0.70036, std: 0.00885, params: {'n_estimators': 190},\n",
       "  mean: 0.70120, std: 0.00868, params: {'n_estimators': 200}],\n",
       " {'n_estimators': 60},\n",
       " 0.704741422990477)"
      ]
     },
     "execution_count": 136,
     "metadata": {},
     "output_type": "execute_result"
    }
   ],
   "source": [
    "gsearch1.grid_scores_, gsearch1.best_params_, gsearch1.best_score_\n"
   ]
  },
  {
   "cell_type": "markdown",
   "metadata": {},
   "source": [
    "Grid search: tuning max_depth, min_samples_split"
   ]
  },
  {
   "cell_type": "code",
   "execution_count": 152,
   "metadata": {},
   "outputs": [],
   "source": [
    "gb_gs = GradientBoostingClassifier(learning_rate=0.1, max_features='sqrt',\n",
    "                                   min_samples_leaf=30, subsample=0.8)"
   ]
  },
  {
   "cell_type": "code",
   "execution_count": 154,
   "metadata": {},
   "outputs": [
    {
     "data": {
      "text/plain": [
       "GridSearchCV(cv=5, error_score='raise',\n",
       "       estimator=GradientBoostingClassifier(criterion='friedman_mse', init=None,\n",
       "              learning_rate=0.1, loss='deviance', max_depth=3,\n",
       "              max_features='sqrt', max_leaf_nodes=None,\n",
       "              min_impurity_decrease=0.0, min_impurity_split=None,\n",
       "              min_samples_leaf=30, min_samples_split=2,\n",
       "              min_weight_fraction_leaf=0.0, n_estimators=100,\n",
       "              presort='auto', random_state=None, subsample=0.8, verbose=0,\n",
       "              warm_start=False),\n",
       "       fit_params=None, iid=False, n_jobs=4,\n",
       "       param_grid={'max_depth': range(5, 16, 2), 'min_samples_split': range(200, 1001, 200)},\n",
       "       pre_dispatch='2*n_jobs', refit=True, return_train_score='warn',\n",
       "       scoring='roc_auc', verbose=0)"
      ]
     },
     "execution_count": 154,
     "metadata": {},
     "output_type": "execute_result"
    }
   ],
   "source": [
    "param_test2 = {'max_depth':range(2,14,2), 'min_samples_split':range(200,1001,200)}\n",
    "gsearch2 = GridSearchCV(estimator=gb_gs, \n",
    "param_grid = param_test2, scoring='roc_auc',n_jobs=4,iid=False, cv=5)\n",
    "gsearch2.fit(X_train,y_train)"
   ]
  },
  {
   "cell_type": "code",
   "execution_count": 155,
   "metadata": {},
   "outputs": [
    {
     "name": "stderr",
     "output_type": "stream",
     "text": [
      "/Users/shaked/miniconda3/lib/python3.6/site-packages/sklearn/model_selection/_search.py:761: DeprecationWarning: The grid_scores_ attribute was deprecated in version 0.18 in favor of the more elaborate cv_results_ attribute. The grid_scores_ attribute will not be available from 0.20\n",
      "  DeprecationWarning)\n"
     ]
    },
    {
     "data": {
      "text/plain": [
       "([mean: 0.70323, std: 0.00804, params: {'max_depth': 5, 'min_samples_split': 200},\n",
       "  mean: 0.70384, std: 0.00743, params: {'max_depth': 5, 'min_samples_split': 400},\n",
       "  mean: 0.70246, std: 0.00614, params: {'max_depth': 5, 'min_samples_split': 600},\n",
       "  mean: 0.70371, std: 0.00717, params: {'max_depth': 5, 'min_samples_split': 800},\n",
       "  mean: 0.70294, std: 0.00665, params: {'max_depth': 5, 'min_samples_split': 1000},\n",
       "  mean: 0.70120, std: 0.00875, params: {'max_depth': 7, 'min_samples_split': 200},\n",
       "  mean: 0.70213, std: 0.00872, params: {'max_depth': 7, 'min_samples_split': 400},\n",
       "  mean: 0.70076, std: 0.00736, params: {'max_depth': 7, 'min_samples_split': 600},\n",
       "  mean: 0.70367, std: 0.00784, params: {'max_depth': 7, 'min_samples_split': 800},\n",
       "  mean: 0.70448, std: 0.00699, params: {'max_depth': 7, 'min_samples_split': 1000},\n",
       "  mean: 0.69603, std: 0.00869, params: {'max_depth': 9, 'min_samples_split': 200},\n",
       "  mean: 0.69591, std: 0.00776, params: {'max_depth': 9, 'min_samples_split': 400},\n",
       "  mean: 0.69801, std: 0.00706, params: {'max_depth': 9, 'min_samples_split': 600},\n",
       "  mean: 0.70110, std: 0.00851, params: {'max_depth': 9, 'min_samples_split': 800},\n",
       "  mean: 0.70087, std: 0.00789, params: {'max_depth': 9, 'min_samples_split': 1000},\n",
       "  mean: 0.68966, std: 0.00914, params: {'max_depth': 11, 'min_samples_split': 200},\n",
       "  mean: 0.69415, std: 0.00958, params: {'max_depth': 11, 'min_samples_split': 400},\n",
       "  mean: 0.69631, std: 0.00749, params: {'max_depth': 11, 'min_samples_split': 600},\n",
       "  mean: 0.69801, std: 0.01002, params: {'max_depth': 11, 'min_samples_split': 800},\n",
       "  mean: 0.70120, std: 0.00572, params: {'max_depth': 11, 'min_samples_split': 1000},\n",
       "  mean: 0.68418, std: 0.00980, params: {'max_depth': 13, 'min_samples_split': 200},\n",
       "  mean: 0.69347, std: 0.01048, params: {'max_depth': 13, 'min_samples_split': 400},\n",
       "  mean: 0.69722, std: 0.00903, params: {'max_depth': 13, 'min_samples_split': 600},\n",
       "  mean: 0.69572, std: 0.00786, params: {'max_depth': 13, 'min_samples_split': 800},\n",
       "  mean: 0.69755, std: 0.00766, params: {'max_depth': 13, 'min_samples_split': 1000},\n",
       "  mean: 0.68125, std: 0.00979, params: {'max_depth': 15, 'min_samples_split': 200},\n",
       "  mean: 0.68955, std: 0.00522, params: {'max_depth': 15, 'min_samples_split': 400},\n",
       "  mean: 0.69406, std: 0.00762, params: {'max_depth': 15, 'min_samples_split': 600},\n",
       "  mean: 0.69706, std: 0.00935, params: {'max_depth': 15, 'min_samples_split': 800},\n",
       "  mean: 0.69736, std: 0.00880, params: {'max_depth': 15, 'min_samples_split': 1000}],\n",
       " {'max_depth': 7, 'min_samples_split': 1000},\n",
       " 0.704476192860907)"
      ]
     },
     "execution_count": 155,
     "metadata": {},
     "output_type": "execute_result"
    }
   ],
   "source": [
    "gsearch2.grid_scores_, gsearch2.best_params_, gsearch2.best_score_"
   ]
  },
  {
   "cell_type": "markdown",
   "metadata": {},
   "source": [
    "Grid search: tuning min_samples_split, min_samples_leaf"
   ]
  },
  {
   "cell_type": "code",
   "execution_count": 162,
   "metadata": {},
   "outputs": [],
   "source": [
    "gb_gs = GradientBoostingClassifier(n_estimators = 60, \n",
    "                                   learning_rate=0.1, max_depth=7, max_features='sqrt',\n",
    "                                subsample=0.8)"
   ]
  },
  {
   "cell_type": "code",
   "execution_count": 163,
   "metadata": {},
   "outputs": [
    {
     "data": {
      "text/plain": [
       "GridSearchCV(cv=5, error_score='raise',\n",
       "       estimator=GradientBoostingClassifier(criterion='friedman_mse', init=None,\n",
       "              learning_rate=0.1, loss='deviance', max_depth=7,\n",
       "              max_features='sqrt', max_leaf_nodes=None,\n",
       "              min_impurity_decrease=0.0, min_impurity_split=None,\n",
       "              min_samples_leaf=1, min_samples_split=2,\n",
       "              min_weight_fraction_leaf=0.0, n_estimators=60,\n",
       "              presort='auto', random_state=None, subsample=0.8, verbose=0,\n",
       "              warm_start=False),\n",
       "       fit_params=None, iid=False, n_jobs=4,\n",
       "       param_grid={'min_samples_split': range(800, 2100, 200), 'min_samples_leaf': range(20, 71, 10)},\n",
       "       pre_dispatch='2*n_jobs', refit=True, return_train_score='warn',\n",
       "       scoring='roc_auc', verbose=0)"
      ]
     },
     "execution_count": 163,
     "metadata": {},
     "output_type": "execute_result"
    }
   ],
   "source": [
    "param_test3 = {'min_samples_split':range(800,2100,200), 'min_samples_leaf':range(20,71,10)}\n",
    "gsearch3 = GridSearchCV(estimator=gb_gs, \n",
    "param_grid = param_test3, scoring='roc_auc',n_jobs=4,iid=False, cv=5)\n",
    "gsearch3.fit(X_train,y_train)"
   ]
  },
  {
   "cell_type": "code",
   "execution_count": 164,
   "metadata": {},
   "outputs": [
    {
     "name": "stderr",
     "output_type": "stream",
     "text": [
      "/Users/shaked/miniconda3/lib/python3.6/site-packages/sklearn/model_selection/_search.py:761: DeprecationWarning: The grid_scores_ attribute was deprecated in version 0.18 in favor of the more elaborate cv_results_ attribute. The grid_scores_ attribute will not be available from 0.20\n",
      "  DeprecationWarning)\n"
     ]
    },
    {
     "data": {
      "text/plain": [
       "([mean: 0.70311, std: 0.00760, params: {'min_samples_leaf': 20, 'min_samples_split': 800},\n",
       "  mean: 0.70070, std: 0.00673, params: {'min_samples_leaf': 20, 'min_samples_split': 1000},\n",
       "  mean: 0.70510, std: 0.00465, params: {'min_samples_leaf': 20, 'min_samples_split': 1200},\n",
       "  mean: 0.70516, std: 0.00501, params: {'min_samples_leaf': 20, 'min_samples_split': 1400},\n",
       "  mean: 0.70442, std: 0.00622, params: {'min_samples_leaf': 20, 'min_samples_split': 1600},\n",
       "  mean: 0.70437, std: 0.00567, params: {'min_samples_leaf': 20, 'min_samples_split': 1800},\n",
       "  mean: 0.70277, std: 0.00655, params: {'min_samples_leaf': 20, 'min_samples_split': 2000},\n",
       "  mean: 0.70446, std: 0.00809, params: {'min_samples_leaf': 30, 'min_samples_split': 800},\n",
       "  mean: 0.70428, std: 0.00922, params: {'min_samples_leaf': 30, 'min_samples_split': 1000},\n",
       "  mean: 0.70352, std: 0.00640, params: {'min_samples_leaf': 30, 'min_samples_split': 1200},\n",
       "  mean: 0.70362, std: 0.00845, params: {'min_samples_leaf': 30, 'min_samples_split': 1400},\n",
       "  mean: 0.70457, std: 0.00608, params: {'min_samples_leaf': 30, 'min_samples_split': 1600},\n",
       "  mean: 0.70526, std: 0.00563, params: {'min_samples_leaf': 30, 'min_samples_split': 1800},\n",
       "  mean: 0.70153, std: 0.00680, params: {'min_samples_leaf': 30, 'min_samples_split': 2000},\n",
       "  mean: 0.70284, std: 0.00803, params: {'min_samples_leaf': 40, 'min_samples_split': 800},\n",
       "  mean: 0.70592, std: 0.00665, params: {'min_samples_leaf': 40, 'min_samples_split': 1000},\n",
       "  mean: 0.70476, std: 0.00643, params: {'min_samples_leaf': 40, 'min_samples_split': 1200},\n",
       "  mean: 0.70316, std: 0.00840, params: {'min_samples_leaf': 40, 'min_samples_split': 1400},\n",
       "  mean: 0.70212, std: 0.00599, params: {'min_samples_leaf': 40, 'min_samples_split': 1600},\n",
       "  mean: 0.70480, std: 0.00538, params: {'min_samples_leaf': 40, 'min_samples_split': 1800},\n",
       "  mean: 0.70334, std: 0.00981, params: {'min_samples_leaf': 40, 'min_samples_split': 2000},\n",
       "  mean: 0.70293, std: 0.00675, params: {'min_samples_leaf': 50, 'min_samples_split': 800},\n",
       "  mean: 0.70497, std: 0.00697, params: {'min_samples_leaf': 50, 'min_samples_split': 1000},\n",
       "  mean: 0.70271, std: 0.00670, params: {'min_samples_leaf': 50, 'min_samples_split': 1200},\n",
       "  mean: 0.70482, std: 0.00695, params: {'min_samples_leaf': 50, 'min_samples_split': 1400},\n",
       "  mean: 0.70319, std: 0.00696, params: {'min_samples_leaf': 50, 'min_samples_split': 1600},\n",
       "  mean: 0.70322, std: 0.00637, params: {'min_samples_leaf': 50, 'min_samples_split': 1800},\n",
       "  mean: 0.70661, std: 0.00761, params: {'min_samples_leaf': 50, 'min_samples_split': 2000},\n",
       "  mean: 0.70310, std: 0.00605, params: {'min_samples_leaf': 60, 'min_samples_split': 800},\n",
       "  mean: 0.70288, std: 0.00681, params: {'min_samples_leaf': 60, 'min_samples_split': 1000},\n",
       "  mean: 0.70407, std: 0.00579, params: {'min_samples_leaf': 60, 'min_samples_split': 1200},\n",
       "  mean: 0.70455, std: 0.00788, params: {'min_samples_leaf': 60, 'min_samples_split': 1400},\n",
       "  mean: 0.70303, std: 0.00661, params: {'min_samples_leaf': 60, 'min_samples_split': 1600},\n",
       "  mean: 0.70442, std: 0.00762, params: {'min_samples_leaf': 60, 'min_samples_split': 1800},\n",
       "  mean: 0.70315, std: 0.00723, params: {'min_samples_leaf': 60, 'min_samples_split': 2000},\n",
       "  mean: 0.70372, std: 0.00730, params: {'min_samples_leaf': 70, 'min_samples_split': 800},\n",
       "  mean: 0.70520, std: 0.00743, params: {'min_samples_leaf': 70, 'min_samples_split': 1000},\n",
       "  mean: 0.70446, std: 0.00666, params: {'min_samples_leaf': 70, 'min_samples_split': 1200},\n",
       "  mean: 0.70415, std: 0.00762, params: {'min_samples_leaf': 70, 'min_samples_split': 1400},\n",
       "  mean: 0.70412, std: 0.00781, params: {'min_samples_leaf': 70, 'min_samples_split': 1600},\n",
       "  mean: 0.70151, std: 0.00708, params: {'min_samples_leaf': 70, 'min_samples_split': 1800},\n",
       "  mean: 0.70303, std: 0.00669, params: {'min_samples_leaf': 70, 'min_samples_split': 2000}],\n",
       " {'min_samples_leaf': 50, 'min_samples_split': 2000},\n",
       " 0.7066088559088476)"
      ]
     },
     "execution_count": 164,
     "metadata": {},
     "output_type": "execute_result"
    }
   ],
   "source": [
    "gsearch3.grid_scores_, gsearch3.best_params_, gsearch3.best_score_"
   ]
  },
  {
   "cell_type": "markdown",
   "metadata": {},
   "source": [
    "Grid search: tune max_features"
   ]
  },
  {
   "cell_type": "code",
   "execution_count": 176,
   "metadata": {},
   "outputs": [],
   "source": [
    "gb_gs = GradientBoostingClassifier(n_estimators = 60, \n",
    "                                   learning_rate=0.1, max_depth=7,\n",
    "                                   min_samples_split=2000, min_samples_leaf=50, subsample=0.8)"
   ]
  },
  {
   "cell_type": "code",
   "execution_count": 179,
   "metadata": {},
   "outputs": [
    {
     "data": {
      "text/plain": [
       "GridSearchCV(cv=5, error_score='raise',\n",
       "       estimator=GradientBoostingClassifier(criterion='friedman_mse', init=None,\n",
       "              learning_rate=0.1, loss='deviance', max_depth=7,\n",
       "              max_features=None, max_leaf_nodes=None,\n",
       "              min_impurity_decrease=0.0, min_impurity_split=None,\n",
       "              min_samples_leaf=50, min_samples_split=2000,\n",
       "              min_weight_fraction_leaf=0.0, n_estimators=60,\n",
       "              presort='auto', random_state=None, subsample=0.8, verbose=0,\n",
       "              warm_start=False),\n",
       "       fit_params=None, iid=False, n_jobs=4,\n",
       "       param_grid={'max_features': range(7, 20, 2)},\n",
       "       pre_dispatch='2*n_jobs', refit=True, return_train_score='warn',\n",
       "       scoring='roc_auc', verbose=0)"
      ]
     },
     "execution_count": 179,
     "metadata": {},
     "output_type": "execute_result"
    }
   ],
   "source": [
    "param_test4 = {'max_features':range(7,20,2)}\n",
    "gsearch4 = GridSearchCV(estimator=gb_gs, \n",
    "param_grid = param_test4, scoring='roc_auc',n_jobs=4,iid=False, cv=5)\n",
    "gsearch4.fit(X_train,y_train)"
   ]
  },
  {
   "cell_type": "code",
   "execution_count": 180,
   "metadata": {},
   "outputs": [
    {
     "name": "stderr",
     "output_type": "stream",
     "text": [
      "/Users/shaked/miniconda3/lib/python3.6/site-packages/sklearn/model_selection/_search.py:761: DeprecationWarning: The grid_scores_ attribute was deprecated in version 0.18 in favor of the more elaborate cv_results_ attribute. The grid_scores_ attribute will not be available from 0.20\n",
      "  DeprecationWarning)\n"
     ]
    },
    {
     "data": {
      "text/plain": [
       "([mean: 0.70300, std: 0.00759, params: {'max_features': 7},\n",
       "  mean: 0.70412, std: 0.00946, params: {'max_features': 9},\n",
       "  mean: 0.70325, std: 0.00693, params: {'max_features': 11},\n",
       "  mean: 0.70256, std: 0.00796, params: {'max_features': 13},\n",
       "  mean: 0.70277, std: 0.00834, params: {'max_features': 15},\n",
       "  mean: 0.70359, std: 0.00720, params: {'max_features': 17},\n",
       "  mean: 0.70229, std: 0.00729, params: {'max_features': 19}],\n",
       " {'max_features': 9},\n",
       " 0.7041176825808726)"
      ]
     },
     "execution_count": 180,
     "metadata": {},
     "output_type": "execute_result"
    }
   ],
   "source": [
    "gsearch4.grid_scores_, gsearch4.best_params_, gsearch4.best_score_"
   ]
  },
  {
   "cell_type": "markdown",
   "metadata": {},
   "source": [
    "Grid search: tune subsample"
   ]
  },
  {
   "cell_type": "code",
   "execution_count": 5,
   "metadata": {},
   "outputs": [],
   "source": [
    "gb_gs = GradientBoostingClassifier(n_estimators = 60, \n",
    "                                   learning_rate=0.1, max_depth=7, max_features=9,\n",
    "                                   min_samples_split=2000, min_samples_leaf=50)"
   ]
  },
  {
   "cell_type": "code",
   "execution_count": 6,
   "metadata": {},
   "outputs": [
    {
     "data": {
      "text/plain": [
       "GridSearchCV(cv=5, error_score='raise',\n",
       "       estimator=GradientBoostingClassifier(criterion='friedman_mse', init=None,\n",
       "              learning_rate=0.1, loss='deviance', max_depth=7,\n",
       "              max_features=9, max_leaf_nodes=None,\n",
       "              min_impurity_decrease=0.0, min_impurity_split=None,\n",
       "              min_samples_leaf=50, min_samples_split=2000,\n",
       "              min_weight_fraction_leaf=0.0, n_estimators=60,\n",
       "              presort='auto', random_state=None, subsample=1.0, verbose=0,\n",
       "              warm_start=False),\n",
       "       fit_params=None, iid=False, n_jobs=4,\n",
       "       param_grid={'subsample': [0.6, 0.7, 0.75, 0.8, 0.85, 0.9]},\n",
       "       pre_dispatch='2*n_jobs', refit=True, return_train_score='warn',\n",
       "       scoring='roc_auc', verbose=0)"
      ]
     },
     "execution_count": 6,
     "metadata": {},
     "output_type": "execute_result"
    }
   ],
   "source": [
    "param_test5 = {'subsample':[0.6,0.7,0.75,0.8,0.85,0.9]}\n",
    "gsearch5 = GridSearchCV(estimator=gb_gs, \n",
    "param_grid = param_test5, scoring='roc_auc',n_jobs=4,iid=False, cv=5)\n",
    "gsearch5.fit(X_train,y_train)"
   ]
  },
  {
   "cell_type": "code",
   "execution_count": 7,
   "metadata": {},
   "outputs": [
    {
     "name": "stderr",
     "output_type": "stream",
     "text": [
      "/Users/shaked/miniconda3/lib/python3.6/site-packages/sklearn/model_selection/_search.py:761: DeprecationWarning: The grid_scores_ attribute was deprecated in version 0.18 in favor of the more elaborate cv_results_ attribute. The grid_scores_ attribute will not be available from 0.20\n",
      "  DeprecationWarning)\n"
     ]
    },
    {
     "data": {
      "text/plain": [
       "([mean: 0.70232, std: 0.00769, params: {'subsample': 0.6},\n",
       "  mean: 0.70415, std: 0.00905, params: {'subsample': 0.7},\n",
       "  mean: 0.70395, std: 0.00637, params: {'subsample': 0.75},\n",
       "  mean: 0.70412, std: 0.00556, params: {'subsample': 0.8},\n",
       "  mean: 0.70605, std: 0.00706, params: {'subsample': 0.85},\n",
       "  mean: 0.70339, std: 0.00599, params: {'subsample': 0.9}],\n",
       " {'subsample': 0.85},\n",
       " 0.7060501503379315)"
      ]
     },
     "execution_count": 7,
     "metadata": {},
     "output_type": "execute_result"
    }
   ],
   "source": [
    "gsearch5.grid_scores_, gsearch5.best_params_, gsearch5.best_score_"
   ]
  },
  {
   "cell_type": "code",
   "execution_count": 36,
   "metadata": {},
   "outputs": [],
   "source": [
    "gb_gs = GradientBoostingClassifier(n_estimators = 1700, \n",
    "                                   learning_rate=0.005, max_depth=7, max_features=9,\n",
    "                                   min_samples_split=2000, min_samples_leaf=50, subsample=0.85)"
   ]
  },
  {
   "cell_type": "code",
   "execution_count": null,
   "metadata": {},
   "outputs": [],
   "source": [
    "param_test6 = {'learning_rate':[0.15,0.1,0.05,0.01,0.005,0.001], 'n_estimators':[100,250,500,750,1000,1250,1500,1750]}\n",
    "gsearch6 = GridSearchCV(estimator=gb_gs, \n",
    "param_grid = param_test6, scoring='roc_auc',n_jobs=4,iid=False, cv=5)\n",
    "gsearch6.fit(X_train,y_train)"
   ]
  },
  {
   "cell_type": "code",
   "execution_count": null,
   "metadata": {},
   "outputs": [],
   "source": []
  }
 ],
 "metadata": {
  "kernelspec": {
   "display_name": "Python 3",
   "language": "python",
   "name": "python3"
  },
  "language_info": {
   "codemirror_mode": {
    "name": "ipython",
    "version": 3
   },
   "file_extension": ".py",
   "mimetype": "text/x-python",
   "name": "python",
   "nbconvert_exporter": "python",
   "pygments_lexer": "ipython3",
   "version": "3.6.5"
  }
 },
 "nbformat": 4,
 "nbformat_minor": 2
}

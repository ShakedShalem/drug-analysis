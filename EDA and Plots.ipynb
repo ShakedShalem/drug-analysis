{
 "cells": [
  {
   "cell_type": "code",
   "execution_count": 13,
   "metadata": {},
   "outputs": [],
   "source": [
    "import pandas as pd\n",
    "import numpy as np\n",
    "import seaborn as sns\n",
    "import matplotlib.pyplot as plt\n",
    "sns.set(style=\"ticks\", color_codes=True)\n",
    "from sklearn.linear_model import LogisticRegression\n",
    "from sklearn.model_selection import train_test_split\n",
    "from sklearn.ensemble import RandomForestClassifier\n",
    "from sklearn.metrics import accuracy_score\n",
    "from sklearn.metrics import confusion_matrix\n",
    "from sklearn import metrics\n",
    "\n",
    "%matplotlib inline"
   ]
  },
  {
   "cell_type": "code",
   "execution_count": null,
   "metadata": {},
   "outputs": [],
   "source": [
    "df = pd.read_csv('data/druguse.tsv', sep='\\t')"
   ]
  },
  {
   "cell_type": "code",
   "execution_count": null,
   "metadata": {},
   "outputs": [],
   "source": [
    "df.head()"
   ]
  },
  {
   "cell_type": "code",
   "execution_count": 5,
   "metadata": {},
   "outputs": [],
   "source": [
    "#For a group of featurs, calculate the depression precent of consumers and non comsumers of a drug\n",
    "def dep_precent(df, target):\n",
    "    consumers = []\n",
    "    non_consumers = []\n",
    "    for col in df.columns:\n",
    "        frames = [df[[col]], target]\n",
    "        ever_used = pd.concat(frames, axis=1, sort=False)\n",
    "        grouped = ever_used.groupby([col, 'AMDELT']).size().reset_index(name='count')\n",
    "        non_consumer = grouped.iloc[0,2] / (grouped.iloc[0,2] + grouped.iloc[1,2])\n",
    "        consumer = grouped.iloc[2,2] / (grouped.iloc[2,2] + grouped.iloc[3,2])\n",
    "        non_consumers.append(non_consumer)\n",
    "        consumers.append(consumer)\n",
    "    return consumers, non_consumers    "
   ]
  },
  {
   "cell_type": "code",
   "execution_count": 26,
   "metadata": {},
   "outputs": [],
   "source": [
    "#Features for \"have you have used a drug\"\n",
    "target = df[['AMDELT']]\n",
    "target = target[target.AMDELT > 0]\n",
    "ever_used = df[['CIGFLAG', 'CGRFLAG', 'SNFFLAG', 'ALCFLAG', 'MRJFLAG', 'COCFLAG', 'CRKFLAG', 'HERFLAG','HALFLAG','INHFLAG', 'ANLFLAG', 'TRQFLAG', 'STMFLAG', 'SEDFLAG']]\n",
    "consumers, non_consumers = dep_precent(ever_used, target)"
   ]
  },
  {
   "cell_type": "code",
   "execution_count": 27,
   "metadata": {},
   "outputs": [],
   "source": [
    "#Drug frequency\n",
    "frames = [df[['IRCIGFM']], target]\n",
    "freq_used = pd.concat(frames, axis=1, sort=False)\n",
    "freq_used = freq_used.dropna()\n",
    "freq_group = freq_used.groupby(['IRCIGFM', 'AMDELT']).size().reset_index(name='count')"
   ]
  },
  {
   "cell_type": "code",
   "execution_count": 29,
   "metadata": {},
   "outputs": [],
   "source": [
    "has_dep = freq_group[freq_group.AMDELT == 1.0]\n",
    "no_dep = freq_group[freq_group.AMDELT == 2.0]"
   ]
  },
  {
   "cell_type": "code",
   "execution_count": 31,
   "metadata": {},
   "outputs": [],
   "source": [
    "dep_less_than_15 = has_dep.loc[has_dep.IRCIGFM < 15]\n",
    "dep_less_than_15 = dep_less_than_15['count'].sum()\n",
    "no_dep_less_than_15 = no_dep.loc[no_dep.IRCIGFM < 15]\n",
    "no_dep_less_than_15 = no_dep_less_than_15['count'].sum()"
   ]
  },
  {
   "cell_type": "code",
   "execution_count": 34,
   "metadata": {},
   "outputs": [],
   "source": [
    "dep_between_15_to_30 = has_dep.loc[(has_dep.IRCIGFM > 14) & (has_dep.IRCIGFM < 31)]\n",
    "dep_between_15_to_30 = dep_between_15_to_30['count'].sum()\n",
    "no_dep_between_15_to_30 = no_dep.loc[(no_dep.IRCIGFM > 14) & (no_dep.IRCIGFM < 31)]\n",
    "no_dep_between_15_to_30 = no_dep_between_15_to_30['count'].sum()"
   ]
  },
  {
   "cell_type": "code",
   "execution_count": 32,
   "metadata": {},
   "outputs": [
    {
     "data": {
      "text/plain": [
       "519"
      ]
     },
     "execution_count": 32,
     "metadata": {},
     "output_type": "execute_result"
    }
   ],
   "source": [
    "dep_less_than_15"
   ]
  },
  {
   "cell_type": "code",
   "execution_count": 33,
   "metadata": {},
   "outputs": [
    {
     "data": {
      "text/plain": [
       "2537"
      ]
     },
     "execution_count": 33,
     "metadata": {},
     "output_type": "execute_result"
    }
   ],
   "source": [
    "no_dep_less_than_15"
   ]
  },
  {
   "cell_type": "code",
   "execution_count": 35,
   "metadata": {},
   "outputs": [
    {
     "data": {
      "text/plain": [
       "6552"
      ]
     },
     "execution_count": 35,
     "metadata": {},
     "output_type": "execute_result"
    }
   ],
   "source": [
    "no_dep_between_15_to_30"
   ]
  },
  {
   "cell_type": "code",
   "execution_count": 36,
   "metadata": {},
   "outputs": [
    {
     "data": {
      "text/plain": [
       "1564"
      ]
     },
     "execution_count": 36,
     "metadata": {},
     "output_type": "execute_result"
    }
   ],
   "source": [
    "dep_between_15_to_30"
   ]
  },
  {
   "cell_type": "code",
   "execution_count": 44,
   "metadata": {},
   "outputs": [],
   "source": [
    "dep_less_than_11 = has_dep.loc[has_dep.IRCIGFM < 11]\n",
    "dep_less_than_11 = dep_less_than_11['count'].sum()\n",
    "no_dep_less_than_11 = no_dep.loc[no_dep.IRCIGFM < 11]\n",
    "no_dep_less_than_11 = no_dep_less_than_11['count'].sum()"
   ]
  },
  {
   "cell_type": "code",
   "execution_count": 45,
   "metadata": {},
   "outputs": [
    {
     "data": {
      "text/plain": [
       "489"
      ]
     },
     "execution_count": 45,
     "metadata": {},
     "output_type": "execute_result"
    }
   ],
   "source": [
    "dep_less_than_11"
   ]
  },
  {
   "cell_type": "code",
   "execution_count": 46,
   "metadata": {},
   "outputs": [
    {
     "data": {
      "text/plain": [
       "2369"
      ]
     },
     "execution_count": 46,
     "metadata": {},
     "output_type": "execute_result"
    }
   ],
   "source": [
    "no_dep_less_than_11"
   ]
  },
  {
   "cell_type": "code",
   "execution_count": 47,
   "metadata": {},
   "outputs": [],
   "source": [
    "dep_between_11_to_30 = has_dep.loc[(has_dep.IRCIGFM > 10) & (has_dep.IRCIGFM < 31)]\n",
    "dep_between_11_to_30 = dep_between_11_to_30['count'].sum()\n",
    "no_dep_between_11_to_30 = no_dep.loc[(no_dep.IRCIGFM > 10) & (no_dep.IRCIGFM < 31)]\n",
    "no_dep_between_11_to_30 = no_dep_between_11_to_30['count'].sum()"
   ]
  },
  {
   "cell_type": "code",
   "execution_count": 48,
   "metadata": {},
   "outputs": [
    {
     "data": {
      "text/plain": [
       "1592"
      ]
     },
     "execution_count": 48,
     "metadata": {},
     "output_type": "execute_result"
    }
   ],
   "source": [
    "dep_between_11_to_30"
   ]
  },
  {
   "cell_type": "code",
   "execution_count": 49,
   "metadata": {},
   "outputs": [
    {
     "data": {
      "text/plain": [
       "6710"
      ]
     },
     "execution_count": 49,
     "metadata": {},
     "output_type": "execute_result"
    }
   ],
   "source": [
    "no_dep_between_11_to_30"
   ]
  },
  {
   "cell_type": "code",
   "execution_count": 17,
   "metadata": {},
   "outputs": [],
   "source": [
    "\n",
    "grouped = df.groupby(['ALCFLAG', 'AMDELT'])"
   ]
  },
  {
   "cell_type": "code",
   "execution_count": 18,
   "metadata": {},
   "outputs": [
    {
     "data": {
      "text/plain": [
       "ALCFLAG  AMDELT\n",
       "0        -9        11644\n",
       "          1          421\n",
       "          2         4435\n",
       "1        -9         6033\n",
       "          1         5165\n",
       "          2        27570\n",
       "dtype: int64"
      ]
     },
     "execution_count": 18,
     "metadata": {},
     "output_type": "execute_result"
    }
   ],
   "source": [
    "grouped.size()"
   ]
  },
  {
   "cell_type": "code",
   "execution_count": 19,
   "metadata": {},
   "outputs": [],
   "source": [
    "ever_used2 = df[['CIGFLAG', 'CGRFLAG', 'SNFFLAG', 'ALCFLAG', 'MRJFLAG', 'COCFLAG', 'CRKFLAG', 'HERFLAG','HALFLAG','INHFLAG', 'ANLFLAG', 'TRQFLAG', 'STMFLAG', 'SEDFLAG', 'AMDELT']]"
   ]
  },
  {
   "cell_type": "code",
   "execution_count": null,
   "metadata": {},
   "outputs": [],
   "source": [
    "ever_used2.corr()"
   ]
  },
  {
   "cell_type": "code",
   "execution_count": null,
   "metadata": {},
   "outputs": [],
   "source": []
  },
  {
   "cell_type": "code",
   "execution_count": null,
   "metadata": {},
   "outputs": [],
   "source": [
    "freq_used.corr()"
   ]
  },
  {
   "cell_type": "code",
   "execution_count": 50,
   "metadata": {},
   "outputs": [],
   "source": [
    "n_groups = len(consumers)\n",
    "bar_width = 0.35\n",
    "opacity = 0.8"
   ]
  },
  {
   "cell_type": "code",
   "execution_count": 51,
   "metadata": {
    "scrolled": true
   },
   "outputs": [
    {
     "data": {
      "image/png": "[encoded data removed]",
      "text/plain": [
       "<Figure size 432x288 with 1 Axes>"
      ]
     },
     "metadata": {},
     "output_type": "display_data"
    }
   ],
   "source": [
    "fig, ax = plt.subplots()\n",
    "\n",
    "index = np.arange(n_groups)\n",
    "rects1 = plt.bar(index, consumers, bar_width,\n",
    "                 alpha=opacity,\n",
    "                 color='b',\n",
    "                 label='consumers')\n",
    " \n",
    "rects2 = plt.bar(index + bar_width, non_consumers, bar_width,\n",
    "                 alpha=opacity,\n",
    "                 color='g',\n",
    "                 label='non_consumers')\n",
    "plt.xlabel('drug')\n",
    "plt.ylabel('depression percent')\n",
    "plt.title('Depression levels by different drug')\n",
    "plt.xticks(index + bar_width, ('cigarette', 'cigar', 'snugg', 'alcohol',\n",
    "                               'marijuana', 'cocaine', 'crack', 'heroin',\n",
    "                               'hallucinogen', 'inhalants', \n",
    "                               'pain relievers', 'tranquilizer', \n",
    "                               'stimulants','sedatives'))\n",
    "plt.legend()\n",
    " \n",
    "plt.tight_layout() "
   ]
  },
  {
   "cell_type": "code",
   "execution_count": 52,
   "metadata": {},
   "outputs": [
    {
     "data": {
      "text/plain": [
       "Text(0.5,1,'Depression difference')"
      ]
     },
     "execution_count": 52,
     "metadata": {},
     "output_type": "execute_result"
    },
    {
     "data": {
      "image/png": "[encoded data removed]",
      "text/plain": [
       "<Figure size 432x288 with 1 Axes>"
      ]
     },
     "metadata": {},
     "output_type": "display_data"
    }
   ],
   "source": [
    "diff = [c - n for c, n in zip(consumers,non_consumers)]\n",
    "objects = ('cigarette', 'cigar', 'snugg', 'alcohol',\n",
    "           'marijuana', 'cocaine', 'crack', 'heroin',\n",
    "           'hallucinogen', 'inhalants', \n",
    "           'pain relievers', 'tranquilizer', \n",
    "           'stimulants','sedatives')\n",
    "y_pos = np.arange(len(objects))\n",
    " \n",
    "plt.bar(y_pos, diff, align='center', alpha=0.5)\n",
    "plt.xticks(y_pos, objects)\n",
    "plt.ylabel('% Difference')\n",
    "plt.title('Depression difference')"
   ]
  },
  {
   "cell_type": "markdown",
   "metadata": {},
   "source": [
    "Drug and alcohol abuse vs depression"
   ]
  },
  {
   "cell_type": "code",
   "execution_count": 3,
   "metadata": {},
   "outputs": [],
   "source": [
    "X = pd.read_pickle('feature_df.pkl')\n",
    "y = pd.read_pickle('target.pkl')"
   ]
  },
  {
   "cell_type": "code",
   "execution_count": 4,
   "metadata": {},
   "outputs": [],
   "source": [
    "illicit_or_alc_abuse = X[['ABODILAL']]"
   ]
  },
  {
   "cell_type": "code",
   "execution_count": 7,
   "metadata": {},
   "outputs": [
    {
     "data": {
      "text/html": [
       "<div>\n",
       "<style scoped>\n",
       "    .dataframe tbody tr th:only-of-type {\n",
       "        vertical-align: middle;\n",
       "    }\n",
       "\n",
       "    .dataframe tbody tr th {\n",
       "        vertical-align: top;\n",
       "    }\n",
       "\n",
       "    .dataframe thead th {\n",
       "        text-align: right;\n",
       "    }\n",
       "</style>\n",
       "<table border=\"1\" class=\"dataframe\">\n",
       "  <thead>\n",
       "    <tr style=\"text-align: right;\">\n",
       "      <th></th>\n",
       "      <th>AMDEYR</th>\n",
       "    </tr>\n",
       "  </thead>\n",
       "  <tbody>\n",
       "    <tr>\n",
       "      <th>1</th>\n",
       "      <td>0</td>\n",
       "    </tr>\n",
       "    <tr>\n",
       "      <th>2</th>\n",
       "      <td>0</td>\n",
       "    </tr>\n",
       "    <tr>\n",
       "      <th>3</th>\n",
       "      <td>0</td>\n",
       "    </tr>\n",
       "    <tr>\n",
       "      <th>4</th>\n",
       "      <td>0</td>\n",
       "    </tr>\n",
       "    <tr>\n",
       "      <th>5</th>\n",
       "      <td>0</td>\n",
       "    </tr>\n",
       "    <tr>\n",
       "      <th>6</th>\n",
       "      <td>0</td>\n",
       "    </tr>\n",
       "    <tr>\n",
       "      <th>7</th>\n",
       "      <td>0</td>\n",
       "    </tr>\n",
       "    <tr>\n",
       "      <th>8</th>\n",
       "      <td>1</td>\n",
       "    </tr>\n",
       "    <tr>\n",
       "      <th>9</th>\n",
       "      <td>0</td>\n",
       "    </tr>\n",
       "    <tr>\n",
       "      <th>10</th>\n",
       "      <td>0</td>\n",
       "    </tr>\n",
       "    <tr>\n",
       "      <th>11</th>\n",
       "      <td>0</td>\n",
       "    </tr>\n",
       "    <tr>\n",
       "      <th>12</th>\n",
       "      <td>0</td>\n",
       "    </tr>\n",
       "    <tr>\n",
       "      <th>13</th>\n",
       "      <td>0</td>\n",
       "    </tr>\n",
       "    <tr>\n",
       "      <th>14</th>\n",
       "      <td>0</td>\n",
       "    </tr>\n",
       "    <tr>\n",
       "      <th>16</th>\n",
       "      <td>0</td>\n",
       "    </tr>\n",
       "    <tr>\n",
       "      <th>17</th>\n",
       "      <td>0</td>\n",
       "    </tr>\n",
       "    <tr>\n",
       "      <th>20</th>\n",
       "      <td>1</td>\n",
       "    </tr>\n",
       "    <tr>\n",
       "      <th>22</th>\n",
       "      <td>0</td>\n",
       "    </tr>\n",
       "    <tr>\n",
       "      <th>23</th>\n",
       "      <td>0</td>\n",
       "    </tr>\n",
       "    <tr>\n",
       "      <th>24</th>\n",
       "      <td>0</td>\n",
       "    </tr>\n",
       "    <tr>\n",
       "      <th>25</th>\n",
       "      <td>0</td>\n",
       "    </tr>\n",
       "    <tr>\n",
       "      <th>26</th>\n",
       "      <td>0</td>\n",
       "    </tr>\n",
       "    <tr>\n",
       "      <th>32</th>\n",
       "      <td>0</td>\n",
       "    </tr>\n",
       "    <tr>\n",
       "      <th>35</th>\n",
       "      <td>0</td>\n",
       "    </tr>\n",
       "    <tr>\n",
       "      <th>36</th>\n",
       "      <td>0</td>\n",
       "    </tr>\n",
       "    <tr>\n",
       "      <th>37</th>\n",
       "      <td>0</td>\n",
       "    </tr>\n",
       "    <tr>\n",
       "      <th>38</th>\n",
       "      <td>0</td>\n",
       "    </tr>\n",
       "    <tr>\n",
       "      <th>40</th>\n",
       "      <td>0</td>\n",
       "    </tr>\n",
       "    <tr>\n",
       "      <th>41</th>\n",
       "      <td>0</td>\n",
       "    </tr>\n",
       "    <tr>\n",
       "      <th>42</th>\n",
       "      <td>1</td>\n",
       "    </tr>\n",
       "    <tr>\n",
       "      <th>...</th>\n",
       "      <td>...</td>\n",
       "    </tr>\n",
       "    <tr>\n",
       "      <th>55224</th>\n",
       "      <td>0</td>\n",
       "    </tr>\n",
       "    <tr>\n",
       "      <th>55225</th>\n",
       "      <td>0</td>\n",
       "    </tr>\n",
       "    <tr>\n",
       "      <th>55226</th>\n",
       "      <td>0</td>\n",
       "    </tr>\n",
       "    <tr>\n",
       "      <th>55227</th>\n",
       "      <td>0</td>\n",
       "    </tr>\n",
       "    <tr>\n",
       "      <th>55228</th>\n",
       "      <td>0</td>\n",
       "    </tr>\n",
       "    <tr>\n",
       "      <th>55229</th>\n",
       "      <td>0</td>\n",
       "    </tr>\n",
       "    <tr>\n",
       "      <th>55231</th>\n",
       "      <td>0</td>\n",
       "    </tr>\n",
       "    <tr>\n",
       "      <th>55232</th>\n",
       "      <td>0</td>\n",
       "    </tr>\n",
       "    <tr>\n",
       "      <th>55234</th>\n",
       "      <td>0</td>\n",
       "    </tr>\n",
       "    <tr>\n",
       "      <th>55236</th>\n",
       "      <td>0</td>\n",
       "    </tr>\n",
       "    <tr>\n",
       "      <th>55237</th>\n",
       "      <td>0</td>\n",
       "    </tr>\n",
       "    <tr>\n",
       "      <th>55238</th>\n",
       "      <td>0</td>\n",
       "    </tr>\n",
       "    <tr>\n",
       "      <th>55240</th>\n",
       "      <td>0</td>\n",
       "    </tr>\n",
       "    <tr>\n",
       "      <th>55241</th>\n",
       "      <td>0</td>\n",
       "    </tr>\n",
       "    <tr>\n",
       "      <th>55242</th>\n",
       "      <td>0</td>\n",
       "    </tr>\n",
       "    <tr>\n",
       "      <th>55243</th>\n",
       "      <td>0</td>\n",
       "    </tr>\n",
       "    <tr>\n",
       "      <th>55244</th>\n",
       "      <td>0</td>\n",
       "    </tr>\n",
       "    <tr>\n",
       "      <th>55245</th>\n",
       "      <td>0</td>\n",
       "    </tr>\n",
       "    <tr>\n",
       "      <th>55247</th>\n",
       "      <td>0</td>\n",
       "    </tr>\n",
       "    <tr>\n",
       "      <th>55248</th>\n",
       "      <td>1</td>\n",
       "    </tr>\n",
       "    <tr>\n",
       "      <th>55250</th>\n",
       "      <td>0</td>\n",
       "    </tr>\n",
       "    <tr>\n",
       "      <th>55251</th>\n",
       "      <td>1</td>\n",
       "    </tr>\n",
       "    <tr>\n",
       "      <th>55252</th>\n",
       "      <td>0</td>\n",
       "    </tr>\n",
       "    <tr>\n",
       "      <th>55254</th>\n",
       "      <td>0</td>\n",
       "    </tr>\n",
       "    <tr>\n",
       "      <th>55256</th>\n",
       "      <td>0</td>\n",
       "    </tr>\n",
       "    <tr>\n",
       "      <th>55261</th>\n",
       "      <td>0</td>\n",
       "    </tr>\n",
       "    <tr>\n",
       "      <th>55262</th>\n",
       "      <td>0</td>\n",
       "    </tr>\n",
       "    <tr>\n",
       "      <th>55263</th>\n",
       "      <td>0</td>\n",
       "    </tr>\n",
       "    <tr>\n",
       "      <th>55265</th>\n",
       "      <td>0</td>\n",
       "    </tr>\n",
       "    <tr>\n",
       "      <th>55266</th>\n",
       "      <td>0</td>\n",
       "    </tr>\n",
       "  </tbody>\n",
       "</table>\n",
       "<p>37547 rows × 1 columns</p>\n",
       "</div>"
      ],
      "text/plain": [
       "       AMDEYR\n",
       "1           0\n",
       "2           0\n",
       "3           0\n",
       "4           0\n",
       "5           0\n",
       "6           0\n",
       "7           0\n",
       "8           1\n",
       "9           0\n",
       "10          0\n",
       "11          0\n",
       "12          0\n",
       "13          0\n",
       "14          0\n",
       "16          0\n",
       "17          0\n",
       "20          1\n",
       "22          0\n",
       "23          0\n",
       "24          0\n",
       "25          0\n",
       "26          0\n",
       "32          0\n",
       "35          0\n",
       "36          0\n",
       "37          0\n",
       "38          0\n",
       "40          0\n",
       "41          0\n",
       "42          1\n",
       "...       ...\n",
       "55224       0\n",
       "55225       0\n",
       "55226       0\n",
       "55227       0\n",
       "55228       0\n",
       "55229       0\n",
       "55231       0\n",
       "55232       0\n",
       "55234       0\n",
       "55236       0\n",
       "55237       0\n",
       "55238       0\n",
       "55240       0\n",
       "55241       0\n",
       "55242       0\n",
       "55243       0\n",
       "55244       0\n",
       "55245       0\n",
       "55247       0\n",
       "55248       1\n",
       "55250       0\n",
       "55251       1\n",
       "55252       0\n",
       "55254       0\n",
       "55256       0\n",
       "55261       0\n",
       "55262       0\n",
       "55263       0\n",
       "55265       0\n",
       "55266       0\n",
       "\n",
       "[37547 rows x 1 columns]"
      ]
     },
     "execution_count": 7,
     "metadata": {},
     "output_type": "execute_result"
    }
   ],
   "source": [
    "target = y.to_frame()\n",
    "target"
   ]
  },
  {
   "cell_type": "code",
   "execution_count": 54,
   "metadata": {},
   "outputs": [],
   "source": [
    "drug_abuse = pd.concat([illicit_or_alc_abuse, target], axis=1, sort=False)\n",
    "grouped = drug_abuse.groupby(['ABODILAL', 'AMDEYR']).size().reset_index(name='count')\n",
    "non_abused = grouped.iloc[1,2] / (grouped.iloc[0,2] + grouped.iloc[1,2])\n",
    "abused = grouped.iloc[3,2] / (grouped.iloc[2,2] + grouped.iloc[3,2])"
   ]
  },
  {
   "cell_type": "code",
   "execution_count": 55,
   "metadata": {},
   "outputs": [
    {
     "data": {
      "text/plain": [
       "[0.16945107398568018]"
      ]
     },
     "execution_count": 55,
     "metadata": {},
     "output_type": "execute_result"
    }
   ],
   "source": [
    "abuseds"
   ]
  },
  {
   "cell_type": "code",
   "execution_count": 56,
   "metadata": {},
   "outputs": [
    {
     "data": {
      "text/plain": [
       "0.16945107398568018"
      ]
     },
     "execution_count": 56,
     "metadata": {},
     "output_type": "execute_result"
    }
   ],
   "source": [
    "abused"
   ]
  },
  {
   "cell_type": "code",
   "execution_count": 57,
   "metadata": {},
   "outputs": [
    {
     "data": {
      "image/png": "[encoded data removed]",
      "text/plain": [
       "<Figure size 432x288 with 1 Axes>"
      ]
     },
     "metadata": {},
     "output_type": "display_data"
    }
   ],
   "source": [
    "\n",
    "bar_width = 0.05\n",
    "opacity = 0.8\n",
    "fig, ax = plt.subplots()\n",
    "\n",
    "index = np.arange(1)\n",
    "rects1 = plt.bar(index, abused, bar_width,\n",
    "                 alpha=opacity,\n",
    "                 color='b',\n",
    "                 label='has drug or alcohol abuse')\n",
    " \n",
    "rects2 = plt.bar(index + bar_width, non_abused, bar_width,\n",
    "                 alpha=opacity,\n",
    "                 color='g',\n",
    "                 label='no abuse')\n",
    "plt.xlabel('drug')\n",
    "plt.ylabel('depression percent')\n",
    "plt.title('Depression levels by drug and alcohol abuse')\n",
    "plt.xticks(index)\n",
    "plt.legend()\n",
    " \n",
    "plt.tight_layout() "
   ]
  },
  {
   "cell_type": "markdown",
   "metadata": {},
   "source": [
    "Alcohol frequency in the past year"
   ]
  },
  {
   "cell_type": "code",
   "execution_count": 39,
   "metadata": {},
   "outputs": [],
   "source": [
    "df = pd.read_pickle('df.pkl')"
   ]
  },
  {
   "cell_type": "code",
   "execution_count": 106,
   "metadata": {},
   "outputs": [],
   "source": [
    "alc_freq = df[['ALCYDAYS']]"
   ]
  },
  {
   "cell_type": "code",
   "execution_count": 107,
   "metadata": {},
   "outputs": [],
   "source": [
    "#create dataframe with depression and alcohol frequency\n",
    "alc_freq = pd.concat([alc_freq, target], axis=1, sort=False)\n",
    "\n",
    "#Remove NaN\n",
    "alc_freq = alc_freq.dropna()\n",
    "\n",
    "grouped = alc_freq.groupby(['ALCYDAYS', 'AMDEYR']).size().reset_index(name='count')"
   ]
  },
  {
   "cell_type": "code",
   "execution_count": 100,
   "metadata": {},
   "outputs": [
    {
     "data": {
      "text/html": [
       "<div>\n",
       "<style scoped>\n",
       "    .dataframe tbody tr th:only-of-type {\n",
       "        vertical-align: middle;\n",
       "    }\n",
       "\n",
       "    .dataframe tbody tr th {\n",
       "        vertical-align: top;\n",
       "    }\n",
       "\n",
       "    .dataframe thead th {\n",
       "        text-align: right;\n",
       "    }\n",
       "</style>\n",
       "<table border=\"1\" class=\"dataframe\">\n",
       "  <thead>\n",
       "    <tr style=\"text-align: right;\">\n",
       "      <th></th>\n",
       "      <th>ALCYDAYS</th>\n",
       "      <th>AMDEYR</th>\n",
       "      <th>count</th>\n",
       "    </tr>\n",
       "  </thead>\n",
       "  <tbody>\n",
       "    <tr>\n",
       "      <th>0</th>\n",
       "      <td>1</td>\n",
       "      <td>0.0</td>\n",
       "      <td>5369</td>\n",
       "    </tr>\n",
       "    <tr>\n",
       "      <th>1</th>\n",
       "      <td>1</td>\n",
       "      <td>1.0</td>\n",
       "      <td>590</td>\n",
       "    </tr>\n",
       "    <tr>\n",
       "      <th>2</th>\n",
       "      <td>2</td>\n",
       "      <td>0.0</td>\n",
       "      <td>7091</td>\n",
       "    </tr>\n",
       "    <tr>\n",
       "      <th>3</th>\n",
       "      <td>2</td>\n",
       "      <td>1.0</td>\n",
       "      <td>666</td>\n",
       "    </tr>\n",
       "    <tr>\n",
       "      <th>4</th>\n",
       "      <td>3</td>\n",
       "      <td>0.0</td>\n",
       "      <td>4376</td>\n",
       "    </tr>\n",
       "    <tr>\n",
       "      <th>5</th>\n",
       "      <td>3</td>\n",
       "      <td>1.0</td>\n",
       "      <td>388</td>\n",
       "    </tr>\n",
       "    <tr>\n",
       "      <th>6</th>\n",
       "      <td>4</td>\n",
       "      <td>0.0</td>\n",
       "      <td>7751</td>\n",
       "    </tr>\n",
       "    <tr>\n",
       "      <th>7</th>\n",
       "      <td>4</td>\n",
       "      <td>1.0</td>\n",
       "      <td>720</td>\n",
       "    </tr>\n",
       "    <tr>\n",
       "      <th>8</th>\n",
       "      <td>5</td>\n",
       "      <td>0.0</td>\n",
       "      <td>1062</td>\n",
       "    </tr>\n",
       "    <tr>\n",
       "      <th>9</th>\n",
       "      <td>5</td>\n",
       "      <td>1.0</td>\n",
       "      <td>91</td>\n",
       "    </tr>\n",
       "    <tr>\n",
       "      <th>10</th>\n",
       "      <td>6</td>\n",
       "      <td>0.0</td>\n",
       "      <td>8786</td>\n",
       "    </tr>\n",
       "    <tr>\n",
       "      <th>11</th>\n",
       "      <td>6</td>\n",
       "      <td>1.0</td>\n",
       "      <td>657</td>\n",
       "    </tr>\n",
       "  </tbody>\n",
       "</table>\n",
       "</div>"
      ],
      "text/plain": [
       "    ALCYDAYS  AMDEYR  count\n",
       "0          1     0.0   5369\n",
       "1          1     1.0    590\n",
       "2          2     0.0   7091\n",
       "3          2     1.0    666\n",
       "4          3     0.0   4376\n",
       "5          3     1.0    388\n",
       "6          4     0.0   7751\n",
       "7          4     1.0    720\n",
       "8          5     0.0   1062\n",
       "9          5     1.0     91\n",
       "10         6     0.0   8786\n",
       "11         6     1.0    657"
      ]
     },
     "execution_count": 100,
     "metadata": {},
     "output_type": "execute_result"
    }
   ],
   "source": [
    "grouped"
   ]
  },
  {
   "cell_type": "code",
   "execution_count": 81,
   "metadata": {},
   "outputs": [],
   "source": [
    "deps = []\n",
    "no_deps = []\n",
    "\n",
    "for l in range(1, 12, 2):\n",
    "    dep = grouped.iloc[l,2] / (grouped.iloc[l,2] + grouped.iloc[l-1,2]) \n",
    "    deps.append(dep)\n",
    "for l in range(0, 11, 2):\n",
    "    no_dep = grouped.iloc[l,2] / (grouped.iloc[l+1,2] + grouped.iloc[l,2])  \n",
    "    no_deps.append(no_dep)"
   ]
  },
  {
   "cell_type": "markdown",
   "metadata": {},
   "source": [
    "bar_width = 0.35\n",
    "opacity = 0.8\n",
    "fig, ax = plt.subplots()\n",
    "\n",
    "index = np.arange(6)\n",
    "rects1 = plt.bar(index, deps, bar_width,\n",
    "                 alpha=opacity,\n",
    "                 color='b',\n",
    "                 label='has drug or alcohol abuse')\n",
    " \n",
    "rects2 = plt.bar(index + bar_width, no_deps, bar_width,\n",
    "                 alpha=opacity,\n",
    "                 color='g',\n",
    "                 label='no abuse')\n",
    "plt.xlabel('drug')\n",
    "plt.ylabel('depression percent')\n",
    "plt.title('Depression levels by drug and alcohol abuse')\n",
    "plt.xticks(index + bar_width, ('1-11', '12-49', '50-99', '100-299',\n",
    "                               '300-365', 'Non user or no past year use'))\n",
    "plt.legend()\n",
    " \n",
    "plt.tight_layout() "
   ]
  },
  {
   "cell_type": "code",
   "execution_count": 83,
   "metadata": {},
   "outputs": [
    {
     "data": {
      "text/plain": [
       "[0.09900990099009901,\n",
       " 0.0858579347685961,\n",
       " 0.08144416456759027,\n",
       " 0.0849958682564042,\n",
       " 0.07892454466608846,\n",
       " 0.0695753468177486]"
      ]
     },
     "execution_count": 83,
     "metadata": {},
     "output_type": "execute_result"
    }
   ],
   "source": [
    "deps"
   ]
  },
  {
   "cell_type": "code",
   "execution_count": 84,
   "metadata": {},
   "outputs": [
    {
     "data": {
      "text/plain": [
       "[0.900990099009901,\n",
       " 0.9141420652314038,\n",
       " 0.9185558354324097,\n",
       " 0.9150041317435958,\n",
       " 0.9210754553339116,\n",
       " 0.9304246531822514]"
      ]
     },
     "execution_count": 84,
     "metadata": {},
     "output_type": "execute_result"
    }
   ],
   "source": [
    "no_deps"
   ]
  },
  {
   "cell_type": "markdown",
   "metadata": {},
   "source": [
    "Alcohol age of first use vs depression"
   ]
  },
  {
   "cell_type": "code",
   "execution_count": 213,
   "metadata": {},
   "outputs": [],
   "source": [
    "alc_age = df[['IRALCAGE']]\n",
    "\n",
    "#create dataframe with depression and alcohol age\n",
    "alc_age = pd.concat([alc_age, target], axis=1, sort=False)\n",
    "\n",
    "#Remove NaN\n",
    "alc_age = alc_age.dropna()\n",
    "\n",
    "grouped = alc_age.groupby(['IRALCAGE', 'AMDEYR']).size().reset_index(name='count')"
   ]
  },
  {
   "cell_type": "code",
   "execution_count": 214,
   "metadata": {},
   "outputs": [],
   "source": [
    "has_dep = grouped[grouped.AMDEYR == 1.0]\n",
    "no_dep = grouped[grouped.AMDEYR == 0.0]"
   ]
  },
  {
   "cell_type": "code",
   "execution_count": 215,
   "metadata": {},
   "outputs": [],
   "source": [
    "dep_1_17 = has_dep.loc[has_dep.IRALCAGE < 18]\n",
    "dep_1_17 = dep_1_17['count'].sum()\n",
    "\n",
    "dep_18_25 = has_dep.loc[(has_dep.IRALCAGE > 17) & (has_dep.IRALCAGE < 26)]\n",
    "dep_18_25 = dep_18_25['count'].sum()\n",
    "\n",
    "dep_26_34 = has_dep.loc[(has_dep.IRALCAGE > 25) & (has_dep.IRALCAGE < 35)]\n",
    "dep_26_34 = dep_26_34['count'].sum()\n",
    "\n",
    "dep_35_49 = has_dep.loc[(has_dep.IRALCAGE > 34) & (has_dep.IRALCAGE < 50)]\n",
    "dep_35_49 = dep_35_49['count'].sum()\n",
    "\n",
    "dep_50_68 = has_dep.loc[has_dep.IRALCAGE > 49]\n",
    "dep_50_68 = dep_50_68['count'].sum()\n",
    "\n",
    "dep_never_used = has_dep.loc[has_dep.IRALCAGE == 991]\n",
    "dep_never_used = dep_never_used['count'].sum()"
   ]
  },
  {
   "cell_type": "code",
   "execution_count": 216,
   "metadata": {},
   "outputs": [],
   "source": [
    "no_dep_1_17 = no_dep.loc[no_dep.IRALCAGE < 18]\n",
    "no_dep_1_17 = no_dep_1_17['count'].sum()\n",
    "\n",
    "no_dep_18_25 = no_dep.loc[(no_dep.IRALCAGE > 17) & (no_dep.IRALCAGE < 26)]\n",
    "no_dep_18_25 = no_dep_18_25['count'].sum()\n",
    "\n",
    "no_dep_26_34 = no_dep.loc[(no_dep.IRALCAGE > 25) & (no_dep.IRALCAGE < 35)]\n",
    "no_dep_26_34 = no_dep_26_34['count'].sum()\n",
    "\n",
    "no_dep_35_49 = no_dep.loc[(no_dep.IRALCAGE > 34) & (no_dep.IRALCAGE < 50)]\n",
    "no_dep_35_49 = no_dep_35_49['count'].sum()\n",
    "\n",
    "no_dep_50_68 = no_dep.loc[no_dep.IRALCAGE > 49]\n",
    "no_dep_50_68 = no_dep_50_68['count'].sum()\n",
    "\n",
    "no_dep_never_used = no_dep.loc[no_dep.IRALCAGE == 991]\n",
    "no_dep_never_used = no_dep_never_used['count'].sum()"
   ]
  },
  {
   "cell_type": "code",
   "execution_count": 217,
   "metadata": {},
   "outputs": [],
   "source": [
    "alc_dep_rates = []"
   ]
  },
  {
   "cell_type": "code",
   "execution_count": 218,
   "metadata": {},
   "outputs": [],
   "source": [
    "dep_1_17_percent = dep_1_17 / (dep_1_17 + no_dep_1_17)\n",
    "alc_dep_rates.append(dep_1_17_percent)"
   ]
  },
  {
   "cell_type": "code",
   "execution_count": 219,
   "metadata": {},
   "outputs": [],
   "source": [
    "dep_18_25_percent = dep_18_25 / (dep_18_25 + no_dep_18_25)\n",
    "alc_dep_rates.append(dep_18_25_percent)"
   ]
  },
  {
   "cell_type": "code",
   "execution_count": 220,
   "metadata": {},
   "outputs": [],
   "source": [
    "dep_26_34_percent = dep_26_34 / (dep_26_34 + no_dep_26_34)\n",
    "alc_dep_rates.append(dep_26_34_percent)"
   ]
  },
  {
   "cell_type": "code",
   "execution_count": 221,
   "metadata": {},
   "outputs": [],
   "source": [
    "dep_35_49_percent = dep_35_49 / (dep_35_49 + no_dep_35_49)\n",
    "alc_dep_rates.append(dep_35_49_percent)"
   ]
  },
  {
   "cell_type": "code",
   "execution_count": 222,
   "metadata": {},
   "outputs": [],
   "source": [
    "dep_50_68_percent = dep_50_68 / (dep_50_68 + no_dep_50_68)\n",
    "alc_dep_rates.append(dep_50_68_percent)"
   ]
  },
  {
   "cell_type": "code",
   "execution_count": 223,
   "metadata": {},
   "outputs": [],
   "source": [
    "dep_never_used_percent = dep_never_used / (dep_never_used + no_dep_never_used)\n",
    "alc_dep_rates.append(dep_never_used_percent)"
   ]
  },
  {
   "cell_type": "code",
   "execution_count": 224,
   "metadata": {},
   "outputs": [
    {
     "data": {
      "text/plain": [
       "[0.0981914733730775,\n",
       " 0.0694387713422106,\n",
       " 0.05198776758409786,\n",
       " 0.087248322147651,\n",
       " 0.05586362702813719,\n",
       " 0.056070913213770356]"
      ]
     },
     "execution_count": 224,
     "metadata": {},
     "output_type": "execute_result"
    }
   ],
   "source": [
    "alc_dep_rates"
   ]
  },
  {
   "cell_type": "code",
   "execution_count": 237,
   "metadata": {},
   "outputs": [
    {
     "data": {
      "text/plain": [
       "<Figure size 648x288 with 0 Axes>"
      ]
     },
     "execution_count": 237,
     "metadata": {},
     "output_type": "execute_result"
    },
    {
     "data": {
      "image/png": "[encoded data removed]",
      "text/plain": [
       "<Figure size 432x288 with 1 Axes>"
      ]
     },
     "metadata": {},
     "output_type": "display_data"
    },
    {
     "data": {
      "text/plain": [
       "<Figure size 648x288 with 0 Axes>"
      ]
     },
     "metadata": {},
     "output_type": "display_data"
    }
   ],
   "source": [
    "objects = ('1-17 Years Old', '18-25 Years Old', '26-34 Years Old', '35-49 Years Old',\n",
    "           '50-68 Years Old', 'Never used alcohol')\n",
    "y_pos = np.arange(len(objects))\n",
    " \n",
    "plt.bar(y_pos, alc_dep_rates, align='center', alpha=0.5)\n",
    "plt.xticks(y_pos, objects)\n",
    "plt.ylabel('Depression percent')\n",
    "plt.title('Depression Rate: alcohol age of first use')\n",
    "\n",
    "fig = plt.figure(figsize=(9,4))\n",
    "fig = plt.gcf()\n",
    "fig"
   ]
  },
  {
   "cell_type": "markdown",
   "metadata": {},
   "source": [
    "Cigarette age of first use vs depression"
   ]
  },
  {
   "cell_type": "code",
   "execution_count": 189,
   "metadata": {},
   "outputs": [],
   "source": [
    "cig_age = df[['IRCIGAGE']]\n",
    "\n",
    "#create dataframe with depression and alcohol age\n",
    "cig_age = pd.concat([cig_age, target], axis=1, sort=False)\n",
    "\n",
    "#Remove NaN\n",
    "cig_age = cig_age.dropna()\n",
    "\n",
    "grouped = cig_age.groupby(['IRCIGAGE', 'AMDEYR']).size().reset_index(name='count')"
   ]
  },
  {
   "cell_type": "code",
   "execution_count": 190,
   "metadata": {},
   "outputs": [],
   "source": [
    "has_dep = grouped[grouped.AMDEYR == 1.0]\n",
    "no_dep = grouped[grouped.AMDEYR == 0.0]"
   ]
  },
  {
   "cell_type": "code",
   "execution_count": 191,
   "metadata": {},
   "outputs": [],
   "source": [
    "dep_1_17 = has_dep.loc[has_dep.IRCIGAGE < 18]\n",
    "dep_1_17 = dep_1_17['count'].sum()\n",
    "\n",
    "dep_18_25 = has_dep.loc[(has_dep.IRCIGAGE > 17) & (has_dep.IRCIGAGE < 26)]\n",
    "dep_18_25 = dep_18_25['count'].sum()\n",
    "\n",
    "dep_26_34 = has_dep.loc[(has_dep.IRCIGAGE > 25) & (has_dep.IRCIGAGE < 35)]\n",
    "dep_26_34 = dep_26_34['count'].sum()\n",
    "\n",
    "dep_35_49 = has_dep.loc[(has_dep.IRCIGAGE > 34) & (has_dep.IRCIGAGE < 50)]\n",
    "dep_35_49 = dep_35_49['count'].sum()\n",
    "\n",
    "dep_50_68 = has_dep.loc[has_dep.IRCIGAGE > 49]\n",
    "dep_50_68 = dep_50_68['count'].sum()\n",
    "\n",
    "dep_never_used = has_dep.loc[has_dep.IRCIGAGE == 991]\n",
    "dep_never_used = dep_never_used['count'].sum()"
   ]
  },
  {
   "cell_type": "code",
   "execution_count": 192,
   "metadata": {},
   "outputs": [],
   "source": [
    "no_dep_1_17 = no_dep.loc[no_dep.IRCIGAGE < 18]\n",
    "no_dep_1_17 = no_dep_1_17['count'].sum()\n",
    "\n",
    "no_dep_18_25 = no_dep.loc[(no_dep.IRCIGAGE > 17) & (no_dep.IRCIGAGE < 26)]\n",
    "no_dep_18_25 = no_dep_18_25['count'].sum()\n",
    "\n",
    "no_dep_26_34 = no_dep.loc[(no_dep.IRCIGAGE > 25) & (no_dep.IRCIGAGE < 35)]\n",
    "no_dep_26_34 = no_dep_26_34['count'].sum()\n",
    "\n",
    "no_dep_35_49 = no_dep.loc[(no_dep.IRCIGAGE > 34) & (no_dep.IRCIGAGE < 50)]\n",
    "no_dep_35_49 = no_dep_35_49['count'].sum()\n",
    "\n",
    "no_dep_50_68 = no_dep.loc[no_dep.IRCIGAGE > 49]\n",
    "no_dep_50_68 = no_dep_50_68['count'].sum()\n",
    "\n",
    "no_dep_never_used = no_dep.loc[no_dep.IRCIGAGE == 991]\n",
    "no_dep_never_used = no_dep_never_used['count'].sum()"
   ]
  },
  {
   "cell_type": "code",
   "execution_count": 202,
   "metadata": {},
   "outputs": [],
   "source": [
    "cig_dep_rates = []"
   ]
  },
  {
   "cell_type": "code",
   "execution_count": 203,
   "metadata": {},
   "outputs": [],
   "source": [
    "dep_1_17_percent = dep_1_17 / (dep_1_17 + no_dep_1_17)\n",
    "cig_dep_rates.append(dep_1_17_percent)"
   ]
  },
  {
   "cell_type": "code",
   "execution_count": 204,
   "metadata": {},
   "outputs": [],
   "source": [
    "dep_18_25_percent = dep_18_25 / (dep_18_25 + no_dep_18_25)\n",
    "cig_dep_rates.append(dep_18_25_percent)"
   ]
  },
  {
   "cell_type": "code",
   "execution_count": 205,
   "metadata": {},
   "outputs": [],
   "source": [
    "dep_26_34_percent = dep_26_34 / (dep_26_34 + no_dep_26_34)\n",
    "cig_dep_rates.append(dep_26_34_percent)"
   ]
  },
  {
   "cell_type": "code",
   "execution_count": 206,
   "metadata": {},
   "outputs": [],
   "source": [
    "dep_35_49_percent = dep_35_49 / (dep_35_49 + no_dep_35_49)\n",
    "cig_dep_rates.append(dep_35_49_percent)"
   ]
  },
  {
   "cell_type": "code",
   "execution_count": 207,
   "metadata": {},
   "outputs": [],
   "source": [
    "dep_50_68_percent = dep_50_68 / (dep_50_68 + no_dep_50_68)\n",
    "cig_dep_rates.append(dep_50_68_percent)"
   ]
  },
  {
   "cell_type": "code",
   "execution_count": 208,
   "metadata": {},
   "outputs": [],
   "source": [
    "dep_never_used_percent = dep_never_used / (dep_never_used + no_dep_never_used)\n",
    "cig_dep_rates.append(dep_never_used_percent)"
   ]
  },
  {
   "cell_type": "code",
   "execution_count": 209,
   "metadata": {},
   "outputs": [
    {
     "data": {
      "text/plain": [
       "[0.09866589327146172,\n",
       " 0.07858603564125037,\n",
       " 0.10989010989010989,\n",
       " 0.13793103448275862,\n",
       " 0.06343027249828258,\n",
       " 0.06323506949747976]"
      ]
     },
     "execution_count": 209,
     "metadata": {},
     "output_type": "execute_result"
    }
   ],
   "source": [
    "cig_dep_rates"
   ]
  },
  {
   "cell_type": "code",
   "execution_count": 210,
   "metadata": {},
   "outputs": [
    {
     "data": {
      "text/plain": [
       "Text(0.5,1,'Depression Rate: cigarette age of first use')"
      ]
     },
     "execution_count": 210,
     "metadata": {},
     "output_type": "execute_result"
    },
    {
     "data": {
      "image/png": "[encoded data removed]",
      "text/plain": [
       "<Figure size 432x288 with 1 Axes>"
      ]
     },
     "metadata": {},
     "output_type": "display_data"
    }
   ],
   "source": [
    "objects = ('1-17 Years Old', '18-25 Years Old', '26-34 Years Old', '35-49 Years Old',\n",
    "           '50-68 Years Old', 'Never used alcohol')\n",
    "y_pos = np.arange(len(objects))\n",
    " \n",
    "plt.bar(y_pos, cig_dep_rates, align='center', alpha=0.5)\n",
    "plt.xticks(y_pos, objects)\n",
    "plt.ylabel('Depression percent')\n",
    "plt.title('Depression Rate: cigarette age of first use')"
   ]
  },
  {
   "cell_type": "code",
   "execution_count": null,
   "metadata": {},
   "outputs": [],
   "source": []
  }
 ],
 "metadata": {
  "kernelspec": {
   "display_name": "Python 3",
   "language": "python",
   "name": "python3"
  },
  "language_info": {
   "codemirror_mode": {
    "name": "ipython",
    "version": 3
   },
   "file_extension": ".py",
   "mimetype": "text/x-python",
   "name": "python",
   "nbconvert_exporter": "python",
   "pygments_lexer": "ipython3",
   "version": "3.6.5"
  }
 },
 "nbformat": 4,
 "nbformat_minor": 2
}
